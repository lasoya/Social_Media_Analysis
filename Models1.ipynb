{
  "nbformat": 4,
  "nbformat_minor": 0,
  "metadata": {
    "colab": {
      "name": "Models1.ipynb",
      "version": "0.3.2",
      "provenance": [],
      "collapsed_sections": [],
      "toc_visible": true
    },
    "language_info": {
      "codemirror_mode": {
        "name": "ipython",
        "version": 3
      },
      "file_extension": ".py",
      "mimetype": "text/x-python",
      "name": "python",
      "nbconvert_exporter": "python",
      "pygments_lexer": "ipython3",
      "version": "3.7.3"
    },
    "kernelspec": {
      "name": "python3",
      "display_name": "Python 3"
    },
    "accelerator": "TPU"
  },
  "cells": [
    {
      "cell_type": "markdown",
      "metadata": {
        "id": "TH-briuhrlTZ",
        "colab_type": "text"
      },
      "source": [
        "# Import Libraries"
      ]
    },
    {
      "cell_type": "code",
      "metadata": {
        "id": "JXvYx9z2rlTg",
        "colab_type": "code",
        "colab": {}
      },
      "source": [
        "import pandas as pd\n",
        "import matplotlib.pyplot as plt\n",
        "import seaborn as sns\n",
        "from sklearn.utils import resample\n",
        "from sklearn.model_selection import train_test_split, RandomizedSearchCV\n",
        "from sklearn.preprocessing import StandardScaler\n",
        "from sklearn.svm import SVC\n",
        "from sklearn.naive_bayes import GaussianNB\n",
        "from sklearn.tree import DecisionTreeClassifier\n",
        "from mlxtend.plotting import plot_decision_regions\n",
        "from sklearn.metrics import mean_squared_error, f1_score, classification_report, confusion_matrix, accuracy_score\n",
        "from sklearn.feature_selection import RFECV\n",
        "import pickle"
      ],
      "execution_count": 0,
      "outputs": []
    },
    {
      "cell_type": "code",
      "metadata": {
        "id": "3ihceIGNrlTw",
        "colab_type": "code",
        "colab": {}
      },
      "source": [
        "# define function to pick model after it is fit\n",
        "def pickle_model(model_name, model):\n",
        "    model_pickle_path = './{}.pkl'.format(model_name)\n",
        "    model_pickle = open(model_pickle_path, 'wb')\n",
        "    pickle.dump(model, model_pickle)\n",
        "    model_pickle.close()"
      ],
      "execution_count": 0,
      "outputs": []
    },
    {
      "cell_type": "markdown",
      "metadata": {
        "id": "IkMlZBM2rlT0",
        "colab_type": "text"
      },
      "source": [
        "# Import Data"
      ]
    },
    {
      "cell_type": "code",
      "metadata": {
        "id": "HaTqHs8QrlT1",
        "colab_type": "code",
        "colab": {}
      },
      "source": [
        "# import dataset into pandas and assign to variable\n",
        "data = pd.read_pickle('dummies_user_df.pkl')"
      ],
      "execution_count": 0,
      "outputs": []
    },
    {
      "cell_type": "code",
      "metadata": {
        "id": "hpxeF8OsrlT4",
        "colab_type": "code",
        "outputId": "aebe4221-c003-4483-854d-7284b49942d7",
        "colab": {
          "base_uri": "https://localhost:8080/",
          "height": 35
        }
      },
      "source": [
        "data.shape"
      ],
      "execution_count": 4,
      "outputs": [
        {
          "output_type": "execute_result",
          "data": {
            "text/plain": [
              "(103209, 54)"
            ]
          },
          "metadata": {
            "tags": []
          },
          "execution_count": 4
        }
      ]
    },
    {
      "cell_type": "code",
      "metadata": {
        "id": "JO0eX3azrlT8",
        "colab_type": "code",
        "outputId": "0913545f-59b6-4945-bebd-fddba484ef59",
        "colab": {
          "base_uri": "https://localhost:8080/",
          "height": 224
        }
      },
      "source": [
        "data.head()"
      ],
      "execution_count": 5,
      "outputs": [
        {
          "output_type": "execute_result",
          "data": {
            "text/html": [
              "<div>\n",
              "<style scoped>\n",
              "    .dataframe tbody tr th:only-of-type {\n",
              "        vertical-align: middle;\n",
              "    }\n",
              "\n",
              "    .dataframe tbody tr th {\n",
              "        vertical-align: top;\n",
              "    }\n",
              "\n",
              "    .dataframe thead th {\n",
              "        text-align: right;\n",
              "    }\n",
              "</style>\n",
              "<table border=\"1\" class=\"dataframe\">\n",
              "  <thead>\n",
              "    <tr style=\"text-align: right;\">\n",
              "      <th></th>\n",
              "      <th>user_id</th>\n",
              "      <th>likes_count</th>\n",
              "      <th>replies_count</th>\n",
              "      <th>retweets_count</th>\n",
              "      <th>tweet_ss</th>\n",
              "      <th>target</th>\n",
              "      <th>num_hashtags</th>\n",
              "      <th>avg_convo_ss</th>\n",
              "      <th>avg_day_ss</th>\n",
              "      <th>avg_season_ss</th>\n",
              "      <th>avg_time_of_day_ss</th>\n",
              "      <th>avg_tag_ss</th>\n",
              "      <th>avg_pop_ss</th>\n",
              "      <th>hashtag_anxiety</th>\n",
              "      <th>hashtag_depression</th>\n",
              "      <th>hashtag_friends</th>\n",
              "      <th>hashtag_fun</th>\n",
              "      <th>hashtag_happiness</th>\n",
              "      <th>hashtag_happy</th>\n",
              "      <th>hashtag_hope</th>\n",
              "      <th>hashtag_lonely</th>\n",
              "      <th>hashtag_love</th>\n",
              "      <th>hashtag_pain</th>\n",
              "      <th>hashtag_peace</th>\n",
              "      <th>hashtag_ptsd</th>\n",
              "      <th>hashtag_sad</th>\n",
              "      <th>hashtag_smile</th>\n",
              "      <th>hashtag_stress</th>\n",
              "      <th>hashtag_suicide</th>\n",
              "      <th>search_anxiety</th>\n",
              "      <th>search_depression</th>\n",
              "      <th>search_happiness</th>\n",
              "      <th>search_happy</th>\n",
              "      <th>Friday</th>\n",
              "      <th>Monday</th>\n",
              "      <th>Saturday</th>\n",
              "      <th>Sunday</th>\n",
              "      <th>Thursday</th>\n",
              "      <th>Tuesday</th>\n",
              "      <th>autumn</th>\n",
              "      <th>spring</th>\n",
              "      <th>summer</th>\n",
              "      <th>Month_1</th>\n",
              "      <th>Month_2</th>\n",
              "      <th>Month_3</th>\n",
              "      <th>Month_4</th>\n",
              "      <th>Month_6</th>\n",
              "      <th>Month_7</th>\n",
              "      <th>Month_8</th>\n",
              "      <th>Month_9</th>\n",
              "      <th>Month_10</th>\n",
              "      <th>Month_11</th>\n",
              "      <th>Month_12</th>\n",
              "      <th>PM</th>\n",
              "    </tr>\n",
              "  </thead>\n",
              "  <tbody>\n",
              "    <tr>\n",
              "      <th>0</th>\n",
              "      <td>57</td>\n",
              "      <td>1.666667</td>\n",
              "      <td>0.666667</td>\n",
              "      <td>0.000000</td>\n",
              "      <td>0.450733</td>\n",
              "      <td>0</td>\n",
              "      <td>2.000000</td>\n",
              "      <td>0.450733</td>\n",
              "      <td>0.345007</td>\n",
              "      <td>0.393048</td>\n",
              "      <td>0.336220</td>\n",
              "      <td>0.696395</td>\n",
              "      <td>0.34988</td>\n",
              "      <td>0.0</td>\n",
              "      <td>0.0</td>\n",
              "      <td>0.000000</td>\n",
              "      <td>0.0</td>\n",
              "      <td>0.0</td>\n",
              "      <td>0.0</td>\n",
              "      <td>0.0</td>\n",
              "      <td>0.0</td>\n",
              "      <td>0.000000</td>\n",
              "      <td>0.0</td>\n",
              "      <td>0.0</td>\n",
              "      <td>0.0</td>\n",
              "      <td>0.0</td>\n",
              "      <td>0.0</td>\n",
              "      <td>0.0</td>\n",
              "      <td>0.0</td>\n",
              "      <td>0.000000</td>\n",
              "      <td>0.000000</td>\n",
              "      <td>0.333333</td>\n",
              "      <td>0.666667</td>\n",
              "      <td>0.000000</td>\n",
              "      <td>0.333333</td>\n",
              "      <td>0.333333</td>\n",
              "      <td>0.000000</td>\n",
              "      <td>0.333333</td>\n",
              "      <td>0.000000</td>\n",
              "      <td>0.000000</td>\n",
              "      <td>0.666667</td>\n",
              "      <td>0.333333</td>\n",
              "      <td>0.000000</td>\n",
              "      <td>0.0</td>\n",
              "      <td>0.000000</td>\n",
              "      <td>0.0</td>\n",
              "      <td>0.000000</td>\n",
              "      <td>0.333333</td>\n",
              "      <td>0.0</td>\n",
              "      <td>0.000000</td>\n",
              "      <td>0.0</td>\n",
              "      <td>0.000000</td>\n",
              "      <td>0.0</td>\n",
              "      <td>1.000000</td>\n",
              "    </tr>\n",
              "    <tr>\n",
              "      <th>1</th>\n",
              "      <td>59</td>\n",
              "      <td>3.527778</td>\n",
              "      <td>0.694444</td>\n",
              "      <td>0.222222</td>\n",
              "      <td>0.579114</td>\n",
              "      <td>0</td>\n",
              "      <td>2.000000</td>\n",
              "      <td>0.583351</td>\n",
              "      <td>0.347117</td>\n",
              "      <td>0.502371</td>\n",
              "      <td>0.350550</td>\n",
              "      <td>0.709567</td>\n",
              "      <td>0.34988</td>\n",
              "      <td>0.0</td>\n",
              "      <td>0.0</td>\n",
              "      <td>0.000000</td>\n",
              "      <td>0.0</td>\n",
              "      <td>0.0</td>\n",
              "      <td>0.0</td>\n",
              "      <td>0.0</td>\n",
              "      <td>0.0</td>\n",
              "      <td>0.000000</td>\n",
              "      <td>0.0</td>\n",
              "      <td>0.0</td>\n",
              "      <td>0.0</td>\n",
              "      <td>0.0</td>\n",
              "      <td>0.0</td>\n",
              "      <td>0.0</td>\n",
              "      <td>0.0</td>\n",
              "      <td>0.000000</td>\n",
              "      <td>0.000000</td>\n",
              "      <td>0.000000</td>\n",
              "      <td>1.000000</td>\n",
              "      <td>0.194444</td>\n",
              "      <td>0.083333</td>\n",
              "      <td>0.055556</td>\n",
              "      <td>0.138889</td>\n",
              "      <td>0.166667</td>\n",
              "      <td>0.166667</td>\n",
              "      <td>0.000000</td>\n",
              "      <td>1.000000</td>\n",
              "      <td>0.000000</td>\n",
              "      <td>0.000000</td>\n",
              "      <td>0.0</td>\n",
              "      <td>0.000000</td>\n",
              "      <td>0.0</td>\n",
              "      <td>0.000000</td>\n",
              "      <td>0.000000</td>\n",
              "      <td>0.0</td>\n",
              "      <td>0.000000</td>\n",
              "      <td>0.0</td>\n",
              "      <td>0.000000</td>\n",
              "      <td>0.0</td>\n",
              "      <td>0.500000</td>\n",
              "    </tr>\n",
              "    <tr>\n",
              "      <th>2</th>\n",
              "      <td>76</td>\n",
              "      <td>12.368421</td>\n",
              "      <td>1.526316</td>\n",
              "      <td>0.631579</td>\n",
              "      <td>0.615095</td>\n",
              "      <td>0</td>\n",
              "      <td>3.789474</td>\n",
              "      <td>0.614055</td>\n",
              "      <td>0.354977</td>\n",
              "      <td>0.484822</td>\n",
              "      <td>0.349795</td>\n",
              "      <td>0.676443</td>\n",
              "      <td>0.34988</td>\n",
              "      <td>0.0</td>\n",
              "      <td>0.0</td>\n",
              "      <td>0.052632</td>\n",
              "      <td>0.0</td>\n",
              "      <td>0.0</td>\n",
              "      <td>0.0</td>\n",
              "      <td>0.0</td>\n",
              "      <td>0.0</td>\n",
              "      <td>0.052632</td>\n",
              "      <td>0.0</td>\n",
              "      <td>0.0</td>\n",
              "      <td>0.0</td>\n",
              "      <td>0.0</td>\n",
              "      <td>0.0</td>\n",
              "      <td>0.0</td>\n",
              "      <td>0.0</td>\n",
              "      <td>0.000000</td>\n",
              "      <td>0.000000</td>\n",
              "      <td>0.000000</td>\n",
              "      <td>0.894737</td>\n",
              "      <td>0.157895</td>\n",
              "      <td>0.157895</td>\n",
              "      <td>0.052632</td>\n",
              "      <td>0.210526</td>\n",
              "      <td>0.210526</td>\n",
              "      <td>0.052632</td>\n",
              "      <td>0.052632</td>\n",
              "      <td>0.947368</td>\n",
              "      <td>0.000000</td>\n",
              "      <td>0.000000</td>\n",
              "      <td>0.0</td>\n",
              "      <td>0.052632</td>\n",
              "      <td>0.0</td>\n",
              "      <td>0.000000</td>\n",
              "      <td>0.000000</td>\n",
              "      <td>0.0</td>\n",
              "      <td>0.052632</td>\n",
              "      <td>0.0</td>\n",
              "      <td>0.000000</td>\n",
              "      <td>0.0</td>\n",
              "      <td>0.526316</td>\n",
              "    </tr>\n",
              "    <tr>\n",
              "      <th>3</th>\n",
              "      <td>224</td>\n",
              "      <td>6.428571</td>\n",
              "      <td>0.571429</td>\n",
              "      <td>0.714286</td>\n",
              "      <td>0.119571</td>\n",
              "      <td>1</td>\n",
              "      <td>2.000000</td>\n",
              "      <td>0.119571</td>\n",
              "      <td>0.331380</td>\n",
              "      <td>0.321834</td>\n",
              "      <td>0.340314</td>\n",
              "      <td>0.174125</td>\n",
              "      <td>0.34988</td>\n",
              "      <td>0.0</td>\n",
              "      <td>0.0</td>\n",
              "      <td>0.000000</td>\n",
              "      <td>0.0</td>\n",
              "      <td>0.0</td>\n",
              "      <td>0.0</td>\n",
              "      <td>0.0</td>\n",
              "      <td>0.0</td>\n",
              "      <td>0.000000</td>\n",
              "      <td>0.0</td>\n",
              "      <td>0.0</td>\n",
              "      <td>0.0</td>\n",
              "      <td>0.0</td>\n",
              "      <td>0.0</td>\n",
              "      <td>0.0</td>\n",
              "      <td>0.0</td>\n",
              "      <td>0.285714</td>\n",
              "      <td>0.285714</td>\n",
              "      <td>0.142857</td>\n",
              "      <td>0.285714</td>\n",
              "      <td>0.000000</td>\n",
              "      <td>0.285714</td>\n",
              "      <td>0.000000</td>\n",
              "      <td>0.000000</td>\n",
              "      <td>0.142857</td>\n",
              "      <td>0.285714</td>\n",
              "      <td>0.142857</td>\n",
              "      <td>0.428571</td>\n",
              "      <td>0.285714</td>\n",
              "      <td>0.142857</td>\n",
              "      <td>0.0</td>\n",
              "      <td>0.142857</td>\n",
              "      <td>0.0</td>\n",
              "      <td>0.285714</td>\n",
              "      <td>0.000000</td>\n",
              "      <td>0.0</td>\n",
              "      <td>0.142857</td>\n",
              "      <td>0.0</td>\n",
              "      <td>0.000000</td>\n",
              "      <td>0.0</td>\n",
              "      <td>0.857143</td>\n",
              "    </tr>\n",
              "    <tr>\n",
              "      <th>4</th>\n",
              "      <td>291</td>\n",
              "      <td>20.666667</td>\n",
              "      <td>1.666667</td>\n",
              "      <td>0.166667</td>\n",
              "      <td>0.198967</td>\n",
              "      <td>1</td>\n",
              "      <td>2.000000</td>\n",
              "      <td>0.198967</td>\n",
              "      <td>0.368641</td>\n",
              "      <td>0.346405</td>\n",
              "      <td>0.340997</td>\n",
              "      <td>0.068145</td>\n",
              "      <td>0.34988</td>\n",
              "      <td>0.0</td>\n",
              "      <td>0.0</td>\n",
              "      <td>0.000000</td>\n",
              "      <td>0.0</td>\n",
              "      <td>0.0</td>\n",
              "      <td>0.0</td>\n",
              "      <td>0.0</td>\n",
              "      <td>0.0</td>\n",
              "      <td>0.000000</td>\n",
              "      <td>0.0</td>\n",
              "      <td>0.0</td>\n",
              "      <td>0.0</td>\n",
              "      <td>0.0</td>\n",
              "      <td>0.0</td>\n",
              "      <td>0.0</td>\n",
              "      <td>0.0</td>\n",
              "      <td>0.833333</td>\n",
              "      <td>0.000000</td>\n",
              "      <td>0.000000</td>\n",
              "      <td>0.166667</td>\n",
              "      <td>0.333333</td>\n",
              "      <td>0.166667</td>\n",
              "      <td>0.000000</td>\n",
              "      <td>0.333333</td>\n",
              "      <td>0.166667</td>\n",
              "      <td>0.000000</td>\n",
              "      <td>0.166667</td>\n",
              "      <td>0.500000</td>\n",
              "      <td>0.166667</td>\n",
              "      <td>0.166667</td>\n",
              "      <td>0.0</td>\n",
              "      <td>0.166667</td>\n",
              "      <td>0.0</td>\n",
              "      <td>0.166667</td>\n",
              "      <td>0.000000</td>\n",
              "      <td>0.0</td>\n",
              "      <td>0.000000</td>\n",
              "      <td>0.0</td>\n",
              "      <td>0.166667</td>\n",
              "      <td>0.0</td>\n",
              "      <td>0.833333</td>\n",
              "    </tr>\n",
              "  </tbody>\n",
              "</table>\n",
              "</div>"
            ],
            "text/plain": [
              "   user_id  likes_count  replies_count  ...  Month_11  Month_12        PM\n",
              "0       57     1.666667       0.666667  ...  0.000000       0.0  1.000000\n",
              "1       59     3.527778       0.694444  ...  0.000000       0.0  0.500000\n",
              "2       76    12.368421       1.526316  ...  0.000000       0.0  0.526316\n",
              "3      224     6.428571       0.571429  ...  0.000000       0.0  0.857143\n",
              "4      291    20.666667       1.666667  ...  0.166667       0.0  0.833333\n",
              "\n",
              "[5 rows x 54 columns]"
            ]
          },
          "metadata": {
            "tags": []
          },
          "execution_count": 5
        }
      ]
    },
    {
      "cell_type": "code",
      "metadata": {
        "scrolled": true,
        "id": "Srn91iiorlUA",
        "colab_type": "code",
        "outputId": "b685ec7c-812c-4874-86df-f5b493633d09",
        "colab": {
          "base_uri": "https://localhost:8080/",
          "height": 1007
        }
      },
      "source": [
        "data.isnull().sum()"
      ],
      "execution_count": 6,
      "outputs": [
        {
          "output_type": "execute_result",
          "data": {
            "text/plain": [
              "user_id               0\n",
              "likes_count           0\n",
              "replies_count         0\n",
              "retweets_count        0\n",
              "tweet_ss              0\n",
              "target                0\n",
              "num_hashtags          0\n",
              "avg_convo_ss          0\n",
              "avg_day_ss            0\n",
              "avg_season_ss         0\n",
              "avg_time_of_day_ss    0\n",
              "avg_tag_ss            0\n",
              "avg_pop_ss            0\n",
              "hashtag_anxiety       0\n",
              "hashtag_depression    0\n",
              "hashtag_friends       0\n",
              "hashtag_fun           0\n",
              "hashtag_happiness     0\n",
              "hashtag_happy         0\n",
              "hashtag_hope          0\n",
              "hashtag_lonely        0\n",
              "hashtag_love          0\n",
              "hashtag_pain          0\n",
              "hashtag_peace         0\n",
              "hashtag_ptsd          0\n",
              "hashtag_sad           0\n",
              "hashtag_smile         0\n",
              "hashtag_stress        0\n",
              "hashtag_suicide       0\n",
              "search_anxiety        0\n",
              "search_depression     0\n",
              "search_happiness      0\n",
              "search_happy          0\n",
              "Friday                0\n",
              "Monday                0\n",
              "Saturday              0\n",
              "Sunday                0\n",
              "Thursday              0\n",
              "Tuesday               0\n",
              "autumn                0\n",
              "spring                0\n",
              "summer                0\n",
              "Month_1               0\n",
              "Month_2               0\n",
              "Month_3               0\n",
              "Month_4               0\n",
              "Month_6               0\n",
              "Month_7               0\n",
              "Month_8               0\n",
              "Month_9               0\n",
              "Month_10              0\n",
              "Month_11              0\n",
              "Month_12              0\n",
              "PM                    0\n",
              "dtype: int64"
            ]
          },
          "metadata": {
            "tags": []
          },
          "execution_count": 6
        }
      ]
    },
    {
      "cell_type": "code",
      "metadata": {
        "id": "iswLn4SqrlUE",
        "colab_type": "code",
        "outputId": "eb5e2e40-a3a8-4017-b1ee-c77321617568",
        "colab": {
          "base_uri": "https://localhost:8080/",
          "height": 317
        }
      },
      "source": [
        "data.describe()"
      ],
      "execution_count": 7,
      "outputs": [
        {
          "output_type": "execute_result",
          "data": {
            "text/html": [
              "<div>\n",
              "<style scoped>\n",
              "    .dataframe tbody tr th:only-of-type {\n",
              "        vertical-align: middle;\n",
              "    }\n",
              "\n",
              "    .dataframe tbody tr th {\n",
              "        vertical-align: top;\n",
              "    }\n",
              "\n",
              "    .dataframe thead th {\n",
              "        text-align: right;\n",
              "    }\n",
              "</style>\n",
              "<table border=\"1\" class=\"dataframe\">\n",
              "  <thead>\n",
              "    <tr style=\"text-align: right;\">\n",
              "      <th></th>\n",
              "      <th>user_id</th>\n",
              "      <th>likes_count</th>\n",
              "      <th>replies_count</th>\n",
              "      <th>retweets_count</th>\n",
              "      <th>tweet_ss</th>\n",
              "      <th>target</th>\n",
              "      <th>num_hashtags</th>\n",
              "      <th>avg_convo_ss</th>\n",
              "      <th>avg_day_ss</th>\n",
              "      <th>avg_season_ss</th>\n",
              "      <th>avg_time_of_day_ss</th>\n",
              "      <th>avg_tag_ss</th>\n",
              "      <th>avg_pop_ss</th>\n",
              "      <th>hashtag_anxiety</th>\n",
              "      <th>hashtag_depression</th>\n",
              "      <th>hashtag_friends</th>\n",
              "      <th>hashtag_fun</th>\n",
              "      <th>hashtag_happiness</th>\n",
              "      <th>hashtag_happy</th>\n",
              "      <th>hashtag_hope</th>\n",
              "      <th>hashtag_lonely</th>\n",
              "      <th>hashtag_love</th>\n",
              "      <th>hashtag_pain</th>\n",
              "      <th>hashtag_peace</th>\n",
              "      <th>hashtag_ptsd</th>\n",
              "      <th>hashtag_sad</th>\n",
              "      <th>hashtag_smile</th>\n",
              "      <th>hashtag_stress</th>\n",
              "      <th>hashtag_suicide</th>\n",
              "      <th>search_anxiety</th>\n",
              "      <th>search_depression</th>\n",
              "      <th>search_happiness</th>\n",
              "      <th>search_happy</th>\n",
              "      <th>Friday</th>\n",
              "      <th>Monday</th>\n",
              "      <th>Saturday</th>\n",
              "      <th>Sunday</th>\n",
              "      <th>Thursday</th>\n",
              "      <th>Tuesday</th>\n",
              "      <th>autumn</th>\n",
              "      <th>spring</th>\n",
              "      <th>summer</th>\n",
              "      <th>Month_1</th>\n",
              "      <th>Month_2</th>\n",
              "      <th>Month_3</th>\n",
              "      <th>Month_4</th>\n",
              "      <th>Month_6</th>\n",
              "      <th>Month_7</th>\n",
              "      <th>Month_8</th>\n",
              "      <th>Month_9</th>\n",
              "      <th>Month_10</th>\n",
              "      <th>Month_11</th>\n",
              "      <th>Month_12</th>\n",
              "      <th>PM</th>\n",
              "    </tr>\n",
              "  </thead>\n",
              "  <tbody>\n",
              "    <tr>\n",
              "      <th>count</th>\n",
              "      <td>1.032090e+05</td>\n",
              "      <td>1.032090e+05</td>\n",
              "      <td>103209.000000</td>\n",
              "      <td>103209.000000</td>\n",
              "      <td>103209.000000</td>\n",
              "      <td>103209.000000</td>\n",
              "      <td>103209.000000</td>\n",
              "      <td>103209.000000</td>\n",
              "      <td>103209.000000</td>\n",
              "      <td>103209.000000</td>\n",
              "      <td>103209.000000</td>\n",
              "      <td>103209.000000</td>\n",
              "      <td>1.032090e+05</td>\n",
              "      <td>103209.000000</td>\n",
              "      <td>1.032090e+05</td>\n",
              "      <td>103209.000000</td>\n",
              "      <td>103209.000000</td>\n",
              "      <td>103209.000000</td>\n",
              "      <td>103209.000000</td>\n",
              "      <td>103209.000000</td>\n",
              "      <td>103209.000000</td>\n",
              "      <td>103209.000000</td>\n",
              "      <td>103209.000000</td>\n",
              "      <td>103209.000000</td>\n",
              "      <td>103209.000000</td>\n",
              "      <td>103209.000000</td>\n",
              "      <td>103209.000000</td>\n",
              "      <td>103209.000000</td>\n",
              "      <td>103209.000000</td>\n",
              "      <td>103209.000000</td>\n",
              "      <td>103209.000000</td>\n",
              "      <td>103209.000000</td>\n",
              "      <td>103209.000000</td>\n",
              "      <td>103209.000000</td>\n",
              "      <td>103209.000000</td>\n",
              "      <td>103209.000000</td>\n",
              "      <td>103209.000000</td>\n",
              "      <td>103209.000000</td>\n",
              "      <td>103209.000000</td>\n",
              "      <td>103209.000000</td>\n",
              "      <td>103209.000000</td>\n",
              "      <td>103209.000000</td>\n",
              "      <td>103209.000000</td>\n",
              "      <td>103209.000000</td>\n",
              "      <td>103209.000000</td>\n",
              "      <td>103209.000000</td>\n",
              "      <td>103209.000000</td>\n",
              "      <td>103209.000000</td>\n",
              "      <td>103209.000000</td>\n",
              "      <td>103209.000000</td>\n",
              "      <td>103209.000000</td>\n",
              "      <td>103209.000000</td>\n",
              "      <td>103209.000000</td>\n",
              "      <td>103209.000000</td>\n",
              "    </tr>\n",
              "    <tr>\n",
              "      <th>mean</th>\n",
              "      <td>4.007678e+16</td>\n",
              "      <td>3.143333e+02</td>\n",
              "      <td>9.730886</td>\n",
              "      <td>54.004333</td>\n",
              "      <td>0.423785</td>\n",
              "      <td>0.420651</td>\n",
              "      <td>9.265747</td>\n",
              "      <td>0.423760</td>\n",
              "      <td>0.352528</td>\n",
              "      <td>0.370201</td>\n",
              "      <td>0.349493</td>\n",
              "      <td>0.416560</td>\n",
              "      <td>3.498797e-01</td>\n",
              "      <td>0.000033</td>\n",
              "      <td>2.014361e-08</td>\n",
              "      <td>0.015653</td>\n",
              "      <td>0.015282</td>\n",
              "      <td>0.000152</td>\n",
              "      <td>0.008885</td>\n",
              "      <td>0.006819</td>\n",
              "      <td>0.000291</td>\n",
              "      <td>0.043002</td>\n",
              "      <td>0.001552</td>\n",
              "      <td>0.015243</td>\n",
              "      <td>0.003936</td>\n",
              "      <td>0.006032</td>\n",
              "      <td>0.005345</td>\n",
              "      <td>0.003060</td>\n",
              "      <td>0.003460</td>\n",
              "      <td>0.139100</td>\n",
              "      <td>0.114824</td>\n",
              "      <td>0.205369</td>\n",
              "      <td>0.401623</td>\n",
              "      <td>0.147036</td>\n",
              "      <td>0.142085</td>\n",
              "      <td>0.100263</td>\n",
              "      <td>0.170732</td>\n",
              "      <td>0.145053</td>\n",
              "      <td>0.144204</td>\n",
              "      <td>0.138015</td>\n",
              "      <td>0.576722</td>\n",
              "      <td>0.147029</td>\n",
              "      <td>0.046019</td>\n",
              "      <td>0.044201</td>\n",
              "      <td>0.049310</td>\n",
              "      <td>0.042420</td>\n",
              "      <td>0.055327</td>\n",
              "      <td>0.046559</td>\n",
              "      <td>0.045143</td>\n",
              "      <td>0.047422</td>\n",
              "      <td>0.047223</td>\n",
              "      <td>0.043371</td>\n",
              "      <td>0.048014</td>\n",
              "      <td>0.536867</td>\n",
              "    </tr>\n",
              "    <tr>\n",
              "      <th>std</th>\n",
              "      <td>1.834767e+17</td>\n",
              "      <td>6.492188e+03</td>\n",
              "      <td>309.915638</td>\n",
              "      <td>1784.883581</td>\n",
              "      <td>0.442188</td>\n",
              "      <td>0.493666</td>\n",
              "      <td>13.676750</td>\n",
              "      <td>0.441519</td>\n",
              "      <td>0.029120</td>\n",
              "      <td>0.125644</td>\n",
              "      <td>0.011437</td>\n",
              "      <td>0.330439</td>\n",
              "      <td>5.880125e-16</td>\n",
              "      <td>0.003701</td>\n",
              "      <td>6.471369e-06</td>\n",
              "      <td>0.098864</td>\n",
              "      <td>0.098790</td>\n",
              "      <td>0.008910</td>\n",
              "      <td>0.072270</td>\n",
              "      <td>0.065822</td>\n",
              "      <td>0.013357</td>\n",
              "      <td>0.166001</td>\n",
              "      <td>0.031309</td>\n",
              "      <td>0.104990</td>\n",
              "      <td>0.049509</td>\n",
              "      <td>0.063203</td>\n",
              "      <td>0.057290</td>\n",
              "      <td>0.039952</td>\n",
              "      <td>0.043466</td>\n",
              "      <td>0.279388</td>\n",
              "      <td>0.255069</td>\n",
              "      <td>0.331526</td>\n",
              "      <td>0.418830</td>\n",
              "      <td>0.264384</td>\n",
              "      <td>0.259080</td>\n",
              "      <td>0.223772</td>\n",
              "      <td>0.293077</td>\n",
              "      <td>0.261615</td>\n",
              "      <td>0.260330</td>\n",
              "      <td>0.261344</td>\n",
              "      <td>0.399594</td>\n",
              "      <td>0.272017</td>\n",
              "      <td>0.154935</td>\n",
              "      <td>0.153252</td>\n",
              "      <td>0.160046</td>\n",
              "      <td>0.148398</td>\n",
              "      <td>0.172865</td>\n",
              "      <td>0.156964</td>\n",
              "      <td>0.153716</td>\n",
              "      <td>0.157773</td>\n",
              "      <td>0.156721</td>\n",
              "      <td>0.149716</td>\n",
              "      <td>0.158832</td>\n",
              "      <td>0.399075</td>\n",
              "    </tr>\n",
              "    <tr>\n",
              "      <th>min</th>\n",
              "      <td>5.700000e+01</td>\n",
              "      <td>0.000000e+00</td>\n",
              "      <td>0.000000</td>\n",
              "      <td>0.000000</td>\n",
              "      <td>-0.986900</td>\n",
              "      <td>0.000000</td>\n",
              "      <td>0.000000</td>\n",
              "      <td>-0.986900</td>\n",
              "      <td>0.322150</td>\n",
              "      <td>0.168943</td>\n",
              "      <td>0.336220</td>\n",
              "      <td>-0.375016</td>\n",
              "      <td>3.498797e-01</td>\n",
              "      <td>0.000000</td>\n",
              "      <td>0.000000e+00</td>\n",
              "      <td>0.000000</td>\n",
              "      <td>0.000000</td>\n",
              "      <td>0.000000</td>\n",
              "      <td>0.000000</td>\n",
              "      <td>0.000000</td>\n",
              "      <td>0.000000</td>\n",
              "      <td>0.000000</td>\n",
              "      <td>0.000000</td>\n",
              "      <td>0.000000</td>\n",
              "      <td>0.000000</td>\n",
              "      <td>0.000000</td>\n",
              "      <td>0.000000</td>\n",
              "      <td>0.000000</td>\n",
              "      <td>0.000000</td>\n",
              "      <td>0.000000</td>\n",
              "      <td>0.000000</td>\n",
              "      <td>0.000000</td>\n",
              "      <td>0.000000</td>\n",
              "      <td>0.000000</td>\n",
              "      <td>0.000000</td>\n",
              "      <td>0.000000</td>\n",
              "      <td>0.000000</td>\n",
              "      <td>0.000000</td>\n",
              "      <td>0.000000</td>\n",
              "      <td>0.000000</td>\n",
              "      <td>0.000000</td>\n",
              "      <td>0.000000</td>\n",
              "      <td>0.000000</td>\n",
              "      <td>0.000000</td>\n",
              "      <td>0.000000</td>\n",
              "      <td>0.000000</td>\n",
              "      <td>0.000000</td>\n",
              "      <td>0.000000</td>\n",
              "      <td>0.000000</td>\n",
              "      <td>0.000000</td>\n",
              "      <td>0.000000</td>\n",
              "      <td>0.000000</td>\n",
              "      <td>0.000000</td>\n",
              "      <td>0.000000</td>\n",
              "    </tr>\n",
              "    <tr>\n",
              "      <th>25%</th>\n",
              "      <td>2.817751e+07</td>\n",
              "      <td>2.555556e+00</td>\n",
              "      <td>0.000000</td>\n",
              "      <td>0.050000</td>\n",
              "      <td>0.140475</td>\n",
              "      <td>0.000000</td>\n",
              "      <td>2.000000</td>\n",
              "      <td>0.140800</td>\n",
              "      <td>0.331313</td>\n",
              "      <td>0.252510</td>\n",
              "      <td>0.336220</td>\n",
              "      <td>0.194976</td>\n",
              "      <td>3.498797e-01</td>\n",
              "      <td>0.000000</td>\n",
              "      <td>0.000000e+00</td>\n",
              "      <td>0.000000</td>\n",
              "      <td>0.000000</td>\n",
              "      <td>0.000000</td>\n",
              "      <td>0.000000</td>\n",
              "      <td>0.000000</td>\n",
              "      <td>0.000000</td>\n",
              "      <td>0.000000</td>\n",
              "      <td>0.000000</td>\n",
              "      <td>0.000000</td>\n",
              "      <td>0.000000</td>\n",
              "      <td>0.000000</td>\n",
              "      <td>0.000000</td>\n",
              "      <td>0.000000</td>\n",
              "      <td>0.000000</td>\n",
              "      <td>0.000000</td>\n",
              "      <td>0.000000</td>\n",
              "      <td>0.000000</td>\n",
              "      <td>0.000000</td>\n",
              "      <td>0.000000</td>\n",
              "      <td>0.000000</td>\n",
              "      <td>0.000000</td>\n",
              "      <td>0.000000</td>\n",
              "      <td>0.000000</td>\n",
              "      <td>0.000000</td>\n",
              "      <td>0.000000</td>\n",
              "      <td>0.200000</td>\n",
              "      <td>0.000000</td>\n",
              "      <td>0.000000</td>\n",
              "      <td>0.000000</td>\n",
              "      <td>0.000000</td>\n",
              "      <td>0.000000</td>\n",
              "      <td>0.000000</td>\n",
              "      <td>0.000000</td>\n",
              "      <td>0.000000</td>\n",
              "      <td>0.000000</td>\n",
              "      <td>0.000000</td>\n",
              "      <td>0.000000</td>\n",
              "      <td>0.000000</td>\n",
              "      <td>0.000000</td>\n",
              "    </tr>\n",
              "    <tr>\n",
              "      <th>50%</th>\n",
              "      <td>1.239265e+08</td>\n",
              "      <td>1.033333e+01</td>\n",
              "      <td>0.777778</td>\n",
              "      <td>1.625000</td>\n",
              "      <td>0.571900</td>\n",
              "      <td>0.000000</td>\n",
              "      <td>2.500000</td>\n",
              "      <td>0.571900</td>\n",
              "      <td>0.342849</td>\n",
              "      <td>0.377119</td>\n",
              "      <td>0.350550</td>\n",
              "      <td>0.538531</td>\n",
              "      <td>3.498797e-01</td>\n",
              "      <td>0.000000</td>\n",
              "      <td>0.000000e+00</td>\n",
              "      <td>0.000000</td>\n",
              "      <td>0.000000</td>\n",
              "      <td>0.000000</td>\n",
              "      <td>0.000000</td>\n",
              "      <td>0.000000</td>\n",
              "      <td>0.000000</td>\n",
              "      <td>0.000000</td>\n",
              "      <td>0.000000</td>\n",
              "      <td>0.000000</td>\n",
              "      <td>0.000000</td>\n",
              "      <td>0.000000</td>\n",
              "      <td>0.000000</td>\n",
              "      <td>0.000000</td>\n",
              "      <td>0.000000</td>\n",
              "      <td>0.000000</td>\n",
              "      <td>0.000000</td>\n",
              "      <td>0.000000</td>\n",
              "      <td>0.250000</td>\n",
              "      <td>0.000000</td>\n",
              "      <td>0.000000</td>\n",
              "      <td>0.000000</td>\n",
              "      <td>0.000000</td>\n",
              "      <td>0.000000</td>\n",
              "      <td>0.000000</td>\n",
              "      <td>0.000000</td>\n",
              "      <td>0.600000</td>\n",
              "      <td>0.000000</td>\n",
              "      <td>0.000000</td>\n",
              "      <td>0.000000</td>\n",
              "      <td>0.000000</td>\n",
              "      <td>0.000000</td>\n",
              "      <td>0.000000</td>\n",
              "      <td>0.000000</td>\n",
              "      <td>0.000000</td>\n",
              "      <td>0.000000</td>\n",
              "      <td>0.000000</td>\n",
              "      <td>0.000000</td>\n",
              "      <td>0.000000</td>\n",
              "      <td>0.500000</td>\n",
              "    </tr>\n",
              "    <tr>\n",
              "      <th>75%</th>\n",
              "      <td>4.847247e+08</td>\n",
              "      <td>4.800000e+01</td>\n",
              "      <td>2.350000</td>\n",
              "      <td>7.000000</td>\n",
              "      <td>0.775650</td>\n",
              "      <td>1.000000</td>\n",
              "      <td>12.000000</td>\n",
              "      <td>0.774350</td>\n",
              "      <td>0.364069</td>\n",
              "      <td>0.502371</td>\n",
              "      <td>0.364879</td>\n",
              "      <td>0.709567</td>\n",
              "      <td>3.498797e-01</td>\n",
              "      <td>0.000000</td>\n",
              "      <td>0.000000e+00</td>\n",
              "      <td>0.000000</td>\n",
              "      <td>0.000000</td>\n",
              "      <td>0.000000</td>\n",
              "      <td>0.000000</td>\n",
              "      <td>0.000000</td>\n",
              "      <td>0.000000</td>\n",
              "      <td>0.000000</td>\n",
              "      <td>0.000000</td>\n",
              "      <td>0.000000</td>\n",
              "      <td>0.000000</td>\n",
              "      <td>0.000000</td>\n",
              "      <td>0.000000</td>\n",
              "      <td>0.000000</td>\n",
              "      <td>0.000000</td>\n",
              "      <td>0.125000</td>\n",
              "      <td>0.000000</td>\n",
              "      <td>0.333333</td>\n",
              "      <td>1.000000</td>\n",
              "      <td>0.200000</td>\n",
              "      <td>0.200000</td>\n",
              "      <td>0.096154</td>\n",
              "      <td>0.250000</td>\n",
              "      <td>0.200000</td>\n",
              "      <td>0.200000</td>\n",
              "      <td>0.200000</td>\n",
              "      <td>1.000000</td>\n",
              "      <td>0.200000</td>\n",
              "      <td>0.000000</td>\n",
              "      <td>0.000000</td>\n",
              "      <td>0.000000</td>\n",
              "      <td>0.000000</td>\n",
              "      <td>0.000000</td>\n",
              "      <td>0.000000</td>\n",
              "      <td>0.000000</td>\n",
              "      <td>0.000000</td>\n",
              "      <td>0.000000</td>\n",
              "      <td>0.000000</td>\n",
              "      <td>0.000000</td>\n",
              "      <td>1.000000</td>\n",
              "    </tr>\n",
              "    <tr>\n",
              "      <th>max</th>\n",
              "      <td>1.129902e+18</td>\n",
              "      <td>1.438405e+06</td>\n",
              "      <td>85633.500000</td>\n",
              "      <td>475847.250000</td>\n",
              "      <td>0.992800</td>\n",
              "      <td>1.000000</td>\n",
              "      <td>259.000000</td>\n",
              "      <td>0.992800</td>\n",
              "      <td>0.430960</td>\n",
              "      <td>0.502371</td>\n",
              "      <td>0.364879</td>\n",
              "      <td>0.709567</td>\n",
              "      <td>3.498797e-01</td>\n",
              "      <td>1.000000</td>\n",
              "      <td>2.079002e-03</td>\n",
              "      <td>1.000000</td>\n",
              "      <td>1.000000</td>\n",
              "      <td>1.000000</td>\n",
              "      <td>1.000000</td>\n",
              "      <td>1.000000</td>\n",
              "      <td>1.000000</td>\n",
              "      <td>1.000000</td>\n",
              "      <td>1.000000</td>\n",
              "      <td>1.000000</td>\n",
              "      <td>1.000000</td>\n",
              "      <td>1.000000</td>\n",
              "      <td>1.000000</td>\n",
              "      <td>1.000000</td>\n",
              "      <td>1.000000</td>\n",
              "      <td>1.000000</td>\n",
              "      <td>1.000000</td>\n",
              "      <td>1.000000</td>\n",
              "      <td>1.000000</td>\n",
              "      <td>1.000000</td>\n",
              "      <td>1.000000</td>\n",
              "      <td>1.000000</td>\n",
              "      <td>1.000000</td>\n",
              "      <td>1.000000</td>\n",
              "      <td>1.000000</td>\n",
              "      <td>1.000000</td>\n",
              "      <td>1.000000</td>\n",
              "      <td>1.000000</td>\n",
              "      <td>1.000000</td>\n",
              "      <td>1.000000</td>\n",
              "      <td>1.000000</td>\n",
              "      <td>1.000000</td>\n",
              "      <td>1.000000</td>\n",
              "      <td>1.000000</td>\n",
              "      <td>1.000000</td>\n",
              "      <td>1.000000</td>\n",
              "      <td>1.000000</td>\n",
              "      <td>1.000000</td>\n",
              "      <td>1.000000</td>\n",
              "      <td>1.000000</td>\n",
              "    </tr>\n",
              "  </tbody>\n",
              "</table>\n",
              "</div>"
            ],
            "text/plain": [
              "            user_id   likes_count  ...       Month_12             PM\n",
              "count  1.032090e+05  1.032090e+05  ...  103209.000000  103209.000000\n",
              "mean   4.007678e+16  3.143333e+02  ...       0.048014       0.536867\n",
              "std    1.834767e+17  6.492188e+03  ...       0.158832       0.399075\n",
              "min    5.700000e+01  0.000000e+00  ...       0.000000       0.000000\n",
              "25%    2.817751e+07  2.555556e+00  ...       0.000000       0.000000\n",
              "50%    1.239265e+08  1.033333e+01  ...       0.000000       0.500000\n",
              "75%    4.847247e+08  4.800000e+01  ...       0.000000       1.000000\n",
              "max    1.129902e+18  1.438405e+06  ...       1.000000       1.000000\n",
              "\n",
              "[8 rows x 54 columns]"
            ]
          },
          "metadata": {
            "tags": []
          },
          "execution_count": 7
        }
      ]
    },
    {
      "cell_type": "markdown",
      "metadata": {
        "id": "1_QtjbcorlUI",
        "colab_type": "text"
      },
      "source": [
        "# Data Preparation"
      ]
    },
    {
      "cell_type": "code",
      "metadata": {
        "id": "rcBRNsirrlUJ",
        "colab_type": "code",
        "colab": {}
      },
      "source": [
        "# identify features\n",
        "features = data.drop('user_id', axis=1).copy()"
      ],
      "execution_count": 0,
      "outputs": []
    },
    {
      "cell_type": "code",
      "metadata": {
        "id": "aBwF39PmrlUN",
        "colab_type": "code",
        "colab": {}
      },
      "source": [
        "# identify X and y\n",
        "X = features.drop('target', axis=1)\n",
        "y = features.target"
      ],
      "execution_count": 0,
      "outputs": []
    },
    {
      "cell_type": "code",
      "metadata": {
        "id": "mSkkTX40rlUT",
        "colab_type": "code",
        "colab": {}
      },
      "source": [
        "# create training and testing datasets with 80/20 split\n",
        "X_train, X_test, y_train, y_test = train_test_split(X, y, test_size=0.2, random_state=34)"
      ],
      "execution_count": 0,
      "outputs": []
    },
    {
      "cell_type": "code",
      "metadata": {
        "id": "tRqFG9rkrlUX",
        "colab_type": "code",
        "outputId": "55e62d2f-c943-4d1b-e737-87454c493c37",
        "colab": {
          "base_uri": "https://localhost:8080/",
          "height": 89
        }
      },
      "source": [
        "print('X_train', len(X_train))\n",
        "print('X_test', len(X_test))\n",
        "print('y_train', len(y_train))\n",
        "print('y_test', len(y_test))"
      ],
      "execution_count": 11,
      "outputs": [
        {
          "output_type": "stream",
          "text": [
            "X_train 82567\n",
            "X_test 20642\n",
            "y_train 82567\n",
            "y_test 20642\n"
          ],
          "name": "stdout"
        }
      ]
    },
    {
      "cell_type": "markdown",
      "metadata": {
        "id": "w29g-gZArlUb",
        "colab_type": "text"
      },
      "source": [
        "## Class Imbalance"
      ]
    },
    {
      "cell_type": "code",
      "metadata": {
        "id": "ElFu7hParlUc",
        "colab_type": "code",
        "colab": {}
      },
      "source": [
        "# Concat X_train, y_train together into a training dataset\n",
        "data_train = pd.concat([X_train, y_train], axis=1)"
      ],
      "execution_count": 0,
      "outputs": []
    },
    {
      "cell_type": "code",
      "metadata": {
        "id": "L3DXohxlrlUg",
        "colab_type": "code",
        "colab": {}
      },
      "source": [
        "# Separate minority and majority classes\n",
        "happy = data_train[data_train.target == 0]\n",
        "sad = data_train[data_train.target == 1]"
      ],
      "execution_count": 0,
      "outputs": []
    },
    {
      "cell_type": "code",
      "metadata": {
        "id": "gC0IP7-XrlUk",
        "colab_type": "code",
        "outputId": "ad63b6ad-55ad-4a45-dbd8-d73842ecfd65",
        "colab": {
          "base_uri": "https://localhost:8080/",
          "height": 53
        }
      },
      "source": [
        "print('# of Happy Users: '+ str(len(happy)))\n",
        "print('# of Sad Users: '+ str(len(sad)))"
      ],
      "execution_count": 14,
      "outputs": [
        {
          "output_type": "stream",
          "text": [
            "# of Happy Users: 47888\n",
            "# of Sad Users: 34679\n"
          ],
          "name": "stdout"
        }
      ]
    },
    {
      "cell_type": "code",
      "metadata": {
        "id": "DyJDGGWWrlUn",
        "colab_type": "code",
        "outputId": "8f9aa828-fd5a-4ad9-d29a-d542d624686e",
        "colab": {
          "base_uri": "https://localhost:8080/",
          "height": 518
        }
      },
      "source": [
        "# visualize class balance\n",
        "plt.figure(figsize=(10,8))\n",
        "sns.set_style('whitegrid')\n",
        "sns.countplot(x='target',data=data_train, palette='GnBu_d')"
      ],
      "execution_count": 15,
      "outputs": [
        {
          "output_type": "execute_result",
          "data": {
            "text/plain": [
              "<matplotlib.axes._subplots.AxesSubplot at 0x7f453a00dc88>"
            ]
          },
          "metadata": {
            "tags": []
          },
          "execution_count": 15
        },
        {
          "output_type": "display_data",
          "data": {
            "image/png": "[encoded data removed]",
            "text/plain": [
              "<Figure size 720x576 with 1 Axes>"
            ]
          },
          "metadata": {
            "tags": []
          }
        }
      ]
    },
    {
      "cell_type": "code",
      "metadata": {
        "id": "_wMVpZ3zrlUr",
        "colab_type": "code",
        "colab": {}
      },
      "source": [
        "# Undersample majority\n",
        "sad_downsampled = resample(happy,\n",
        "                                replace = False, # sample without replacement\n",
        "                                n_samples = len(sad), # match minority n\n",
        "                                random_state = 23) # reproducible results"
      ],
      "execution_count": 0,
      "outputs": []
    },
    {
      "cell_type": "code",
      "metadata": {
        "id": "yAlT0wIErlUv",
        "colab_type": "code",
        "colab": {}
      },
      "source": [
        "# combine minority and downsampled majority\n",
        "downsampled = pd.concat([sad, sad_downsampled])"
      ],
      "execution_count": 0,
      "outputs": []
    },
    {
      "cell_type": "code",
      "metadata": {
        "scrolled": true,
        "id": "ivpOo9FurlUz",
        "colab_type": "code",
        "outputId": "4b39439b-86c3-4476-81d2-03b82bd74ba3",
        "colab": {
          "base_uri": "https://localhost:8080/",
          "height": 71
        }
      },
      "source": [
        "# check counts\n",
        "downsampled.target.value_counts()"
      ],
      "execution_count": 18,
      "outputs": [
        {
          "output_type": "execute_result",
          "data": {
            "text/plain": [
              "1    34679\n",
              "0    34679\n",
              "Name: target, dtype: int64"
            ]
          },
          "metadata": {
            "tags": []
          },
          "execution_count": 18
        }
      ]
    },
    {
      "cell_type": "code",
      "metadata": {
        "id": "8896dtZmrlVY",
        "colab_type": "code",
        "colab": {}
      },
      "source": [
        "# redefine X_train, y_train\n",
        "X_train = downsampled.drop('target', axis=1)\n",
        "y_train = downsampled.target"
      ],
      "execution_count": 0,
      "outputs": []
    },
    {
      "cell_type": "code",
      "metadata": {
        "id": "Qbdg2Do_rlVc",
        "colab_type": "code",
        "outputId": "fa1c0c8a-a1bb-4959-e5b1-1424ff4427a1",
        "colab": {
          "base_uri": "https://localhost:8080/",
          "height": 89
        }
      },
      "source": [
        "print('X_train', len(X_train))\n",
        "print('X_test', len(X_test))\n",
        "print('y_train', len(y_train))\n",
        "print('y_test', len(y_test))"
      ],
      "execution_count": 20,
      "outputs": [
        {
          "output_type": "stream",
          "text": [
            "X_train 69358\n",
            "X_test 20642\n",
            "y_train 69358\n",
            "y_test 20642\n"
          ],
          "name": "stdout"
        }
      ]
    },
    {
      "cell_type": "markdown",
      "metadata": {
        "id": "I7QsPkSGrlVg",
        "colab_type": "text"
      },
      "source": [
        "## Scaling the Data"
      ]
    },
    {
      "cell_type": "code",
      "metadata": {
        "id": "HiYA-9q2rlVi",
        "colab_type": "code",
        "colab": {}
      },
      "source": [
        "# instantiate the scaler, fit to train data and transform it\n",
        "scaler = StandardScaler()\n",
        "scaled_train = scaler.fit_transform(X_train)"
      ],
      "execution_count": 0,
      "outputs": []
    },
    {
      "cell_type": "code",
      "metadata": {
        "id": "Q9Fv_mRJrlVm",
        "colab_type": "code",
        "colab": {}
      },
      "source": [
        "#Use the scaler that is fit to the training data to transform the testing data\n",
        "scaled_test = scaler.transform(X_test)"
      ],
      "execution_count": 0,
      "outputs": []
    },
    {
      "cell_type": "code",
      "metadata": {
        "id": "1WUwgHCKrlVr",
        "colab_type": "code",
        "outputId": "b30e344b-741b-441f-d277-fabeb6b2d848",
        "colab": {
          "base_uri": "https://localhost:8080/",
          "height": 224
        }
      },
      "source": [
        "# turn scaled training dataset to pandas dataframe\n",
        "scaled_train = pd.DataFrame(scaled_train, columns=X_train.columns)\n",
        "scaled_train.head()"
      ],
      "execution_count": 23,
      "outputs": [
        {
          "output_type": "execute_result",
          "data": {
            "text/html": [
              "<div>\n",
              "<style scoped>\n",
              "    .dataframe tbody tr th:only-of-type {\n",
              "        vertical-align: middle;\n",
              "    }\n",
              "\n",
              "    .dataframe tbody tr th {\n",
              "        vertical-align: top;\n",
              "    }\n",
              "\n",
              "    .dataframe thead th {\n",
              "        text-align: right;\n",
              "    }\n",
              "</style>\n",
              "<table border=\"1\" class=\"dataframe\">\n",
              "  <thead>\n",
              "    <tr style=\"text-align: right;\">\n",
              "      <th></th>\n",
              "      <th>likes_count</th>\n",
              "      <th>replies_count</th>\n",
              "      <th>retweets_count</th>\n",
              "      <th>tweet_ss</th>\n",
              "      <th>num_hashtags</th>\n",
              "      <th>avg_convo_ss</th>\n",
              "      <th>avg_day_ss</th>\n",
              "      <th>avg_season_ss</th>\n",
              "      <th>avg_time_of_day_ss</th>\n",
              "      <th>avg_tag_ss</th>\n",
              "      <th>avg_pop_ss</th>\n",
              "      <th>hashtag_anxiety</th>\n",
              "      <th>hashtag_depression</th>\n",
              "      <th>hashtag_friends</th>\n",
              "      <th>hashtag_fun</th>\n",
              "      <th>hashtag_happiness</th>\n",
              "      <th>hashtag_happy</th>\n",
              "      <th>hashtag_hope</th>\n",
              "      <th>hashtag_lonely</th>\n",
              "      <th>hashtag_love</th>\n",
              "      <th>hashtag_pain</th>\n",
              "      <th>hashtag_peace</th>\n",
              "      <th>hashtag_ptsd</th>\n",
              "      <th>hashtag_sad</th>\n",
              "      <th>hashtag_smile</th>\n",
              "      <th>hashtag_stress</th>\n",
              "      <th>hashtag_suicide</th>\n",
              "      <th>search_anxiety</th>\n",
              "      <th>search_depression</th>\n",
              "      <th>search_happiness</th>\n",
              "      <th>search_happy</th>\n",
              "      <th>Friday</th>\n",
              "      <th>Monday</th>\n",
              "      <th>Saturday</th>\n",
              "      <th>Sunday</th>\n",
              "      <th>Thursday</th>\n",
              "      <th>Tuesday</th>\n",
              "      <th>autumn</th>\n",
              "      <th>spring</th>\n",
              "      <th>summer</th>\n",
              "      <th>Month_1</th>\n",
              "      <th>Month_2</th>\n",
              "      <th>Month_3</th>\n",
              "      <th>Month_4</th>\n",
              "      <th>Month_6</th>\n",
              "      <th>Month_7</th>\n",
              "      <th>Month_8</th>\n",
              "      <th>Month_9</th>\n",
              "      <th>Month_10</th>\n",
              "      <th>Month_11</th>\n",
              "      <th>Month_12</th>\n",
              "      <th>PM</th>\n",
              "    </tr>\n",
              "  </thead>\n",
              "  <tbody>\n",
              "    <tr>\n",
              "      <th>0</th>\n",
              "      <td>-0.063439</td>\n",
              "      <td>-0.063309</td>\n",
              "      <td>-0.069375</td>\n",
              "      <td>0.579435</td>\n",
              "      <td>0.920042</td>\n",
              "      <td>0.580318</td>\n",
              "      <td>-0.469746</td>\n",
              "      <td>0.580447</td>\n",
              "      <td>1.376670</td>\n",
              "      <td>0.533013</td>\n",
              "      <td>0.000000</td>\n",
              "      <td>-0.008235</td>\n",
              "      <td>-0.003797</td>\n",
              "      <td>-0.153476</td>\n",
              "      <td>-0.151189</td>\n",
              "      <td>-0.016955</td>\n",
              "      <td>-0.119757</td>\n",
              "      <td>-0.103549</td>\n",
              "      <td>-0.023753</td>\n",
              "      <td>-0.251389</td>\n",
              "      <td>-0.054021</td>\n",
              "      <td>-0.141428</td>\n",
              "      <td>-0.086873</td>\n",
              "      <td>-0.104889</td>\n",
              "      <td>-0.090199</td>\n",
              "      <td>-0.08304</td>\n",
              "      <td>-0.086982</td>\n",
              "      <td>0.116672</td>\n",
              "      <td>-0.500488</td>\n",
              "      <td>-0.611537</td>\n",
              "      <td>1.059985</td>\n",
              "      <td>0.966728</td>\n",
              "      <td>-0.559300</td>\n",
              "      <td>0.458559</td>\n",
              "      <td>-0.581959</td>\n",
              "      <td>0.206317</td>\n",
              "      <td>-0.566804</td>\n",
              "      <td>0.205661</td>\n",
              "      <td>0.618709</td>\n",
              "      <td>-0.564633</td>\n",
              "      <td>-0.308144</td>\n",
              "      <td>-0.29904</td>\n",
              "      <td>-0.321322</td>\n",
              "      <td>-0.299048</td>\n",
              "      <td>-0.334257</td>\n",
              "      <td>-0.307360</td>\n",
              "      <td>-0.305163</td>\n",
              "      <td>-0.313858</td>\n",
              "      <td>-0.314666</td>\n",
              "      <td>1.026635</td>\n",
              "      <td>-0.310497</td>\n",
              "      <td>-1.376670</td>\n",
              "    </tr>\n",
              "    <tr>\n",
              "      <th>1</th>\n",
              "      <td>-0.042042</td>\n",
              "      <td>0.058221</td>\n",
              "      <td>-0.055103</td>\n",
              "      <td>-1.556802</td>\n",
              "      <td>-0.529032</td>\n",
              "      <td>-1.559524</td>\n",
              "      <td>-0.747734</td>\n",
              "      <td>-1.520728</td>\n",
              "      <td>1.376670</td>\n",
              "      <td>-1.273893</td>\n",
              "      <td>0.000000</td>\n",
              "      <td>-0.008235</td>\n",
              "      <td>-0.003797</td>\n",
              "      <td>-0.153476</td>\n",
              "      <td>-0.151189</td>\n",
              "      <td>-0.016955</td>\n",
              "      <td>-0.119757</td>\n",
              "      <td>-0.103549</td>\n",
              "      <td>-0.023753</td>\n",
              "      <td>-0.251389</td>\n",
              "      <td>-0.054021</td>\n",
              "      <td>-0.141428</td>\n",
              "      <td>-0.086873</td>\n",
              "      <td>-0.104889</td>\n",
              "      <td>-0.090199</td>\n",
              "      <td>-0.08304</td>\n",
              "      <td>-0.086982</td>\n",
              "      <td>2.803673</td>\n",
              "      <td>-0.500488</td>\n",
              "      <td>-0.611537</td>\n",
              "      <td>-0.912334</td>\n",
              "      <td>-0.567781</td>\n",
              "      <td>-0.559300</td>\n",
              "      <td>-0.454016</td>\n",
              "      <td>-0.581959</td>\n",
              "      <td>-0.566823</td>\n",
              "      <td>3.325594</td>\n",
              "      <td>-0.552985</td>\n",
              "      <td>-1.405645</td>\n",
              "      <td>3.085133</td>\n",
              "      <td>-0.308144</td>\n",
              "      <td>-0.29904</td>\n",
              "      <td>-0.321322</td>\n",
              "      <td>-0.299048</td>\n",
              "      <td>5.365339</td>\n",
              "      <td>-0.307360</td>\n",
              "      <td>-0.305163</td>\n",
              "      <td>-0.313858</td>\n",
              "      <td>-0.314666</td>\n",
              "      <td>-0.300668</td>\n",
              "      <td>-0.310497</td>\n",
              "      <td>-1.376670</td>\n",
              "    </tr>\n",
              "    <tr>\n",
              "      <th>2</th>\n",
              "      <td>-0.062361</td>\n",
              "      <td>-0.060460</td>\n",
              "      <td>-0.070105</td>\n",
              "      <td>-0.533726</td>\n",
              "      <td>-0.161103</td>\n",
              "      <td>-0.534722</td>\n",
              "      <td>-0.037971</td>\n",
              "      <td>-1.045963</td>\n",
              "      <td>-0.213400</td>\n",
              "      <td>-0.481543</td>\n",
              "      <td>0.000000</td>\n",
              "      <td>-0.008235</td>\n",
              "      <td>-0.003797</td>\n",
              "      <td>-0.153476</td>\n",
              "      <td>-0.151189</td>\n",
              "      <td>-0.016955</td>\n",
              "      <td>-0.119757</td>\n",
              "      <td>-0.103549</td>\n",
              "      <td>-0.023753</td>\n",
              "      <td>-0.251389</td>\n",
              "      <td>-0.054021</td>\n",
              "      <td>1.120649</td>\n",
              "      <td>-0.086873</td>\n",
              "      <td>1.690466</td>\n",
              "      <td>-0.090199</td>\n",
              "      <td>-0.08304</td>\n",
              "      <td>-0.086982</td>\n",
              "      <td>0.704454</td>\n",
              "      <td>-0.500488</td>\n",
              "      <td>0.174673</td>\n",
              "      <td>-0.912334</td>\n",
              "      <td>-0.088247</td>\n",
              "      <td>0.427638</td>\n",
              "      <td>0.116344</td>\n",
              "      <td>-0.142889</td>\n",
              "      <td>0.399602</td>\n",
              "      <td>-0.080255</td>\n",
              "      <td>0.869476</td>\n",
              "      <td>-1.089339</td>\n",
              "      <td>-0.108412</td>\n",
              "      <td>0.481886</td>\n",
              "      <td>-0.29904</td>\n",
              "      <td>0.449442</td>\n",
              "      <td>-0.299048</td>\n",
              "      <td>0.378193</td>\n",
              "      <td>-0.307360</td>\n",
              "      <td>-0.305163</td>\n",
              "      <td>0.464497</td>\n",
              "      <td>1.256376</td>\n",
              "      <td>-0.300668</td>\n",
              "      <td>1.272246</td>\n",
              "      <td>0.213400</td>\n",
              "    </tr>\n",
              "    <tr>\n",
              "      <th>3</th>\n",
              "      <td>-0.063544</td>\n",
              "      <td>-0.057965</td>\n",
              "      <td>-0.071209</td>\n",
              "      <td>0.270110</td>\n",
              "      <td>-0.527391</td>\n",
              "      <td>0.277962</td>\n",
              "      <td>-0.273497</td>\n",
              "      <td>1.100994</td>\n",
              "      <td>0.466622</td>\n",
              "      <td>0.977957</td>\n",
              "      <td>11.440568</td>\n",
              "      <td>-0.008235</td>\n",
              "      <td>-0.003797</td>\n",
              "      <td>-0.132375</td>\n",
              "      <td>-0.151189</td>\n",
              "      <td>-0.016955</td>\n",
              "      <td>-0.119757</td>\n",
              "      <td>-0.103549</td>\n",
              "      <td>-0.023753</td>\n",
              "      <td>-0.251389</td>\n",
              "      <td>-0.054021</td>\n",
              "      <td>-0.141428</td>\n",
              "      <td>-0.086873</td>\n",
              "      <td>-0.104889</td>\n",
              "      <td>-0.090199</td>\n",
              "      <td>-0.08304</td>\n",
              "      <td>-0.086982</td>\n",
              "      <td>-0.548440</td>\n",
              "      <td>-0.500488</td>\n",
              "      <td>-0.599107</td>\n",
              "      <td>1.533576</td>\n",
              "      <td>0.175213</td>\n",
              "      <td>-0.036574</td>\n",
              "      <td>0.005879</td>\n",
              "      <td>-0.269577</td>\n",
              "      <td>-0.062602</td>\n",
              "      <td>0.017825</td>\n",
              "      <td>-0.545488</td>\n",
              "      <td>1.109794</td>\n",
              "      <td>-0.550207</td>\n",
              "      <td>-0.308144</td>\n",
              "      <td>-0.29904</td>\n",
              "      <td>-0.321322</td>\n",
              "      <td>-0.299048</td>\n",
              "      <td>-0.322993</td>\n",
              "      <td>-0.294837</td>\n",
              "      <td>-0.305163</td>\n",
              "      <td>-0.301552</td>\n",
              "      <td>-0.314666</td>\n",
              "      <td>-0.300668</td>\n",
              "      <td>-0.310497</td>\n",
              "      <td>-0.466622</td>\n",
              "    </tr>\n",
              "    <tr>\n",
              "      <th>4</th>\n",
              "      <td>-0.063485</td>\n",
              "      <td>-0.063309</td>\n",
              "      <td>-0.071321</td>\n",
              "      <td>-2.588290</td>\n",
              "      <td>-0.529032</td>\n",
              "      <td>-2.592753</td>\n",
              "      <td>0.052293</td>\n",
              "      <td>-0.223959</td>\n",
              "      <td>0.104614</td>\n",
              "      <td>-1.735881</td>\n",
              "      <td>0.000000</td>\n",
              "      <td>-0.008235</td>\n",
              "      <td>-0.003797</td>\n",
              "      <td>-0.153476</td>\n",
              "      <td>-0.151189</td>\n",
              "      <td>-0.016955</td>\n",
              "      <td>-0.119757</td>\n",
              "      <td>-0.103549</td>\n",
              "      <td>-0.023753</td>\n",
              "      <td>-0.251389</td>\n",
              "      <td>-0.054021</td>\n",
              "      <td>-0.141428</td>\n",
              "      <td>-0.086873</td>\n",
              "      <td>-0.104889</td>\n",
              "      <td>-0.090199</td>\n",
              "      <td>-0.08304</td>\n",
              "      <td>-0.086982</td>\n",
              "      <td>1.124298</td>\n",
              "      <td>1.331062</td>\n",
              "      <td>-0.611537</td>\n",
              "      <td>-0.912334</td>\n",
              "      <td>-0.567781</td>\n",
              "      <td>1.414577</td>\n",
              "      <td>1.827421</td>\n",
              "      <td>-0.581959</td>\n",
              "      <td>-0.566823</td>\n",
              "      <td>-0.566804</td>\n",
              "      <td>1.343630</td>\n",
              "      <td>-0.140424</td>\n",
              "      <td>-0.564633</td>\n",
              "      <td>-0.308144</td>\n",
              "      <td>-0.29904</td>\n",
              "      <td>-0.321322</td>\n",
              "      <td>-0.299048</td>\n",
              "      <td>-0.334257</td>\n",
              "      <td>-0.307360</td>\n",
              "      <td>-0.305163</td>\n",
              "      <td>2.799561</td>\n",
              "      <td>-0.314666</td>\n",
              "      <td>-0.300668</td>\n",
              "      <td>-0.310497</td>\n",
              "      <td>-0.104614</td>\n",
              "    </tr>\n",
              "  </tbody>\n",
              "</table>\n",
              "</div>"
            ],
            "text/plain": [
              "   likes_count  replies_count  retweets_count  ...  Month_11  Month_12        PM\n",
              "0    -0.063439      -0.063309       -0.069375  ...  1.026635 -0.310497 -1.376670\n",
              "1    -0.042042       0.058221       -0.055103  ... -0.300668 -0.310497 -1.376670\n",
              "2    -0.062361      -0.060460       -0.070105  ... -0.300668  1.272246  0.213400\n",
              "3    -0.063544      -0.057965       -0.071209  ... -0.300668 -0.310497 -0.466622\n",
              "4    -0.063485      -0.063309       -0.071321  ... -0.300668 -0.310497 -0.104614\n",
              "\n",
              "[5 rows x 52 columns]"
            ]
          },
          "metadata": {
            "tags": []
          },
          "execution_count": 23
        }
      ]
    },
    {
      "cell_type": "code",
      "metadata": {
        "scrolled": true,
        "id": "T54XCtS7rlVx",
        "colab_type": "code",
        "outputId": "8ea1a591-3d4b-4dfe-b5af-f9a6dd94c4cd",
        "colab": {
          "base_uri": "https://localhost:8080/",
          "height": 35
        }
      },
      "source": [
        "scaled_train.shape"
      ],
      "execution_count": 24,
      "outputs": [
        {
          "output_type": "execute_result",
          "data": {
            "text/plain": [
              "(69358, 52)"
            ]
          },
          "metadata": {
            "tags": []
          },
          "execution_count": 24
        }
      ]
    },
    {
      "cell_type": "code",
      "metadata": {
        "id": "aYPrI89HrlV3",
        "colab_type": "code",
        "outputId": "7a53b074-a1b4-43f8-de24-a570d4b40de9",
        "colab": {
          "base_uri": "https://localhost:8080/",
          "height": 224
        }
      },
      "source": [
        "# turn scaled testing dataset to pandas dataframe\n",
        "scaled_test = pd.DataFrame(scaled_test, columns=X_test.columns)\n",
        "scaled_test.head()"
      ],
      "execution_count": 25,
      "outputs": [
        {
          "output_type": "execute_result",
          "data": {
            "text/html": [
              "<div>\n",
              "<style scoped>\n",
              "    .dataframe tbody tr th:only-of-type {\n",
              "        vertical-align: middle;\n",
              "    }\n",
              "\n",
              "    .dataframe tbody tr th {\n",
              "        vertical-align: top;\n",
              "    }\n",
              "\n",
              "    .dataframe thead th {\n",
              "        text-align: right;\n",
              "    }\n",
              "</style>\n",
              "<table border=\"1\" class=\"dataframe\">\n",
              "  <thead>\n",
              "    <tr style=\"text-align: right;\">\n",
              "      <th></th>\n",
              "      <th>likes_count</th>\n",
              "      <th>replies_count</th>\n",
              "      <th>retweets_count</th>\n",
              "      <th>tweet_ss</th>\n",
              "      <th>num_hashtags</th>\n",
              "      <th>avg_convo_ss</th>\n",
              "      <th>avg_day_ss</th>\n",
              "      <th>avg_season_ss</th>\n",
              "      <th>avg_time_of_day_ss</th>\n",
              "      <th>avg_tag_ss</th>\n",
              "      <th>avg_pop_ss</th>\n",
              "      <th>hashtag_anxiety</th>\n",
              "      <th>hashtag_depression</th>\n",
              "      <th>hashtag_friends</th>\n",
              "      <th>hashtag_fun</th>\n",
              "      <th>hashtag_happiness</th>\n",
              "      <th>hashtag_happy</th>\n",
              "      <th>hashtag_hope</th>\n",
              "      <th>hashtag_lonely</th>\n",
              "      <th>hashtag_love</th>\n",
              "      <th>hashtag_pain</th>\n",
              "      <th>hashtag_peace</th>\n",
              "      <th>hashtag_ptsd</th>\n",
              "      <th>hashtag_sad</th>\n",
              "      <th>hashtag_smile</th>\n",
              "      <th>hashtag_stress</th>\n",
              "      <th>hashtag_suicide</th>\n",
              "      <th>search_anxiety</th>\n",
              "      <th>search_depression</th>\n",
              "      <th>search_happiness</th>\n",
              "      <th>search_happy</th>\n",
              "      <th>Friday</th>\n",
              "      <th>Monday</th>\n",
              "      <th>Saturday</th>\n",
              "      <th>Sunday</th>\n",
              "      <th>Thursday</th>\n",
              "      <th>Tuesday</th>\n",
              "      <th>autumn</th>\n",
              "      <th>spring</th>\n",
              "      <th>summer</th>\n",
              "      <th>Month_1</th>\n",
              "      <th>Month_2</th>\n",
              "      <th>Month_3</th>\n",
              "      <th>Month_4</th>\n",
              "      <th>Month_6</th>\n",
              "      <th>Month_7</th>\n",
              "      <th>Month_8</th>\n",
              "      <th>Month_9</th>\n",
              "      <th>Month_10</th>\n",
              "      <th>Month_11</th>\n",
              "      <th>Month_12</th>\n",
              "      <th>PM</th>\n",
              "    </tr>\n",
              "  </thead>\n",
              "  <tbody>\n",
              "    <tr>\n",
              "      <th>0</th>\n",
              "      <td>0.083635</td>\n",
              "      <td>0.165940</td>\n",
              "      <td>0.078921</td>\n",
              "      <td>0.036103</td>\n",
              "      <td>-0.529032</td>\n",
              "      <td>0.072359</td>\n",
              "      <td>0.089969</td>\n",
              "      <td>-0.337856</td>\n",
              "      <td>-0.011027</td>\n",
              "      <td>-0.772313</td>\n",
              "      <td>0.0</td>\n",
              "      <td>-0.008235</td>\n",
              "      <td>-0.003797</td>\n",
              "      <td>-0.153476</td>\n",
              "      <td>-0.151189</td>\n",
              "      <td>-0.016955</td>\n",
              "      <td>-0.119757</td>\n",
              "      <td>-0.103549</td>\n",
              "      <td>-0.023753</td>\n",
              "      <td>-0.251389</td>\n",
              "      <td>-0.054021</td>\n",
              "      <td>-0.141428</td>\n",
              "      <td>-0.086873</td>\n",
              "      <td>-0.104889</td>\n",
              "      <td>-0.090199</td>\n",
              "      <td>-0.083040</td>\n",
              "      <td>-0.086982</td>\n",
              "      <td>-0.555078</td>\n",
              "      <td>1.497567</td>\n",
              "      <td>-0.039748</td>\n",
              "      <td>-0.239953</td>\n",
              "      <td>-0.567781</td>\n",
              "      <td>0.517360</td>\n",
              "      <td>-0.039209</td>\n",
              "      <td>0.056688</td>\n",
              "      <td>-0.566823</td>\n",
              "      <td>0.848613</td>\n",
              "      <td>0.826371</td>\n",
              "      <td>-0.255444</td>\n",
              "      <td>0.098961</td>\n",
              "      <td>-0.308144</td>\n",
              "      <td>-0.29904</td>\n",
              "      <td>0.239234</td>\n",
              "      <td>0.302628</td>\n",
              "      <td>0.183888</td>\n",
              "      <td>-0.30736</td>\n",
              "      <td>0.278223</td>\n",
              "      <td>0.818294</td>\n",
              "      <td>0.256622</td>\n",
              "      <td>0.302651</td>\n",
              "      <td>-0.310497</td>\n",
              "      <td>0.011027</td>\n",
              "    </tr>\n",
              "    <tr>\n",
              "      <th>1</th>\n",
              "      <td>-0.058441</td>\n",
              "      <td>-0.051440</td>\n",
              "      <td>-0.062199</td>\n",
              "      <td>0.646516</td>\n",
              "      <td>-0.279029</td>\n",
              "      <td>0.647513</td>\n",
              "      <td>0.569359</td>\n",
              "      <td>1.116718</td>\n",
              "      <td>1.376670</td>\n",
              "      <td>0.984739</td>\n",
              "      <td>0.0</td>\n",
              "      <td>-0.008235</td>\n",
              "      <td>-0.003797</td>\n",
              "      <td>-0.153476</td>\n",
              "      <td>-0.151189</td>\n",
              "      <td>-0.016955</td>\n",
              "      <td>-0.119757</td>\n",
              "      <td>-0.103549</td>\n",
              "      <td>-0.023753</td>\n",
              "      <td>-0.251389</td>\n",
              "      <td>-0.054021</td>\n",
              "      <td>-0.141428</td>\n",
              "      <td>-0.086873</td>\n",
              "      <td>-0.104889</td>\n",
              "      <td>-0.090199</td>\n",
              "      <td>-0.083040</td>\n",
              "      <td>-0.086982</td>\n",
              "      <td>-0.555078</td>\n",
              "      <td>-0.500488</td>\n",
              "      <td>-0.611537</td>\n",
              "      <td>1.553065</td>\n",
              "      <td>-0.088247</td>\n",
              "      <td>-0.065831</td>\n",
              "      <td>0.971882</td>\n",
              "      <td>0.296181</td>\n",
              "      <td>-0.325217</td>\n",
              "      <td>-0.323529</td>\n",
              "      <td>-0.552985</td>\n",
              "      <td>1.124797</td>\n",
              "      <td>-0.564633</td>\n",
              "      <td>-0.308144</td>\n",
              "      <td>-0.29904</td>\n",
              "      <td>-0.321322</td>\n",
              "      <td>-0.299048</td>\n",
              "      <td>-0.334257</td>\n",
              "      <td>-0.30736</td>\n",
              "      <td>-0.305163</td>\n",
              "      <td>-0.313858</td>\n",
              "      <td>-0.314666</td>\n",
              "      <td>-0.300668</td>\n",
              "      <td>-0.310497</td>\n",
              "      <td>-1.376670</td>\n",
              "    </tr>\n",
              "    <tr>\n",
              "      <th>2</th>\n",
              "      <td>0.048108</td>\n",
              "      <td>0.103795</td>\n",
              "      <td>-0.037263</td>\n",
              "      <td>0.391871</td>\n",
              "      <td>-0.529032</td>\n",
              "      <td>0.392438</td>\n",
              "      <td>2.785987</td>\n",
              "      <td>-1.520728</td>\n",
              "      <td>1.376670</td>\n",
              "      <td>0.868778</td>\n",
              "      <td>0.0</td>\n",
              "      <td>-0.008235</td>\n",
              "      <td>-0.003797</td>\n",
              "      <td>-0.153476</td>\n",
              "      <td>-0.151189</td>\n",
              "      <td>-0.016955</td>\n",
              "      <td>-0.119757</td>\n",
              "      <td>-0.103549</td>\n",
              "      <td>-0.023753</td>\n",
              "      <td>-0.251389</td>\n",
              "      <td>-0.054021</td>\n",
              "      <td>-0.141428</td>\n",
              "      <td>-0.086873</td>\n",
              "      <td>-0.104889</td>\n",
              "      <td>-0.090199</td>\n",
              "      <td>-0.083040</td>\n",
              "      <td>-0.086982</td>\n",
              "      <td>-0.555078</td>\n",
              "      <td>-0.500488</td>\n",
              "      <td>2.533303</td>\n",
              "      <td>-0.912334</td>\n",
              "      <td>-0.567781</td>\n",
              "      <td>-0.559300</td>\n",
              "      <td>-0.454016</td>\n",
              "      <td>2.930600</td>\n",
              "      <td>-0.566823</td>\n",
              "      <td>-0.566804</td>\n",
              "      <td>-0.552985</td>\n",
              "      <td>-1.405645</td>\n",
              "      <td>3.085133</td>\n",
              "      <td>-0.308144</td>\n",
              "      <td>-0.29904</td>\n",
              "      <td>-0.321322</td>\n",
              "      <td>-0.299048</td>\n",
              "      <td>-0.334257</td>\n",
              "      <td>-0.30736</td>\n",
              "      <td>6.112082</td>\n",
              "      <td>-0.313858</td>\n",
              "      <td>-0.314666</td>\n",
              "      <td>-0.300668</td>\n",
              "      <td>-0.310497</td>\n",
              "      <td>-1.376670</td>\n",
              "    </tr>\n",
              "    <tr>\n",
              "      <th>3</th>\n",
              "      <td>-0.055646</td>\n",
              "      <td>-0.055713</td>\n",
              "      <td>-0.064834</td>\n",
              "      <td>1.169928</td>\n",
              "      <td>0.678530</td>\n",
              "      <td>1.171808</td>\n",
              "      <td>2.785987</td>\n",
              "      <td>1.116718</td>\n",
              "      <td>-1.167441</td>\n",
              "      <td>0.984739</td>\n",
              "      <td>0.0</td>\n",
              "      <td>-0.008235</td>\n",
              "      <td>-0.003797</td>\n",
              "      <td>-0.153476</td>\n",
              "      <td>-0.151189</td>\n",
              "      <td>-0.016955</td>\n",
              "      <td>-0.119757</td>\n",
              "      <td>-0.103549</td>\n",
              "      <td>-0.023753</td>\n",
              "      <td>-0.251389</td>\n",
              "      <td>-0.054021</td>\n",
              "      <td>-0.141428</td>\n",
              "      <td>-0.086873</td>\n",
              "      <td>-0.104889</td>\n",
              "      <td>-0.090199</td>\n",
              "      <td>-0.083040</td>\n",
              "      <td>-0.086982</td>\n",
              "      <td>-0.555078</td>\n",
              "      <td>-0.500488</td>\n",
              "      <td>-0.611537</td>\n",
              "      <td>1.553065</td>\n",
              "      <td>-0.567781</td>\n",
              "      <td>-0.559300</td>\n",
              "      <td>-0.454016</td>\n",
              "      <td>2.930600</td>\n",
              "      <td>-0.566823</td>\n",
              "      <td>-0.566804</td>\n",
              "      <td>-0.552985</td>\n",
              "      <td>1.124797</td>\n",
              "      <td>-0.564633</td>\n",
              "      <td>-0.308144</td>\n",
              "      <td>-0.29904</td>\n",
              "      <td>-0.321322</td>\n",
              "      <td>-0.299048</td>\n",
              "      <td>-0.334257</td>\n",
              "      <td>-0.30736</td>\n",
              "      <td>-0.305163</td>\n",
              "      <td>-0.313858</td>\n",
              "      <td>-0.314666</td>\n",
              "      <td>-0.300668</td>\n",
              "      <td>-0.310497</td>\n",
              "      <td>1.167441</td>\n",
              "    </tr>\n",
              "    <tr>\n",
              "      <th>4</th>\n",
              "      <td>-0.058268</td>\n",
              "      <td>-0.057612</td>\n",
              "      <td>-0.054697</td>\n",
              "      <td>-1.145983</td>\n",
              "      <td>2.706856</td>\n",
              "      <td>-1.148012</td>\n",
              "      <td>-0.729156</td>\n",
              "      <td>-1.045963</td>\n",
              "      <td>0.104614</td>\n",
              "      <td>-1.807817</td>\n",
              "      <td>0.0</td>\n",
              "      <td>-0.008235</td>\n",
              "      <td>-0.003797</td>\n",
              "      <td>-0.153476</td>\n",
              "      <td>-0.151189</td>\n",
              "      <td>-0.016955</td>\n",
              "      <td>-0.119757</td>\n",
              "      <td>-0.103549</td>\n",
              "      <td>-0.023753</td>\n",
              "      <td>-0.251389</td>\n",
              "      <td>-0.054021</td>\n",
              "      <td>-0.141428</td>\n",
              "      <td>-0.086873</td>\n",
              "      <td>-0.104889</td>\n",
              "      <td>-0.090199</td>\n",
              "      <td>2.731197</td>\n",
              "      <td>2.514404</td>\n",
              "      <td>-0.555078</td>\n",
              "      <td>2.246838</td>\n",
              "      <td>-0.611537</td>\n",
              "      <td>-0.912334</td>\n",
              "      <td>-0.567781</td>\n",
              "      <td>0.427638</td>\n",
              "      <td>-0.454016</td>\n",
              "      <td>-0.581959</td>\n",
              "      <td>-0.083611</td>\n",
              "      <td>0.892845</td>\n",
              "      <td>0.869476</td>\n",
              "      <td>-1.089339</td>\n",
              "      <td>-0.108412</td>\n",
              "      <td>1.271916</td>\n",
              "      <td>-0.29904</td>\n",
              "      <td>-0.321322</td>\n",
              "      <td>0.528257</td>\n",
              "      <td>0.378193</td>\n",
              "      <td>-0.30736</td>\n",
              "      <td>-0.305163</td>\n",
              "      <td>0.464497</td>\n",
              "      <td>1.256376</td>\n",
              "      <td>-0.300668</td>\n",
              "      <td>0.480875</td>\n",
              "      <td>-0.104614</td>\n",
              "    </tr>\n",
              "  </tbody>\n",
              "</table>\n",
              "</div>"
            ],
            "text/plain": [
              "   likes_count  replies_count  retweets_count  ...  Month_11  Month_12        PM\n",
              "0     0.083635       0.165940        0.078921  ...  0.302651 -0.310497  0.011027\n",
              "1    -0.058441      -0.051440       -0.062199  ... -0.300668 -0.310497 -1.376670\n",
              "2     0.048108       0.103795       -0.037263  ... -0.300668 -0.310497 -1.376670\n",
              "3    -0.055646      -0.055713       -0.064834  ... -0.300668 -0.310497  1.167441\n",
              "4    -0.058268      -0.057612       -0.054697  ... -0.300668  0.480875 -0.104614\n",
              "\n",
              "[5 rows x 52 columns]"
            ]
          },
          "metadata": {
            "tags": []
          },
          "execution_count": 25
        }
      ]
    },
    {
      "cell_type": "code",
      "metadata": {
        "id": "0waWoLoNrlV5",
        "colab_type": "code",
        "outputId": "039fa05d-94a4-4f12-956b-4be785653b7f",
        "colab": {
          "base_uri": "https://localhost:8080/",
          "height": 35
        }
      },
      "source": [
        "scaled_test.shape"
      ],
      "execution_count": 26,
      "outputs": [
        {
          "output_type": "execute_result",
          "data": {
            "text/plain": [
              "(20642, 52)"
            ]
          },
          "metadata": {
            "tags": []
          },
          "execution_count": 26
        }
      ]
    },
    {
      "cell_type": "markdown",
      "metadata": {
        "id": "NO7WLD7jrlV8",
        "colab_type": "text"
      },
      "source": [
        "# Base Models"
      ]
    },
    {
      "cell_type": "markdown",
      "metadata": {
        "id": "zc64Z4WprlV9",
        "colab_type": "text"
      },
      "source": [
        "## Naive Bayes"
      ]
    },
    {
      "cell_type": "code",
      "metadata": {
        "id": "AmTAVP9nrlV-",
        "colab_type": "code",
        "colab": {}
      },
      "source": [
        "# create a Naive Bayes instance and assign to variable\n",
        "clf = GaussianNB()"
      ],
      "execution_count": 0,
      "outputs": []
    },
    {
      "cell_type": "code",
      "metadata": {
        "id": "9K-IrovkrlWC",
        "colab_type": "code",
        "colab": {}
      },
      "source": [
        "# fit Naive Bayes instance to training data and assign to variable\n",
        "nb_base = clf.fit(scaled_train, y_train)"
      ],
      "execution_count": 0,
      "outputs": []
    },
    {
      "cell_type": "code",
      "metadata": {
        "id": "Mt3588jOrlWG",
        "colab_type": "code",
        "outputId": "aa5d279e-6914-4b3b-d51c-090a8b223248",
        "colab": {
          "base_uri": "https://localhost:8080/",
          "height": 35
        }
      },
      "source": [
        "nb_base"
      ],
      "execution_count": 34,
      "outputs": [
        {
          "output_type": "execute_result",
          "data": {
            "text/plain": [
              "GaussianNB(priors=None, var_smoothing=1e-09)"
            ]
          },
          "metadata": {
            "tags": []
          },
          "execution_count": 34
        }
      ]
    },
    {
      "cell_type": "code",
      "metadata": {
        "id": "25IyPdyJrlWJ",
        "colab_type": "code",
        "outputId": "e95116a2-4307-4a35-fbc1-afb971b37a25",
        "colab": {
          "base_uri": "https://localhost:8080/",
          "height": 179
        }
      },
      "source": [
        "# create a classification report for the model on training data\n",
        "nb_preds_train = nb_base.predict(scaled_train)\n",
        "print(classification_report(y_train, nb_preds_train))"
      ],
      "execution_count": 35,
      "outputs": [
        {
          "output_type": "stream",
          "text": [
            "              precision    recall  f1-score   support\n",
            "\n",
            "           0       1.00      1.00      1.00     34679\n",
            "           1       1.00      1.00      1.00     34679\n",
            "\n",
            "    accuracy                           1.00     69358\n",
            "   macro avg       1.00      1.00      1.00     69358\n",
            "weighted avg       1.00      1.00      1.00     69358\n",
            "\n"
          ],
          "name": "stdout"
        }
      ]
    },
    {
      "cell_type": "code",
      "metadata": {
        "id": "d0Df_Z6WrlWM",
        "colab_type": "code",
        "outputId": "5a94f26a-4a82-4a80-cdf1-5d852368f967",
        "colab": {
          "base_uri": "https://localhost:8080/",
          "height": 548
        }
      },
      "source": [
        "#confusion matrix visualization of train data\n",
        "cm_nb_train = confusion_matrix(y_train, nb_preds_train)\n",
        "\n",
        "plt.figure(figsize = (9, 9))\n",
        "sns.heatmap(cm_nb_train, annot = True, fmt = \".3f\", linewidths = .5, square = True, cmap = plt.cm.Blues)"
      ],
      "execution_count": 36,
      "outputs": [
        {
          "output_type": "execute_result",
          "data": {
            "text/plain": [
              "<matplotlib.axes._subplots.AxesSubplot at 0x7f4537f00b70>"
            ]
          },
          "metadata": {
            "tags": []
          },
          "execution_count": 36
        },
        {
          "output_type": "display_data",
          "data": {
            "image/png": "[encoded data removed]",
            "text/plain": [
              "<Figure size 648x648 with 2 Axes>"
            ]
          },
          "metadata": {
            "tags": []
          }
        }
      ]
    },
    {
      "cell_type": "code",
      "metadata": {
        "id": "FirgmaO_rlWO",
        "colab_type": "code",
        "outputId": "6a5c3942-1ba8-4fbc-ce69-0c13d31ac527",
        "colab": {
          "base_uri": "https://localhost:8080/",
          "height": 179
        }
      },
      "source": [
        "# create a classification report for the model on testing data\n",
        "nb_preds_test = nb_base.predict(scaled_test)\n",
        "print(classification_report(y_test, nb_preds_test))"
      ],
      "execution_count": 37,
      "outputs": [
        {
          "output_type": "stream",
          "text": [
            "              precision    recall  f1-score   support\n",
            "\n",
            "           0       1.00      1.00      1.00     11906\n",
            "           1       1.00      1.00      1.00      8736\n",
            "\n",
            "    accuracy                           1.00     20642\n",
            "   macro avg       1.00      1.00      1.00     20642\n",
            "weighted avg       1.00      1.00      1.00     20642\n",
            "\n"
          ],
          "name": "stdout"
        }
      ]
    },
    {
      "cell_type": "code",
      "metadata": {
        "id": "7vD05PqPrlWR",
        "colab_type": "code",
        "outputId": "3b0f3a69-631a-4f60-d0fd-244056fd05d1",
        "colab": {
          "base_uri": "https://localhost:8080/",
          "height": 548
        }
      },
      "source": [
        "#confusion matrix visualization of train data\n",
        "cm_nb_test = confusion_matrix(y_test, nb_preds_test)\n",
        "\n",
        "plt.figure(figsize = (9, 9))\n",
        "sns.heatmap(cm_nb_test, annot = True, fmt = \".3f\", linewidths = .5, square = True, cmap = plt.cm.Blues)"
      ],
      "execution_count": 38,
      "outputs": [
        {
          "output_type": "execute_result",
          "data": {
            "text/plain": [
              "<matplotlib.axes._subplots.AxesSubplot at 0x7f453a0a3748>"
            ]
          },
          "metadata": {
            "tags": []
          },
          "execution_count": 38
        },
        {
          "output_type": "display_data",
          "data": {
            "image/png": "[encoded data removed]",
            "text/plain": [
              "<Figure size 648x648 with 2 Axes>"
            ]
          },
          "metadata": {
            "tags": []
          }
        }
      ]
    },
    {
      "cell_type": "code",
      "metadata": {
        "id": "6-33dEMjrlWU",
        "colab_type": "code",
        "colab": {}
      },
      "source": [
        "# # pickle base model\n",
        "# pickle_model(nb_base, nb_base)"
      ],
      "execution_count": 0,
      "outputs": []
    },
    {
      "cell_type": "markdown",
      "metadata": {
        "id": "aH8Io1LorlWX",
        "colab_type": "text"
      },
      "source": [
        "## Support Vector Machine"
      ]
    },
    {
      "cell_type": "code",
      "metadata": {
        "id": "-9GlGhCyrlWY",
        "colab_type": "code",
        "colab": {}
      },
      "source": [
        "# create a Support Vector Machine instance for linear SVM\n",
        "svm = SVC(kernel='linear')"
      ],
      "execution_count": 0,
      "outputs": []
    },
    {
      "cell_type": "code",
      "metadata": {
        "id": "1dFLOki0rlWb",
        "colab_type": "code",
        "colab": {}
      },
      "source": [
        "# fit SVM to training data\n",
        "svm_base = svm.fit(scaled_train, y_train)"
      ],
      "execution_count": 0,
      "outputs": []
    },
    {
      "cell_type": "code",
      "metadata": {
        "id": "eEqTL-FhrlWe",
        "colab_type": "code",
        "outputId": "c051c2bb-b781-4c17-c35d-a35cc26d342b",
        "colab": {
          "base_uri": "https://localhost:8080/",
          "height": 179
        }
      },
      "source": [
        "# create a classification report for the model on training data\n",
        "svm_preds_train = svm_base.predict(scaled_train)\n",
        "print(classification_report(y_train, svm_preds_train))"
      ],
      "execution_count": 43,
      "outputs": [
        {
          "output_type": "stream",
          "text": [
            "              precision    recall  f1-score   support\n",
            "\n",
            "           0       1.00      1.00      1.00     34679\n",
            "           1       1.00      1.00      1.00     34679\n",
            "\n",
            "    accuracy                           1.00     69358\n",
            "   macro avg       1.00      1.00      1.00     69358\n",
            "weighted avg       1.00      1.00      1.00     69358\n",
            "\n"
          ],
          "name": "stdout"
        }
      ]
    },
    {
      "cell_type": "code",
      "metadata": {
        "id": "BvJv27O_rlWh",
        "colab_type": "code",
        "outputId": "38f1cf0e-29cf-4e46-8770-e32aeec2fe60",
        "colab": {
          "base_uri": "https://localhost:8080/",
          "height": 548
        }
      },
      "source": [
        "#confusion matrix visualization of train data\n",
        "cm_svm_train = confusion_matrix(y_train, svm_preds_train)\n",
        "\n",
        "plt.figure(figsize = (9, 9))\n",
        "sns.heatmap(cm_svm_train, annot = True, fmt = \".3f\", linewidths = .5, square = True, cmap = plt.cm.Blues)"
      ],
      "execution_count": 44,
      "outputs": [
        {
          "output_type": "execute_result",
          "data": {
            "text/plain": [
              "<matplotlib.axes._subplots.AxesSubplot at 0x7f4536b7db70>"
            ]
          },
          "metadata": {
            "tags": []
          },
          "execution_count": 44
        },
        {
          "output_type": "display_data",
          "data": {
            "image/png": "[encoded data removed]",
            "text/plain": [
              "<Figure size 648x648 with 2 Axes>"
            ]
          },
          "metadata": {
            "tags": []
          }
        }
      ]
    },
    {
      "cell_type": "code",
      "metadata": {
        "id": "TIsc3ySfrlWk",
        "colab_type": "code",
        "outputId": "9d0c636c-bb7b-4d13-a8e9-732ee9f87e7f",
        "colab": {
          "base_uri": "https://localhost:8080/",
          "height": 179
        }
      },
      "source": [
        "# create a classification report for the model on testing data\n",
        "svm_preds_test = svm_base.predict(scaled_test)\n",
        "print(classification_report(y_test, svm_preds_test))"
      ],
      "execution_count": 45,
      "outputs": [
        {
          "output_type": "stream",
          "text": [
            "              precision    recall  f1-score   support\n",
            "\n",
            "           0       1.00      1.00      1.00     11906\n",
            "           1       1.00      1.00      1.00      8736\n",
            "\n",
            "    accuracy                           1.00     20642\n",
            "   macro avg       1.00      1.00      1.00     20642\n",
            "weighted avg       1.00      1.00      1.00     20642\n",
            "\n"
          ],
          "name": "stdout"
        }
      ]
    },
    {
      "cell_type": "code",
      "metadata": {
        "scrolled": false,
        "id": "MSppFqjHrlWo",
        "colab_type": "code",
        "outputId": "3b189f78-8839-4974-e0c9-c0c1d7a0bd37",
        "colab": {
          "base_uri": "https://localhost:8080/",
          "height": 548
        }
      },
      "source": [
        "#confusion matrix visualization of train data\n",
        "cm_svm_test = confusion_matrix(y_test, svm_preds_test)\n",
        "\n",
        "plt.figure(figsize = (9, 9))\n",
        "sns.heatmap(cm_svm_test, annot = True, fmt = \".3f\", linewidths = .5, square = True, cmap = plt.cm.Blues)"
      ],
      "execution_count": 46,
      "outputs": [
        {
          "output_type": "execute_result",
          "data": {
            "text/plain": [
              "<matplotlib.axes._subplots.AxesSubplot at 0x7f4536c01128>"
            ]
          },
          "metadata": {
            "tags": []
          },
          "execution_count": 46
        },
        {
          "output_type": "display_data",
          "data": {
            "image/png": "[encoded data removed]",
            "text/plain": [
              "<Figure size 648x648 with 2 Axes>"
            ]
          },
          "metadata": {
            "tags": []
          }
        }
      ]
    },
    {
      "cell_type": "code",
      "metadata": {
        "id": "Vcp2lmabI26y",
        "colab_type": "code",
        "colab": {
          "base_uri": "https://localhost:8080/",
          "height": 53
        },
        "outputId": "c7b40127-8e14-4af1-ed42-d579f782d8e0"
      },
      "source": [
        "# Model Accuracy, how often is the classifier correct?\n",
        "print('Training F1 Score:', f1_score(y_train, svm_preds_train))\n",
        "print('Testing F1 Score:', f1_score(y_test, svm_preds_test))"
      ],
      "execution_count": 141,
      "outputs": [
        {
          "output_type": "stream",
          "text": [
            "Training F1 Score: 0.9984115064695009\n",
            "Testing F1 Score: 0.9986244841815681\n"
          ],
          "name": "stdout"
        }
      ]
    },
    {
      "cell_type": "code",
      "metadata": {
        "id": "Pf4e4AkbrlWu",
        "colab_type": "code",
        "colab": {}
      },
      "source": [
        "# # pickle base model\n",
        "# pickle_model(svm_base, svm_base)"
      ],
      "execution_count": 0,
      "outputs": []
    },
    {
      "cell_type": "markdown",
      "metadata": {
        "id": "MXnpc_D7rlWw",
        "colab_type": "text"
      },
      "source": [
        "# Feature Selection"
      ]
    },
    {
      "cell_type": "markdown",
      "metadata": {
        "id": "HfY3U4v4slKW",
        "colab_type": "text"
      },
      "source": [
        "## Read In Updated Dataset After Dropping Highly Correlated Features"
      ]
    },
    {
      "cell_type": "code",
      "metadata": {
        "id": "EActTGMOst2g",
        "colab_type": "code",
        "colab": {}
      },
      "source": [
        "# read in updated dataset from EDA notebook after dropping highly correlated features\n",
        "data2 = pd.read_pickle('corr_user_df.pkl')"
      ],
      "execution_count": 0,
      "outputs": []
    },
    {
      "cell_type": "markdown",
      "metadata": {
        "colab_type": "text",
        "id": "-NI2hSRgtToa"
      },
      "source": [
        "# Data Preparation"
      ]
    },
    {
      "cell_type": "code",
      "metadata": {
        "colab_type": "code",
        "id": "KwwwavUjtToc",
        "colab": {}
      },
      "source": [
        "# identify features\n",
        "features = data2.drop('user_id', axis=1).copy()"
      ],
      "execution_count": 0,
      "outputs": []
    },
    {
      "cell_type": "code",
      "metadata": {
        "colab_type": "code",
        "id": "hQLNFEIatTog",
        "colab": {}
      },
      "source": [
        "# identify X and y\n",
        "X = features.drop('target', axis=1)\n",
        "y = features.target"
      ],
      "execution_count": 0,
      "outputs": []
    },
    {
      "cell_type": "code",
      "metadata": {
        "colab_type": "code",
        "id": "FpV49y68tTok",
        "colab": {}
      },
      "source": [
        "# create training and testing datasets with 80/20 split\n",
        "X_train, X_test, y_train, y_test = train_test_split(X, y, test_size=0.2, random_state=34)"
      ],
      "execution_count": 0,
      "outputs": []
    },
    {
      "cell_type": "code",
      "metadata": {
        "colab_type": "code",
        "id": "EjsQk055tTot",
        "outputId": "24e5f9ca-cc22-404c-c042-4a502dfb1f28",
        "colab": {
          "base_uri": "https://localhost:8080/",
          "height": 89
        }
      },
      "source": [
        "print('X_train', len(X_train))\n",
        "print('X_test', len(X_test))\n",
        "print('y_train', len(y_train))\n",
        "print('y_test', len(y_test))"
      ],
      "execution_count": 52,
      "outputs": [
        {
          "output_type": "stream",
          "text": [
            "X_train 82567\n",
            "X_test 20642\n",
            "y_train 82567\n",
            "y_test 20642\n"
          ],
          "name": "stdout"
        }
      ]
    },
    {
      "cell_type": "markdown",
      "metadata": {
        "colab_type": "text",
        "id": "RQc1vCHHtTow"
      },
      "source": [
        "## Class Imbalance"
      ]
    },
    {
      "cell_type": "code",
      "metadata": {
        "colab_type": "code",
        "id": "MVADKYSttTox",
        "colab": {}
      },
      "source": [
        "# Concat X_train, y_train together into a training dataset\n",
        "data_train2 = pd.concat([X_train, y_train], axis=1)"
      ],
      "execution_count": 0,
      "outputs": []
    },
    {
      "cell_type": "code",
      "metadata": {
        "colab_type": "code",
        "id": "v0cX0ue3tToz",
        "colab": {}
      },
      "source": [
        "# Separate minority and majority classes\n",
        "happy = data_train2[data_train2.target == 0]\n",
        "sad = data_train2[data_train2.target == 1]"
      ],
      "execution_count": 0,
      "outputs": []
    },
    {
      "cell_type": "code",
      "metadata": {
        "colab_type": "code",
        "id": "IsfrbE7itTo2",
        "outputId": "ee700066-79f7-4036-c79d-fd995a5006ce",
        "colab": {
          "base_uri": "https://localhost:8080/",
          "height": 53
        }
      },
      "source": [
        "print('# of Happy Users: '+ str(len(happy)))\n",
        "print('# of Sad Users: '+ str(len(sad)))"
      ],
      "execution_count": 55,
      "outputs": [
        {
          "output_type": "stream",
          "text": [
            "# of Happy Users: 47888\n",
            "# of Sad Users: 34679\n"
          ],
          "name": "stdout"
        }
      ]
    },
    {
      "cell_type": "code",
      "metadata": {
        "colab_type": "code",
        "id": "FpKkGyTGtTo7",
        "outputId": "3f92d69e-e731-4b4b-dc20-fba5c23b9645",
        "colab": {
          "base_uri": "https://localhost:8080/",
          "height": 518
        }
      },
      "source": [
        "# visualize class balance\n",
        "plt.figure(figsize=(10,8))\n",
        "sns.set_style('whitegrid')\n",
        "sns.countplot(x='target',data=data_train2, palette='GnBu_d')"
      ],
      "execution_count": 56,
      "outputs": [
        {
          "output_type": "execute_result",
          "data": {
            "text/plain": [
              "<matplotlib.axes._subplots.AxesSubplot at 0x7f4536a075f8>"
            ]
          },
          "metadata": {
            "tags": []
          },
          "execution_count": 56
        },
        {
          "output_type": "display_data",
          "data": {
            "image/png": "[encoded data removed]",
            "text/plain": [
              "<Figure size 720x576 with 1 Axes>"
            ]
          },
          "metadata": {
            "tags": []
          }
        }
      ]
    },
    {
      "cell_type": "code",
      "metadata": {
        "colab_type": "code",
        "id": "hMo4Y8gstTo-",
        "colab": {}
      },
      "source": [
        "# Undersample majority\n",
        "sad_downsampled = resample(happy,\n",
        "                                replace = False, # sample without replacement\n",
        "                                n_samples = len(sad), # match minority n\n",
        "                                random_state = 23) # reproducible results"
      ],
      "execution_count": 0,
      "outputs": []
    },
    {
      "cell_type": "code",
      "metadata": {
        "colab_type": "code",
        "id": "Up-gtb3utTpA",
        "colab": {}
      },
      "source": [
        "# combine minority and downsampled majority\n",
        "downsampled = pd.concat([sad, sad_downsampled])"
      ],
      "execution_count": 0,
      "outputs": []
    },
    {
      "cell_type": "code",
      "metadata": {
        "scrolled": true,
        "colab_type": "code",
        "id": "7K6MhtJutTpC",
        "outputId": "89a7e5c8-6582-4c62-e353-2afe6b5a7ffc",
        "colab": {
          "base_uri": "https://localhost:8080/",
          "height": 71
        }
      },
      "source": [
        "# check counts\n",
        "downsampled.target.value_counts()"
      ],
      "execution_count": 59,
      "outputs": [
        {
          "output_type": "execute_result",
          "data": {
            "text/plain": [
              "1    34679\n",
              "0    34679\n",
              "Name: target, dtype: int64"
            ]
          },
          "metadata": {
            "tags": []
          },
          "execution_count": 59
        }
      ]
    },
    {
      "cell_type": "code",
      "metadata": {
        "colab_type": "code",
        "id": "MsxCQGJptTpF",
        "colab": {}
      },
      "source": [
        "# redefine X_train, y_train\n",
        "X_train = downsampled.drop('target', axis=1)\n",
        "y_train = downsampled.target"
      ],
      "execution_count": 0,
      "outputs": []
    },
    {
      "cell_type": "code",
      "metadata": {
        "colab_type": "code",
        "id": "uGF8C50GtTpK",
        "outputId": "a21617a0-2a6b-4d3f-c7e2-1147873aa32a",
        "colab": {
          "base_uri": "https://localhost:8080/",
          "height": 89
        }
      },
      "source": [
        "print('X_train', len(X_train))\n",
        "print('X_test', len(X_test))\n",
        "print('y_train', len(y_train))\n",
        "print('y_test', len(y_test))"
      ],
      "execution_count": 61,
      "outputs": [
        {
          "output_type": "stream",
          "text": [
            "X_train 69358\n",
            "X_test 20642\n",
            "y_train 69358\n",
            "y_test 20642\n"
          ],
          "name": "stdout"
        }
      ]
    },
    {
      "cell_type": "markdown",
      "metadata": {
        "colab_type": "text",
        "id": "BQl9n_5EtTpM"
      },
      "source": [
        "## Scaling the Data"
      ]
    },
    {
      "cell_type": "code",
      "metadata": {
        "colab_type": "code",
        "id": "jGNnhCnRtTpM",
        "colab": {}
      },
      "source": [
        "# instantiate the scaler, fit to train data and transform it\n",
        "scaler = StandardScaler()\n",
        "scaled_train = scaler.fit_transform(X_train)"
      ],
      "execution_count": 0,
      "outputs": []
    },
    {
      "cell_type": "code",
      "metadata": {
        "colab_type": "code",
        "id": "aWPjGOiPtTpR",
        "colab": {}
      },
      "source": [
        "#Use the scaler that is fit to the training data to transform the testing data\n",
        "scaled_test = scaler.transform(X_test)"
      ],
      "execution_count": 0,
      "outputs": []
    },
    {
      "cell_type": "code",
      "metadata": {
        "colab_type": "code",
        "id": "15iCvwBZtTpU",
        "outputId": "1df02acd-0572-4f4f-da8d-db7668c39f35",
        "colab": {
          "base_uri": "https://localhost:8080/",
          "height": 224
        }
      },
      "source": [
        "# turn scaled training dataset to pandas dataframe\n",
        "scaled_train = pd.DataFrame(scaled_train, columns=X_train.columns)\n",
        "scaled_train.head()"
      ],
      "execution_count": 64,
      "outputs": [
        {
          "output_type": "execute_result",
          "data": {
            "text/html": [
              "<div>\n",
              "<style scoped>\n",
              "    .dataframe tbody tr th:only-of-type {\n",
              "        vertical-align: middle;\n",
              "    }\n",
              "\n",
              "    .dataframe tbody tr th {\n",
              "        vertical-align: top;\n",
              "    }\n",
              "\n",
              "    .dataframe thead th {\n",
              "        text-align: right;\n",
              "    }\n",
              "</style>\n",
              "<table border=\"1\" class=\"dataframe\">\n",
              "  <thead>\n",
              "    <tr style=\"text-align: right;\">\n",
              "      <th></th>\n",
              "      <th>likes_count</th>\n",
              "      <th>tweet_ss</th>\n",
              "      <th>num_hashtags</th>\n",
              "      <th>avg_day_ss</th>\n",
              "      <th>avg_season_ss</th>\n",
              "      <th>avg_time_of_day_ss</th>\n",
              "      <th>avg_pop_ss</th>\n",
              "      <th>hashtag_anxiety</th>\n",
              "      <th>hashtag_depression</th>\n",
              "      <th>hashtag_friends</th>\n",
              "      <th>hashtag_fun</th>\n",
              "      <th>hashtag_happiness</th>\n",
              "      <th>hashtag_happy</th>\n",
              "      <th>hashtag_hope</th>\n",
              "      <th>hashtag_lonely</th>\n",
              "      <th>hashtag_love</th>\n",
              "      <th>hashtag_pain</th>\n",
              "      <th>hashtag_peace</th>\n",
              "      <th>hashtag_ptsd</th>\n",
              "      <th>hashtag_sad</th>\n",
              "      <th>hashtag_smile</th>\n",
              "      <th>hashtag_stress</th>\n",
              "      <th>hashtag_suicide</th>\n",
              "      <th>search_anxiety</th>\n",
              "      <th>search_happiness</th>\n",
              "      <th>Friday</th>\n",
              "      <th>Monday</th>\n",
              "      <th>Saturday</th>\n",
              "      <th>Thursday</th>\n",
              "      <th>Tuesday</th>\n",
              "      <th>autumn</th>\n",
              "      <th>summer</th>\n",
              "      <th>Month_1</th>\n",
              "      <th>Month_2</th>\n",
              "      <th>Month_3</th>\n",
              "      <th>Month_4</th>\n",
              "      <th>Month_6</th>\n",
              "      <th>Month_7</th>\n",
              "      <th>Month_8</th>\n",
              "      <th>Month_9</th>\n",
              "      <th>Month_10</th>\n",
              "      <th>Month_11</th>\n",
              "      <th>Month_12</th>\n",
              "    </tr>\n",
              "  </thead>\n",
              "  <tbody>\n",
              "    <tr>\n",
              "      <th>0</th>\n",
              "      <td>-0.063439</td>\n",
              "      <td>0.579435</td>\n",
              "      <td>0.920042</td>\n",
              "      <td>-0.469746</td>\n",
              "      <td>0.580447</td>\n",
              "      <td>1.376670</td>\n",
              "      <td>0.000000</td>\n",
              "      <td>-0.008235</td>\n",
              "      <td>-0.003797</td>\n",
              "      <td>-0.153476</td>\n",
              "      <td>-0.151189</td>\n",
              "      <td>-0.016955</td>\n",
              "      <td>-0.119757</td>\n",
              "      <td>-0.103549</td>\n",
              "      <td>-0.023753</td>\n",
              "      <td>-0.251389</td>\n",
              "      <td>-0.054021</td>\n",
              "      <td>-0.141428</td>\n",
              "      <td>-0.086873</td>\n",
              "      <td>-0.104889</td>\n",
              "      <td>-0.090199</td>\n",
              "      <td>-0.08304</td>\n",
              "      <td>-0.086982</td>\n",
              "      <td>0.116672</td>\n",
              "      <td>-0.611537</td>\n",
              "      <td>0.966728</td>\n",
              "      <td>-0.559300</td>\n",
              "      <td>0.458559</td>\n",
              "      <td>0.206317</td>\n",
              "      <td>-0.566804</td>\n",
              "      <td>0.205661</td>\n",
              "      <td>-0.564633</td>\n",
              "      <td>-0.308144</td>\n",
              "      <td>-0.29904</td>\n",
              "      <td>-0.321322</td>\n",
              "      <td>-0.299048</td>\n",
              "      <td>-0.334257</td>\n",
              "      <td>-0.307360</td>\n",
              "      <td>-0.305163</td>\n",
              "      <td>-0.313858</td>\n",
              "      <td>-0.314666</td>\n",
              "      <td>1.026635</td>\n",
              "      <td>-0.310497</td>\n",
              "    </tr>\n",
              "    <tr>\n",
              "      <th>1</th>\n",
              "      <td>-0.042042</td>\n",
              "      <td>-1.556802</td>\n",
              "      <td>-0.529032</td>\n",
              "      <td>-0.747734</td>\n",
              "      <td>-1.520728</td>\n",
              "      <td>1.376670</td>\n",
              "      <td>0.000000</td>\n",
              "      <td>-0.008235</td>\n",
              "      <td>-0.003797</td>\n",
              "      <td>-0.153476</td>\n",
              "      <td>-0.151189</td>\n",
              "      <td>-0.016955</td>\n",
              "      <td>-0.119757</td>\n",
              "      <td>-0.103549</td>\n",
              "      <td>-0.023753</td>\n",
              "      <td>-0.251389</td>\n",
              "      <td>-0.054021</td>\n",
              "      <td>-0.141428</td>\n",
              "      <td>-0.086873</td>\n",
              "      <td>-0.104889</td>\n",
              "      <td>-0.090199</td>\n",
              "      <td>-0.08304</td>\n",
              "      <td>-0.086982</td>\n",
              "      <td>2.803673</td>\n",
              "      <td>-0.611537</td>\n",
              "      <td>-0.567781</td>\n",
              "      <td>-0.559300</td>\n",
              "      <td>-0.454016</td>\n",
              "      <td>-0.566823</td>\n",
              "      <td>3.325594</td>\n",
              "      <td>-0.552985</td>\n",
              "      <td>3.085133</td>\n",
              "      <td>-0.308144</td>\n",
              "      <td>-0.29904</td>\n",
              "      <td>-0.321322</td>\n",
              "      <td>-0.299048</td>\n",
              "      <td>5.365339</td>\n",
              "      <td>-0.307360</td>\n",
              "      <td>-0.305163</td>\n",
              "      <td>-0.313858</td>\n",
              "      <td>-0.314666</td>\n",
              "      <td>-0.300668</td>\n",
              "      <td>-0.310497</td>\n",
              "    </tr>\n",
              "    <tr>\n",
              "      <th>2</th>\n",
              "      <td>-0.062361</td>\n",
              "      <td>-0.533726</td>\n",
              "      <td>-0.161103</td>\n",
              "      <td>-0.037971</td>\n",
              "      <td>-1.045963</td>\n",
              "      <td>-0.213400</td>\n",
              "      <td>0.000000</td>\n",
              "      <td>-0.008235</td>\n",
              "      <td>-0.003797</td>\n",
              "      <td>-0.153476</td>\n",
              "      <td>-0.151189</td>\n",
              "      <td>-0.016955</td>\n",
              "      <td>-0.119757</td>\n",
              "      <td>-0.103549</td>\n",
              "      <td>-0.023753</td>\n",
              "      <td>-0.251389</td>\n",
              "      <td>-0.054021</td>\n",
              "      <td>1.120649</td>\n",
              "      <td>-0.086873</td>\n",
              "      <td>1.690466</td>\n",
              "      <td>-0.090199</td>\n",
              "      <td>-0.08304</td>\n",
              "      <td>-0.086982</td>\n",
              "      <td>0.704454</td>\n",
              "      <td>0.174673</td>\n",
              "      <td>-0.088247</td>\n",
              "      <td>0.427638</td>\n",
              "      <td>0.116344</td>\n",
              "      <td>0.399602</td>\n",
              "      <td>-0.080255</td>\n",
              "      <td>0.869476</td>\n",
              "      <td>-0.108412</td>\n",
              "      <td>0.481886</td>\n",
              "      <td>-0.29904</td>\n",
              "      <td>0.449442</td>\n",
              "      <td>-0.299048</td>\n",
              "      <td>0.378193</td>\n",
              "      <td>-0.307360</td>\n",
              "      <td>-0.305163</td>\n",
              "      <td>0.464497</td>\n",
              "      <td>1.256376</td>\n",
              "      <td>-0.300668</td>\n",
              "      <td>1.272246</td>\n",
              "    </tr>\n",
              "    <tr>\n",
              "      <th>3</th>\n",
              "      <td>-0.063544</td>\n",
              "      <td>0.270110</td>\n",
              "      <td>-0.527391</td>\n",
              "      <td>-0.273497</td>\n",
              "      <td>1.100994</td>\n",
              "      <td>0.466622</td>\n",
              "      <td>11.440568</td>\n",
              "      <td>-0.008235</td>\n",
              "      <td>-0.003797</td>\n",
              "      <td>-0.132375</td>\n",
              "      <td>-0.151189</td>\n",
              "      <td>-0.016955</td>\n",
              "      <td>-0.119757</td>\n",
              "      <td>-0.103549</td>\n",
              "      <td>-0.023753</td>\n",
              "      <td>-0.251389</td>\n",
              "      <td>-0.054021</td>\n",
              "      <td>-0.141428</td>\n",
              "      <td>-0.086873</td>\n",
              "      <td>-0.104889</td>\n",
              "      <td>-0.090199</td>\n",
              "      <td>-0.08304</td>\n",
              "      <td>-0.086982</td>\n",
              "      <td>-0.548440</td>\n",
              "      <td>-0.599107</td>\n",
              "      <td>0.175213</td>\n",
              "      <td>-0.036574</td>\n",
              "      <td>0.005879</td>\n",
              "      <td>-0.062602</td>\n",
              "      <td>0.017825</td>\n",
              "      <td>-0.545488</td>\n",
              "      <td>-0.550207</td>\n",
              "      <td>-0.308144</td>\n",
              "      <td>-0.29904</td>\n",
              "      <td>-0.321322</td>\n",
              "      <td>-0.299048</td>\n",
              "      <td>-0.322993</td>\n",
              "      <td>-0.294837</td>\n",
              "      <td>-0.305163</td>\n",
              "      <td>-0.301552</td>\n",
              "      <td>-0.314666</td>\n",
              "      <td>-0.300668</td>\n",
              "      <td>-0.310497</td>\n",
              "    </tr>\n",
              "    <tr>\n",
              "      <th>4</th>\n",
              "      <td>-0.063485</td>\n",
              "      <td>-2.588290</td>\n",
              "      <td>-0.529032</td>\n",
              "      <td>0.052293</td>\n",
              "      <td>-0.223959</td>\n",
              "      <td>0.104614</td>\n",
              "      <td>0.000000</td>\n",
              "      <td>-0.008235</td>\n",
              "      <td>-0.003797</td>\n",
              "      <td>-0.153476</td>\n",
              "      <td>-0.151189</td>\n",
              "      <td>-0.016955</td>\n",
              "      <td>-0.119757</td>\n",
              "      <td>-0.103549</td>\n",
              "      <td>-0.023753</td>\n",
              "      <td>-0.251389</td>\n",
              "      <td>-0.054021</td>\n",
              "      <td>-0.141428</td>\n",
              "      <td>-0.086873</td>\n",
              "      <td>-0.104889</td>\n",
              "      <td>-0.090199</td>\n",
              "      <td>-0.08304</td>\n",
              "      <td>-0.086982</td>\n",
              "      <td>1.124298</td>\n",
              "      <td>-0.611537</td>\n",
              "      <td>-0.567781</td>\n",
              "      <td>1.414577</td>\n",
              "      <td>1.827421</td>\n",
              "      <td>-0.566823</td>\n",
              "      <td>-0.566804</td>\n",
              "      <td>1.343630</td>\n",
              "      <td>-0.564633</td>\n",
              "      <td>-0.308144</td>\n",
              "      <td>-0.29904</td>\n",
              "      <td>-0.321322</td>\n",
              "      <td>-0.299048</td>\n",
              "      <td>-0.334257</td>\n",
              "      <td>-0.307360</td>\n",
              "      <td>-0.305163</td>\n",
              "      <td>2.799561</td>\n",
              "      <td>-0.314666</td>\n",
              "      <td>-0.300668</td>\n",
              "      <td>-0.310497</td>\n",
              "    </tr>\n",
              "  </tbody>\n",
              "</table>\n",
              "</div>"
            ],
            "text/plain": [
              "   likes_count  tweet_ss  num_hashtags  ...  Month_10  Month_11  Month_12\n",
              "0    -0.063439  0.579435      0.920042  ... -0.314666  1.026635 -0.310497\n",
              "1    -0.042042 -1.556802     -0.529032  ... -0.314666 -0.300668 -0.310497\n",
              "2    -0.062361 -0.533726     -0.161103  ...  1.256376 -0.300668  1.272246\n",
              "3    -0.063544  0.270110     -0.527391  ... -0.314666 -0.300668 -0.310497\n",
              "4    -0.063485 -2.588290     -0.529032  ... -0.314666 -0.300668 -0.310497\n",
              "\n",
              "[5 rows x 43 columns]"
            ]
          },
          "metadata": {
            "tags": []
          },
          "execution_count": 64
        }
      ]
    },
    {
      "cell_type": "code",
      "metadata": {
        "scrolled": true,
        "colab_type": "code",
        "id": "4W0vqeQitTpZ",
        "outputId": "e836ffe2-10c9-4b2e-e6db-a9e82b3f9095",
        "colab": {
          "base_uri": "https://localhost:8080/",
          "height": 35
        }
      },
      "source": [
        "scaled_train.shape"
      ],
      "execution_count": 65,
      "outputs": [
        {
          "output_type": "execute_result",
          "data": {
            "text/plain": [
              "(69358, 43)"
            ]
          },
          "metadata": {
            "tags": []
          },
          "execution_count": 65
        }
      ]
    },
    {
      "cell_type": "code",
      "metadata": {
        "colab_type": "code",
        "id": "4UaqAQQmtTpc",
        "outputId": "7f5c88df-01d4-4a15-9079-b210b3c197c5",
        "colab": {
          "base_uri": "https://localhost:8080/",
          "height": 224
        }
      },
      "source": [
        "# turn scaled testing dataset to pandas dataframe\n",
        "scaled_test = pd.DataFrame(scaled_test, columns=X_test.columns)\n",
        "scaled_test.head()"
      ],
      "execution_count": 66,
      "outputs": [
        {
          "output_type": "execute_result",
          "data": {
            "text/html": [
              "<div>\n",
              "<style scoped>\n",
              "    .dataframe tbody tr th:only-of-type {\n",
              "        vertical-align: middle;\n",
              "    }\n",
              "\n",
              "    .dataframe tbody tr th {\n",
              "        vertical-align: top;\n",
              "    }\n",
              "\n",
              "    .dataframe thead th {\n",
              "        text-align: right;\n",
              "    }\n",
              "</style>\n",
              "<table border=\"1\" class=\"dataframe\">\n",
              "  <thead>\n",
              "    <tr style=\"text-align: right;\">\n",
              "      <th></th>\n",
              "      <th>likes_count</th>\n",
              "      <th>tweet_ss</th>\n",
              "      <th>num_hashtags</th>\n",
              "      <th>avg_day_ss</th>\n",
              "      <th>avg_season_ss</th>\n",
              "      <th>avg_time_of_day_ss</th>\n",
              "      <th>avg_pop_ss</th>\n",
              "      <th>hashtag_anxiety</th>\n",
              "      <th>hashtag_depression</th>\n",
              "      <th>hashtag_friends</th>\n",
              "      <th>hashtag_fun</th>\n",
              "      <th>hashtag_happiness</th>\n",
              "      <th>hashtag_happy</th>\n",
              "      <th>hashtag_hope</th>\n",
              "      <th>hashtag_lonely</th>\n",
              "      <th>hashtag_love</th>\n",
              "      <th>hashtag_pain</th>\n",
              "      <th>hashtag_peace</th>\n",
              "      <th>hashtag_ptsd</th>\n",
              "      <th>hashtag_sad</th>\n",
              "      <th>hashtag_smile</th>\n",
              "      <th>hashtag_stress</th>\n",
              "      <th>hashtag_suicide</th>\n",
              "      <th>search_anxiety</th>\n",
              "      <th>search_happiness</th>\n",
              "      <th>Friday</th>\n",
              "      <th>Monday</th>\n",
              "      <th>Saturday</th>\n",
              "      <th>Thursday</th>\n",
              "      <th>Tuesday</th>\n",
              "      <th>autumn</th>\n",
              "      <th>summer</th>\n",
              "      <th>Month_1</th>\n",
              "      <th>Month_2</th>\n",
              "      <th>Month_3</th>\n",
              "      <th>Month_4</th>\n",
              "      <th>Month_6</th>\n",
              "      <th>Month_7</th>\n",
              "      <th>Month_8</th>\n",
              "      <th>Month_9</th>\n",
              "      <th>Month_10</th>\n",
              "      <th>Month_11</th>\n",
              "      <th>Month_12</th>\n",
              "    </tr>\n",
              "  </thead>\n",
              "  <tbody>\n",
              "    <tr>\n",
              "      <th>0</th>\n",
              "      <td>0.083635</td>\n",
              "      <td>0.036103</td>\n",
              "      <td>-0.529032</td>\n",
              "      <td>0.089969</td>\n",
              "      <td>-0.337856</td>\n",
              "      <td>-0.011027</td>\n",
              "      <td>0.0</td>\n",
              "      <td>-0.008235</td>\n",
              "      <td>-0.003797</td>\n",
              "      <td>-0.153476</td>\n",
              "      <td>-0.151189</td>\n",
              "      <td>-0.016955</td>\n",
              "      <td>-0.119757</td>\n",
              "      <td>-0.103549</td>\n",
              "      <td>-0.023753</td>\n",
              "      <td>-0.251389</td>\n",
              "      <td>-0.054021</td>\n",
              "      <td>-0.141428</td>\n",
              "      <td>-0.086873</td>\n",
              "      <td>-0.104889</td>\n",
              "      <td>-0.090199</td>\n",
              "      <td>-0.083040</td>\n",
              "      <td>-0.086982</td>\n",
              "      <td>-0.555078</td>\n",
              "      <td>-0.039748</td>\n",
              "      <td>-0.567781</td>\n",
              "      <td>0.517360</td>\n",
              "      <td>-0.039209</td>\n",
              "      <td>-0.566823</td>\n",
              "      <td>0.848613</td>\n",
              "      <td>0.826371</td>\n",
              "      <td>0.098961</td>\n",
              "      <td>-0.308144</td>\n",
              "      <td>-0.29904</td>\n",
              "      <td>0.239234</td>\n",
              "      <td>0.302628</td>\n",
              "      <td>0.183888</td>\n",
              "      <td>-0.30736</td>\n",
              "      <td>0.278223</td>\n",
              "      <td>0.818294</td>\n",
              "      <td>0.256622</td>\n",
              "      <td>0.302651</td>\n",
              "      <td>-0.310497</td>\n",
              "    </tr>\n",
              "    <tr>\n",
              "      <th>1</th>\n",
              "      <td>-0.058441</td>\n",
              "      <td>0.646516</td>\n",
              "      <td>-0.279029</td>\n",
              "      <td>0.569359</td>\n",
              "      <td>1.116718</td>\n",
              "      <td>1.376670</td>\n",
              "      <td>0.0</td>\n",
              "      <td>-0.008235</td>\n",
              "      <td>-0.003797</td>\n",
              "      <td>-0.153476</td>\n",
              "      <td>-0.151189</td>\n",
              "      <td>-0.016955</td>\n",
              "      <td>-0.119757</td>\n",
              "      <td>-0.103549</td>\n",
              "      <td>-0.023753</td>\n",
              "      <td>-0.251389</td>\n",
              "      <td>-0.054021</td>\n",
              "      <td>-0.141428</td>\n",
              "      <td>-0.086873</td>\n",
              "      <td>-0.104889</td>\n",
              "      <td>-0.090199</td>\n",
              "      <td>-0.083040</td>\n",
              "      <td>-0.086982</td>\n",
              "      <td>-0.555078</td>\n",
              "      <td>-0.611537</td>\n",
              "      <td>-0.088247</td>\n",
              "      <td>-0.065831</td>\n",
              "      <td>0.971882</td>\n",
              "      <td>-0.325217</td>\n",
              "      <td>-0.323529</td>\n",
              "      <td>-0.552985</td>\n",
              "      <td>-0.564633</td>\n",
              "      <td>-0.308144</td>\n",
              "      <td>-0.29904</td>\n",
              "      <td>-0.321322</td>\n",
              "      <td>-0.299048</td>\n",
              "      <td>-0.334257</td>\n",
              "      <td>-0.30736</td>\n",
              "      <td>-0.305163</td>\n",
              "      <td>-0.313858</td>\n",
              "      <td>-0.314666</td>\n",
              "      <td>-0.300668</td>\n",
              "      <td>-0.310497</td>\n",
              "    </tr>\n",
              "    <tr>\n",
              "      <th>2</th>\n",
              "      <td>0.048108</td>\n",
              "      <td>0.391871</td>\n",
              "      <td>-0.529032</td>\n",
              "      <td>2.785987</td>\n",
              "      <td>-1.520728</td>\n",
              "      <td>1.376670</td>\n",
              "      <td>0.0</td>\n",
              "      <td>-0.008235</td>\n",
              "      <td>-0.003797</td>\n",
              "      <td>-0.153476</td>\n",
              "      <td>-0.151189</td>\n",
              "      <td>-0.016955</td>\n",
              "      <td>-0.119757</td>\n",
              "      <td>-0.103549</td>\n",
              "      <td>-0.023753</td>\n",
              "      <td>-0.251389</td>\n",
              "      <td>-0.054021</td>\n",
              "      <td>-0.141428</td>\n",
              "      <td>-0.086873</td>\n",
              "      <td>-0.104889</td>\n",
              "      <td>-0.090199</td>\n",
              "      <td>-0.083040</td>\n",
              "      <td>-0.086982</td>\n",
              "      <td>-0.555078</td>\n",
              "      <td>2.533303</td>\n",
              "      <td>-0.567781</td>\n",
              "      <td>-0.559300</td>\n",
              "      <td>-0.454016</td>\n",
              "      <td>-0.566823</td>\n",
              "      <td>-0.566804</td>\n",
              "      <td>-0.552985</td>\n",
              "      <td>3.085133</td>\n",
              "      <td>-0.308144</td>\n",
              "      <td>-0.29904</td>\n",
              "      <td>-0.321322</td>\n",
              "      <td>-0.299048</td>\n",
              "      <td>-0.334257</td>\n",
              "      <td>-0.30736</td>\n",
              "      <td>6.112082</td>\n",
              "      <td>-0.313858</td>\n",
              "      <td>-0.314666</td>\n",
              "      <td>-0.300668</td>\n",
              "      <td>-0.310497</td>\n",
              "    </tr>\n",
              "    <tr>\n",
              "      <th>3</th>\n",
              "      <td>-0.055646</td>\n",
              "      <td>1.169928</td>\n",
              "      <td>0.678530</td>\n",
              "      <td>2.785987</td>\n",
              "      <td>1.116718</td>\n",
              "      <td>-1.167441</td>\n",
              "      <td>0.0</td>\n",
              "      <td>-0.008235</td>\n",
              "      <td>-0.003797</td>\n",
              "      <td>-0.153476</td>\n",
              "      <td>-0.151189</td>\n",
              "      <td>-0.016955</td>\n",
              "      <td>-0.119757</td>\n",
              "      <td>-0.103549</td>\n",
              "      <td>-0.023753</td>\n",
              "      <td>-0.251389</td>\n",
              "      <td>-0.054021</td>\n",
              "      <td>-0.141428</td>\n",
              "      <td>-0.086873</td>\n",
              "      <td>-0.104889</td>\n",
              "      <td>-0.090199</td>\n",
              "      <td>-0.083040</td>\n",
              "      <td>-0.086982</td>\n",
              "      <td>-0.555078</td>\n",
              "      <td>-0.611537</td>\n",
              "      <td>-0.567781</td>\n",
              "      <td>-0.559300</td>\n",
              "      <td>-0.454016</td>\n",
              "      <td>-0.566823</td>\n",
              "      <td>-0.566804</td>\n",
              "      <td>-0.552985</td>\n",
              "      <td>-0.564633</td>\n",
              "      <td>-0.308144</td>\n",
              "      <td>-0.29904</td>\n",
              "      <td>-0.321322</td>\n",
              "      <td>-0.299048</td>\n",
              "      <td>-0.334257</td>\n",
              "      <td>-0.30736</td>\n",
              "      <td>-0.305163</td>\n",
              "      <td>-0.313858</td>\n",
              "      <td>-0.314666</td>\n",
              "      <td>-0.300668</td>\n",
              "      <td>-0.310497</td>\n",
              "    </tr>\n",
              "    <tr>\n",
              "      <th>4</th>\n",
              "      <td>-0.058268</td>\n",
              "      <td>-1.145983</td>\n",
              "      <td>2.706856</td>\n",
              "      <td>-0.729156</td>\n",
              "      <td>-1.045963</td>\n",
              "      <td>0.104614</td>\n",
              "      <td>0.0</td>\n",
              "      <td>-0.008235</td>\n",
              "      <td>-0.003797</td>\n",
              "      <td>-0.153476</td>\n",
              "      <td>-0.151189</td>\n",
              "      <td>-0.016955</td>\n",
              "      <td>-0.119757</td>\n",
              "      <td>-0.103549</td>\n",
              "      <td>-0.023753</td>\n",
              "      <td>-0.251389</td>\n",
              "      <td>-0.054021</td>\n",
              "      <td>-0.141428</td>\n",
              "      <td>-0.086873</td>\n",
              "      <td>-0.104889</td>\n",
              "      <td>-0.090199</td>\n",
              "      <td>2.731197</td>\n",
              "      <td>2.514404</td>\n",
              "      <td>-0.555078</td>\n",
              "      <td>-0.611537</td>\n",
              "      <td>-0.567781</td>\n",
              "      <td>0.427638</td>\n",
              "      <td>-0.454016</td>\n",
              "      <td>-0.083611</td>\n",
              "      <td>0.892845</td>\n",
              "      <td>0.869476</td>\n",
              "      <td>-0.108412</td>\n",
              "      <td>1.271916</td>\n",
              "      <td>-0.29904</td>\n",
              "      <td>-0.321322</td>\n",
              "      <td>0.528257</td>\n",
              "      <td>0.378193</td>\n",
              "      <td>-0.30736</td>\n",
              "      <td>-0.305163</td>\n",
              "      <td>0.464497</td>\n",
              "      <td>1.256376</td>\n",
              "      <td>-0.300668</td>\n",
              "      <td>0.480875</td>\n",
              "    </tr>\n",
              "  </tbody>\n",
              "</table>\n",
              "</div>"
            ],
            "text/plain": [
              "   likes_count  tweet_ss  num_hashtags  ...  Month_10  Month_11  Month_12\n",
              "0     0.083635  0.036103     -0.529032  ...  0.256622  0.302651 -0.310497\n",
              "1    -0.058441  0.646516     -0.279029  ... -0.314666 -0.300668 -0.310497\n",
              "2     0.048108  0.391871     -0.529032  ... -0.314666 -0.300668 -0.310497\n",
              "3    -0.055646  1.169928      0.678530  ... -0.314666 -0.300668 -0.310497\n",
              "4    -0.058268 -1.145983      2.706856  ...  1.256376 -0.300668  0.480875\n",
              "\n",
              "[5 rows x 43 columns]"
            ]
          },
          "metadata": {
            "tags": []
          },
          "execution_count": 66
        }
      ]
    },
    {
      "cell_type": "code",
      "metadata": {
        "colab_type": "code",
        "id": "x0YNDAwWtTpe",
        "outputId": "2e568d84-93f0-4a85-e92c-3802934a04f4",
        "colab": {
          "base_uri": "https://localhost:8080/",
          "height": 35
        }
      },
      "source": [
        "scaled_test.shape"
      ],
      "execution_count": 67,
      "outputs": [
        {
          "output_type": "execute_result",
          "data": {
            "text/plain": [
              "(20642, 43)"
            ]
          },
          "metadata": {
            "tags": []
          },
          "execution_count": 67
        }
      ]
    },
    {
      "cell_type": "markdown",
      "metadata": {
        "id": "2s7k35PHARdn",
        "colab_type": "text"
      },
      "source": [
        "## Decision Tree Feature Importance"
      ]
    },
    {
      "cell_type": "code",
      "metadata": {
        "id": "kOMQGh9IAQAH",
        "colab_type": "code",
        "colab": {}
      },
      "source": [
        "# Create an instance of DecisionTreeClassifier() called dtree\n",
        "dtree = DecisionTreeClassifier()"
      ],
      "execution_count": 0,
      "outputs": []
    },
    {
      "cell_type": "code",
      "metadata": {
        "id": "7C1r7u7eAXty",
        "colab_type": "code",
        "colab": {}
      },
      "source": [
        "# fit Decision Tree Classifier object to training data\n",
        "dtree_select = dtree.fit(X_train, y_train)"
      ],
      "execution_count": 0,
      "outputs": []
    },
    {
      "cell_type": "code",
      "metadata": {
        "id": "6pT7SPfBApnw",
        "colab_type": "code",
        "colab": {}
      },
      "source": [
        "# Calculate feature importances and put in dataframe\n",
        "feat_importances = pd.DataFrame(zip(X_train.columns, dtree_select.feature_importances_), columns=['Feature','Feature Importance'])"
      ],
      "execution_count": 0,
      "outputs": []
    },
    {
      "cell_type": "code",
      "metadata": {
        "id": "d3DUIAcCBfIO",
        "colab_type": "code",
        "colab": {}
      },
      "source": [
        "# sort feature importances based on value\n",
        "feat_importances = feat_importances.sort_values('Feature Importance', ascending=False).reset_index(drop=True)"
      ],
      "execution_count": 0,
      "outputs": []
    },
    {
      "cell_type": "code",
      "metadata": {
        "id": "C2bOtuRoQIDQ",
        "colab_type": "code",
        "colab": {
          "base_uri": "https://localhost:8080/",
          "height": 204
        },
        "outputId": "f602fca8-0ef0-43b3-b9b6-c8df104e4041"
      },
      "source": [
        "feat_importances.tail()"
      ],
      "execution_count": 111,
      "outputs": [
        {
          "output_type": "execute_result",
          "data": {
            "text/html": [
              "<div>\n",
              "<style scoped>\n",
              "    .dataframe tbody tr th:only-of-type {\n",
              "        vertical-align: middle;\n",
              "    }\n",
              "\n",
              "    .dataframe tbody tr th {\n",
              "        vertical-align: top;\n",
              "    }\n",
              "\n",
              "    .dataframe thead th {\n",
              "        text-align: right;\n",
              "    }\n",
              "</style>\n",
              "<table border=\"1\" class=\"dataframe\">\n",
              "  <thead>\n",
              "    <tr style=\"text-align: right;\">\n",
              "      <th></th>\n",
              "      <th>Feature</th>\n",
              "      <th>Feature Importance</th>\n",
              "    </tr>\n",
              "  </thead>\n",
              "  <tbody>\n",
              "    <tr>\n",
              "      <th>38</th>\n",
              "      <td>hashtag_lonely</td>\n",
              "      <td>0.000358</td>\n",
              "    </tr>\n",
              "    <tr>\n",
              "      <th>39</th>\n",
              "      <td>hashtag_happiness</td>\n",
              "      <td>0.000183</td>\n",
              "    </tr>\n",
              "    <tr>\n",
              "      <th>40</th>\n",
              "      <td>avg_pop_ss</td>\n",
              "      <td>0.000000</td>\n",
              "    </tr>\n",
              "    <tr>\n",
              "      <th>41</th>\n",
              "      <td>hashtag_anxiety</td>\n",
              "      <td>0.000000</td>\n",
              "    </tr>\n",
              "    <tr>\n",
              "      <th>42</th>\n",
              "      <td>hashtag_depression</td>\n",
              "      <td>0.000000</td>\n",
              "    </tr>\n",
              "  </tbody>\n",
              "</table>\n",
              "</div>"
            ],
            "text/plain": [
              "               Feature  Feature Importance\n",
              "38      hashtag_lonely            0.000358\n",
              "39   hashtag_happiness            0.000183\n",
              "40          avg_pop_ss            0.000000\n",
              "41     hashtag_anxiety            0.000000\n",
              "42  hashtag_depression            0.000000"
            ]
          },
          "metadata": {
            "tags": []
          },
          "execution_count": 111
        }
      ]
    },
    {
      "cell_type": "code",
      "metadata": {
        "id": "LPbqPMX2BTN5",
        "colab_type": "code",
        "colab": {
          "base_uri": "https://localhost:8080/",
          "height": 646
        },
        "cellView": "both",
        "outputId": "43fd364c-f8ad-4917-f3e6-4e4519af846a"
      },
      "source": [
        "# plot feature importances\n",
        "sns.set(style=\"whitegrid\")\n",
        "plt.figure(figsize=(15,10))\n",
        "plt.title('Feature Importance by Decision Tree')\n",
        "sns.barplot(feat_importances['Feature'][:10], feat_importances['Feature Importance'][:10], color='purple')"
      ],
      "execution_count": 110,
      "outputs": [
        {
          "output_type": "execute_result",
          "data": {
            "text/plain": [
              "<matplotlib.axes._subplots.AxesSubplot at 0x7f45360cc438>"
            ]
          },
          "metadata": {
            "tags": []
          },
          "execution_count": 110
        },
        {
          "output_type": "display_data",
          "data": {
            "image/png": "[encoded data removed]",
            "text/plain": [
              "<Figure size 1080x720 with 1 Axes>"
            ]
          },
          "metadata": {
            "tags": []
          }
        }
      ]
    },
    {
      "cell_type": "code",
      "metadata": {
        "id": "t6d-GZjRQuAL",
        "colab_type": "code",
        "colab": {}
      },
      "source": [
        "# remove features considered not very important per feature importance by Decision Tree\n",
        "data2.drop(['hashtag_lonely', 'hashtag_happiness', 'avg_pop_ss', 'hashtag_anxiety', 'hashtag_depression'], axis=1, inplace=True)"
      ],
      "execution_count": 0,
      "outputs": []
    },
    {
      "cell_type": "markdown",
      "metadata": {
        "colab_type": "text",
        "id": "6gj-lEsSRR8i"
      },
      "source": [
        "# Rerun Models"
      ]
    },
    {
      "cell_type": "markdown",
      "metadata": {
        "colab_type": "text",
        "id": "dcGcFZFkRR8j"
      },
      "source": [
        "## Naive Bayes"
      ]
    },
    {
      "cell_type": "code",
      "metadata": {
        "colab_type": "code",
        "id": "ubKms8L2RR8k",
        "colab": {}
      },
      "source": [
        "# create a Naive Bayes instance and assign to variable\n",
        "clf2 = GaussianNB()"
      ],
      "execution_count": 0,
      "outputs": []
    },
    {
      "cell_type": "code",
      "metadata": {
        "colab_type": "code",
        "id": "qL8VcE25RR8l",
        "colab": {}
      },
      "source": [
        "# fit Naive Bayes instance to training data and assign to variable\n",
        "nb_rerun = clf2.fit(scaled_train, y_train)"
      ],
      "execution_count": 0,
      "outputs": []
    },
    {
      "cell_type": "code",
      "metadata": {
        "colab_type": "code",
        "outputId": "a819bbc2-95c6-4533-a6ef-d56c6bfc9868",
        "id": "1gcsBprkRR8q",
        "colab": {
          "base_uri": "https://localhost:8080/",
          "height": 35
        }
      },
      "source": [
        "nb_rerun"
      ],
      "execution_count": 115,
      "outputs": [
        {
          "output_type": "execute_result",
          "data": {
            "text/plain": [
              "GaussianNB(priors=None, var_smoothing=1e-09)"
            ]
          },
          "metadata": {
            "tags": []
          },
          "execution_count": 115
        }
      ]
    },
    {
      "cell_type": "code",
      "metadata": {
        "colab_type": "code",
        "outputId": "dcd03f21-d00a-47c8-d6d2-67ce67855baa",
        "id": "YGuTRLzhRR8v",
        "colab": {
          "base_uri": "https://localhost:8080/",
          "height": 179
        }
      },
      "source": [
        "# create a classification report for the model on training data\n",
        "nb_preds_train2 = nb_rerun.predict(scaled_train)\n",
        "print(classification_report(y_train, nb_preds_train2))"
      ],
      "execution_count": 116,
      "outputs": [
        {
          "output_type": "stream",
          "text": [
            "              precision    recall  f1-score   support\n",
            "\n",
            "           0       0.79      1.00      0.88     34679\n",
            "           1       1.00      0.73      0.84     34679\n",
            "\n",
            "    accuracy                           0.86     69358\n",
            "   macro avg       0.89      0.86      0.86     69358\n",
            "weighted avg       0.89      0.86      0.86     69358\n",
            "\n"
          ],
          "name": "stdout"
        }
      ]
    },
    {
      "cell_type": "code",
      "metadata": {
        "colab_type": "code",
        "outputId": "72c64421-71ef-454d-85a9-10fbb737661e",
        "id": "rFzUa9ZbRR8x",
        "colab": {
          "base_uri": "https://localhost:8080/",
          "height": 550
        }
      },
      "source": [
        "#confusion matrix visualization of train data\n",
        "cm_nb_train2 = confusion_matrix(y_train, nb_preds_train2)\n",
        "\n",
        "plt.figure(figsize = (9, 9))\n",
        "sns.heatmap(cm_nb_train2, annot = True, fmt = \".3f\", linewidths = .5, square = True, cmap = plt.cm.Blues)"
      ],
      "execution_count": 117,
      "outputs": [
        {
          "output_type": "execute_result",
          "data": {
            "text/plain": [
              "<matplotlib.axes._subplots.AxesSubplot at 0x7f4535bed198>"
            ]
          },
          "metadata": {
            "tags": []
          },
          "execution_count": 117
        },
        {
          "output_type": "display_data",
          "data": {
            "image/png": "[encoded data removed]",
            "text/plain": [
              "<Figure size 648x648 with 2 Axes>"
            ]
          },
          "metadata": {
            "tags": []
          }
        }
      ]
    },
    {
      "cell_type": "code",
      "metadata": {
        "colab_type": "code",
        "outputId": "c4a4736d-5dc0-4098-b94c-cc0de69f52fe",
        "id": "RH5ILHYmRR82",
        "colab": {
          "base_uri": "https://localhost:8080/",
          "height": 179
        }
      },
      "source": [
        "# create a classification report for the model on testing data\n",
        "nb_preds_test2 = nb_rerun.predict(scaled_test)\n",
        "print(classification_report(y_test, nb_preds_test2))"
      ],
      "execution_count": 119,
      "outputs": [
        {
          "output_type": "stream",
          "text": [
            "              precision    recall  f1-score   support\n",
            "\n",
            "           0       0.83      1.00      0.91     11906\n",
            "           1       1.00      0.73      0.84      8736\n",
            "\n",
            "    accuracy                           0.89     20642\n",
            "   macro avg       0.92      0.86      0.88     20642\n",
            "weighted avg       0.90      0.89      0.88     20642\n",
            "\n"
          ],
          "name": "stdout"
        }
      ]
    },
    {
      "cell_type": "code",
      "metadata": {
        "colab_type": "code",
        "outputId": "abed4054-e7ee-48df-c6fd-a050b8497caa",
        "id": "fhAdXsyQRR86",
        "colab": {
          "base_uri": "https://localhost:8080/",
          "height": 550
        }
      },
      "source": [
        "#confusion matrix visualization of train data\n",
        "cm_nb_test2 = confusion_matrix(y_test, nb_preds_test2)\n",
        "\n",
        "plt.figure(figsize = (9, 9))\n",
        "sns.heatmap(cm_nb_test2, annot = True, fmt = \".3f\", linewidths = .5, square = True, cmap = plt.cm.Blues)"
      ],
      "execution_count": 120,
      "outputs": [
        {
          "output_type": "execute_result",
          "data": {
            "text/plain": [
              "<matplotlib.axes._subplots.AxesSubplot at 0x7f4535b6e978>"
            ]
          },
          "metadata": {
            "tags": []
          },
          "execution_count": 120
        },
        {
          "output_type": "display_data",
          "data": {
            "image/png": "[encoded data removed]",
            "text/plain": [
              "<Figure size 648x648 with 2 Axes>"
            ]
          },
          "metadata": {
            "tags": []
          }
        }
      ]
    },
    {
      "cell_type": "code",
      "metadata": {
        "id": "y-3CjH_OIkGG",
        "colab_type": "code",
        "colab": {
          "base_uri": "https://localhost:8080/",
          "height": 53
        },
        "outputId": "201ccfa8-efb2-45fe-b7f0-52ae5619cd16"
      },
      "source": [
        "# Model Accuracy, how often is the classifier correct?\n",
        "print('Training F1 Score:', f1_score(y_train, nb_preds_train2))\n",
        "print('Testing F1 Score:', f1_score(y_test, nb_preds_test2))"
      ],
      "execution_count": 140,
      "outputs": [
        {
          "output_type": "stream",
          "text": [
            "Training F1 Score: 0.8432232355736367\n",
            "Testing F1 Score: 0.8431294678316124\n"
          ],
          "name": "stdout"
        }
      ]
    },
    {
      "cell_type": "code",
      "metadata": {
        "colab_type": "code",
        "id": "QmvSroEXRR88",
        "colab": {}
      },
      "source": [
        "# # pickle rerun model\n",
        "# pickle_model(nb_rerun, nb_rerun)"
      ],
      "execution_count": 0,
      "outputs": []
    },
    {
      "cell_type": "markdown",
      "metadata": {
        "colab_type": "text",
        "id": "ilk-Q_VFRR8-"
      },
      "source": [
        "## Support Vector Machine"
      ]
    },
    {
      "cell_type": "code",
      "metadata": {
        "colab_type": "code",
        "id": "f2LnK4piRR8-",
        "colab": {}
      },
      "source": [
        "# create a Support Vector Machine instance for linear SVM\n",
        "svm2 = SVC(kernel='linear')"
      ],
      "execution_count": 0,
      "outputs": []
    },
    {
      "cell_type": "code",
      "metadata": {
        "colab_type": "code",
        "id": "pH9hc2VCRR9C",
        "colab": {}
      },
      "source": [
        "# fit SVM to training data\n",
        "svm_rerun = svm2.fit(scaled_train, y_train)"
      ],
      "execution_count": 0,
      "outputs": []
    },
    {
      "cell_type": "code",
      "metadata": {
        "colab_type": "code",
        "outputId": "2b30d42d-7956-472c-d737-a73d026339cb",
        "id": "jHsfdUL1RR9D",
        "colab": {
          "base_uri": "https://localhost:8080/",
          "height": 179
        }
      },
      "source": [
        "# create a classification report for the model on training data\n",
        "svm_preds_train2 = svm_rerun.predict(scaled_train)\n",
        "print(classification_report(y_train, svm_preds_train2))"
      ],
      "execution_count": 124,
      "outputs": [
        {
          "output_type": "stream",
          "text": [
            "              precision    recall  f1-score   support\n",
            "\n",
            "           0       0.94      0.98      0.96     34679\n",
            "           1       0.98      0.93      0.96     34679\n",
            "\n",
            "    accuracy                           0.96     69358\n",
            "   macro avg       0.96      0.96      0.96     69358\n",
            "weighted avg       0.96      0.96      0.96     69358\n",
            "\n"
          ],
          "name": "stdout"
        }
      ]
    },
    {
      "cell_type": "code",
      "metadata": {
        "colab_type": "code",
        "outputId": "2d17d52a-e763-4744-b368-6e85bf93dc90",
        "id": "Jrq9SMipRR9F",
        "colab": {
          "base_uri": "https://localhost:8080/",
          "height": 550
        }
      },
      "source": [
        "#confusion matrix visualization of train data\n",
        "cm_svm_train2 = confusion_matrix(y_train, svm_preds_train)\n",
        "\n",
        "plt.figure(figsize = (9, 9))\n",
        "sns.heatmap(cm_svm_train2, annot = True, fmt = \".3f\", linewidths = .5, square = True, cmap = plt.cm.Blues)"
      ],
      "execution_count": 125,
      "outputs": [
        {
          "output_type": "execute_result",
          "data": {
            "text/plain": [
              "<matplotlib.axes._subplots.AxesSubplot at 0x7f4535b037b8>"
            ]
          },
          "metadata": {
            "tags": []
          },
          "execution_count": 125
        },
        {
          "output_type": "display_data",
          "data": {
            "image/png": "[encoded data removed]",
            "text/plain": [
              "<Figure size 648x648 with 2 Axes>"
            ]
          },
          "metadata": {
            "tags": []
          }
        }
      ]
    },
    {
      "cell_type": "code",
      "metadata": {
        "colab_type": "code",
        "outputId": "e5b2e8d4-0e94-4f3f-bb97-0658bbab3599",
        "id": "UgSA4j3zRR9K",
        "colab": {
          "base_uri": "https://localhost:8080/",
          "height": 179
        }
      },
      "source": [
        "# create a classification report for the model on testing data\n",
        "svm_preds_test2 = svm_rerun.predict(scaled_test)\n",
        "print(classification_report(y_test, svm_preds_test2))"
      ],
      "execution_count": 126,
      "outputs": [
        {
          "output_type": "stream",
          "text": [
            "              precision    recall  f1-score   support\n",
            "\n",
            "           0       0.95      0.98      0.97     11906\n",
            "           1       0.97      0.93      0.95      8736\n",
            "\n",
            "    accuracy                           0.96     20642\n",
            "   macro avg       0.96      0.96      0.96     20642\n",
            "weighted avg       0.96      0.96      0.96     20642\n",
            "\n"
          ],
          "name": "stdout"
        }
      ]
    },
    {
      "cell_type": "code",
      "metadata": {
        "scrolled": false,
        "colab_type": "code",
        "outputId": "1e9299b7-7991-478e-9c25-1d916df7b120",
        "id": "G-Zb2AylRR9M",
        "colab": {
          "base_uri": "https://localhost:8080/",
          "height": 550
        }
      },
      "source": [
        "#confusion matrix visualization of train data\n",
        "cm_svm_test2 = confusion_matrix(y_test, svm_preds_test2)\n",
        "\n",
        "plt.figure(figsize = (9, 9))\n",
        "sns.heatmap(cm_svm_test2, annot = True, fmt = \".3f\", linewidths = .5, square = True, cmap = plt.cm.Blues)"
      ],
      "execution_count": 127,
      "outputs": [
        {
          "output_type": "execute_result",
          "data": {
            "text/plain": [
              "<matplotlib.axes._subplots.AxesSubplot at 0x7f4535b6e828>"
            ]
          },
          "metadata": {
            "tags": []
          },
          "execution_count": 127
        },
        {
          "output_type": "display_data",
          "data": {
            "image/png": "[encoded data removed]",
            "text/plain": [
              "<Figure size 648x648 with 2 Axes>"
            ]
          },
          "metadata": {
            "tags": []
          }
        }
      ]
    },
    {
      "cell_type": "code",
      "metadata": {
        "id": "zUHwAL4kIW95",
        "colab_type": "code",
        "colab": {
          "base_uri": "https://localhost:8080/",
          "height": 53
        },
        "outputId": "6e915258-3a33-4e72-f3bb-e1857a0419b9"
      },
      "source": [
        "# Model Accuracy, how often is the classifier correct?\n",
        "print('Training F1 Score:', f1_score(y_train, svm_preds_train2))\n",
        "print('Testing F1 Score:', f1_score(y_test, svm_preds_test2))"
      ],
      "execution_count": 139,
      "outputs": [
        {
          "output_type": "stream",
          "text": [
            "Training F1 Score: 0.9562956177417925\n",
            "Testing F1 Score: 0.9511866393202462\n"
          ],
          "name": "stdout"
        }
      ]
    },
    {
      "cell_type": "code",
      "metadata": {
        "colab_type": "code",
        "id": "NG_Gf7b2RR9O",
        "colab": {}
      },
      "source": [
        "# # pickle rerun model\n",
        "# pickle_model(svm_rerun, svm_rerun)"
      ],
      "execution_count": 0,
      "outputs": []
    },
    {
      "cell_type": "markdown",
      "metadata": {
        "id": "PH_yxyzTrlXE",
        "colab_type": "text"
      },
      "source": [
        "# Randomized Search"
      ]
    },
    {
      "cell_type": "markdown",
      "metadata": {
        "id": "nOGRNlZdWzVx",
        "colab_type": "text"
      },
      "source": [
        "## Support Vector Machines"
      ]
    },
    {
      "cell_type": "code",
      "metadata": {
        "id": "ahh72AWgdH4N",
        "colab_type": "code",
        "colab": {}
      },
      "source": [
        "# instantiate SVM classifier\n",
        "svc = SVC(random_state=34)"
      ],
      "execution_count": 0,
      "outputs": []
    },
    {
      "cell_type": "code",
      "metadata": {
        "id": "HQ3F0PAWW17Z",
        "colab_type": "code",
        "colab": {}
      },
      "source": [
        "param_distributions = { \n",
        "    'C': [1, 10, 100, 1000],\n",
        "    'kernel': ['linear', 'rbf', 'poly', 'sigmoid'],\n",
        "    'gamma': [0.001, 0.0001],\n",
        "    'probability': [True, False] \n",
        "}"
      ],
      "execution_count": 0,
      "outputs": []
    },
    {
      "cell_type": "code",
      "metadata": {
        "id": "kcp80tjLrlXE",
        "colab_type": "code",
        "colab": {}
      },
      "source": [
        "# Use randomizedsearch with our pipeline to find best parameters\n",
        "rs_svc = RandomizedSearchCV(estimator=svc, param_distributions=param_distributions, cv= 3, n_jobs=-1, verbose=5)"
      ],
      "execution_count": 0,
      "outputs": []
    },
    {
      "cell_type": "code",
      "metadata": {
        "id": "rCxpVtMRXUzZ",
        "colab_type": "code",
        "colab": {}
      },
      "source": [
        "# fit Randomized Search model to training data\n",
        "svm_rs = rs_svc.fit(X_train, y_train)"
      ],
      "execution_count": 0,
      "outputs": []
    },
    {
      "cell_type": "code",
      "metadata": {
        "id": "D-HGf6iwXdXN",
        "colab_type": "code",
        "colab": {}
      },
      "source": [
        "# view best parameters\n",
        "svm_rs.best_params_"
      ],
      "execution_count": 0,
      "outputs": []
    },
    {
      "cell_type": "code",
      "metadata": {
        "id": "W8712WjLXiRr",
        "colab_type": "code",
        "colab": {}
      },
      "source": [
        "# predict on train set\n",
        "svm_rs_pred_train = svm_rs.best_estimator_.predict(scaled_train)\n",
        "\n",
        "# checking accuracy\n",
        "print('Train Accuracy score: ', accuracy_score(y_train, svm_rs_pred_train))\n",
        "\n",
        "# checking accuracy\n",
        "print('Train F1 score: ', f1_score(y_train, svm_rs_pred_train))"
      ],
      "execution_count": 0,
      "outputs": []
    },
    {
      "cell_type": "code",
      "metadata": {
        "id": "9sCBG4BSXjiJ",
        "colab_type": "code",
        "colab": {}
      },
      "source": [
        "# predict on test set\n",
        "svm_rs_pred_test = svm_rs.best_estimator_.predict(scaled_test)\n",
        "\n",
        "# checking accuracy\n",
        "print('Test Accuracy score: ', accuracy_score(y_test, svm_rs_pred_test))\n",
        "\n",
        "# checking accuracy\n",
        "print('Test F1 score: ', f1_score(y_test, svm_rs_pred_test))"
      ],
      "execution_count": 0,
      "outputs": []
    },
    {
      "cell_type": "code",
      "metadata": {
        "id": "MbkmSGAVgqoG",
        "colab_type": "code",
        "colab": {}
      },
      "source": [
        "# pickle rerun model\n",
        "pickle_model(svm_rs, svm_rs)"
      ],
      "execution_count": 0,
      "outputs": []
    },
    {
      "cell_type": "markdown",
      "metadata": {
        "id": "MjfU5NtWrlXH",
        "colab_type": "text"
      },
      "source": [
        "# Final Models"
      ]
    },
    {
      "cell_type": "code",
      "metadata": {
        "id": "JxyNh3mtrlXI",
        "colab_type": "code",
        "colab": {}
      },
      "source": [
        ""
      ],
      "execution_count": 0,
      "outputs": []
    }
  ]
}