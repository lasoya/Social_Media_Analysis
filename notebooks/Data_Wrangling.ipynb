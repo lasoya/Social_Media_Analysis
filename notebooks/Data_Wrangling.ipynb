{
 "cells": [
  {
   "cell_type": "markdown",
   "metadata": {},
   "source": [
    "# Import Libraries"
   ]
  },
  {
   "cell_type": "code",
   "execution_count": 200,
   "metadata": {
    "ExecuteTime": {
     "end_time": "2019-05-30T17:48:07.264253Z",
     "start_time": "2019-05-30T17:48:07.255002Z"
    }
   },
   "outputs": [],
   "source": [
    "import pickle\n",
    "import pandas as pd"
   ]
  },
  {
   "cell_type": "markdown",
   "metadata": {},
   "source": [
    "# Import Data"
   ]
  },
  {
   "cell_type": "markdown",
   "metadata": {},
   "source": [
    "## Hashtag DataFrame"
   ]
  },
  {
   "cell_type": "code",
   "execution_count": 2,
   "metadata": {
    "ExecuteTime": {
     "end_time": "2019-05-30T13:53:21.431724Z",
     "start_time": "2019-05-30T13:53:20.510046Z"
    }
   },
   "outputs": [],
   "source": [
    "# import first dataset\n",
    "hashtag_df = pd.read_pickle('./cleaned_data/combined_h.pkl')"
   ]
  },
  {
   "cell_type": "code",
   "execution_count": 3,
   "metadata": {
    "ExecuteTime": {
     "end_time": "2019-05-30T13:53:22.173803Z",
     "start_time": "2019-05-30T13:53:22.135364Z"
    }
   },
   "outputs": [
    {
     "data": {
      "text/html": [
       "<div>\n",
       "<style scoped>\n",
       "    .dataframe tbody tr th:only-of-type {\n",
       "        vertical-align: middle;\n",
       "    }\n",
       "\n",
       "    .dataframe tbody tr th {\n",
       "        vertical-align: top;\n",
       "    }\n",
       "\n",
       "    .dataframe thead th {\n",
       "        text-align: right;\n",
       "    }\n",
       "</style>\n",
       "<table border=\"1\" class=\"dataframe\">\n",
       "  <thead>\n",
       "    <tr style=\"text-align: right;\">\n",
       "      <th></th>\n",
       "      <th>conversation_id</th>\n",
       "      <th>date</th>\n",
       "      <th>hashtags</th>\n",
       "      <th>id</th>\n",
       "      <th>likes_count</th>\n",
       "      <th>name</th>\n",
       "      <th>replies_count</th>\n",
       "      <th>retweets_count</th>\n",
       "      <th>time</th>\n",
       "      <th>tweet</th>\n",
       "      <th>user_id</th>\n",
       "      <th>username</th>\n",
       "      <th>target</th>\n",
       "      <th>tag</th>\n",
       "      <th>num_hashtags</th>\n",
       "      <th>time_of_day</th>\n",
       "      <th>month</th>\n",
       "      <th>day</th>\n",
       "      <th>season</th>\n",
       "      <th>compound</th>\n",
       "    </tr>\n",
       "  </thead>\n",
       "  <tbody>\n",
       "    <tr>\n",
       "      <th>0</th>\n",
       "      <td>1133114304109174784</td>\n",
       "      <td>2019-05-27</td>\n",
       "      <td>[#mentalhealthweek, #garden, #anxiety, #mental...</td>\n",
       "      <td>1133114304109174785</td>\n",
       "      <td>3</td>\n",
       "      <td>MandyCharlton</td>\n",
       "      <td>0</td>\n",
       "      <td>2</td>\n",
       "      <td>1654</td>\n",
       "      <td>\"So, let's just talk about gardening for a mom...</td>\n",
       "      <td>14450939</td>\n",
       "      <td>mandycharlton</td>\n",
       "      <td>1</td>\n",
       "      <td>hashtag_anxiety</td>\n",
       "      <td>4</td>\n",
       "      <td>PM</td>\n",
       "      <td>5</td>\n",
       "      <td>Monday</td>\n",
       "      <td>spring</td>\n",
       "      <td>0.3182</td>\n",
       "    </tr>\n",
       "    <tr>\n",
       "      <th>1</th>\n",
       "      <td>1133070362885799936</td>\n",
       "      <td>2019-05-27</td>\n",
       "      <td>[#anxious, #good, #happiness, #anxiety]</td>\n",
       "      <td>1133070362885799936</td>\n",
       "      <td>2</td>\n",
       "      <td>MTV Lebanon News</td>\n",
       "      <td>0</td>\n",
       "      <td>0</td>\n",
       "      <td>1400</td>\n",
       "      <td>This Is Why You Get More #Anxious After Someth...</td>\n",
       "      <td>397199380</td>\n",
       "      <td>mtvlebanonnews</td>\n",
       "      <td>1</td>\n",
       "      <td>hashtag_anxiety</td>\n",
       "      <td>4</td>\n",
       "      <td>PM</td>\n",
       "      <td>5</td>\n",
       "      <td>Monday</td>\n",
       "      <td>spring</td>\n",
       "      <td>0.0000</td>\n",
       "    </tr>\n",
       "    <tr>\n",
       "      <th>2</th>\n",
       "      <td>1133040214748925952</td>\n",
       "      <td>2019-05-27</td>\n",
       "      <td>[#londonreal, #motivation, #sadhguru, #inneren...</td>\n",
       "      <td>1133040214748925952</td>\n",
       "      <td>39</td>\n",
       "      <td>Isha USA</td>\n",
       "      <td>0</td>\n",
       "      <td>23</td>\n",
       "      <td>1200</td>\n",
       "      <td>#LondonReal #Motivation #Sadhguru SADHGURU - T...</td>\n",
       "      <td>450083100</td>\n",
       "      <td>ishausa</td>\n",
       "      <td>1</td>\n",
       "      <td>hashtag_anxiety</td>\n",
       "      <td>15</td>\n",
       "      <td>PM</td>\n",
       "      <td>5</td>\n",
       "      <td>Monday</td>\n",
       "      <td>spring</td>\n",
       "      <td>0.0000</td>\n",
       "    </tr>\n",
       "    <tr>\n",
       "      <th>3</th>\n",
       "      <td>1133032399107973120</td>\n",
       "      <td>2019-05-27</td>\n",
       "      <td>[#anxious, #good, #happiness, #anxiety]</td>\n",
       "      <td>1133032399107973120</td>\n",
       "      <td>0</td>\n",
       "      <td>MTV English News</td>\n",
       "      <td>0</td>\n",
       "      <td>1</td>\n",
       "      <td>1129</td>\n",
       "      <td>This Is Why You Get More #Anxious After Someth...</td>\n",
       "      <td>1089342374</td>\n",
       "      <td>mtvenglishnews</td>\n",
       "      <td>1</td>\n",
       "      <td>hashtag_anxiety</td>\n",
       "      <td>4</td>\n",
       "      <td>AM</td>\n",
       "      <td>5</td>\n",
       "      <td>Monday</td>\n",
       "      <td>spring</td>\n",
       "      <td>0.0000</td>\n",
       "    </tr>\n",
       "    <tr>\n",
       "      <th>4</th>\n",
       "      <td>1133025820845465600</td>\n",
       "      <td>2019-05-27</td>\n",
       "      <td>[#cannabis, #cbd, #pain, #anxiety, #cancer, #c...</td>\n",
       "      <td>1133025820845465600</td>\n",
       "      <td>4</td>\n",
       "      <td>Advanced Nutrients</td>\n",
       "      <td>0</td>\n",
       "      <td>1</td>\n",
       "      <td>1103</td>\n",
       "      <td>The money will partially go towards 26 project...</td>\n",
       "      <td>15825795</td>\n",
       "      <td>advancednutes</td>\n",
       "      <td>1</td>\n",
       "      <td>hashtag_anxiety</td>\n",
       "      <td>8</td>\n",
       "      <td>AM</td>\n",
       "      <td>5</td>\n",
       "      <td>Monday</td>\n",
       "      <td>spring</td>\n",
       "      <td>0.5859</td>\n",
       "    </tr>\n",
       "  </tbody>\n",
       "</table>\n",
       "</div>"
      ],
      "text/plain": [
       "       conversation_id       date  \\\n",
       "0  1133114304109174784 2019-05-27   \n",
       "1  1133070362885799936 2019-05-27   \n",
       "2  1133040214748925952 2019-05-27   \n",
       "3  1133032399107973120 2019-05-27   \n",
       "4  1133025820845465600 2019-05-27   \n",
       "\n",
       "                                            hashtags                   id  \\\n",
       "0  [#mentalhealthweek, #garden, #anxiety, #mental...  1133114304109174785   \n",
       "1            [#anxious, #good, #happiness, #anxiety]  1133070362885799936   \n",
       "2  [#londonreal, #motivation, #sadhguru, #inneren...  1133040214748925952   \n",
       "3            [#anxious, #good, #happiness, #anxiety]  1133032399107973120   \n",
       "4  [#cannabis, #cbd, #pain, #anxiety, #cancer, #c...  1133025820845465600   \n",
       "\n",
       "   likes_count                name  replies_count  retweets_count  time  \\\n",
       "0            3       MandyCharlton              0               2  1654   \n",
       "1            2    MTV Lebanon News              0               0  1400   \n",
       "2           39            Isha USA              0              23  1200   \n",
       "3            0    MTV English News              0               1  1129   \n",
       "4            4  Advanced Nutrients              0               1  1103   \n",
       "\n",
       "                                               tweet     user_id  \\\n",
       "0  \"So, let's just talk about gardening for a mom...    14450939   \n",
       "1  This Is Why You Get More #Anxious After Someth...   397199380   \n",
       "2  #LondonReal #Motivation #Sadhguru SADHGURU - T...   450083100   \n",
       "3  This Is Why You Get More #Anxious After Someth...  1089342374   \n",
       "4  The money will partially go towards 26 project...    15825795   \n",
       "\n",
       "         username  target              tag  num_hashtags time_of_day  month  \\\n",
       "0   mandycharlton       1  hashtag_anxiety             4          PM      5   \n",
       "1  mtvlebanonnews       1  hashtag_anxiety             4          PM      5   \n",
       "2         ishausa       1  hashtag_anxiety            15          PM      5   \n",
       "3  mtvenglishnews       1  hashtag_anxiety             4          AM      5   \n",
       "4   advancednutes       1  hashtag_anxiety             8          AM      5   \n",
       "\n",
       "      day  season  compound  \n",
       "0  Monday  spring    0.3182  \n",
       "1  Monday  spring    0.0000  \n",
       "2  Monday  spring    0.0000  \n",
       "3  Monday  spring    0.0000  \n",
       "4  Monday  spring    0.5859  "
      ]
     },
     "execution_count": 3,
     "metadata": {},
     "output_type": "execute_result"
    }
   ],
   "source": [
    "hashtag_df.head()"
   ]
  },
  {
   "cell_type": "code",
   "execution_count": 4,
   "metadata": {
    "ExecuteTime": {
     "end_time": "2019-05-30T13:53:29.386464Z",
     "start_time": "2019-05-30T13:53:29.209818Z"
    }
   },
   "outputs": [
    {
     "name": "stdout",
     "output_type": "stream",
     "text": [
      "<class 'pandas.core.frame.DataFrame'>\n",
      "Int64Index: 154746 entries, 0 to 171505\n",
      "Data columns (total 20 columns):\n",
      "conversation_id    154746 non-null int64\n",
      "date               154746 non-null datetime64[ns]\n",
      "hashtags           154746 non-null object\n",
      "id                 154746 non-null int64\n",
      "likes_count        154746 non-null int64\n",
      "name               154746 non-null object\n",
      "replies_count      154746 non-null int64\n",
      "retweets_count     154746 non-null int64\n",
      "time               154746 non-null int16\n",
      "tweet              154746 non-null object\n",
      "user_id            154746 non-null int64\n",
      "username           154746 non-null object\n",
      "target             154746 non-null int64\n",
      "tag                154746 non-null object\n",
      "num_hashtags       154746 non-null int64\n",
      "time_of_day        154746 non-null object\n",
      "month              154746 non-null int64\n",
      "day                154746 non-null object\n",
      "season             154746 non-null object\n",
      "compound           154746 non-null float64\n",
      "dtypes: datetime64[ns](1), float64(1), int16(1), int64(9), object(8)\n",
      "memory usage: 23.9+ MB\n"
     ]
    }
   ],
   "source": [
    "hashtag_df.info()"
   ]
  },
  {
   "cell_type": "code",
   "execution_count": 5,
   "metadata": {
    "ExecuteTime": {
     "end_time": "2019-05-30T13:53:32.060805Z",
     "start_time": "2019-05-30T13:53:31.923338Z"
    }
   },
   "outputs": [
    {
     "data": {
      "text/plain": [
       "conversation_id    0\n",
       "date               0\n",
       "hashtags           0\n",
       "id                 0\n",
       "likes_count        0\n",
       "name               0\n",
       "replies_count      0\n",
       "retweets_count     0\n",
       "time               0\n",
       "tweet              0\n",
       "user_id            0\n",
       "username           0\n",
       "target             0\n",
       "tag                0\n",
       "num_hashtags       0\n",
       "time_of_day        0\n",
       "month              0\n",
       "day                0\n",
       "season             0\n",
       "compound           0\n",
       "dtype: int64"
      ]
     },
     "execution_count": 5,
     "metadata": {},
     "output_type": "execute_result"
    }
   ],
   "source": [
    "hashtag_df.isnull().sum()"
   ]
  },
  {
   "cell_type": "markdown",
   "metadata": {},
   "source": [
    "## Search Dataframe"
   ]
  },
  {
   "cell_type": "code",
   "execution_count": 6,
   "metadata": {
    "ExecuteTime": {
     "end_time": "2019-05-30T13:53:37.022775Z",
     "start_time": "2019-05-30T13:53:34.720452Z"
    }
   },
   "outputs": [],
   "source": [
    "# import second dataset\n",
    "search_df = pd.read_pickle('./cleaned_data/dfs_tweets.pkl')"
   ]
  },
  {
   "cell_type": "code",
   "execution_count": 7,
   "metadata": {
    "ExecuteTime": {
     "end_time": "2019-05-30T13:53:39.088600Z",
     "start_time": "2019-05-30T13:53:39.060321Z"
    }
   },
   "outputs": [
    {
     "data": {
      "text/html": [
       "<div>\n",
       "<style scoped>\n",
       "    .dataframe tbody tr th:only-of-type {\n",
       "        vertical-align: middle;\n",
       "    }\n",
       "\n",
       "    .dataframe tbody tr th {\n",
       "        vertical-align: top;\n",
       "    }\n",
       "\n",
       "    .dataframe thead th {\n",
       "        text-align: right;\n",
       "    }\n",
       "</style>\n",
       "<table border=\"1\" class=\"dataframe\">\n",
       "  <thead>\n",
       "    <tr style=\"text-align: right;\">\n",
       "      <th></th>\n",
       "      <th>conversation_id</th>\n",
       "      <th>date</th>\n",
       "      <th>hashtags</th>\n",
       "      <th>id</th>\n",
       "      <th>likes_count</th>\n",
       "      <th>name</th>\n",
       "      <th>replies_count</th>\n",
       "      <th>retweets_count</th>\n",
       "      <th>time</th>\n",
       "      <th>tweet</th>\n",
       "      <th>user_id</th>\n",
       "      <th>username</th>\n",
       "      <th>compound</th>\n",
       "      <th>target</th>\n",
       "      <th>tag</th>\n",
       "      <th>num_hashtags</th>\n",
       "      <th>time_of_day</th>\n",
       "      <th>month</th>\n",
       "      <th>day</th>\n",
       "      <th>season</th>\n",
       "    </tr>\n",
       "  </thead>\n",
       "  <tbody>\n",
       "    <tr>\n",
       "      <th>0</th>\n",
       "      <td>1133159952065998848</td>\n",
       "      <td>2019-05-27</td>\n",
       "      <td>[]</td>\n",
       "      <td>1133159952065998848</td>\n",
       "      <td>26</td>\n",
       "      <td>Cleveland Clinic MD</td>\n",
       "      <td>1</td>\n",
       "      <td>13</td>\n",
       "      <td>1956</td>\n",
       "      <td>A patient presented with fatigue, headaches, d...</td>\n",
       "      <td>17442457</td>\n",
       "      <td>cleclinicmd</td>\n",
       "      <td>-0.7964</td>\n",
       "      <td>1</td>\n",
       "      <td>search_depression</td>\n",
       "      <td>2</td>\n",
       "      <td>PM</td>\n",
       "      <td>5</td>\n",
       "      <td>Monday</td>\n",
       "      <td>spring</td>\n",
       "    </tr>\n",
       "    <tr>\n",
       "      <th>1</th>\n",
       "      <td>1133152414708764672</td>\n",
       "      <td>2019-05-27</td>\n",
       "      <td>[]</td>\n",
       "      <td>1133152414708764673</td>\n",
       "      <td>3</td>\n",
       "      <td>12 News</td>\n",
       "      <td>0</td>\n",
       "      <td>2</td>\n",
       "      <td>1926</td>\n",
       "      <td>The 23-time gold medalist swimmer and Valley r...</td>\n",
       "      <td>17187236</td>\n",
       "      <td>12news</td>\n",
       "      <td>-0.6597</td>\n",
       "      <td>1</td>\n",
       "      <td>search_depression</td>\n",
       "      <td>2</td>\n",
       "      <td>PM</td>\n",
       "      <td>5</td>\n",
       "      <td>Monday</td>\n",
       "      <td>spring</td>\n",
       "    </tr>\n",
       "    <tr>\n",
       "      <th>2</th>\n",
       "      <td>1133148641596706816</td>\n",
       "      <td>2019-05-27</td>\n",
       "      <td>[]</td>\n",
       "      <td>1133148641596706816</td>\n",
       "      <td>11</td>\n",
       "      <td>necn</td>\n",
       "      <td>1</td>\n",
       "      <td>3</td>\n",
       "      <td>1911</td>\n",
       "      <td>When Blake opened the ice cream shop in the mi...</td>\n",
       "      <td>9907172</td>\n",
       "      <td>necn</td>\n",
       "      <td>0.1027</td>\n",
       "      <td>1</td>\n",
       "      <td>search_depression</td>\n",
       "      <td>2</td>\n",
       "      <td>PM</td>\n",
       "      <td>5</td>\n",
       "      <td>Monday</td>\n",
       "      <td>spring</td>\n",
       "    </tr>\n",
       "    <tr>\n",
       "      <th>3</th>\n",
       "      <td>1133144745285341184</td>\n",
       "      <td>2019-05-27</td>\n",
       "      <td>[]</td>\n",
       "      <td>1133144745285341184</td>\n",
       "      <td>27</td>\n",
       "      <td>Trains Info</td>\n",
       "      <td>0</td>\n",
       "      <td>8</td>\n",
       "      <td>1855</td>\n",
       "      <td>Don't suffer in silence, If you or someone you...</td>\n",
       "      <td>166438381</td>\n",
       "      <td>trainsinfo</td>\n",
       "      <td>-0.5647</td>\n",
       "      <td>1</td>\n",
       "      <td>search_depression</td>\n",
       "      <td>2</td>\n",
       "      <td>PM</td>\n",
       "      <td>5</td>\n",
       "      <td>Monday</td>\n",
       "      <td>spring</td>\n",
       "    </tr>\n",
       "    <tr>\n",
       "      <th>4</th>\n",
       "      <td>1133143854910251008</td>\n",
       "      <td>2019-05-27</td>\n",
       "      <td>[]</td>\n",
       "      <td>1133143854910251015</td>\n",
       "      <td>592</td>\n",
       "      <td>Jeffrey Guterman</td>\n",
       "      <td>67</td>\n",
       "      <td>74</td>\n",
       "      <td>1852</td>\n",
       "      <td>Look it! The tRump supporter trying to stigmat...</td>\n",
       "      <td>246103</td>\n",
       "      <td>jeffreyguterman</td>\n",
       "      <td>-0.6360</td>\n",
       "      <td>1</td>\n",
       "      <td>search_depression</td>\n",
       "      <td>2</td>\n",
       "      <td>PM</td>\n",
       "      <td>5</td>\n",
       "      <td>Monday</td>\n",
       "      <td>spring</td>\n",
       "    </tr>\n",
       "  </tbody>\n",
       "</table>\n",
       "</div>"
      ],
      "text/plain": [
       "       conversation_id       date hashtags                   id  likes_count  \\\n",
       "0  1133159952065998848 2019-05-27       []  1133159952065998848           26   \n",
       "1  1133152414708764672 2019-05-27       []  1133152414708764673            3   \n",
       "2  1133148641596706816 2019-05-27       []  1133148641596706816           11   \n",
       "3  1133144745285341184 2019-05-27       []  1133144745285341184           27   \n",
       "4  1133143854910251008 2019-05-27       []  1133143854910251015          592   \n",
       "\n",
       "                  name  replies_count  retweets_count  time  \\\n",
       "0  Cleveland Clinic MD              1              13  1956   \n",
       "1              12 News              0               2  1926   \n",
       "2                 necn              1               3  1911   \n",
       "3          Trains Info              0               8  1855   \n",
       "4     Jeffrey Guterman             67              74  1852   \n",
       "\n",
       "                                               tweet    user_id  \\\n",
       "0  A patient presented with fatigue, headaches, d...   17442457   \n",
       "1  The 23-time gold medalist swimmer and Valley r...   17187236   \n",
       "2  When Blake opened the ice cream shop in the mi...    9907172   \n",
       "3  Don't suffer in silence, If you or someone you...  166438381   \n",
       "4  Look it! The tRump supporter trying to stigmat...     246103   \n",
       "\n",
       "          username  compound  target                tag  num_hashtags  \\\n",
       "0      cleclinicmd   -0.7964       1  search_depression             2   \n",
       "1           12news   -0.6597       1  search_depression             2   \n",
       "2             necn    0.1027       1  search_depression             2   \n",
       "3       trainsinfo   -0.5647       1  search_depression             2   \n",
       "4  jeffreyguterman   -0.6360       1  search_depression             2   \n",
       "\n",
       "  time_of_day  month     day  season  \n",
       "0          PM      5  Monday  spring  \n",
       "1          PM      5  Monday  spring  \n",
       "2          PM      5  Monday  spring  \n",
       "3          PM      5  Monday  spring  \n",
       "4          PM      5  Monday  spring  "
      ]
     },
     "execution_count": 7,
     "metadata": {},
     "output_type": "execute_result"
    }
   ],
   "source": [
    "search_df.head()"
   ]
  },
  {
   "cell_type": "code",
   "execution_count": 8,
   "metadata": {
    "ExecuteTime": {
     "end_time": "2019-05-30T13:53:42.043325Z",
     "start_time": "2019-05-30T13:53:41.327660Z"
    }
   },
   "outputs": [
    {
     "name": "stdout",
     "output_type": "stream",
     "text": [
      "<class 'pandas.core.frame.DataFrame'>\n",
      "Int64Index: 502786 entries, 0 to 546229\n",
      "Data columns (total 20 columns):\n",
      "conversation_id    502786 non-null int64\n",
      "date               502786 non-null datetime64[ns]\n",
      "hashtags           502786 non-null object\n",
      "id                 502786 non-null int64\n",
      "likes_count        502786 non-null int32\n",
      "name               502786 non-null object\n",
      "replies_count      502786 non-null int32\n",
      "retweets_count     502786 non-null int32\n",
      "time               502786 non-null int16\n",
      "tweet              502786 non-null object\n",
      "user_id            502786 non-null int64\n",
      "username           502786 non-null object\n",
      "compound           502786 non-null float64\n",
      "target             502786 non-null int64\n",
      "tag                502786 non-null object\n",
      "num_hashtags       502786 non-null int64\n",
      "time_of_day        502786 non-null object\n",
      "month              502786 non-null int64\n",
      "day                502786 non-null object\n",
      "season             502786 non-null object\n",
      "dtypes: datetime64[ns](1), float64(1), int16(1), int32(3), int64(6), object(8)\n",
      "memory usage: 71.9+ MB\n"
     ]
    }
   ],
   "source": [
    "search_df.info()"
   ]
  },
  {
   "cell_type": "code",
   "execution_count": 9,
   "metadata": {
    "ExecuteTime": {
     "end_time": "2019-05-30T13:53:49.012257Z",
     "start_time": "2019-05-30T13:53:48.627431Z"
    }
   },
   "outputs": [
    {
     "data": {
      "text/plain": [
       "conversation_id    0\n",
       "date               0\n",
       "hashtags           0\n",
       "id                 0\n",
       "likes_count        0\n",
       "name               0\n",
       "replies_count      0\n",
       "retweets_count     0\n",
       "time               0\n",
       "tweet              0\n",
       "user_id            0\n",
       "username           0\n",
       "compound           0\n",
       "target             0\n",
       "tag                0\n",
       "num_hashtags       0\n",
       "time_of_day        0\n",
       "month              0\n",
       "day                0\n",
       "season             0\n",
       "dtype: int64"
      ]
     },
     "execution_count": 9,
     "metadata": {},
     "output_type": "execute_result"
    }
   ],
   "source": [
    "search_df.isnull().sum()"
   ]
  },
  {
   "cell_type": "markdown",
   "metadata": {},
   "source": [
    "# Data Wrangling"
   ]
  },
  {
   "cell_type": "markdown",
   "metadata": {},
   "source": [
    "## Combine Datasets"
   ]
  },
  {
   "cell_type": "code",
   "execution_count": 20,
   "metadata": {
    "ExecuteTime": {
     "end_time": "2019-05-30T13:58:21.813280Z",
     "start_time": "2019-05-30T13:58:19.907923Z"
    }
   },
   "outputs": [],
   "source": [
    "# concat dataframes\n",
    "df = pd.concat([search_df, hashtag_df], axis=0, sort=False).reset_index(drop=True)"
   ]
  },
  {
   "cell_type": "code",
   "execution_count": 21,
   "metadata": {
    "ExecuteTime": {
     "end_time": "2019-05-30T13:58:26.073582Z",
     "start_time": "2019-05-30T13:58:26.041153Z"
    }
   },
   "outputs": [
    {
     "data": {
      "text/html": [
       "<div>\n",
       "<style scoped>\n",
       "    .dataframe tbody tr th:only-of-type {\n",
       "        vertical-align: middle;\n",
       "    }\n",
       "\n",
       "    .dataframe tbody tr th {\n",
       "        vertical-align: top;\n",
       "    }\n",
       "\n",
       "    .dataframe thead th {\n",
       "        text-align: right;\n",
       "    }\n",
       "</style>\n",
       "<table border=\"1\" class=\"dataframe\">\n",
       "  <thead>\n",
       "    <tr style=\"text-align: right;\">\n",
       "      <th></th>\n",
       "      <th>conversation_id</th>\n",
       "      <th>date</th>\n",
       "      <th>hashtags</th>\n",
       "      <th>id</th>\n",
       "      <th>likes_count</th>\n",
       "      <th>name</th>\n",
       "      <th>replies_count</th>\n",
       "      <th>retweets_count</th>\n",
       "      <th>time</th>\n",
       "      <th>tweet</th>\n",
       "      <th>user_id</th>\n",
       "      <th>username</th>\n",
       "      <th>compound</th>\n",
       "      <th>target</th>\n",
       "      <th>tag</th>\n",
       "      <th>num_hashtags</th>\n",
       "      <th>time_of_day</th>\n",
       "      <th>month</th>\n",
       "      <th>day</th>\n",
       "      <th>season</th>\n",
       "    </tr>\n",
       "  </thead>\n",
       "  <tbody>\n",
       "    <tr>\n",
       "      <th>0</th>\n",
       "      <td>1133159952065998848</td>\n",
       "      <td>2019-05-27</td>\n",
       "      <td>[]</td>\n",
       "      <td>1133159952065998848</td>\n",
       "      <td>26</td>\n",
       "      <td>Cleveland Clinic MD</td>\n",
       "      <td>1</td>\n",
       "      <td>13</td>\n",
       "      <td>1956</td>\n",
       "      <td>A patient presented with fatigue, headaches, d...</td>\n",
       "      <td>17442457</td>\n",
       "      <td>cleclinicmd</td>\n",
       "      <td>-0.7964</td>\n",
       "      <td>1</td>\n",
       "      <td>search_depression</td>\n",
       "      <td>2</td>\n",
       "      <td>PM</td>\n",
       "      <td>5</td>\n",
       "      <td>Monday</td>\n",
       "      <td>spring</td>\n",
       "    </tr>\n",
       "    <tr>\n",
       "      <th>1</th>\n",
       "      <td>1133152414708764672</td>\n",
       "      <td>2019-05-27</td>\n",
       "      <td>[]</td>\n",
       "      <td>1133152414708764673</td>\n",
       "      <td>3</td>\n",
       "      <td>12 News</td>\n",
       "      <td>0</td>\n",
       "      <td>2</td>\n",
       "      <td>1926</td>\n",
       "      <td>The 23-time gold medalist swimmer and Valley r...</td>\n",
       "      <td>17187236</td>\n",
       "      <td>12news</td>\n",
       "      <td>-0.6597</td>\n",
       "      <td>1</td>\n",
       "      <td>search_depression</td>\n",
       "      <td>2</td>\n",
       "      <td>PM</td>\n",
       "      <td>5</td>\n",
       "      <td>Monday</td>\n",
       "      <td>spring</td>\n",
       "    </tr>\n",
       "    <tr>\n",
       "      <th>2</th>\n",
       "      <td>1133148641596706816</td>\n",
       "      <td>2019-05-27</td>\n",
       "      <td>[]</td>\n",
       "      <td>1133148641596706816</td>\n",
       "      <td>11</td>\n",
       "      <td>necn</td>\n",
       "      <td>1</td>\n",
       "      <td>3</td>\n",
       "      <td>1911</td>\n",
       "      <td>When Blake opened the ice cream shop in the mi...</td>\n",
       "      <td>9907172</td>\n",
       "      <td>necn</td>\n",
       "      <td>0.1027</td>\n",
       "      <td>1</td>\n",
       "      <td>search_depression</td>\n",
       "      <td>2</td>\n",
       "      <td>PM</td>\n",
       "      <td>5</td>\n",
       "      <td>Monday</td>\n",
       "      <td>spring</td>\n",
       "    </tr>\n",
       "    <tr>\n",
       "      <th>3</th>\n",
       "      <td>1133144745285341184</td>\n",
       "      <td>2019-05-27</td>\n",
       "      <td>[]</td>\n",
       "      <td>1133144745285341184</td>\n",
       "      <td>27</td>\n",
       "      <td>Trains Info</td>\n",
       "      <td>0</td>\n",
       "      <td>8</td>\n",
       "      <td>1855</td>\n",
       "      <td>Don't suffer in silence, If you or someone you...</td>\n",
       "      <td>166438381</td>\n",
       "      <td>trainsinfo</td>\n",
       "      <td>-0.5647</td>\n",
       "      <td>1</td>\n",
       "      <td>search_depression</td>\n",
       "      <td>2</td>\n",
       "      <td>PM</td>\n",
       "      <td>5</td>\n",
       "      <td>Monday</td>\n",
       "      <td>spring</td>\n",
       "    </tr>\n",
       "    <tr>\n",
       "      <th>4</th>\n",
       "      <td>1133143854910251008</td>\n",
       "      <td>2019-05-27</td>\n",
       "      <td>[]</td>\n",
       "      <td>1133143854910251015</td>\n",
       "      <td>592</td>\n",
       "      <td>Jeffrey Guterman</td>\n",
       "      <td>67</td>\n",
       "      <td>74</td>\n",
       "      <td>1852</td>\n",
       "      <td>Look it! The tRump supporter trying to stigmat...</td>\n",
       "      <td>246103</td>\n",
       "      <td>jeffreyguterman</td>\n",
       "      <td>-0.6360</td>\n",
       "      <td>1</td>\n",
       "      <td>search_depression</td>\n",
       "      <td>2</td>\n",
       "      <td>PM</td>\n",
       "      <td>5</td>\n",
       "      <td>Monday</td>\n",
       "      <td>spring</td>\n",
       "    </tr>\n",
       "  </tbody>\n",
       "</table>\n",
       "</div>"
      ],
      "text/plain": [
       "       conversation_id       date hashtags                   id  likes_count  \\\n",
       "0  1133159952065998848 2019-05-27       []  1133159952065998848           26   \n",
       "1  1133152414708764672 2019-05-27       []  1133152414708764673            3   \n",
       "2  1133148641596706816 2019-05-27       []  1133148641596706816           11   \n",
       "3  1133144745285341184 2019-05-27       []  1133144745285341184           27   \n",
       "4  1133143854910251008 2019-05-27       []  1133143854910251015          592   \n",
       "\n",
       "                  name  replies_count  retweets_count  time  \\\n",
       "0  Cleveland Clinic MD              1              13  1956   \n",
       "1              12 News              0               2  1926   \n",
       "2                 necn              1               3  1911   \n",
       "3          Trains Info              0               8  1855   \n",
       "4     Jeffrey Guterman             67              74  1852   \n",
       "\n",
       "                                               tweet    user_id  \\\n",
       "0  A patient presented with fatigue, headaches, d...   17442457   \n",
       "1  The 23-time gold medalist swimmer and Valley r...   17187236   \n",
       "2  When Blake opened the ice cream shop in the mi...    9907172   \n",
       "3  Don't suffer in silence, If you or someone you...  166438381   \n",
       "4  Look it! The tRump supporter trying to stigmat...     246103   \n",
       "\n",
       "          username  compound  target                tag  num_hashtags  \\\n",
       "0      cleclinicmd   -0.7964       1  search_depression             2   \n",
       "1           12news   -0.6597       1  search_depression             2   \n",
       "2             necn    0.1027       1  search_depression             2   \n",
       "3       trainsinfo   -0.5647       1  search_depression             2   \n",
       "4  jeffreyguterman   -0.6360       1  search_depression             2   \n",
       "\n",
       "  time_of_day  month     day  season  \n",
       "0          PM      5  Monday  spring  \n",
       "1          PM      5  Monday  spring  \n",
       "2          PM      5  Monday  spring  \n",
       "3          PM      5  Monday  spring  \n",
       "4          PM      5  Monday  spring  "
      ]
     },
     "execution_count": 21,
     "metadata": {},
     "output_type": "execute_result"
    }
   ],
   "source": [
    "df.head()"
   ]
  },
  {
   "cell_type": "code",
   "execution_count": 22,
   "metadata": {
    "ExecuteTime": {
     "end_time": "2019-05-30T13:58:29.840399Z",
     "start_time": "2019-05-30T13:58:29.811282Z"
    }
   },
   "outputs": [
    {
     "data": {
      "text/html": [
       "<div>\n",
       "<style scoped>\n",
       "    .dataframe tbody tr th:only-of-type {\n",
       "        vertical-align: middle;\n",
       "    }\n",
       "\n",
       "    .dataframe tbody tr th {\n",
       "        vertical-align: top;\n",
       "    }\n",
       "\n",
       "    .dataframe thead th {\n",
       "        text-align: right;\n",
       "    }\n",
       "</style>\n",
       "<table border=\"1\" class=\"dataframe\">\n",
       "  <thead>\n",
       "    <tr style=\"text-align: right;\">\n",
       "      <th></th>\n",
       "      <th>conversation_id</th>\n",
       "      <th>date</th>\n",
       "      <th>hashtags</th>\n",
       "      <th>id</th>\n",
       "      <th>likes_count</th>\n",
       "      <th>name</th>\n",
       "      <th>replies_count</th>\n",
       "      <th>retweets_count</th>\n",
       "      <th>time</th>\n",
       "      <th>tweet</th>\n",
       "      <th>user_id</th>\n",
       "      <th>username</th>\n",
       "      <th>compound</th>\n",
       "      <th>target</th>\n",
       "      <th>tag</th>\n",
       "      <th>num_hashtags</th>\n",
       "      <th>time_of_day</th>\n",
       "      <th>month</th>\n",
       "      <th>day</th>\n",
       "      <th>season</th>\n",
       "    </tr>\n",
       "  </thead>\n",
       "  <tbody>\n",
       "    <tr>\n",
       "      <th>657527</th>\n",
       "      <td>991956807697534976</td>\n",
       "      <td>2018-05-03</td>\n",
       "      <td>[#fabulous, #lgbt, #hoodies, #5xl, #suicide, #...</td>\n",
       "      <td>991956807697534976</td>\n",
       "      <td>62</td>\n",
       "      <td>Kevin O'Neil</td>\n",
       "      <td>2</td>\n",
       "      <td>28</td>\n",
       "      <td>425</td>\n",
       "      <td>Check out our best ever collection of #FABULOU...</td>\n",
       "      <td>606412878</td>\n",
       "      <td>wipehomophobia</td>\n",
       "      <td>0.9386</td>\n",
       "      <td>1</td>\n",
       "      <td>hashtag_suicide</td>\n",
       "      <td>8</td>\n",
       "      <td>AM</td>\n",
       "      <td>5</td>\n",
       "      <td>Thursday</td>\n",
       "      <td>spring</td>\n",
       "    </tr>\n",
       "    <tr>\n",
       "      <th>657528</th>\n",
       "      <td>991926608666783744</td>\n",
       "      <td>2018-05-03</td>\n",
       "      <td>[#fabulous, #lgbt, #hoodies, #5xl, #suicide, #...</td>\n",
       "      <td>991926608666783744</td>\n",
       "      <td>27</td>\n",
       "      <td>Kevin O'Neil</td>\n",
       "      <td>0</td>\n",
       "      <td>5</td>\n",
       "      <td>225</td>\n",
       "      <td>Check out our best ever collection of #FABULOU...</td>\n",
       "      <td>606412878</td>\n",
       "      <td>wipehomophobia</td>\n",
       "      <td>0.9386</td>\n",
       "      <td>1</td>\n",
       "      <td>hashtag_suicide</td>\n",
       "      <td>8</td>\n",
       "      <td>AM</td>\n",
       "      <td>5</td>\n",
       "      <td>Thursday</td>\n",
       "      <td>spring</td>\n",
       "    </tr>\n",
       "    <tr>\n",
       "      <th>657529</th>\n",
       "      <td>991903882740617216</td>\n",
       "      <td>2018-05-03</td>\n",
       "      <td>[#gangrapes, #haryana, #autodriver, #men, #gur...</td>\n",
       "      <td>991903882740617216</td>\n",
       "      <td>0</td>\n",
       "      <td>LatestLY</td>\n",
       "      <td>0</td>\n",
       "      <td>0</td>\n",
       "      <td>54</td>\n",
       "      <td>#GangRapes in #Haryana! #AutoDriver &amp; 4 #Men R...</td>\n",
       "      <td>828841083257778176</td>\n",
       "      <td>latestly</td>\n",
       "      <td>-0.7777</td>\n",
       "      <td>1</td>\n",
       "      <td>hashtag_suicide</td>\n",
       "      <td>7</td>\n",
       "      <td>AM</td>\n",
       "      <td>5</td>\n",
       "      <td>Thursday</td>\n",
       "      <td>spring</td>\n",
       "    </tr>\n",
       "    <tr>\n",
       "      <th>657530</th>\n",
       "      <td>991901413612703744</td>\n",
       "      <td>2018-05-03</td>\n",
       "      <td>[#bozemanhealth, #gunlocks, #suicide]</td>\n",
       "      <td>991901413612703744</td>\n",
       "      <td>0</td>\n",
       "      <td>NBC Montana</td>\n",
       "      <td>0</td>\n",
       "      <td>0</td>\n",
       "      <td>45</td>\n",
       "      <td>#BozemanHealth received #gunlocks as a donatio...</td>\n",
       "      <td>27987151</td>\n",
       "      <td>nbcmontana</td>\n",
       "      <td>0.2263</td>\n",
       "      <td>1</td>\n",
       "      <td>hashtag_suicide</td>\n",
       "      <td>3</td>\n",
       "      <td>AM</td>\n",
       "      <td>5</td>\n",
       "      <td>Thursday</td>\n",
       "      <td>spring</td>\n",
       "    </tr>\n",
       "    <tr>\n",
       "      <th>657531</th>\n",
       "      <td>991896409740738560</td>\n",
       "      <td>2018-05-03</td>\n",
       "      <td>[#fabulous, #lgbt, #hoodies, #5xl, #suicide, #...</td>\n",
       "      <td>991896409740738560</td>\n",
       "      <td>23</td>\n",
       "      <td>Kevin O'Neil</td>\n",
       "      <td>0</td>\n",
       "      <td>5</td>\n",
       "      <td>25</td>\n",
       "      <td>Check out our best ever collection of #FABULOU...</td>\n",
       "      <td>606412878</td>\n",
       "      <td>wipehomophobia</td>\n",
       "      <td>0.9386</td>\n",
       "      <td>1</td>\n",
       "      <td>hashtag_suicide</td>\n",
       "      <td>8</td>\n",
       "      <td>AM</td>\n",
       "      <td>5</td>\n",
       "      <td>Thursday</td>\n",
       "      <td>spring</td>\n",
       "    </tr>\n",
       "  </tbody>\n",
       "</table>\n",
       "</div>"
      ],
      "text/plain": [
       "           conversation_id       date  \\\n",
       "657527  991956807697534976 2018-05-03   \n",
       "657528  991926608666783744 2018-05-03   \n",
       "657529  991903882740617216 2018-05-03   \n",
       "657530  991901413612703744 2018-05-03   \n",
       "657531  991896409740738560 2018-05-03   \n",
       "\n",
       "                                                 hashtags                  id  \\\n",
       "657527  [#fabulous, #lgbt, #hoodies, #5xl, #suicide, #...  991956807697534976   \n",
       "657528  [#fabulous, #lgbt, #hoodies, #5xl, #suicide, #...  991926608666783744   \n",
       "657529  [#gangrapes, #haryana, #autodriver, #men, #gur...  991903882740617216   \n",
       "657530              [#bozemanhealth, #gunlocks, #suicide]  991901413612703744   \n",
       "657531  [#fabulous, #lgbt, #hoodies, #5xl, #suicide, #...  991896409740738560   \n",
       "\n",
       "        likes_count          name  replies_count  retweets_count  time  \\\n",
       "657527           62  Kevin O'Neil              2              28   425   \n",
       "657528           27  Kevin O'Neil              0               5   225   \n",
       "657529            0      LatestLY              0               0    54   \n",
       "657530            0   NBC Montana              0               0    45   \n",
       "657531           23  Kevin O'Neil              0               5    25   \n",
       "\n",
       "                                                    tweet             user_id  \\\n",
       "657527  Check out our best ever collection of #FABULOU...           606412878   \n",
       "657528  Check out our best ever collection of #FABULOU...           606412878   \n",
       "657529  #GangRapes in #Haryana! #AutoDriver & 4 #Men R...  828841083257778176   \n",
       "657530  #BozemanHealth received #gunlocks as a donatio...            27987151   \n",
       "657531  Check out our best ever collection of #FABULOU...           606412878   \n",
       "\n",
       "              username  compound  target              tag  num_hashtags  \\\n",
       "657527  wipehomophobia    0.9386       1  hashtag_suicide             8   \n",
       "657528  wipehomophobia    0.9386       1  hashtag_suicide             8   \n",
       "657529        latestly   -0.7777       1  hashtag_suicide             7   \n",
       "657530      nbcmontana    0.2263       1  hashtag_suicide             3   \n",
       "657531  wipehomophobia    0.9386       1  hashtag_suicide             8   \n",
       "\n",
       "       time_of_day  month       day  season  \n",
       "657527          AM      5  Thursday  spring  \n",
       "657528          AM      5  Thursday  spring  \n",
       "657529          AM      5  Thursday  spring  \n",
       "657530          AM      5  Thursday  spring  \n",
       "657531          AM      5  Thursday  spring  "
      ]
     },
     "execution_count": 22,
     "metadata": {},
     "output_type": "execute_result"
    }
   ],
   "source": [
    "df.tail()"
   ]
  },
  {
   "cell_type": "code",
   "execution_count": 23,
   "metadata": {
    "ExecuteTime": {
     "end_time": "2019-05-30T13:58:33.591945Z",
     "start_time": "2019-05-30T13:58:32.984119Z"
    }
   },
   "outputs": [
    {
     "name": "stdout",
     "output_type": "stream",
     "text": [
      "<class 'pandas.core.frame.DataFrame'>\n",
      "RangeIndex: 657532 entries, 0 to 657531\n",
      "Data columns (total 20 columns):\n",
      "conversation_id    657532 non-null int64\n",
      "date               657532 non-null datetime64[ns]\n",
      "hashtags           657532 non-null object\n",
      "id                 657532 non-null int64\n",
      "likes_count        657532 non-null int64\n",
      "name               657532 non-null object\n",
      "replies_count      657532 non-null int64\n",
      "retweets_count     657532 non-null int64\n",
      "time               657532 non-null int16\n",
      "tweet              657532 non-null object\n",
      "user_id            657532 non-null int64\n",
      "username           657532 non-null object\n",
      "compound           657532 non-null float64\n",
      "target             657532 non-null int64\n",
      "tag                657532 non-null object\n",
      "num_hashtags       657532 non-null int64\n",
      "time_of_day        657532 non-null object\n",
      "month              657532 non-null int64\n",
      "day                657532 non-null object\n",
      "season             657532 non-null object\n",
      "dtypes: datetime64[ns](1), float64(1), int16(1), int64(9), object(8)\n",
      "memory usage: 96.6+ MB\n"
     ]
    }
   ],
   "source": [
    "df.info()"
   ]
  },
  {
   "cell_type": "code",
   "execution_count": 24,
   "metadata": {
    "ExecuteTime": {
     "end_time": "2019-05-30T13:58:41.367875Z",
     "start_time": "2019-05-30T13:58:40.818310Z"
    }
   },
   "outputs": [
    {
     "data": {
      "text/plain": [
       "conversation_id    0\n",
       "date               0\n",
       "hashtags           0\n",
       "id                 0\n",
       "likes_count        0\n",
       "name               0\n",
       "replies_count      0\n",
       "retweets_count     0\n",
       "time               0\n",
       "tweet              0\n",
       "user_id            0\n",
       "username           0\n",
       "compound           0\n",
       "target             0\n",
       "tag                0\n",
       "num_hashtags       0\n",
       "time_of_day        0\n",
       "month              0\n",
       "day                0\n",
       "season             0\n",
       "dtype: int64"
      ]
     },
     "execution_count": 24,
     "metadata": {},
     "output_type": "execute_result"
    }
   ],
   "source": [
    "df.isnull().sum()"
   ]
  },
  {
   "cell_type": "code",
   "execution_count": 25,
   "metadata": {
    "ExecuteTime": {
     "end_time": "2019-05-30T13:58:43.382091Z",
     "start_time": "2019-05-30T13:58:43.374831Z"
    }
   },
   "outputs": [
    {
     "data": {
      "text/plain": [
       "(154746, 20)"
      ]
     },
     "execution_count": 25,
     "metadata": {},
     "output_type": "execute_result"
    }
   ],
   "source": [
    "hashtag_df.shape"
   ]
  },
  {
   "cell_type": "code",
   "execution_count": 26,
   "metadata": {
    "ExecuteTime": {
     "end_time": "2019-05-30T13:58:44.779840Z",
     "start_time": "2019-05-30T13:58:44.773224Z"
    }
   },
   "outputs": [
    {
     "data": {
      "text/plain": [
       "(502786, 20)"
      ]
     },
     "execution_count": 26,
     "metadata": {},
     "output_type": "execute_result"
    }
   ],
   "source": [
    "search_df.shape"
   ]
  },
  {
   "cell_type": "code",
   "execution_count": 27,
   "metadata": {
    "ExecuteTime": {
     "end_time": "2019-05-30T13:58:45.076498Z",
     "start_time": "2019-05-30T13:58:45.070144Z"
    }
   },
   "outputs": [
    {
     "data": {
      "text/plain": [
       "(657532, 20)"
      ]
     },
     "execution_count": 27,
     "metadata": {},
     "output_type": "execute_result"
    }
   ],
   "source": [
    "# check new dataframe shape after concatenation\n",
    "df.shape"
   ]
  },
  {
   "cell_type": "code",
   "execution_count": 28,
   "metadata": {
    "ExecuteTime": {
     "end_time": "2019-05-30T13:58:53.828533Z",
     "start_time": "2019-05-30T13:58:53.569831Z"
    }
   },
   "outputs": [],
   "source": [
    "# drop duplicates\n",
    "df = df.drop_duplicates(subset=['id'])"
   ]
  },
  {
   "cell_type": "code",
   "execution_count": 29,
   "metadata": {
    "ExecuteTime": {
     "end_time": "2019-05-30T13:58:58.632580Z",
     "start_time": "2019-05-30T13:58:58.626072Z"
    }
   },
   "outputs": [
    {
     "data": {
      "text/plain": [
       "(634636, 20)"
      ]
     },
     "execution_count": 29,
     "metadata": {},
     "output_type": "execute_result"
    }
   ],
   "source": [
    "# check shape after dropping duplicates\n",
    "df.shape"
   ]
  },
  {
   "cell_type": "code",
   "execution_count": 30,
   "metadata": {
    "ExecuteTime": {
     "end_time": "2019-05-30T14:00:25.776575Z",
     "start_time": "2019-05-30T14:00:20.590426Z"
    }
   },
   "outputs": [],
   "source": [
    "# # pickle new dataframe\n",
    "# df.to_pickle('./cleaned_data/all_data.pkl')"
   ]
  },
  {
   "cell_type": "markdown",
   "metadata": {},
   "source": [
    "## Create New Features"
   ]
  },
  {
   "cell_type": "markdown",
   "metadata": {},
   "source": [
    "### Group By Conversation ID - Avg Sentiment Score"
   ]
  },
  {
   "cell_type": "code",
   "execution_count": 80,
   "metadata": {
    "ExecuteTime": {
     "end_time": "2019-05-30T14:39:42.682505Z",
     "start_time": "2019-05-30T14:39:42.401383Z"
    }
   },
   "outputs": [],
   "source": [
    "# create new dataframe of avg sentiment scores of tweets based on conversation\n",
    "convo = df.groupby('conversation_id').agg({'compound': 'mean'}).reset_index(drop=False)"
   ]
  },
  {
   "cell_type": "code",
   "execution_count": 81,
   "metadata": {
    "ExecuteTime": {
     "end_time": "2019-05-30T14:39:43.104122Z",
     "start_time": "2019-05-30T14:39:43.091994Z"
    }
   },
   "outputs": [
    {
     "data": {
      "text/html": [
       "<div>\n",
       "<style scoped>\n",
       "    .dataframe tbody tr th:only-of-type {\n",
       "        vertical-align: middle;\n",
       "    }\n",
       "\n",
       "    .dataframe tbody tr th {\n",
       "        vertical-align: top;\n",
       "    }\n",
       "\n",
       "    .dataframe thead th {\n",
       "        text-align: right;\n",
       "    }\n",
       "</style>\n",
       "<table border=\"1\" class=\"dataframe\">\n",
       "  <thead>\n",
       "    <tr style=\"text-align: right;\">\n",
       "      <th></th>\n",
       "      <th>conversation_id</th>\n",
       "      <th>compound</th>\n",
       "    </tr>\n",
       "  </thead>\n",
       "  <tbody>\n",
       "    <tr>\n",
       "      <th>0</th>\n",
       "      <td>924224891</td>\n",
       "      <td>0.77120</td>\n",
       "    </tr>\n",
       "    <tr>\n",
       "      <th>1</th>\n",
       "      <td>1354897591</td>\n",
       "      <td>0.81050</td>\n",
       "    </tr>\n",
       "    <tr>\n",
       "      <th>2</th>\n",
       "      <td>1573959441</td>\n",
       "      <td>0.81260</td>\n",
       "    </tr>\n",
       "    <tr>\n",
       "      <th>3</th>\n",
       "      <td>1886437555</td>\n",
       "      <td>0.80365</td>\n",
       "    </tr>\n",
       "    <tr>\n",
       "      <th>4</th>\n",
       "      <td>2670250046</td>\n",
       "      <td>0.78450</td>\n",
       "    </tr>\n",
       "  </tbody>\n",
       "</table>\n",
       "</div>"
      ],
      "text/plain": [
       "   conversation_id  compound\n",
       "0        924224891   0.77120\n",
       "1       1354897591   0.81050\n",
       "2       1573959441   0.81260\n",
       "3       1886437555   0.80365\n",
       "4       2670250046   0.78450"
      ]
     },
     "execution_count": 81,
     "metadata": {},
     "output_type": "execute_result"
    }
   ],
   "source": [
    "convo.head()"
   ]
  },
  {
   "cell_type": "code",
   "execution_count": 82,
   "metadata": {
    "ExecuteTime": {
     "end_time": "2019-05-30T14:39:43.550971Z",
     "start_time": "2019-05-30T14:39:43.473045Z"
    }
   },
   "outputs": [
    {
     "name": "stdout",
     "output_type": "stream",
     "text": [
      "<class 'pandas.core.frame.DataFrame'>\n",
      "RangeIndex: 614975 entries, 0 to 614974\n",
      "Data columns (total 2 columns):\n",
      "conversation_id    614975 non-null int64\n",
      "compound           614975 non-null float64\n",
      "dtypes: float64(1), int64(1)\n",
      "memory usage: 9.4 MB\n"
     ]
    }
   ],
   "source": [
    "convo.info()"
   ]
  },
  {
   "cell_type": "code",
   "execution_count": 83,
   "metadata": {
    "ExecuteTime": {
     "end_time": "2019-05-30T14:39:44.547062Z",
     "start_time": "2019-05-30T14:39:44.497870Z"
    },
    "scrolled": true
   },
   "outputs": [
    {
     "data": {
      "text/plain": [
       " 0.000000    43299\n",
       " 0.571900    19352\n",
       " 0.611400    15547\n",
       " 0.557400    13909\n",
       "-0.571900    12999\n",
       "-0.177900    12065\n",
       " 0.361200     3388\n",
       " 0.636900     3362\n",
       " 0.646700     3243\n",
       " 0.750600     3179\n",
       " 0.718400     3075\n",
       " 0.765000     3028\n",
       " 0.440400     2682\n",
       "-0.250000     2627\n",
       " 0.401900     2576\n",
       " 0.250000     2482\n",
       " 0.743000     2469\n",
       " 0.318200     2384\n",
       " 0.296000     2347\n",
       " 0.493900     2257\n",
       " 0.831600     2222\n",
       " 0.202300     2210\n",
       " 0.812600     2171\n",
       " 0.757900     2169\n",
       " 0.421500     2112\n",
       "-0.296000     2079\n",
       " 0.938600     2071\n",
       "-0.659700     2068\n",
       " 0.128000     2048\n",
       " 0.542300     2044\n",
       "             ...  \n",
       " 0.454600        1\n",
       "-0.737750        1\n",
       " 0.183533        1\n",
       " 0.718400        1\n",
       "-0.092250        1\n",
       " 0.428500        1\n",
       " 0.230833        1\n",
       "-0.425150        1\n",
       "-0.527600        1\n",
       " 0.848200        1\n",
       "-0.577950        1\n",
       " 0.156250        1\n",
       "-0.497800        1\n",
       " 0.113250        1\n",
       "-0.648100        1\n",
       " 0.066900        1\n",
       " 0.743550        1\n",
       "-0.742000        1\n",
       " 0.718300        1\n",
       " 0.439400        1\n",
       " 0.466780        1\n",
       "-0.019350        1\n",
       " 0.633700        1\n",
       "-0.416050        1\n",
       " 0.504400        1\n",
       "-0.536100        1\n",
       "-0.403967        1\n",
       " 0.741733        1\n",
       " 0.472500        1\n",
       "-0.471200        1\n",
       "Name: compound, Length: 22093, dtype: int64"
      ]
     },
     "execution_count": 83,
     "metadata": {},
     "output_type": "execute_result"
    }
   ],
   "source": [
    "convo['compound'].value_counts()"
   ]
  },
  {
   "cell_type": "code",
   "execution_count": 84,
   "metadata": {
    "ExecuteTime": {
     "end_time": "2019-05-30T14:39:46.625998Z",
     "start_time": "2019-05-30T14:39:46.613252Z"
    }
   },
   "outputs": [],
   "source": [
    "# rename compound column to avg_convo_ss\n",
    "convo = convo.rename(columns={'compound': 'avg_convo_ss'})"
   ]
  },
  {
   "cell_type": "code",
   "execution_count": 85,
   "metadata": {
    "ExecuteTime": {
     "end_time": "2019-05-30T14:39:47.394272Z",
     "start_time": "2019-05-30T14:39:47.381725Z"
    },
    "scrolled": true
   },
   "outputs": [
    {
     "data": {
      "text/html": [
       "<div>\n",
       "<style scoped>\n",
       "    .dataframe tbody tr th:only-of-type {\n",
       "        vertical-align: middle;\n",
       "    }\n",
       "\n",
       "    .dataframe tbody tr th {\n",
       "        vertical-align: top;\n",
       "    }\n",
       "\n",
       "    .dataframe thead th {\n",
       "        text-align: right;\n",
       "    }\n",
       "</style>\n",
       "<table border=\"1\" class=\"dataframe\">\n",
       "  <thead>\n",
       "    <tr style=\"text-align: right;\">\n",
       "      <th></th>\n",
       "      <th>conversation_id</th>\n",
       "      <th>avg_convo_ss</th>\n",
       "    </tr>\n",
       "  </thead>\n",
       "  <tbody>\n",
       "    <tr>\n",
       "      <th>0</th>\n",
       "      <td>924224891</td>\n",
       "      <td>0.77120</td>\n",
       "    </tr>\n",
       "    <tr>\n",
       "      <th>1</th>\n",
       "      <td>1354897591</td>\n",
       "      <td>0.81050</td>\n",
       "    </tr>\n",
       "    <tr>\n",
       "      <th>2</th>\n",
       "      <td>1573959441</td>\n",
       "      <td>0.81260</td>\n",
       "    </tr>\n",
       "    <tr>\n",
       "      <th>3</th>\n",
       "      <td>1886437555</td>\n",
       "      <td>0.80365</td>\n",
       "    </tr>\n",
       "    <tr>\n",
       "      <th>4</th>\n",
       "      <td>2670250046</td>\n",
       "      <td>0.78450</td>\n",
       "    </tr>\n",
       "  </tbody>\n",
       "</table>\n",
       "</div>"
      ],
      "text/plain": [
       "   conversation_id  avg_convo_ss\n",
       "0        924224891       0.77120\n",
       "1       1354897591       0.81050\n",
       "2       1573959441       0.81260\n",
       "3       1886437555       0.80365\n",
       "4       2670250046       0.78450"
      ]
     },
     "execution_count": 85,
     "metadata": {},
     "output_type": "execute_result"
    }
   ],
   "source": [
    "convo.head()"
   ]
  },
  {
   "cell_type": "markdown",
   "metadata": {},
   "source": [
    "### Group By Day of Week - Avg Sentiment Score"
   ]
  },
  {
   "cell_type": "code",
   "execution_count": 55,
   "metadata": {
    "ExecuteTime": {
     "end_time": "2019-05-30T14:25:18.203770Z",
     "start_time": "2019-05-30T14:25:18.130774Z"
    }
   },
   "outputs": [],
   "source": [
    "# create new dataframe of avg sentiment score of tweets based on day of week\n",
    "days = df.groupby('day').agg({'compound': 'mean'}).reset_index(drop=False)"
   ]
  },
  {
   "cell_type": "code",
   "execution_count": 56,
   "metadata": {
    "ExecuteTime": {
     "end_time": "2019-05-30T14:25:19.709503Z",
     "start_time": "2019-05-30T14:25:19.697491Z"
    }
   },
   "outputs": [
    {
     "data": {
      "text/html": [
       "<div>\n",
       "<style scoped>\n",
       "    .dataframe tbody tr th:only-of-type {\n",
       "        vertical-align: middle;\n",
       "    }\n",
       "\n",
       "    .dataframe tbody tr th {\n",
       "        vertical-align: top;\n",
       "    }\n",
       "\n",
       "    .dataframe thead th {\n",
       "        text-align: right;\n",
       "    }\n",
       "</style>\n",
       "<table border=\"1\" class=\"dataframe\">\n",
       "  <thead>\n",
       "    <tr style=\"text-align: right;\">\n",
       "      <th></th>\n",
       "      <th>day</th>\n",
       "      <th>compound</th>\n",
       "    </tr>\n",
       "  </thead>\n",
       "  <tbody>\n",
       "    <tr>\n",
       "      <th>0</th>\n",
       "      <td>Friday</td>\n",
       "      <td>0.339485</td>\n",
       "    </tr>\n",
       "    <tr>\n",
       "      <th>1</th>\n",
       "      <td>Monday</td>\n",
       "      <td>0.342849</td>\n",
       "    </tr>\n",
       "    <tr>\n",
       "      <th>2</th>\n",
       "      <td>Saturday</td>\n",
       "      <td>0.364069</td>\n",
       "    </tr>\n",
       "    <tr>\n",
       "      <th>3</th>\n",
       "      <td>Sunday</td>\n",
       "      <td>0.430960</td>\n",
       "    </tr>\n",
       "    <tr>\n",
       "      <th>4</th>\n",
       "      <td>Thursday</td>\n",
       "      <td>0.328104</td>\n",
       "    </tr>\n",
       "  </tbody>\n",
       "</table>\n",
       "</div>"
      ],
      "text/plain": [
       "        day  compound\n",
       "0    Friday  0.339485\n",
       "1    Monday  0.342849\n",
       "2  Saturday  0.364069\n",
       "3    Sunday  0.430960\n",
       "4  Thursday  0.328104"
      ]
     },
     "execution_count": 56,
     "metadata": {},
     "output_type": "execute_result"
    }
   ],
   "source": [
    "days.head()"
   ]
  },
  {
   "cell_type": "code",
   "execution_count": 57,
   "metadata": {
    "ExecuteTime": {
     "end_time": "2019-05-30T14:25:22.978314Z",
     "start_time": "2019-05-30T14:25:22.964102Z"
    }
   },
   "outputs": [
    {
     "name": "stdout",
     "output_type": "stream",
     "text": [
      "<class 'pandas.core.frame.DataFrame'>\n",
      "RangeIndex: 7 entries, 0 to 6\n",
      "Data columns (total 2 columns):\n",
      "day         7 non-null object\n",
      "compound    7 non-null float64\n",
      "dtypes: float64(1), object(1)\n",
      "memory usage: 192.0+ bytes\n"
     ]
    }
   ],
   "source": [
    "days.info()"
   ]
  },
  {
   "cell_type": "code",
   "execution_count": 58,
   "metadata": {
    "ExecuteTime": {
     "end_time": "2019-05-30T14:25:35.053242Z",
     "start_time": "2019-05-30T14:25:35.043311Z"
    },
    "scrolled": true
   },
   "outputs": [
    {
     "data": {
      "text/plain": [
       "0.364069    1\n",
       "0.430960    1\n",
       "0.339485    1\n",
       "0.322150    1\n",
       "0.342849    1\n",
       "0.328104    1\n",
       "0.330778    1\n",
       "Name: compound, dtype: int64"
      ]
     },
     "execution_count": 58,
     "metadata": {},
     "output_type": "execute_result"
    }
   ],
   "source": [
    "days['compound'].value_counts()"
   ]
  },
  {
   "cell_type": "code",
   "execution_count": 86,
   "metadata": {
    "ExecuteTime": {
     "end_time": "2019-05-30T14:40:00.586609Z",
     "start_time": "2019-05-30T14:40:00.581077Z"
    }
   },
   "outputs": [],
   "source": [
    "# rename compound column to avg_day_ss\n",
    "days = days.rename(columns={'compound': 'avg_day_ss'})"
   ]
  },
  {
   "cell_type": "code",
   "execution_count": 87,
   "metadata": {
    "ExecuteTime": {
     "end_time": "2019-05-30T14:40:03.720738Z",
     "start_time": "2019-05-30T14:40:03.707211Z"
    }
   },
   "outputs": [
    {
     "data": {
      "text/html": [
       "<div>\n",
       "<style scoped>\n",
       "    .dataframe tbody tr th:only-of-type {\n",
       "        vertical-align: middle;\n",
       "    }\n",
       "\n",
       "    .dataframe tbody tr th {\n",
       "        vertical-align: top;\n",
       "    }\n",
       "\n",
       "    .dataframe thead th {\n",
       "        text-align: right;\n",
       "    }\n",
       "</style>\n",
       "<table border=\"1\" class=\"dataframe\">\n",
       "  <thead>\n",
       "    <tr style=\"text-align: right;\">\n",
       "      <th></th>\n",
       "      <th>day</th>\n",
       "      <th>avg_day_ss</th>\n",
       "    </tr>\n",
       "  </thead>\n",
       "  <tbody>\n",
       "    <tr>\n",
       "      <th>0</th>\n",
       "      <td>Friday</td>\n",
       "      <td>0.339485</td>\n",
       "    </tr>\n",
       "    <tr>\n",
       "      <th>1</th>\n",
       "      <td>Monday</td>\n",
       "      <td>0.342849</td>\n",
       "    </tr>\n",
       "    <tr>\n",
       "      <th>2</th>\n",
       "      <td>Saturday</td>\n",
       "      <td>0.364069</td>\n",
       "    </tr>\n",
       "    <tr>\n",
       "      <th>3</th>\n",
       "      <td>Sunday</td>\n",
       "      <td>0.430960</td>\n",
       "    </tr>\n",
       "    <tr>\n",
       "      <th>4</th>\n",
       "      <td>Thursday</td>\n",
       "      <td>0.328104</td>\n",
       "    </tr>\n",
       "  </tbody>\n",
       "</table>\n",
       "</div>"
      ],
      "text/plain": [
       "        day  avg_day_ss\n",
       "0    Friday    0.339485\n",
       "1    Monday    0.342849\n",
       "2  Saturday    0.364069\n",
       "3    Sunday    0.430960\n",
       "4  Thursday    0.328104"
      ]
     },
     "execution_count": 87,
     "metadata": {},
     "output_type": "execute_result"
    }
   ],
   "source": [
    "days.head()"
   ]
  },
  {
   "cell_type": "markdown",
   "metadata": {},
   "source": [
    "### Group By Season - Avg Sentiment Score"
   ]
  },
  {
   "cell_type": "code",
   "execution_count": 59,
   "metadata": {
    "ExecuteTime": {
     "end_time": "2019-05-30T14:25:49.876321Z",
     "start_time": "2019-05-30T14:25:49.818804Z"
    }
   },
   "outputs": [],
   "source": [
    "# create new dataframe of avg sentiment score of tweets based on season\n",
    "seasons = df.groupby('season').agg({'compound': 'mean'}).reset_index(drop=False)"
   ]
  },
  {
   "cell_type": "code",
   "execution_count": 60,
   "metadata": {
    "ExecuteTime": {
     "end_time": "2019-05-30T14:25:51.708049Z",
     "start_time": "2019-05-30T14:25:51.693627Z"
    }
   },
   "outputs": [
    {
     "data": {
      "text/html": [
       "<div>\n",
       "<style scoped>\n",
       "    .dataframe tbody tr th:only-of-type {\n",
       "        vertical-align: middle;\n",
       "    }\n",
       "\n",
       "    .dataframe tbody tr th {\n",
       "        vertical-align: top;\n",
       "    }\n",
       "\n",
       "    .dataframe thead th {\n",
       "        text-align: right;\n",
       "    }\n",
       "</style>\n",
       "<table border=\"1\" class=\"dataframe\">\n",
       "  <thead>\n",
       "    <tr style=\"text-align: right;\">\n",
       "      <th></th>\n",
       "      <th>season</th>\n",
       "      <th>compound</th>\n",
       "    </tr>\n",
       "  </thead>\n",
       "  <tbody>\n",
       "    <tr>\n",
       "      <th>0</th>\n",
       "      <td>autumn</td>\n",
       "      <td>0.168943</td>\n",
       "    </tr>\n",
       "    <tr>\n",
       "      <th>1</th>\n",
       "      <td>spring</td>\n",
       "      <td>0.502371</td>\n",
       "    </tr>\n",
       "    <tr>\n",
       "      <th>2</th>\n",
       "      <td>summer</td>\n",
       "      <td>0.174403</td>\n",
       "    </tr>\n",
       "    <tr>\n",
       "      <th>3</th>\n",
       "      <td>winter</td>\n",
       "      <td>0.227973</td>\n",
       "    </tr>\n",
       "  </tbody>\n",
       "</table>\n",
       "</div>"
      ],
      "text/plain": [
       "   season  compound\n",
       "0  autumn  0.168943\n",
       "1  spring  0.502371\n",
       "2  summer  0.174403\n",
       "3  winter  0.227973"
      ]
     },
     "execution_count": 60,
     "metadata": {},
     "output_type": "execute_result"
    }
   ],
   "source": [
    "seasons.head()"
   ]
  },
  {
   "cell_type": "code",
   "execution_count": 61,
   "metadata": {
    "ExecuteTime": {
     "end_time": "2019-05-30T14:25:54.693964Z",
     "start_time": "2019-05-30T14:25:54.682574Z"
    }
   },
   "outputs": [
    {
     "name": "stdout",
     "output_type": "stream",
     "text": [
      "<class 'pandas.core.frame.DataFrame'>\n",
      "RangeIndex: 4 entries, 0 to 3\n",
      "Data columns (total 2 columns):\n",
      "season      4 non-null object\n",
      "compound    4 non-null float64\n",
      "dtypes: float64(1), object(1)\n",
      "memory usage: 144.0+ bytes\n"
     ]
    }
   ],
   "source": [
    "seasons.info()"
   ]
  },
  {
   "cell_type": "code",
   "execution_count": 62,
   "metadata": {
    "ExecuteTime": {
     "end_time": "2019-05-30T14:25:57.811470Z",
     "start_time": "2019-05-30T14:25:57.802634Z"
    },
    "scrolled": true
   },
   "outputs": [
    {
     "data": {
      "text/plain": [
       "0.174403    1\n",
       "0.227973    1\n",
       "0.502371    1\n",
       "0.168943    1\n",
       "Name: compound, dtype: int64"
      ]
     },
     "execution_count": 62,
     "metadata": {},
     "output_type": "execute_result"
    }
   ],
   "source": [
    "seasons['compound'].value_counts()"
   ]
  },
  {
   "cell_type": "code",
   "execution_count": 88,
   "metadata": {
    "ExecuteTime": {
     "end_time": "2019-05-30T14:41:08.051140Z",
     "start_time": "2019-05-30T14:41:08.045853Z"
    }
   },
   "outputs": [],
   "source": [
    "# rename compound column to avg_season_ss\n",
    "seasons = seasons.rename(columns={'compound': 'avg_season_ss'})"
   ]
  },
  {
   "cell_type": "code",
   "execution_count": 89,
   "metadata": {
    "ExecuteTime": {
     "end_time": "2019-05-30T14:41:12.021498Z",
     "start_time": "2019-05-30T14:41:12.009330Z"
    }
   },
   "outputs": [
    {
     "data": {
      "text/html": [
       "<div>\n",
       "<style scoped>\n",
       "    .dataframe tbody tr th:only-of-type {\n",
       "        vertical-align: middle;\n",
       "    }\n",
       "\n",
       "    .dataframe tbody tr th {\n",
       "        vertical-align: top;\n",
       "    }\n",
       "\n",
       "    .dataframe thead th {\n",
       "        text-align: right;\n",
       "    }\n",
       "</style>\n",
       "<table border=\"1\" class=\"dataframe\">\n",
       "  <thead>\n",
       "    <tr style=\"text-align: right;\">\n",
       "      <th></th>\n",
       "      <th>season</th>\n",
       "      <th>avg_season_ss</th>\n",
       "    </tr>\n",
       "  </thead>\n",
       "  <tbody>\n",
       "    <tr>\n",
       "      <th>0</th>\n",
       "      <td>autumn</td>\n",
       "      <td>0.168943</td>\n",
       "    </tr>\n",
       "    <tr>\n",
       "      <th>1</th>\n",
       "      <td>spring</td>\n",
       "      <td>0.502371</td>\n",
       "    </tr>\n",
       "    <tr>\n",
       "      <th>2</th>\n",
       "      <td>summer</td>\n",
       "      <td>0.174403</td>\n",
       "    </tr>\n",
       "    <tr>\n",
       "      <th>3</th>\n",
       "      <td>winter</td>\n",
       "      <td>0.227973</td>\n",
       "    </tr>\n",
       "  </tbody>\n",
       "</table>\n",
       "</div>"
      ],
      "text/plain": [
       "   season  avg_season_ss\n",
       "0  autumn       0.168943\n",
       "1  spring       0.502371\n",
       "2  summer       0.174403\n",
       "3  winter       0.227973"
      ]
     },
     "execution_count": 89,
     "metadata": {},
     "output_type": "execute_result"
    }
   ],
   "source": [
    "seasons.head()"
   ]
  },
  {
   "cell_type": "markdown",
   "metadata": {},
   "source": [
    "### Group By Time of Day - Avg Sentiment Score"
   ]
  },
  {
   "cell_type": "code",
   "execution_count": 63,
   "metadata": {
    "ExecuteTime": {
     "end_time": "2019-05-30T14:26:37.324560Z",
     "start_time": "2019-05-30T14:26:37.242345Z"
    }
   },
   "outputs": [],
   "source": [
    "# create new dataframe of avg sentiment score of tweets based on time of day\n",
    "times_of_day = df.groupby('time_of_day').agg({'compound': 'mean'}).reset_index(drop=False)"
   ]
  },
  {
   "cell_type": "code",
   "execution_count": 64,
   "metadata": {
    "ExecuteTime": {
     "end_time": "2019-05-30T14:26:43.432218Z",
     "start_time": "2019-05-30T14:26:43.420241Z"
    }
   },
   "outputs": [
    {
     "data": {
      "text/html": [
       "<div>\n",
       "<style scoped>\n",
       "    .dataframe tbody tr th:only-of-type {\n",
       "        vertical-align: middle;\n",
       "    }\n",
       "\n",
       "    .dataframe tbody tr th {\n",
       "        vertical-align: top;\n",
       "    }\n",
       "\n",
       "    .dataframe thead th {\n",
       "        text-align: right;\n",
       "    }\n",
       "</style>\n",
       "<table border=\"1\" class=\"dataframe\">\n",
       "  <thead>\n",
       "    <tr style=\"text-align: right;\">\n",
       "      <th></th>\n",
       "      <th>time_of_day</th>\n",
       "      <th>compound</th>\n",
       "    </tr>\n",
       "  </thead>\n",
       "  <tbody>\n",
       "    <tr>\n",
       "      <th>0</th>\n",
       "      <td>AM</td>\n",
       "      <td>0.364879</td>\n",
       "    </tr>\n",
       "    <tr>\n",
       "      <th>1</th>\n",
       "      <td>PM</td>\n",
       "      <td>0.336220</td>\n",
       "    </tr>\n",
       "  </tbody>\n",
       "</table>\n",
       "</div>"
      ],
      "text/plain": [
       "  time_of_day  compound\n",
       "0          AM  0.364879\n",
       "1          PM  0.336220"
      ]
     },
     "execution_count": 64,
     "metadata": {},
     "output_type": "execute_result"
    }
   ],
   "source": [
    "times_of_day.head()"
   ]
  },
  {
   "cell_type": "code",
   "execution_count": 65,
   "metadata": {
    "ExecuteTime": {
     "end_time": "2019-05-30T14:26:48.775564Z",
     "start_time": "2019-05-30T14:26:48.765355Z"
    }
   },
   "outputs": [
    {
     "name": "stdout",
     "output_type": "stream",
     "text": [
      "<class 'pandas.core.frame.DataFrame'>\n",
      "RangeIndex: 2 entries, 0 to 1\n",
      "Data columns (total 2 columns):\n",
      "time_of_day    2 non-null object\n",
      "compound       2 non-null float64\n",
      "dtypes: float64(1), object(1)\n",
      "memory usage: 112.0+ bytes\n"
     ]
    }
   ],
   "source": [
    "times_of_day.info()"
   ]
  },
  {
   "cell_type": "code",
   "execution_count": 66,
   "metadata": {
    "ExecuteTime": {
     "end_time": "2019-05-30T14:26:59.549923Z",
     "start_time": "2019-05-30T14:26:59.540446Z"
    },
    "scrolled": true
   },
   "outputs": [
    {
     "data": {
      "text/plain": [
       "0.336220    1\n",
       "0.364879    1\n",
       "Name: compound, dtype: int64"
      ]
     },
     "execution_count": 66,
     "metadata": {},
     "output_type": "execute_result"
    }
   ],
   "source": [
    "times_of_day['compound'].value_counts()"
   ]
  },
  {
   "cell_type": "code",
   "execution_count": 90,
   "metadata": {
    "ExecuteTime": {
     "end_time": "2019-05-30T14:41:57.000276Z",
     "start_time": "2019-05-30T14:41:56.988818Z"
    }
   },
   "outputs": [],
   "source": [
    "# rename compound column to avg_time_of_day_ss\n",
    "times_of_day = times_of_day.rename(columns={'compound': 'avg_time_of_day_ss'})"
   ]
  },
  {
   "cell_type": "code",
   "execution_count": 91,
   "metadata": {
    "ExecuteTime": {
     "end_time": "2019-05-30T14:42:01.944807Z",
     "start_time": "2019-05-30T14:42:01.922325Z"
    }
   },
   "outputs": [
    {
     "data": {
      "text/html": [
       "<div>\n",
       "<style scoped>\n",
       "    .dataframe tbody tr th:only-of-type {\n",
       "        vertical-align: middle;\n",
       "    }\n",
       "\n",
       "    .dataframe tbody tr th {\n",
       "        vertical-align: top;\n",
       "    }\n",
       "\n",
       "    .dataframe thead th {\n",
       "        text-align: right;\n",
       "    }\n",
       "</style>\n",
       "<table border=\"1\" class=\"dataframe\">\n",
       "  <thead>\n",
       "    <tr style=\"text-align: right;\">\n",
       "      <th></th>\n",
       "      <th>time_of_day</th>\n",
       "      <th>avg_time_of_day_ss</th>\n",
       "    </tr>\n",
       "  </thead>\n",
       "  <tbody>\n",
       "    <tr>\n",
       "      <th>0</th>\n",
       "      <td>AM</td>\n",
       "      <td>0.364879</td>\n",
       "    </tr>\n",
       "    <tr>\n",
       "      <th>1</th>\n",
       "      <td>PM</td>\n",
       "      <td>0.336220</td>\n",
       "    </tr>\n",
       "  </tbody>\n",
       "</table>\n",
       "</div>"
      ],
      "text/plain": [
       "  time_of_day  avg_time_of_day_ss\n",
       "0          AM            0.364879\n",
       "1          PM            0.336220"
      ]
     },
     "execution_count": 91,
     "metadata": {},
     "output_type": "execute_result"
    }
   ],
   "source": [
    "times_of_day.head()"
   ]
  },
  {
   "cell_type": "markdown",
   "metadata": {},
   "source": [
    "### Group By Tag - Avg Sentiment Score"
   ]
  },
  {
   "cell_type": "code",
   "execution_count": 67,
   "metadata": {
    "ExecuteTime": {
     "end_time": "2019-05-30T14:27:21.298181Z",
     "start_time": "2019-05-30T14:27:21.218962Z"
    }
   },
   "outputs": [],
   "source": [
    "# create new dataframe of avg sentiment score of tweets based on hashtag or search keyword\n",
    "tags = df.groupby('tag').agg({'compound': 'mean'}).reset_index(drop=False)"
   ]
  },
  {
   "cell_type": "code",
   "execution_count": 68,
   "metadata": {
    "ExecuteTime": {
     "end_time": "2019-05-30T14:27:49.824110Z",
     "start_time": "2019-05-30T14:27:49.805092Z"
    }
   },
   "outputs": [
    {
     "data": {
      "text/html": [
       "<div>\n",
       "<style scoped>\n",
       "    .dataframe tbody tr th:only-of-type {\n",
       "        vertical-align: middle;\n",
       "    }\n",
       "\n",
       "    .dataframe tbody tr th {\n",
       "        vertical-align: top;\n",
       "    }\n",
       "\n",
       "    .dataframe thead th {\n",
       "        text-align: right;\n",
       "    }\n",
       "</style>\n",
       "<table border=\"1\" class=\"dataframe\">\n",
       "  <thead>\n",
       "    <tr style=\"text-align: right;\">\n",
       "      <th></th>\n",
       "      <th>tag</th>\n",
       "      <th>compound</th>\n",
       "    </tr>\n",
       "  </thead>\n",
       "  <tbody>\n",
       "    <tr>\n",
       "      <th>0</th>\n",
       "      <td>hashtag_anxiety</td>\n",
       "      <td>0.017150</td>\n",
       "    </tr>\n",
       "    <tr>\n",
       "      <th>1</th>\n",
       "      <td>hashtag_depression</td>\n",
       "      <td>0.571900</td>\n",
       "    </tr>\n",
       "    <tr>\n",
       "      <th>2</th>\n",
       "      <td>hashtag_friends</td>\n",
       "      <td>0.388798</td>\n",
       "    </tr>\n",
       "    <tr>\n",
       "      <th>3</th>\n",
       "      <td>hashtag_fun</td>\n",
       "      <td>0.370048</td>\n",
       "    </tr>\n",
       "    <tr>\n",
       "      <th>4</th>\n",
       "      <td>hashtag_happiness</td>\n",
       "      <td>0.356264</td>\n",
       "    </tr>\n",
       "  </tbody>\n",
       "</table>\n",
       "</div>"
      ],
      "text/plain": [
       "                  tag  compound\n",
       "0     hashtag_anxiety  0.017150\n",
       "1  hashtag_depression  0.571900\n",
       "2     hashtag_friends  0.388798\n",
       "3         hashtag_fun  0.370048\n",
       "4   hashtag_happiness  0.356264"
      ]
     },
     "execution_count": 68,
     "metadata": {},
     "output_type": "execute_result"
    }
   ],
   "source": [
    "tags.head()"
   ]
  },
  {
   "cell_type": "code",
   "execution_count": 69,
   "metadata": {
    "ExecuteTime": {
     "end_time": "2019-05-30T14:27:54.667249Z",
     "start_time": "2019-05-30T14:27:54.655629Z"
    }
   },
   "outputs": [
    {
     "name": "stdout",
     "output_type": "stream",
     "text": [
      "<class 'pandas.core.frame.DataFrame'>\n",
      "RangeIndex: 21 entries, 0 to 20\n",
      "Data columns (total 2 columns):\n",
      "tag         21 non-null object\n",
      "compound    21 non-null float64\n",
      "dtypes: float64(1), object(1)\n",
      "memory usage: 416.0+ bytes\n"
     ]
    }
   ],
   "source": [
    "tags.info()"
   ]
  },
  {
   "cell_type": "code",
   "execution_count": 70,
   "metadata": {
    "ExecuteTime": {
     "end_time": "2019-05-30T14:28:03.943045Z",
     "start_time": "2019-05-30T14:28:03.932319Z"
    },
    "scrolled": true
   },
   "outputs": [
    {
     "data": {
      "text/plain": [
       " 0.670050    1\n",
       "-0.375016    1\n",
       "-0.036229    1\n",
       " 0.356264    1\n",
       " 0.151663    1\n",
       " 0.388798    1\n",
       " 0.571900    1\n",
       " 0.367495    1\n",
       " 0.317468    1\n",
       " 0.400974    1\n",
       " 0.709567    1\n",
       " 0.224496    1\n",
       " 0.355990    1\n",
       " 0.238129    1\n",
       " 0.083153    1\n",
       "-0.060139    1\n",
       " 0.204148    1\n",
       " 0.109211    1\n",
       " 0.370048    1\n",
       " 0.017150    1\n",
       " 0.360370    1\n",
       "Name: compound, dtype: int64"
      ]
     },
     "execution_count": 70,
     "metadata": {},
     "output_type": "execute_result"
    }
   ],
   "source": [
    "tags['compound'].value_counts()"
   ]
  },
  {
   "cell_type": "code",
   "execution_count": 92,
   "metadata": {
    "ExecuteTime": {
     "end_time": "2019-05-30T14:42:45.931630Z",
     "start_time": "2019-05-30T14:42:45.926066Z"
    }
   },
   "outputs": [],
   "source": [
    "# rename compound column to avg_tag_ss\n",
    "tags = tags.rename(columns={'compound': 'avg_tag_ss'})"
   ]
  },
  {
   "cell_type": "code",
   "execution_count": 93,
   "metadata": {
    "ExecuteTime": {
     "end_time": "2019-05-30T14:42:49.374711Z",
     "start_time": "2019-05-30T14:42:49.362890Z"
    }
   },
   "outputs": [
    {
     "data": {
      "text/html": [
       "<div>\n",
       "<style scoped>\n",
       "    .dataframe tbody tr th:only-of-type {\n",
       "        vertical-align: middle;\n",
       "    }\n",
       "\n",
       "    .dataframe tbody tr th {\n",
       "        vertical-align: top;\n",
       "    }\n",
       "\n",
       "    .dataframe thead th {\n",
       "        text-align: right;\n",
       "    }\n",
       "</style>\n",
       "<table border=\"1\" class=\"dataframe\">\n",
       "  <thead>\n",
       "    <tr style=\"text-align: right;\">\n",
       "      <th></th>\n",
       "      <th>tag</th>\n",
       "      <th>avg_tag_ss</th>\n",
       "    </tr>\n",
       "  </thead>\n",
       "  <tbody>\n",
       "    <tr>\n",
       "      <th>0</th>\n",
       "      <td>hashtag_anxiety</td>\n",
       "      <td>0.017150</td>\n",
       "    </tr>\n",
       "    <tr>\n",
       "      <th>1</th>\n",
       "      <td>hashtag_depression</td>\n",
       "      <td>0.571900</td>\n",
       "    </tr>\n",
       "    <tr>\n",
       "      <th>2</th>\n",
       "      <td>hashtag_friends</td>\n",
       "      <td>0.388798</td>\n",
       "    </tr>\n",
       "    <tr>\n",
       "      <th>3</th>\n",
       "      <td>hashtag_fun</td>\n",
       "      <td>0.370048</td>\n",
       "    </tr>\n",
       "    <tr>\n",
       "      <th>4</th>\n",
       "      <td>hashtag_happiness</td>\n",
       "      <td>0.356264</td>\n",
       "    </tr>\n",
       "  </tbody>\n",
       "</table>\n",
       "</div>"
      ],
      "text/plain": [
       "                  tag  avg_tag_ss\n",
       "0     hashtag_anxiety    0.017150\n",
       "1  hashtag_depression    0.571900\n",
       "2     hashtag_friends    0.388798\n",
       "3         hashtag_fun    0.370048\n",
       "4   hashtag_happiness    0.356264"
      ]
     },
     "execution_count": 93,
     "metadata": {},
     "output_type": "execute_result"
    }
   ],
   "source": [
    "tags.head()"
   ]
  },
  {
   "cell_type": "markdown",
   "metadata": {},
   "source": [
    "### Total Avg Sentiment Score of Population of Tweets"
   ]
  },
  {
   "cell_type": "code",
   "execution_count": 71,
   "metadata": {
    "ExecuteTime": {
     "end_time": "2019-05-30T14:29:59.270755Z",
     "start_time": "2019-05-30T14:29:59.254202Z"
    }
   },
   "outputs": [
    {
     "data": {
      "text/plain": [
       "0.3498797389369655"
      ]
     },
     "execution_count": 71,
     "metadata": {},
     "output_type": "execute_result"
    }
   ],
   "source": [
    "# calculate overall avg sentiment score of tweets of population\n",
    "total_sentiment = df['compound'].mean()\n",
    "total_sentiment"
   ]
  },
  {
   "cell_type": "markdown",
   "metadata": {},
   "source": [
    "### Add Above New Features to Overall Dataframe"
   ]
  },
  {
   "cell_type": "markdown",
   "metadata": {},
   "source": [
    "#### Add Average Sentiment Score of Tweets Based on Conversation"
   ]
  },
  {
   "cell_type": "code",
   "execution_count": 103,
   "metadata": {
    "ExecuteTime": {
     "end_time": "2019-05-30T14:51:45.619582Z",
     "start_time": "2019-05-30T14:51:43.548524Z"
    }
   },
   "outputs": [],
   "source": [
    "# merge avg sentiment score of tweets based on conversation into main dataframe\n",
    "df_convo = pd.merge(left=df, right=convo, left_on='conversation_id', right_on='conversation_id')"
   ]
  },
  {
   "cell_type": "code",
   "execution_count": 104,
   "metadata": {
    "ExecuteTime": {
     "end_time": "2019-05-30T14:51:46.464101Z",
     "start_time": "2019-05-30T14:51:46.405684Z"
    }
   },
   "outputs": [
    {
     "data": {
      "text/html": [
       "<div>\n",
       "<style scoped>\n",
       "    .dataframe tbody tr th:only-of-type {\n",
       "        vertical-align: middle;\n",
       "    }\n",
       "\n",
       "    .dataframe tbody tr th {\n",
       "        vertical-align: top;\n",
       "    }\n",
       "\n",
       "    .dataframe thead th {\n",
       "        text-align: right;\n",
       "    }\n",
       "</style>\n",
       "<table border=\"1\" class=\"dataframe\">\n",
       "  <thead>\n",
       "    <tr style=\"text-align: right;\">\n",
       "      <th></th>\n",
       "      <th>conversation_id</th>\n",
       "      <th>date</th>\n",
       "      <th>hashtags</th>\n",
       "      <th>id</th>\n",
       "      <th>likes_count</th>\n",
       "      <th>name</th>\n",
       "      <th>replies_count</th>\n",
       "      <th>retweets_count</th>\n",
       "      <th>time</th>\n",
       "      <th>tweet</th>\n",
       "      <th>...</th>\n",
       "      <th>username</th>\n",
       "      <th>compound</th>\n",
       "      <th>target</th>\n",
       "      <th>tag</th>\n",
       "      <th>num_hashtags</th>\n",
       "      <th>time_of_day</th>\n",
       "      <th>month</th>\n",
       "      <th>day</th>\n",
       "      <th>season</th>\n",
       "      <th>avg_convo_ss</th>\n",
       "    </tr>\n",
       "  </thead>\n",
       "  <tbody>\n",
       "    <tr>\n",
       "      <th>0</th>\n",
       "      <td>1133159952065998848</td>\n",
       "      <td>2019-05-27</td>\n",
       "      <td>[]</td>\n",
       "      <td>1133159952065998848</td>\n",
       "      <td>26</td>\n",
       "      <td>Cleveland Clinic MD</td>\n",
       "      <td>1</td>\n",
       "      <td>13</td>\n",
       "      <td>1956</td>\n",
       "      <td>A patient presented with fatigue, headaches, d...</td>\n",
       "      <td>...</td>\n",
       "      <td>cleclinicmd</td>\n",
       "      <td>-0.7964</td>\n",
       "      <td>1</td>\n",
       "      <td>search_depression</td>\n",
       "      <td>2</td>\n",
       "      <td>PM</td>\n",
       "      <td>5</td>\n",
       "      <td>Monday</td>\n",
       "      <td>spring</td>\n",
       "      <td>-0.7964</td>\n",
       "    </tr>\n",
       "    <tr>\n",
       "      <th>1</th>\n",
       "      <td>1133152414708764672</td>\n",
       "      <td>2019-05-27</td>\n",
       "      <td>[]</td>\n",
       "      <td>1133152414708764673</td>\n",
       "      <td>3</td>\n",
       "      <td>12 News</td>\n",
       "      <td>0</td>\n",
       "      <td>2</td>\n",
       "      <td>1926</td>\n",
       "      <td>The 23-time gold medalist swimmer and Valley r...</td>\n",
       "      <td>...</td>\n",
       "      <td>12news</td>\n",
       "      <td>-0.6597</td>\n",
       "      <td>1</td>\n",
       "      <td>search_depression</td>\n",
       "      <td>2</td>\n",
       "      <td>PM</td>\n",
       "      <td>5</td>\n",
       "      <td>Monday</td>\n",
       "      <td>spring</td>\n",
       "      <td>-0.6597</td>\n",
       "    </tr>\n",
       "    <tr>\n",
       "      <th>2</th>\n",
       "      <td>1133148641596706816</td>\n",
       "      <td>2019-05-27</td>\n",
       "      <td>[]</td>\n",
       "      <td>1133148641596706816</td>\n",
       "      <td>11</td>\n",
       "      <td>necn</td>\n",
       "      <td>1</td>\n",
       "      <td>3</td>\n",
       "      <td>1911</td>\n",
       "      <td>When Blake opened the ice cream shop in the mi...</td>\n",
       "      <td>...</td>\n",
       "      <td>necn</td>\n",
       "      <td>0.1027</td>\n",
       "      <td>1</td>\n",
       "      <td>search_depression</td>\n",
       "      <td>2</td>\n",
       "      <td>PM</td>\n",
       "      <td>5</td>\n",
       "      <td>Monday</td>\n",
       "      <td>spring</td>\n",
       "      <td>0.1027</td>\n",
       "    </tr>\n",
       "    <tr>\n",
       "      <th>3</th>\n",
       "      <td>1133144745285341184</td>\n",
       "      <td>2019-05-27</td>\n",
       "      <td>[]</td>\n",
       "      <td>1133144745285341184</td>\n",
       "      <td>27</td>\n",
       "      <td>Trains Info</td>\n",
       "      <td>0</td>\n",
       "      <td>8</td>\n",
       "      <td>1855</td>\n",
       "      <td>Don't suffer in silence, If you or someone you...</td>\n",
       "      <td>...</td>\n",
       "      <td>trainsinfo</td>\n",
       "      <td>-0.5647</td>\n",
       "      <td>1</td>\n",
       "      <td>search_depression</td>\n",
       "      <td>2</td>\n",
       "      <td>PM</td>\n",
       "      <td>5</td>\n",
       "      <td>Monday</td>\n",
       "      <td>spring</td>\n",
       "      <td>-0.5647</td>\n",
       "    </tr>\n",
       "    <tr>\n",
       "      <th>4</th>\n",
       "      <td>1133143854910251008</td>\n",
       "      <td>2019-05-27</td>\n",
       "      <td>[]</td>\n",
       "      <td>1133143854910251015</td>\n",
       "      <td>592</td>\n",
       "      <td>Jeffrey Guterman</td>\n",
       "      <td>67</td>\n",
       "      <td>74</td>\n",
       "      <td>1852</td>\n",
       "      <td>Look it! The tRump supporter trying to stigmat...</td>\n",
       "      <td>...</td>\n",
       "      <td>jeffreyguterman</td>\n",
       "      <td>-0.6360</td>\n",
       "      <td>1</td>\n",
       "      <td>search_depression</td>\n",
       "      <td>2</td>\n",
       "      <td>PM</td>\n",
       "      <td>5</td>\n",
       "      <td>Monday</td>\n",
       "      <td>spring</td>\n",
       "      <td>-0.6360</td>\n",
       "    </tr>\n",
       "  </tbody>\n",
       "</table>\n",
       "<p>5 rows × 21 columns</p>\n",
       "</div>"
      ],
      "text/plain": [
       "       conversation_id       date hashtags                   id  likes_count  \\\n",
       "0  1133159952065998848 2019-05-27       []  1133159952065998848           26   \n",
       "1  1133152414708764672 2019-05-27       []  1133152414708764673            3   \n",
       "2  1133148641596706816 2019-05-27       []  1133148641596706816           11   \n",
       "3  1133144745285341184 2019-05-27       []  1133144745285341184           27   \n",
       "4  1133143854910251008 2019-05-27       []  1133143854910251015          592   \n",
       "\n",
       "                  name  replies_count  retweets_count  time  \\\n",
       "0  Cleveland Clinic MD              1              13  1956   \n",
       "1              12 News              0               2  1926   \n",
       "2                 necn              1               3  1911   \n",
       "3          Trains Info              0               8  1855   \n",
       "4     Jeffrey Guterman             67              74  1852   \n",
       "\n",
       "                                               tweet  ...         username  \\\n",
       "0  A patient presented with fatigue, headaches, d...  ...      cleclinicmd   \n",
       "1  The 23-time gold medalist swimmer and Valley r...  ...           12news   \n",
       "2  When Blake opened the ice cream shop in the mi...  ...             necn   \n",
       "3  Don't suffer in silence, If you or someone you...  ...       trainsinfo   \n",
       "4  Look it! The tRump supporter trying to stigmat...  ...  jeffreyguterman   \n",
       "\n",
       "  compound  target                tag num_hashtags  time_of_day month     day  \\\n",
       "0  -0.7964       1  search_depression            2           PM     5  Monday   \n",
       "1  -0.6597       1  search_depression            2           PM     5  Monday   \n",
       "2   0.1027       1  search_depression            2           PM     5  Monday   \n",
       "3  -0.5647       1  search_depression            2           PM     5  Monday   \n",
       "4  -0.6360       1  search_depression            2           PM     5  Monday   \n",
       "\n",
       "   season avg_convo_ss  \n",
       "0  spring      -0.7964  \n",
       "1  spring      -0.6597  \n",
       "2  spring       0.1027  \n",
       "3  spring      -0.5647  \n",
       "4  spring      -0.6360  \n",
       "\n",
       "[5 rows x 21 columns]"
      ]
     },
     "execution_count": 104,
     "metadata": {},
     "output_type": "execute_result"
    }
   ],
   "source": [
    "df_convo.head()"
   ]
  },
  {
   "cell_type": "code",
   "execution_count": 105,
   "metadata": {
    "ExecuteTime": {
     "end_time": "2019-05-30T14:51:53.919424Z",
     "start_time": "2019-05-30T14:51:52.766797Z"
    },
    "scrolled": true
   },
   "outputs": [
    {
     "data": {
      "text/plain": [
       "conversation_id    0\n",
       "date               0\n",
       "hashtags           0\n",
       "id                 0\n",
       "likes_count        0\n",
       "name               0\n",
       "replies_count      0\n",
       "retweets_count     0\n",
       "time               0\n",
       "tweet              0\n",
       "user_id            0\n",
       "username           0\n",
       "compound           0\n",
       "target             0\n",
       "tag                0\n",
       "num_hashtags       0\n",
       "time_of_day        0\n",
       "month              0\n",
       "day                0\n",
       "season             0\n",
       "avg_convo_ss       0\n",
       "dtype: int64"
      ]
     },
     "execution_count": 105,
     "metadata": {},
     "output_type": "execute_result"
    }
   ],
   "source": [
    "df_convo.isnull().sum()"
   ]
  },
  {
   "cell_type": "markdown",
   "metadata": {},
   "source": [
    "#### Add Average Sentiment Score of Tweets Based on Day of Week"
   ]
  },
  {
   "cell_type": "code",
   "execution_count": 109,
   "metadata": {
    "ExecuteTime": {
     "end_time": "2019-05-30T14:54:25.622410Z",
     "start_time": "2019-05-30T14:54:24.024411Z"
    }
   },
   "outputs": [],
   "source": [
    "# merge avg sentiment score of tweets based on conversation into main dataframe\n",
    "df_days = pd.merge(left=df_convo, right=days, on='day')"
   ]
  },
  {
   "cell_type": "code",
   "execution_count": 110,
   "metadata": {
    "ExecuteTime": {
     "end_time": "2019-05-30T14:54:29.781305Z",
     "start_time": "2019-05-30T14:54:29.739774Z"
    }
   },
   "outputs": [
    {
     "data": {
      "text/html": [
       "<div>\n",
       "<style scoped>\n",
       "    .dataframe tbody tr th:only-of-type {\n",
       "        vertical-align: middle;\n",
       "    }\n",
       "\n",
       "    .dataframe tbody tr th {\n",
       "        vertical-align: top;\n",
       "    }\n",
       "\n",
       "    .dataframe thead th {\n",
       "        text-align: right;\n",
       "    }\n",
       "</style>\n",
       "<table border=\"1\" class=\"dataframe\">\n",
       "  <thead>\n",
       "    <tr style=\"text-align: right;\">\n",
       "      <th></th>\n",
       "      <th>conversation_id</th>\n",
       "      <th>date</th>\n",
       "      <th>hashtags</th>\n",
       "      <th>id</th>\n",
       "      <th>likes_count</th>\n",
       "      <th>name</th>\n",
       "      <th>replies_count</th>\n",
       "      <th>retweets_count</th>\n",
       "      <th>time</th>\n",
       "      <th>tweet</th>\n",
       "      <th>...</th>\n",
       "      <th>compound</th>\n",
       "      <th>target</th>\n",
       "      <th>tag</th>\n",
       "      <th>num_hashtags</th>\n",
       "      <th>time_of_day</th>\n",
       "      <th>month</th>\n",
       "      <th>day</th>\n",
       "      <th>season</th>\n",
       "      <th>avg_convo_ss</th>\n",
       "      <th>avg_day_ss</th>\n",
       "    </tr>\n",
       "  </thead>\n",
       "  <tbody>\n",
       "    <tr>\n",
       "      <th>0</th>\n",
       "      <td>1133159952065998848</td>\n",
       "      <td>2019-05-27</td>\n",
       "      <td>[]</td>\n",
       "      <td>1133159952065998848</td>\n",
       "      <td>26</td>\n",
       "      <td>Cleveland Clinic MD</td>\n",
       "      <td>1</td>\n",
       "      <td>13</td>\n",
       "      <td>1956</td>\n",
       "      <td>A patient presented with fatigue, headaches, d...</td>\n",
       "      <td>...</td>\n",
       "      <td>-0.7964</td>\n",
       "      <td>1</td>\n",
       "      <td>search_depression</td>\n",
       "      <td>2</td>\n",
       "      <td>PM</td>\n",
       "      <td>5</td>\n",
       "      <td>Monday</td>\n",
       "      <td>spring</td>\n",
       "      <td>-0.7964</td>\n",
       "      <td>0.342849</td>\n",
       "    </tr>\n",
       "    <tr>\n",
       "      <th>1</th>\n",
       "      <td>1133152414708764672</td>\n",
       "      <td>2019-05-27</td>\n",
       "      <td>[]</td>\n",
       "      <td>1133152414708764673</td>\n",
       "      <td>3</td>\n",
       "      <td>12 News</td>\n",
       "      <td>0</td>\n",
       "      <td>2</td>\n",
       "      <td>1926</td>\n",
       "      <td>The 23-time gold medalist swimmer and Valley r...</td>\n",
       "      <td>...</td>\n",
       "      <td>-0.6597</td>\n",
       "      <td>1</td>\n",
       "      <td>search_depression</td>\n",
       "      <td>2</td>\n",
       "      <td>PM</td>\n",
       "      <td>5</td>\n",
       "      <td>Monday</td>\n",
       "      <td>spring</td>\n",
       "      <td>-0.6597</td>\n",
       "      <td>0.342849</td>\n",
       "    </tr>\n",
       "    <tr>\n",
       "      <th>2</th>\n",
       "      <td>1133148641596706816</td>\n",
       "      <td>2019-05-27</td>\n",
       "      <td>[]</td>\n",
       "      <td>1133148641596706816</td>\n",
       "      <td>11</td>\n",
       "      <td>necn</td>\n",
       "      <td>1</td>\n",
       "      <td>3</td>\n",
       "      <td>1911</td>\n",
       "      <td>When Blake opened the ice cream shop in the mi...</td>\n",
       "      <td>...</td>\n",
       "      <td>0.1027</td>\n",
       "      <td>1</td>\n",
       "      <td>search_depression</td>\n",
       "      <td>2</td>\n",
       "      <td>PM</td>\n",
       "      <td>5</td>\n",
       "      <td>Monday</td>\n",
       "      <td>spring</td>\n",
       "      <td>0.1027</td>\n",
       "      <td>0.342849</td>\n",
       "    </tr>\n",
       "    <tr>\n",
       "      <th>3</th>\n",
       "      <td>1133144745285341184</td>\n",
       "      <td>2019-05-27</td>\n",
       "      <td>[]</td>\n",
       "      <td>1133144745285341184</td>\n",
       "      <td>27</td>\n",
       "      <td>Trains Info</td>\n",
       "      <td>0</td>\n",
       "      <td>8</td>\n",
       "      <td>1855</td>\n",
       "      <td>Don't suffer in silence, If you or someone you...</td>\n",
       "      <td>...</td>\n",
       "      <td>-0.5647</td>\n",
       "      <td>1</td>\n",
       "      <td>search_depression</td>\n",
       "      <td>2</td>\n",
       "      <td>PM</td>\n",
       "      <td>5</td>\n",
       "      <td>Monday</td>\n",
       "      <td>spring</td>\n",
       "      <td>-0.5647</td>\n",
       "      <td>0.342849</td>\n",
       "    </tr>\n",
       "    <tr>\n",
       "      <th>4</th>\n",
       "      <td>1133143854910251008</td>\n",
       "      <td>2019-05-27</td>\n",
       "      <td>[]</td>\n",
       "      <td>1133143854910251015</td>\n",
       "      <td>592</td>\n",
       "      <td>Jeffrey Guterman</td>\n",
       "      <td>67</td>\n",
       "      <td>74</td>\n",
       "      <td>1852</td>\n",
       "      <td>Look it! The tRump supporter trying to stigmat...</td>\n",
       "      <td>...</td>\n",
       "      <td>-0.6360</td>\n",
       "      <td>1</td>\n",
       "      <td>search_depression</td>\n",
       "      <td>2</td>\n",
       "      <td>PM</td>\n",
       "      <td>5</td>\n",
       "      <td>Monday</td>\n",
       "      <td>spring</td>\n",
       "      <td>-0.6360</td>\n",
       "      <td>0.342849</td>\n",
       "    </tr>\n",
       "  </tbody>\n",
       "</table>\n",
       "<p>5 rows × 22 columns</p>\n",
       "</div>"
      ],
      "text/plain": [
       "       conversation_id       date hashtags                   id  likes_count  \\\n",
       "0  1133159952065998848 2019-05-27       []  1133159952065998848           26   \n",
       "1  1133152414708764672 2019-05-27       []  1133152414708764673            3   \n",
       "2  1133148641596706816 2019-05-27       []  1133148641596706816           11   \n",
       "3  1133144745285341184 2019-05-27       []  1133144745285341184           27   \n",
       "4  1133143854910251008 2019-05-27       []  1133143854910251015          592   \n",
       "\n",
       "                  name  replies_count  retweets_count  time  \\\n",
       "0  Cleveland Clinic MD              1              13  1956   \n",
       "1              12 News              0               2  1926   \n",
       "2                 necn              1               3  1911   \n",
       "3          Trains Info              0               8  1855   \n",
       "4     Jeffrey Guterman             67              74  1852   \n",
       "\n",
       "                                               tweet  ...  compound target  \\\n",
       "0  A patient presented with fatigue, headaches, d...  ...   -0.7964      1   \n",
       "1  The 23-time gold medalist swimmer and Valley r...  ...   -0.6597      1   \n",
       "2  When Blake opened the ice cream shop in the mi...  ...    0.1027      1   \n",
       "3  Don't suffer in silence, If you or someone you...  ...   -0.5647      1   \n",
       "4  Look it! The tRump supporter trying to stigmat...  ...   -0.6360      1   \n",
       "\n",
       "                 tag  num_hashtags time_of_day  month     day  season  \\\n",
       "0  search_depression             2          PM      5  Monday  spring   \n",
       "1  search_depression             2          PM      5  Monday  spring   \n",
       "2  search_depression             2          PM      5  Monday  spring   \n",
       "3  search_depression             2          PM      5  Monday  spring   \n",
       "4  search_depression             2          PM      5  Monday  spring   \n",
       "\n",
       "  avg_convo_ss avg_day_ss  \n",
       "0      -0.7964   0.342849  \n",
       "1      -0.6597   0.342849  \n",
       "2       0.1027   0.342849  \n",
       "3      -0.5647   0.342849  \n",
       "4      -0.6360   0.342849  \n",
       "\n",
       "[5 rows x 22 columns]"
      ]
     },
     "execution_count": 110,
     "metadata": {},
     "output_type": "execute_result"
    }
   ],
   "source": [
    "df_days.head()"
   ]
  },
  {
   "cell_type": "code",
   "execution_count": 111,
   "metadata": {
    "ExecuteTime": {
     "end_time": "2019-05-30T14:55:06.372447Z",
     "start_time": "2019-05-30T14:55:04.615302Z"
    }
   },
   "outputs": [
    {
     "data": {
      "text/plain": [
       "conversation_id    0\n",
       "date               0\n",
       "hashtags           0\n",
       "id                 0\n",
       "likes_count        0\n",
       "name               0\n",
       "replies_count      0\n",
       "retweets_count     0\n",
       "time               0\n",
       "tweet              0\n",
       "user_id            0\n",
       "username           0\n",
       "compound           0\n",
       "target             0\n",
       "tag                0\n",
       "num_hashtags       0\n",
       "time_of_day        0\n",
       "month              0\n",
       "day                0\n",
       "season             0\n",
       "avg_convo_ss       0\n",
       "avg_day_ss         0\n",
       "dtype: int64"
      ]
     },
     "execution_count": 111,
     "metadata": {},
     "output_type": "execute_result"
    }
   ],
   "source": [
    "df_days.isnull().sum()"
   ]
  },
  {
   "cell_type": "markdown",
   "metadata": {},
   "source": [
    "#### Add Average Sentiment Score of Tweets Based on Season"
   ]
  },
  {
   "cell_type": "code",
   "execution_count": 114,
   "metadata": {
    "ExecuteTime": {
     "end_time": "2019-05-30T14:55:52.709930Z",
     "start_time": "2019-05-30T14:55:51.075430Z"
    }
   },
   "outputs": [],
   "source": [
    "# merge avg sentiment score of tweets based on conversation into main dataframe\n",
    "df_season = pd.merge(left=df_days, right=seasons, on='season')"
   ]
  },
  {
   "cell_type": "code",
   "execution_count": 115,
   "metadata": {
    "ExecuteTime": {
     "end_time": "2019-05-30T14:55:53.759250Z",
     "start_time": "2019-05-30T14:55:53.717891Z"
    }
   },
   "outputs": [
    {
     "data": {
      "text/html": [
       "<div>\n",
       "<style scoped>\n",
       "    .dataframe tbody tr th:only-of-type {\n",
       "        vertical-align: middle;\n",
       "    }\n",
       "\n",
       "    .dataframe tbody tr th {\n",
       "        vertical-align: top;\n",
       "    }\n",
       "\n",
       "    .dataframe thead th {\n",
       "        text-align: right;\n",
       "    }\n",
       "</style>\n",
       "<table border=\"1\" class=\"dataframe\">\n",
       "  <thead>\n",
       "    <tr style=\"text-align: right;\">\n",
       "      <th></th>\n",
       "      <th>conversation_id</th>\n",
       "      <th>date</th>\n",
       "      <th>hashtags</th>\n",
       "      <th>id</th>\n",
       "      <th>likes_count</th>\n",
       "      <th>name</th>\n",
       "      <th>replies_count</th>\n",
       "      <th>retweets_count</th>\n",
       "      <th>time</th>\n",
       "      <th>tweet</th>\n",
       "      <th>...</th>\n",
       "      <th>target</th>\n",
       "      <th>tag</th>\n",
       "      <th>num_hashtags</th>\n",
       "      <th>time_of_day</th>\n",
       "      <th>month</th>\n",
       "      <th>day</th>\n",
       "      <th>season</th>\n",
       "      <th>avg_convo_ss</th>\n",
       "      <th>avg_day_ss</th>\n",
       "      <th>avg_season_ss</th>\n",
       "    </tr>\n",
       "  </thead>\n",
       "  <tbody>\n",
       "    <tr>\n",
       "      <th>0</th>\n",
       "      <td>1133159952065998848</td>\n",
       "      <td>2019-05-27</td>\n",
       "      <td>[]</td>\n",
       "      <td>1133159952065998848</td>\n",
       "      <td>26</td>\n",
       "      <td>Cleveland Clinic MD</td>\n",
       "      <td>1</td>\n",
       "      <td>13</td>\n",
       "      <td>1956</td>\n",
       "      <td>A patient presented with fatigue, headaches, d...</td>\n",
       "      <td>...</td>\n",
       "      <td>1</td>\n",
       "      <td>search_depression</td>\n",
       "      <td>2</td>\n",
       "      <td>PM</td>\n",
       "      <td>5</td>\n",
       "      <td>Monday</td>\n",
       "      <td>spring</td>\n",
       "      <td>-0.7964</td>\n",
       "      <td>0.342849</td>\n",
       "      <td>0.502371</td>\n",
       "    </tr>\n",
       "    <tr>\n",
       "      <th>1</th>\n",
       "      <td>1133152414708764672</td>\n",
       "      <td>2019-05-27</td>\n",
       "      <td>[]</td>\n",
       "      <td>1133152414708764673</td>\n",
       "      <td>3</td>\n",
       "      <td>12 News</td>\n",
       "      <td>0</td>\n",
       "      <td>2</td>\n",
       "      <td>1926</td>\n",
       "      <td>The 23-time gold medalist swimmer and Valley r...</td>\n",
       "      <td>...</td>\n",
       "      <td>1</td>\n",
       "      <td>search_depression</td>\n",
       "      <td>2</td>\n",
       "      <td>PM</td>\n",
       "      <td>5</td>\n",
       "      <td>Monday</td>\n",
       "      <td>spring</td>\n",
       "      <td>-0.6597</td>\n",
       "      <td>0.342849</td>\n",
       "      <td>0.502371</td>\n",
       "    </tr>\n",
       "    <tr>\n",
       "      <th>2</th>\n",
       "      <td>1133148641596706816</td>\n",
       "      <td>2019-05-27</td>\n",
       "      <td>[]</td>\n",
       "      <td>1133148641596706816</td>\n",
       "      <td>11</td>\n",
       "      <td>necn</td>\n",
       "      <td>1</td>\n",
       "      <td>3</td>\n",
       "      <td>1911</td>\n",
       "      <td>When Blake opened the ice cream shop in the mi...</td>\n",
       "      <td>...</td>\n",
       "      <td>1</td>\n",
       "      <td>search_depression</td>\n",
       "      <td>2</td>\n",
       "      <td>PM</td>\n",
       "      <td>5</td>\n",
       "      <td>Monday</td>\n",
       "      <td>spring</td>\n",
       "      <td>0.1027</td>\n",
       "      <td>0.342849</td>\n",
       "      <td>0.502371</td>\n",
       "    </tr>\n",
       "    <tr>\n",
       "      <th>3</th>\n",
       "      <td>1133144745285341184</td>\n",
       "      <td>2019-05-27</td>\n",
       "      <td>[]</td>\n",
       "      <td>1133144745285341184</td>\n",
       "      <td>27</td>\n",
       "      <td>Trains Info</td>\n",
       "      <td>0</td>\n",
       "      <td>8</td>\n",
       "      <td>1855</td>\n",
       "      <td>Don't suffer in silence, If you or someone you...</td>\n",
       "      <td>...</td>\n",
       "      <td>1</td>\n",
       "      <td>search_depression</td>\n",
       "      <td>2</td>\n",
       "      <td>PM</td>\n",
       "      <td>5</td>\n",
       "      <td>Monday</td>\n",
       "      <td>spring</td>\n",
       "      <td>-0.5647</td>\n",
       "      <td>0.342849</td>\n",
       "      <td>0.502371</td>\n",
       "    </tr>\n",
       "    <tr>\n",
       "      <th>4</th>\n",
       "      <td>1133143854910251008</td>\n",
       "      <td>2019-05-27</td>\n",
       "      <td>[]</td>\n",
       "      <td>1133143854910251015</td>\n",
       "      <td>592</td>\n",
       "      <td>Jeffrey Guterman</td>\n",
       "      <td>67</td>\n",
       "      <td>74</td>\n",
       "      <td>1852</td>\n",
       "      <td>Look it! The tRump supporter trying to stigmat...</td>\n",
       "      <td>...</td>\n",
       "      <td>1</td>\n",
       "      <td>search_depression</td>\n",
       "      <td>2</td>\n",
       "      <td>PM</td>\n",
       "      <td>5</td>\n",
       "      <td>Monday</td>\n",
       "      <td>spring</td>\n",
       "      <td>-0.6360</td>\n",
       "      <td>0.342849</td>\n",
       "      <td>0.502371</td>\n",
       "    </tr>\n",
       "  </tbody>\n",
       "</table>\n",
       "<p>5 rows × 23 columns</p>\n",
       "</div>"
      ],
      "text/plain": [
       "       conversation_id       date hashtags                   id  likes_count  \\\n",
       "0  1133159952065998848 2019-05-27       []  1133159952065998848           26   \n",
       "1  1133152414708764672 2019-05-27       []  1133152414708764673            3   \n",
       "2  1133148641596706816 2019-05-27       []  1133148641596706816           11   \n",
       "3  1133144745285341184 2019-05-27       []  1133144745285341184           27   \n",
       "4  1133143854910251008 2019-05-27       []  1133143854910251015          592   \n",
       "\n",
       "                  name  replies_count  retweets_count  time  \\\n",
       "0  Cleveland Clinic MD              1              13  1956   \n",
       "1              12 News              0               2  1926   \n",
       "2                 necn              1               3  1911   \n",
       "3          Trains Info              0               8  1855   \n",
       "4     Jeffrey Guterman             67              74  1852   \n",
       "\n",
       "                                               tweet  ...  target  \\\n",
       "0  A patient presented with fatigue, headaches, d...  ...       1   \n",
       "1  The 23-time gold medalist swimmer and Valley r...  ...       1   \n",
       "2  When Blake opened the ice cream shop in the mi...  ...       1   \n",
       "3  Don't suffer in silence, If you or someone you...  ...       1   \n",
       "4  Look it! The tRump supporter trying to stigmat...  ...       1   \n",
       "\n",
       "                 tag  num_hashtags  time_of_day month     day  season  \\\n",
       "0  search_depression             2           PM     5  Monday  spring   \n",
       "1  search_depression             2           PM     5  Monday  spring   \n",
       "2  search_depression             2           PM     5  Monday  spring   \n",
       "3  search_depression             2           PM     5  Monday  spring   \n",
       "4  search_depression             2           PM     5  Monday  spring   \n",
       "\n",
       "   avg_convo_ss avg_day_ss avg_season_ss  \n",
       "0       -0.7964   0.342849      0.502371  \n",
       "1       -0.6597   0.342849      0.502371  \n",
       "2        0.1027   0.342849      0.502371  \n",
       "3       -0.5647   0.342849      0.502371  \n",
       "4       -0.6360   0.342849      0.502371  \n",
       "\n",
       "[5 rows x 23 columns]"
      ]
     },
     "execution_count": 115,
     "metadata": {},
     "output_type": "execute_result"
    }
   ],
   "source": [
    "df_season.head()"
   ]
  },
  {
   "cell_type": "code",
   "execution_count": 116,
   "metadata": {
    "ExecuteTime": {
     "end_time": "2019-05-30T14:56:06.920886Z",
     "start_time": "2019-05-30T14:56:05.337171Z"
    }
   },
   "outputs": [
    {
     "data": {
      "text/plain": [
       "conversation_id    0\n",
       "date               0\n",
       "hashtags           0\n",
       "id                 0\n",
       "likes_count        0\n",
       "name               0\n",
       "replies_count      0\n",
       "retweets_count     0\n",
       "time               0\n",
       "tweet              0\n",
       "user_id            0\n",
       "username           0\n",
       "compound           0\n",
       "target             0\n",
       "tag                0\n",
       "num_hashtags       0\n",
       "time_of_day        0\n",
       "month              0\n",
       "day                0\n",
       "season             0\n",
       "avg_convo_ss       0\n",
       "avg_day_ss         0\n",
       "avg_season_ss      0\n",
       "dtype: int64"
      ]
     },
     "execution_count": 116,
     "metadata": {},
     "output_type": "execute_result"
    }
   ],
   "source": [
    "df_season.isnull().sum()"
   ]
  },
  {
   "cell_type": "markdown",
   "metadata": {},
   "source": [
    "#### Add Average Sentiment Score of Tweets Based on Time of Day"
   ]
  },
  {
   "cell_type": "code",
   "execution_count": 117,
   "metadata": {
    "ExecuteTime": {
     "end_time": "2019-05-30T14:56:41.252074Z",
     "start_time": "2019-05-30T14:56:39.619023Z"
    }
   },
   "outputs": [],
   "source": [
    "# merge avg sentiment score of tweets based on conversation into main dataframe\n",
    "df_time = pd.merge(left=df_season, right=times_of_day, on='time_of_day')"
   ]
  },
  {
   "cell_type": "code",
   "execution_count": 118,
   "metadata": {
    "ExecuteTime": {
     "end_time": "2019-05-30T14:56:44.898414Z",
     "start_time": "2019-05-30T14:56:44.851755Z"
    }
   },
   "outputs": [
    {
     "data": {
      "text/html": [
       "<div>\n",
       "<style scoped>\n",
       "    .dataframe tbody tr th:only-of-type {\n",
       "        vertical-align: middle;\n",
       "    }\n",
       "\n",
       "    .dataframe tbody tr th {\n",
       "        vertical-align: top;\n",
       "    }\n",
       "\n",
       "    .dataframe thead th {\n",
       "        text-align: right;\n",
       "    }\n",
       "</style>\n",
       "<table border=\"1\" class=\"dataframe\">\n",
       "  <thead>\n",
       "    <tr style=\"text-align: right;\">\n",
       "      <th></th>\n",
       "      <th>conversation_id</th>\n",
       "      <th>date</th>\n",
       "      <th>hashtags</th>\n",
       "      <th>id</th>\n",
       "      <th>likes_count</th>\n",
       "      <th>name</th>\n",
       "      <th>replies_count</th>\n",
       "      <th>retweets_count</th>\n",
       "      <th>time</th>\n",
       "      <th>tweet</th>\n",
       "      <th>...</th>\n",
       "      <th>tag</th>\n",
       "      <th>num_hashtags</th>\n",
       "      <th>time_of_day</th>\n",
       "      <th>month</th>\n",
       "      <th>day</th>\n",
       "      <th>season</th>\n",
       "      <th>avg_convo_ss</th>\n",
       "      <th>avg_day_ss</th>\n",
       "      <th>avg_season_ss</th>\n",
       "      <th>avg_time_of_day_ss</th>\n",
       "    </tr>\n",
       "  </thead>\n",
       "  <tbody>\n",
       "    <tr>\n",
       "      <th>0</th>\n",
       "      <td>1133159952065998848</td>\n",
       "      <td>2019-05-27</td>\n",
       "      <td>[]</td>\n",
       "      <td>1133159952065998848</td>\n",
       "      <td>26</td>\n",
       "      <td>Cleveland Clinic MD</td>\n",
       "      <td>1</td>\n",
       "      <td>13</td>\n",
       "      <td>1956</td>\n",
       "      <td>A patient presented with fatigue, headaches, d...</td>\n",
       "      <td>...</td>\n",
       "      <td>search_depression</td>\n",
       "      <td>2</td>\n",
       "      <td>PM</td>\n",
       "      <td>5</td>\n",
       "      <td>Monday</td>\n",
       "      <td>spring</td>\n",
       "      <td>-0.7964</td>\n",
       "      <td>0.342849</td>\n",
       "      <td>0.502371</td>\n",
       "      <td>0.33622</td>\n",
       "    </tr>\n",
       "    <tr>\n",
       "      <th>1</th>\n",
       "      <td>1133152414708764672</td>\n",
       "      <td>2019-05-27</td>\n",
       "      <td>[]</td>\n",
       "      <td>1133152414708764673</td>\n",
       "      <td>3</td>\n",
       "      <td>12 News</td>\n",
       "      <td>0</td>\n",
       "      <td>2</td>\n",
       "      <td>1926</td>\n",
       "      <td>The 23-time gold medalist swimmer and Valley r...</td>\n",
       "      <td>...</td>\n",
       "      <td>search_depression</td>\n",
       "      <td>2</td>\n",
       "      <td>PM</td>\n",
       "      <td>5</td>\n",
       "      <td>Monday</td>\n",
       "      <td>spring</td>\n",
       "      <td>-0.6597</td>\n",
       "      <td>0.342849</td>\n",
       "      <td>0.502371</td>\n",
       "      <td>0.33622</td>\n",
       "    </tr>\n",
       "    <tr>\n",
       "      <th>2</th>\n",
       "      <td>1133148641596706816</td>\n",
       "      <td>2019-05-27</td>\n",
       "      <td>[]</td>\n",
       "      <td>1133148641596706816</td>\n",
       "      <td>11</td>\n",
       "      <td>necn</td>\n",
       "      <td>1</td>\n",
       "      <td>3</td>\n",
       "      <td>1911</td>\n",
       "      <td>When Blake opened the ice cream shop in the mi...</td>\n",
       "      <td>...</td>\n",
       "      <td>search_depression</td>\n",
       "      <td>2</td>\n",
       "      <td>PM</td>\n",
       "      <td>5</td>\n",
       "      <td>Monday</td>\n",
       "      <td>spring</td>\n",
       "      <td>0.1027</td>\n",
       "      <td>0.342849</td>\n",
       "      <td>0.502371</td>\n",
       "      <td>0.33622</td>\n",
       "    </tr>\n",
       "    <tr>\n",
       "      <th>3</th>\n",
       "      <td>1133144745285341184</td>\n",
       "      <td>2019-05-27</td>\n",
       "      <td>[]</td>\n",
       "      <td>1133144745285341184</td>\n",
       "      <td>27</td>\n",
       "      <td>Trains Info</td>\n",
       "      <td>0</td>\n",
       "      <td>8</td>\n",
       "      <td>1855</td>\n",
       "      <td>Don't suffer in silence, If you or someone you...</td>\n",
       "      <td>...</td>\n",
       "      <td>search_depression</td>\n",
       "      <td>2</td>\n",
       "      <td>PM</td>\n",
       "      <td>5</td>\n",
       "      <td>Monday</td>\n",
       "      <td>spring</td>\n",
       "      <td>-0.5647</td>\n",
       "      <td>0.342849</td>\n",
       "      <td>0.502371</td>\n",
       "      <td>0.33622</td>\n",
       "    </tr>\n",
       "    <tr>\n",
       "      <th>4</th>\n",
       "      <td>1133143854910251008</td>\n",
       "      <td>2019-05-27</td>\n",
       "      <td>[]</td>\n",
       "      <td>1133143854910251015</td>\n",
       "      <td>592</td>\n",
       "      <td>Jeffrey Guterman</td>\n",
       "      <td>67</td>\n",
       "      <td>74</td>\n",
       "      <td>1852</td>\n",
       "      <td>Look it! The tRump supporter trying to stigmat...</td>\n",
       "      <td>...</td>\n",
       "      <td>search_depression</td>\n",
       "      <td>2</td>\n",
       "      <td>PM</td>\n",
       "      <td>5</td>\n",
       "      <td>Monday</td>\n",
       "      <td>spring</td>\n",
       "      <td>-0.6360</td>\n",
       "      <td>0.342849</td>\n",
       "      <td>0.502371</td>\n",
       "      <td>0.33622</td>\n",
       "    </tr>\n",
       "  </tbody>\n",
       "</table>\n",
       "<p>5 rows × 24 columns</p>\n",
       "</div>"
      ],
      "text/plain": [
       "       conversation_id       date hashtags                   id  likes_count  \\\n",
       "0  1133159952065998848 2019-05-27       []  1133159952065998848           26   \n",
       "1  1133152414708764672 2019-05-27       []  1133152414708764673            3   \n",
       "2  1133148641596706816 2019-05-27       []  1133148641596706816           11   \n",
       "3  1133144745285341184 2019-05-27       []  1133144745285341184           27   \n",
       "4  1133143854910251008 2019-05-27       []  1133143854910251015          592   \n",
       "\n",
       "                  name  replies_count  retweets_count  time  \\\n",
       "0  Cleveland Clinic MD              1              13  1956   \n",
       "1              12 News              0               2  1926   \n",
       "2                 necn              1               3  1911   \n",
       "3          Trains Info              0               8  1855   \n",
       "4     Jeffrey Guterman             67              74  1852   \n",
       "\n",
       "                                               tweet  ...                tag  \\\n",
       "0  A patient presented with fatigue, headaches, d...  ...  search_depression   \n",
       "1  The 23-time gold medalist swimmer and Valley r...  ...  search_depression   \n",
       "2  When Blake opened the ice cream shop in the mi...  ...  search_depression   \n",
       "3  Don't suffer in silence, If you or someone you...  ...  search_depression   \n",
       "4  Look it! The tRump supporter trying to stigmat...  ...  search_depression   \n",
       "\n",
       "  num_hashtags  time_of_day  month     day  season avg_convo_ss  avg_day_ss  \\\n",
       "0            2           PM      5  Monday  spring      -0.7964    0.342849   \n",
       "1            2           PM      5  Monday  spring      -0.6597    0.342849   \n",
       "2            2           PM      5  Monday  spring       0.1027    0.342849   \n",
       "3            2           PM      5  Monday  spring      -0.5647    0.342849   \n",
       "4            2           PM      5  Monday  spring      -0.6360    0.342849   \n",
       "\n",
       "  avg_season_ss avg_time_of_day_ss  \n",
       "0      0.502371            0.33622  \n",
       "1      0.502371            0.33622  \n",
       "2      0.502371            0.33622  \n",
       "3      0.502371            0.33622  \n",
       "4      0.502371            0.33622  \n",
       "\n",
       "[5 rows x 24 columns]"
      ]
     },
     "execution_count": 118,
     "metadata": {},
     "output_type": "execute_result"
    }
   ],
   "source": [
    "df_time.head()"
   ]
  },
  {
   "cell_type": "code",
   "execution_count": 119,
   "metadata": {
    "ExecuteTime": {
     "end_time": "2019-05-30T14:56:57.834217Z",
     "start_time": "2019-05-30T14:56:56.505843Z"
    }
   },
   "outputs": [
    {
     "data": {
      "text/plain": [
       "conversation_id       0\n",
       "date                  0\n",
       "hashtags              0\n",
       "id                    0\n",
       "likes_count           0\n",
       "name                  0\n",
       "replies_count         0\n",
       "retweets_count        0\n",
       "time                  0\n",
       "tweet                 0\n",
       "user_id               0\n",
       "username              0\n",
       "compound              0\n",
       "target                0\n",
       "tag                   0\n",
       "num_hashtags          0\n",
       "time_of_day           0\n",
       "month                 0\n",
       "day                   0\n",
       "season                0\n",
       "avg_convo_ss          0\n",
       "avg_day_ss            0\n",
       "avg_season_ss         0\n",
       "avg_time_of_day_ss    0\n",
       "dtype: int64"
      ]
     },
     "execution_count": 119,
     "metadata": {},
     "output_type": "execute_result"
    }
   ],
   "source": [
    "df_time.isnull().sum()"
   ]
  },
  {
   "cell_type": "markdown",
   "metadata": {},
   "source": [
    "#### Add Average Sentiment Score of Tweets Based on Hashtag or Search Keyword"
   ]
  },
  {
   "cell_type": "code",
   "execution_count": 120,
   "metadata": {
    "ExecuteTime": {
     "end_time": "2019-05-30T14:57:27.245188Z",
     "start_time": "2019-05-30T14:57:25.912509Z"
    }
   },
   "outputs": [],
   "source": [
    "# merge avg sentiment score of tweets based on conversation into main dataframe\n",
    "df_tag = pd.merge(left=df_time, right=tags, on='tag')"
   ]
  },
  {
   "cell_type": "code",
   "execution_count": 121,
   "metadata": {
    "ExecuteTime": {
     "end_time": "2019-05-30T14:57:31.227204Z",
     "start_time": "2019-05-30T14:57:31.179128Z"
    }
   },
   "outputs": [
    {
     "data": {
      "text/html": [
       "<div>\n",
       "<style scoped>\n",
       "    .dataframe tbody tr th:only-of-type {\n",
       "        vertical-align: middle;\n",
       "    }\n",
       "\n",
       "    .dataframe tbody tr th {\n",
       "        vertical-align: top;\n",
       "    }\n",
       "\n",
       "    .dataframe thead th {\n",
       "        text-align: right;\n",
       "    }\n",
       "</style>\n",
       "<table border=\"1\" class=\"dataframe\">\n",
       "  <thead>\n",
       "    <tr style=\"text-align: right;\">\n",
       "      <th></th>\n",
       "      <th>conversation_id</th>\n",
       "      <th>date</th>\n",
       "      <th>hashtags</th>\n",
       "      <th>id</th>\n",
       "      <th>likes_count</th>\n",
       "      <th>name</th>\n",
       "      <th>replies_count</th>\n",
       "      <th>retweets_count</th>\n",
       "      <th>time</th>\n",
       "      <th>tweet</th>\n",
       "      <th>...</th>\n",
       "      <th>num_hashtags</th>\n",
       "      <th>time_of_day</th>\n",
       "      <th>month</th>\n",
       "      <th>day</th>\n",
       "      <th>season</th>\n",
       "      <th>avg_convo_ss</th>\n",
       "      <th>avg_day_ss</th>\n",
       "      <th>avg_season_ss</th>\n",
       "      <th>avg_time_of_day_ss</th>\n",
       "      <th>avg_tag_ss</th>\n",
       "    </tr>\n",
       "  </thead>\n",
       "  <tbody>\n",
       "    <tr>\n",
       "      <th>0</th>\n",
       "      <td>1133159952065998848</td>\n",
       "      <td>2019-05-27</td>\n",
       "      <td>[]</td>\n",
       "      <td>1133159952065998848</td>\n",
       "      <td>26</td>\n",
       "      <td>Cleveland Clinic MD</td>\n",
       "      <td>1</td>\n",
       "      <td>13</td>\n",
       "      <td>1956</td>\n",
       "      <td>A patient presented with fatigue, headaches, d...</td>\n",
       "      <td>...</td>\n",
       "      <td>2</td>\n",
       "      <td>PM</td>\n",
       "      <td>5</td>\n",
       "      <td>Monday</td>\n",
       "      <td>spring</td>\n",
       "      <td>-0.7964</td>\n",
       "      <td>0.342849</td>\n",
       "      <td>0.502371</td>\n",
       "      <td>0.33622</td>\n",
       "      <td>-0.375016</td>\n",
       "    </tr>\n",
       "    <tr>\n",
       "      <th>1</th>\n",
       "      <td>1133152414708764672</td>\n",
       "      <td>2019-05-27</td>\n",
       "      <td>[]</td>\n",
       "      <td>1133152414708764673</td>\n",
       "      <td>3</td>\n",
       "      <td>12 News</td>\n",
       "      <td>0</td>\n",
       "      <td>2</td>\n",
       "      <td>1926</td>\n",
       "      <td>The 23-time gold medalist swimmer and Valley r...</td>\n",
       "      <td>...</td>\n",
       "      <td>2</td>\n",
       "      <td>PM</td>\n",
       "      <td>5</td>\n",
       "      <td>Monday</td>\n",
       "      <td>spring</td>\n",
       "      <td>-0.6597</td>\n",
       "      <td>0.342849</td>\n",
       "      <td>0.502371</td>\n",
       "      <td>0.33622</td>\n",
       "      <td>-0.375016</td>\n",
       "    </tr>\n",
       "    <tr>\n",
       "      <th>2</th>\n",
       "      <td>1133148641596706816</td>\n",
       "      <td>2019-05-27</td>\n",
       "      <td>[]</td>\n",
       "      <td>1133148641596706816</td>\n",
       "      <td>11</td>\n",
       "      <td>necn</td>\n",
       "      <td>1</td>\n",
       "      <td>3</td>\n",
       "      <td>1911</td>\n",
       "      <td>When Blake opened the ice cream shop in the mi...</td>\n",
       "      <td>...</td>\n",
       "      <td>2</td>\n",
       "      <td>PM</td>\n",
       "      <td>5</td>\n",
       "      <td>Monday</td>\n",
       "      <td>spring</td>\n",
       "      <td>0.1027</td>\n",
       "      <td>0.342849</td>\n",
       "      <td>0.502371</td>\n",
       "      <td>0.33622</td>\n",
       "      <td>-0.375016</td>\n",
       "    </tr>\n",
       "    <tr>\n",
       "      <th>3</th>\n",
       "      <td>1133144745285341184</td>\n",
       "      <td>2019-05-27</td>\n",
       "      <td>[]</td>\n",
       "      <td>1133144745285341184</td>\n",
       "      <td>27</td>\n",
       "      <td>Trains Info</td>\n",
       "      <td>0</td>\n",
       "      <td>8</td>\n",
       "      <td>1855</td>\n",
       "      <td>Don't suffer in silence, If you or someone you...</td>\n",
       "      <td>...</td>\n",
       "      <td>2</td>\n",
       "      <td>PM</td>\n",
       "      <td>5</td>\n",
       "      <td>Monday</td>\n",
       "      <td>spring</td>\n",
       "      <td>-0.5647</td>\n",
       "      <td>0.342849</td>\n",
       "      <td>0.502371</td>\n",
       "      <td>0.33622</td>\n",
       "      <td>-0.375016</td>\n",
       "    </tr>\n",
       "    <tr>\n",
       "      <th>4</th>\n",
       "      <td>1133143854910251008</td>\n",
       "      <td>2019-05-27</td>\n",
       "      <td>[]</td>\n",
       "      <td>1133143854910251015</td>\n",
       "      <td>592</td>\n",
       "      <td>Jeffrey Guterman</td>\n",
       "      <td>67</td>\n",
       "      <td>74</td>\n",
       "      <td>1852</td>\n",
       "      <td>Look it! The tRump supporter trying to stigmat...</td>\n",
       "      <td>...</td>\n",
       "      <td>2</td>\n",
       "      <td>PM</td>\n",
       "      <td>5</td>\n",
       "      <td>Monday</td>\n",
       "      <td>spring</td>\n",
       "      <td>-0.6360</td>\n",
       "      <td>0.342849</td>\n",
       "      <td>0.502371</td>\n",
       "      <td>0.33622</td>\n",
       "      <td>-0.375016</td>\n",
       "    </tr>\n",
       "  </tbody>\n",
       "</table>\n",
       "<p>5 rows × 25 columns</p>\n",
       "</div>"
      ],
      "text/plain": [
       "       conversation_id       date hashtags                   id  likes_count  \\\n",
       "0  1133159952065998848 2019-05-27       []  1133159952065998848           26   \n",
       "1  1133152414708764672 2019-05-27       []  1133152414708764673            3   \n",
       "2  1133148641596706816 2019-05-27       []  1133148641596706816           11   \n",
       "3  1133144745285341184 2019-05-27       []  1133144745285341184           27   \n",
       "4  1133143854910251008 2019-05-27       []  1133143854910251015          592   \n",
       "\n",
       "                  name  replies_count  retweets_count  time  \\\n",
       "0  Cleveland Clinic MD              1              13  1956   \n",
       "1              12 News              0               2  1926   \n",
       "2                 necn              1               3  1911   \n",
       "3          Trains Info              0               8  1855   \n",
       "4     Jeffrey Guterman             67              74  1852   \n",
       "\n",
       "                                               tweet  ...  num_hashtags  \\\n",
       "0  A patient presented with fatigue, headaches, d...  ...             2   \n",
       "1  The 23-time gold medalist swimmer and Valley r...  ...             2   \n",
       "2  When Blake opened the ice cream shop in the mi...  ...             2   \n",
       "3  Don't suffer in silence, If you or someone you...  ...             2   \n",
       "4  Look it! The tRump supporter trying to stigmat...  ...             2   \n",
       "\n",
       "  time_of_day  month     day  season  avg_convo_ss avg_day_ss  avg_season_ss  \\\n",
       "0          PM      5  Monday  spring       -0.7964   0.342849       0.502371   \n",
       "1          PM      5  Monday  spring       -0.6597   0.342849       0.502371   \n",
       "2          PM      5  Monday  spring        0.1027   0.342849       0.502371   \n",
       "3          PM      5  Monday  spring       -0.5647   0.342849       0.502371   \n",
       "4          PM      5  Monday  spring       -0.6360   0.342849       0.502371   \n",
       "\n",
       "  avg_time_of_day_ss avg_tag_ss  \n",
       "0            0.33622  -0.375016  \n",
       "1            0.33622  -0.375016  \n",
       "2            0.33622  -0.375016  \n",
       "3            0.33622  -0.375016  \n",
       "4            0.33622  -0.375016  \n",
       "\n",
       "[5 rows x 25 columns]"
      ]
     },
     "execution_count": 121,
     "metadata": {},
     "output_type": "execute_result"
    }
   ],
   "source": [
    "df_tag.head()"
   ]
  },
  {
   "cell_type": "code",
   "execution_count": 122,
   "metadata": {
    "ExecuteTime": {
     "end_time": "2019-05-30T14:57:44.271372Z",
     "start_time": "2019-05-30T14:57:42.423305Z"
    }
   },
   "outputs": [
    {
     "data": {
      "text/plain": [
       "conversation_id       0\n",
       "date                  0\n",
       "hashtags              0\n",
       "id                    0\n",
       "likes_count           0\n",
       "name                  0\n",
       "replies_count         0\n",
       "retweets_count        0\n",
       "time                  0\n",
       "tweet                 0\n",
       "user_id               0\n",
       "username              0\n",
       "compound              0\n",
       "target                0\n",
       "tag                   0\n",
       "num_hashtags          0\n",
       "time_of_day           0\n",
       "month                 0\n",
       "day                   0\n",
       "season                0\n",
       "avg_convo_ss          0\n",
       "avg_day_ss            0\n",
       "avg_season_ss         0\n",
       "avg_time_of_day_ss    0\n",
       "avg_tag_ss            0\n",
       "dtype: int64"
      ]
     },
     "execution_count": 122,
     "metadata": {},
     "output_type": "execute_result"
    }
   ],
   "source": [
    "df_tag.isnull().sum()"
   ]
  },
  {
   "cell_type": "markdown",
   "metadata": {},
   "source": [
    "#### Add Total Average Sentiment Score of Population"
   ]
  },
  {
   "cell_type": "code",
   "execution_count": 123,
   "metadata": {
    "ExecuteTime": {
     "end_time": "2019-05-30T14:59:03.918675Z",
     "start_time": "2019-05-30T14:59:03.908491Z"
    }
   },
   "outputs": [],
   "source": [
    "# add new column with total avg sentiment score of population\n",
    "df_tag['avg_pop_ss'] = total_sentiment"
   ]
  },
  {
   "cell_type": "code",
   "execution_count": 124,
   "metadata": {
    "ExecuteTime": {
     "end_time": "2019-05-30T14:59:08.160976Z",
     "start_time": "2019-05-30T14:59:08.110471Z"
    }
   },
   "outputs": [
    {
     "data": {
      "text/html": [
       "<div>\n",
       "<style scoped>\n",
       "    .dataframe tbody tr th:only-of-type {\n",
       "        vertical-align: middle;\n",
       "    }\n",
       "\n",
       "    .dataframe tbody tr th {\n",
       "        vertical-align: top;\n",
       "    }\n",
       "\n",
       "    .dataframe thead th {\n",
       "        text-align: right;\n",
       "    }\n",
       "</style>\n",
       "<table border=\"1\" class=\"dataframe\">\n",
       "  <thead>\n",
       "    <tr style=\"text-align: right;\">\n",
       "      <th></th>\n",
       "      <th>conversation_id</th>\n",
       "      <th>date</th>\n",
       "      <th>hashtags</th>\n",
       "      <th>id</th>\n",
       "      <th>likes_count</th>\n",
       "      <th>name</th>\n",
       "      <th>replies_count</th>\n",
       "      <th>retweets_count</th>\n",
       "      <th>time</th>\n",
       "      <th>tweet</th>\n",
       "      <th>...</th>\n",
       "      <th>time_of_day</th>\n",
       "      <th>month</th>\n",
       "      <th>day</th>\n",
       "      <th>season</th>\n",
       "      <th>avg_convo_ss</th>\n",
       "      <th>avg_day_ss</th>\n",
       "      <th>avg_season_ss</th>\n",
       "      <th>avg_time_of_day_ss</th>\n",
       "      <th>avg_tag_ss</th>\n",
       "      <th>avg_pop_ss</th>\n",
       "    </tr>\n",
       "  </thead>\n",
       "  <tbody>\n",
       "    <tr>\n",
       "      <th>0</th>\n",
       "      <td>1133159952065998848</td>\n",
       "      <td>2019-05-27</td>\n",
       "      <td>[]</td>\n",
       "      <td>1133159952065998848</td>\n",
       "      <td>26</td>\n",
       "      <td>Cleveland Clinic MD</td>\n",
       "      <td>1</td>\n",
       "      <td>13</td>\n",
       "      <td>1956</td>\n",
       "      <td>A patient presented with fatigue, headaches, d...</td>\n",
       "      <td>...</td>\n",
       "      <td>PM</td>\n",
       "      <td>5</td>\n",
       "      <td>Monday</td>\n",
       "      <td>spring</td>\n",
       "      <td>-0.7964</td>\n",
       "      <td>0.342849</td>\n",
       "      <td>0.502371</td>\n",
       "      <td>0.33622</td>\n",
       "      <td>-0.375016</td>\n",
       "      <td>0.34988</td>\n",
       "    </tr>\n",
       "    <tr>\n",
       "      <th>1</th>\n",
       "      <td>1133152414708764672</td>\n",
       "      <td>2019-05-27</td>\n",
       "      <td>[]</td>\n",
       "      <td>1133152414708764673</td>\n",
       "      <td>3</td>\n",
       "      <td>12 News</td>\n",
       "      <td>0</td>\n",
       "      <td>2</td>\n",
       "      <td>1926</td>\n",
       "      <td>The 23-time gold medalist swimmer and Valley r...</td>\n",
       "      <td>...</td>\n",
       "      <td>PM</td>\n",
       "      <td>5</td>\n",
       "      <td>Monday</td>\n",
       "      <td>spring</td>\n",
       "      <td>-0.6597</td>\n",
       "      <td>0.342849</td>\n",
       "      <td>0.502371</td>\n",
       "      <td>0.33622</td>\n",
       "      <td>-0.375016</td>\n",
       "      <td>0.34988</td>\n",
       "    </tr>\n",
       "    <tr>\n",
       "      <th>2</th>\n",
       "      <td>1133148641596706816</td>\n",
       "      <td>2019-05-27</td>\n",
       "      <td>[]</td>\n",
       "      <td>1133148641596706816</td>\n",
       "      <td>11</td>\n",
       "      <td>necn</td>\n",
       "      <td>1</td>\n",
       "      <td>3</td>\n",
       "      <td>1911</td>\n",
       "      <td>When Blake opened the ice cream shop in the mi...</td>\n",
       "      <td>...</td>\n",
       "      <td>PM</td>\n",
       "      <td>5</td>\n",
       "      <td>Monday</td>\n",
       "      <td>spring</td>\n",
       "      <td>0.1027</td>\n",
       "      <td>0.342849</td>\n",
       "      <td>0.502371</td>\n",
       "      <td>0.33622</td>\n",
       "      <td>-0.375016</td>\n",
       "      <td>0.34988</td>\n",
       "    </tr>\n",
       "    <tr>\n",
       "      <th>3</th>\n",
       "      <td>1133144745285341184</td>\n",
       "      <td>2019-05-27</td>\n",
       "      <td>[]</td>\n",
       "      <td>1133144745285341184</td>\n",
       "      <td>27</td>\n",
       "      <td>Trains Info</td>\n",
       "      <td>0</td>\n",
       "      <td>8</td>\n",
       "      <td>1855</td>\n",
       "      <td>Don't suffer in silence, If you or someone you...</td>\n",
       "      <td>...</td>\n",
       "      <td>PM</td>\n",
       "      <td>5</td>\n",
       "      <td>Monday</td>\n",
       "      <td>spring</td>\n",
       "      <td>-0.5647</td>\n",
       "      <td>0.342849</td>\n",
       "      <td>0.502371</td>\n",
       "      <td>0.33622</td>\n",
       "      <td>-0.375016</td>\n",
       "      <td>0.34988</td>\n",
       "    </tr>\n",
       "    <tr>\n",
       "      <th>4</th>\n",
       "      <td>1133143854910251008</td>\n",
       "      <td>2019-05-27</td>\n",
       "      <td>[]</td>\n",
       "      <td>1133143854910251015</td>\n",
       "      <td>592</td>\n",
       "      <td>Jeffrey Guterman</td>\n",
       "      <td>67</td>\n",
       "      <td>74</td>\n",
       "      <td>1852</td>\n",
       "      <td>Look it! The tRump supporter trying to stigmat...</td>\n",
       "      <td>...</td>\n",
       "      <td>PM</td>\n",
       "      <td>5</td>\n",
       "      <td>Monday</td>\n",
       "      <td>spring</td>\n",
       "      <td>-0.6360</td>\n",
       "      <td>0.342849</td>\n",
       "      <td>0.502371</td>\n",
       "      <td>0.33622</td>\n",
       "      <td>-0.375016</td>\n",
       "      <td>0.34988</td>\n",
       "    </tr>\n",
       "  </tbody>\n",
       "</table>\n",
       "<p>5 rows × 26 columns</p>\n",
       "</div>"
      ],
      "text/plain": [
       "       conversation_id       date hashtags                   id  likes_count  \\\n",
       "0  1133159952065998848 2019-05-27       []  1133159952065998848           26   \n",
       "1  1133152414708764672 2019-05-27       []  1133152414708764673            3   \n",
       "2  1133148641596706816 2019-05-27       []  1133148641596706816           11   \n",
       "3  1133144745285341184 2019-05-27       []  1133144745285341184           27   \n",
       "4  1133143854910251008 2019-05-27       []  1133143854910251015          592   \n",
       "\n",
       "                  name  replies_count  retweets_count  time  \\\n",
       "0  Cleveland Clinic MD              1              13  1956   \n",
       "1              12 News              0               2  1926   \n",
       "2                 necn              1               3  1911   \n",
       "3          Trains Info              0               8  1855   \n",
       "4     Jeffrey Guterman             67              74  1852   \n",
       "\n",
       "                                               tweet  ...  time_of_day month  \\\n",
       "0  A patient presented with fatigue, headaches, d...  ...           PM     5   \n",
       "1  The 23-time gold medalist swimmer and Valley r...  ...           PM     5   \n",
       "2  When Blake opened the ice cream shop in the mi...  ...           PM     5   \n",
       "3  Don't suffer in silence, If you or someone you...  ...           PM     5   \n",
       "4  Look it! The tRump supporter trying to stigmat...  ...           PM     5   \n",
       "\n",
       "      day  season avg_convo_ss  avg_day_ss avg_season_ss  avg_time_of_day_ss  \\\n",
       "0  Monday  spring      -0.7964    0.342849      0.502371             0.33622   \n",
       "1  Monday  spring      -0.6597    0.342849      0.502371             0.33622   \n",
       "2  Monday  spring       0.1027    0.342849      0.502371             0.33622   \n",
       "3  Monday  spring      -0.5647    0.342849      0.502371             0.33622   \n",
       "4  Monday  spring      -0.6360    0.342849      0.502371             0.33622   \n",
       "\n",
       "  avg_tag_ss avg_pop_ss  \n",
       "0  -0.375016    0.34988  \n",
       "1  -0.375016    0.34988  \n",
       "2  -0.375016    0.34988  \n",
       "3  -0.375016    0.34988  \n",
       "4  -0.375016    0.34988  \n",
       "\n",
       "[5 rows x 26 columns]"
      ]
     },
     "execution_count": 124,
     "metadata": {},
     "output_type": "execute_result"
    }
   ],
   "source": [
    "df_tag.head()"
   ]
  },
  {
   "cell_type": "code",
   "execution_count": 125,
   "metadata": {
    "ExecuteTime": {
     "end_time": "2019-05-30T14:59:19.230790Z",
     "start_time": "2019-05-30T14:59:18.297096Z"
    }
   },
   "outputs": [
    {
     "data": {
      "text/plain": [
       "conversation_id       0\n",
       "date                  0\n",
       "hashtags              0\n",
       "id                    0\n",
       "likes_count           0\n",
       "name                  0\n",
       "replies_count         0\n",
       "retweets_count        0\n",
       "time                  0\n",
       "tweet                 0\n",
       "user_id               0\n",
       "username              0\n",
       "compound              0\n",
       "target                0\n",
       "tag                   0\n",
       "num_hashtags          0\n",
       "time_of_day           0\n",
       "month                 0\n",
       "day                   0\n",
       "season                0\n",
       "avg_convo_ss          0\n",
       "avg_day_ss            0\n",
       "avg_season_ss         0\n",
       "avg_time_of_day_ss    0\n",
       "avg_tag_ss            0\n",
       "avg_pop_ss            0\n",
       "dtype: int64"
      ]
     },
     "execution_count": 125,
     "metadata": {},
     "output_type": "execute_result"
    }
   ],
   "source": [
    "df_tag.isnull().sum()"
   ]
  },
  {
   "cell_type": "markdown",
   "metadata": {},
   "source": [
    "### Rename Compound Column to Tweet Sentiment Score (Tweet_SS)"
   ]
  },
  {
   "cell_type": "code",
   "execution_count": 126,
   "metadata": {
    "ExecuteTime": {
     "end_time": "2019-05-30T15:02:52.278516Z",
     "start_time": "2019-05-30T15:02:51.673817Z"
    }
   },
   "outputs": [],
   "source": [
    "# rename compound column\n",
    "df_tag.rename(columns={'compound': 'tweet_ss'}, inplace=True)"
   ]
  },
  {
   "cell_type": "code",
   "execution_count": 128,
   "metadata": {
    "ExecuteTime": {
     "end_time": "2019-05-30T15:03:08.187127Z",
     "start_time": "2019-05-30T15:03:08.174573Z"
    }
   },
   "outputs": [
    {
     "data": {
      "text/plain": [
       "Index(['conversation_id', 'date', 'hashtags', 'id', 'likes_count', 'name',\n",
       "       'replies_count', 'retweets_count', 'time', 'tweet', 'user_id',\n",
       "       'username', 'tweet_ss', 'target', 'tag', 'num_hashtags', 'time_of_day',\n",
       "       'month', 'day', 'season', 'avg_convo_ss', 'avg_day_ss', 'avg_season_ss',\n",
       "       'avg_time_of_day_ss', 'avg_tag_ss', 'avg_pop_ss'],\n",
       "      dtype='object')"
      ]
     },
     "execution_count": 128,
     "metadata": {},
     "output_type": "execute_result"
    }
   ],
   "source": [
    "df_tag.columns"
   ]
  },
  {
   "cell_type": "code",
   "execution_count": 131,
   "metadata": {
    "ExecuteTime": {
     "end_time": "2019-05-30T16:03:50.150573Z",
     "start_time": "2019-05-30T16:03:47.984185Z"
    }
   },
   "outputs": [],
   "source": [
    "# rename tweet dataframe from df_tag to tweet_df\n",
    "tweet_df = df_tag.copy()"
   ]
  },
  {
   "cell_type": "code",
   "execution_count": 133,
   "metadata": {
    "ExecuteTime": {
     "end_time": "2019-05-30T16:04:58.956819Z",
     "start_time": "2019-05-30T16:04:58.763324Z"
    }
   },
   "outputs": [
    {
     "data": {
      "text/plain": [
       "102010"
      ]
     },
     "execution_count": 133,
     "metadata": {},
     "output_type": "execute_result"
    }
   ],
   "source": [
    "# check number of unique values in name column\n",
    "tweet_df.name.nunique()"
   ]
  },
  {
   "cell_type": "code",
   "execution_count": 134,
   "metadata": {
    "ExecuteTime": {
     "end_time": "2019-05-30T16:05:07.108971Z",
     "start_time": "2019-05-30T16:05:06.949198Z"
    }
   },
   "outputs": [
    {
     "data": {
      "text/plain": [
       "103210"
      ]
     },
     "execution_count": 134,
     "metadata": {},
     "output_type": "execute_result"
    }
   ],
   "source": [
    "# check number of unique values in username column\n",
    "tweet_df.username.nunique()"
   ]
  },
  {
   "cell_type": "code",
   "execution_count": 135,
   "metadata": {
    "ExecuteTime": {
     "end_time": "2019-05-30T16:05:15.003129Z",
     "start_time": "2019-05-30T16:05:14.960650Z"
    }
   },
   "outputs": [
    {
     "data": {
      "text/plain": [
       "103209"
      ]
     },
     "execution_count": 135,
     "metadata": {},
     "output_type": "execute_result"
    }
   ],
   "source": [
    "# check number of unique values in user_id\n",
    "tweet_df.user_id.nunique()"
   ]
  },
  {
   "cell_type": "code",
   "execution_count": 129,
   "metadata": {
    "ExecuteTime": {
     "end_time": "2019-05-30T15:04:01.980602Z",
     "start_time": "2019-05-30T15:03:55.473143Z"
    }
   },
   "outputs": [],
   "source": [
    "# # pickle dataframe after adding new features\n",
    "# df_tag.to_pickle('./cleaned_data/new_features_added.pkl')"
   ]
  },
  {
   "cell_type": "markdown",
   "metadata": {},
   "source": [
    "### Create New DataFrame on User-Level"
   ]
  },
  {
   "cell_type": "markdown",
   "metadata": {},
   "source": [
    "#### Create Dummy Variables"
   ]
  },
  {
   "cell_type": "markdown",
   "metadata": {},
   "source": [
    "##### Tag Dummies"
   ]
  },
  {
   "cell_type": "code",
   "execution_count": 159,
   "metadata": {
    "ExecuteTime": {
     "end_time": "2019-05-30T16:40:53.667712Z",
     "start_time": "2019-05-30T16:40:53.442542Z"
    }
   },
   "outputs": [],
   "source": [
    "# create dummies of tag column before grouping and aggregation\n",
    "tag_dummies = pd.get_dummies(tweet_df.tag)"
   ]
  },
  {
   "cell_type": "code",
   "execution_count": 160,
   "metadata": {
    "ExecuteTime": {
     "end_time": "2019-05-30T16:40:58.671442Z",
     "start_time": "2019-05-30T16:40:58.638857Z"
    }
   },
   "outputs": [
    {
     "data": {
      "text/html": [
       "<div>\n",
       "<style scoped>\n",
       "    .dataframe tbody tr th:only-of-type {\n",
       "        vertical-align: middle;\n",
       "    }\n",
       "\n",
       "    .dataframe tbody tr th {\n",
       "        vertical-align: top;\n",
       "    }\n",
       "\n",
       "    .dataframe thead th {\n",
       "        text-align: right;\n",
       "    }\n",
       "</style>\n",
       "<table border=\"1\" class=\"dataframe\">\n",
       "  <thead>\n",
       "    <tr style=\"text-align: right;\">\n",
       "      <th></th>\n",
       "      <th>hashtag_anxiety</th>\n",
       "      <th>hashtag_depression</th>\n",
       "      <th>hashtag_friends</th>\n",
       "      <th>hashtag_fun</th>\n",
       "      <th>hashtag_happiness</th>\n",
       "      <th>hashtag_happy</th>\n",
       "      <th>hashtag_hope</th>\n",
       "      <th>hashtag_life</th>\n",
       "      <th>hashtag_lonely</th>\n",
       "      <th>hashtag_love</th>\n",
       "      <th>...</th>\n",
       "      <th>hashtag_peace</th>\n",
       "      <th>hashtag_ptsd</th>\n",
       "      <th>hashtag_sad</th>\n",
       "      <th>hashtag_smile</th>\n",
       "      <th>hashtag_stress</th>\n",
       "      <th>hashtag_suicide</th>\n",
       "      <th>search_anxiety</th>\n",
       "      <th>search_depression</th>\n",
       "      <th>search_happiness</th>\n",
       "      <th>search_happy</th>\n",
       "    </tr>\n",
       "  </thead>\n",
       "  <tbody>\n",
       "    <tr>\n",
       "      <th>0</th>\n",
       "      <td>0</td>\n",
       "      <td>0</td>\n",
       "      <td>0</td>\n",
       "      <td>0</td>\n",
       "      <td>0</td>\n",
       "      <td>0</td>\n",
       "      <td>0</td>\n",
       "      <td>0</td>\n",
       "      <td>0</td>\n",
       "      <td>0</td>\n",
       "      <td>...</td>\n",
       "      <td>0</td>\n",
       "      <td>0</td>\n",
       "      <td>0</td>\n",
       "      <td>0</td>\n",
       "      <td>0</td>\n",
       "      <td>0</td>\n",
       "      <td>0</td>\n",
       "      <td>1</td>\n",
       "      <td>0</td>\n",
       "      <td>0</td>\n",
       "    </tr>\n",
       "    <tr>\n",
       "      <th>1</th>\n",
       "      <td>0</td>\n",
       "      <td>0</td>\n",
       "      <td>0</td>\n",
       "      <td>0</td>\n",
       "      <td>0</td>\n",
       "      <td>0</td>\n",
       "      <td>0</td>\n",
       "      <td>0</td>\n",
       "      <td>0</td>\n",
       "      <td>0</td>\n",
       "      <td>...</td>\n",
       "      <td>0</td>\n",
       "      <td>0</td>\n",
       "      <td>0</td>\n",
       "      <td>0</td>\n",
       "      <td>0</td>\n",
       "      <td>0</td>\n",
       "      <td>0</td>\n",
       "      <td>1</td>\n",
       "      <td>0</td>\n",
       "      <td>0</td>\n",
       "    </tr>\n",
       "    <tr>\n",
       "      <th>2</th>\n",
       "      <td>0</td>\n",
       "      <td>0</td>\n",
       "      <td>0</td>\n",
       "      <td>0</td>\n",
       "      <td>0</td>\n",
       "      <td>0</td>\n",
       "      <td>0</td>\n",
       "      <td>0</td>\n",
       "      <td>0</td>\n",
       "      <td>0</td>\n",
       "      <td>...</td>\n",
       "      <td>0</td>\n",
       "      <td>0</td>\n",
       "      <td>0</td>\n",
       "      <td>0</td>\n",
       "      <td>0</td>\n",
       "      <td>0</td>\n",
       "      <td>0</td>\n",
       "      <td>1</td>\n",
       "      <td>0</td>\n",
       "      <td>0</td>\n",
       "    </tr>\n",
       "    <tr>\n",
       "      <th>3</th>\n",
       "      <td>0</td>\n",
       "      <td>0</td>\n",
       "      <td>0</td>\n",
       "      <td>0</td>\n",
       "      <td>0</td>\n",
       "      <td>0</td>\n",
       "      <td>0</td>\n",
       "      <td>0</td>\n",
       "      <td>0</td>\n",
       "      <td>0</td>\n",
       "      <td>...</td>\n",
       "      <td>0</td>\n",
       "      <td>0</td>\n",
       "      <td>0</td>\n",
       "      <td>0</td>\n",
       "      <td>0</td>\n",
       "      <td>0</td>\n",
       "      <td>0</td>\n",
       "      <td>1</td>\n",
       "      <td>0</td>\n",
       "      <td>0</td>\n",
       "    </tr>\n",
       "    <tr>\n",
       "      <th>4</th>\n",
       "      <td>0</td>\n",
       "      <td>0</td>\n",
       "      <td>0</td>\n",
       "      <td>0</td>\n",
       "      <td>0</td>\n",
       "      <td>0</td>\n",
       "      <td>0</td>\n",
       "      <td>0</td>\n",
       "      <td>0</td>\n",
       "      <td>0</td>\n",
       "      <td>...</td>\n",
       "      <td>0</td>\n",
       "      <td>0</td>\n",
       "      <td>0</td>\n",
       "      <td>0</td>\n",
       "      <td>0</td>\n",
       "      <td>0</td>\n",
       "      <td>0</td>\n",
       "      <td>1</td>\n",
       "      <td>0</td>\n",
       "      <td>0</td>\n",
       "    </tr>\n",
       "  </tbody>\n",
       "</table>\n",
       "<p>5 rows × 21 columns</p>\n",
       "</div>"
      ],
      "text/plain": [
       "   hashtag_anxiety  hashtag_depression  hashtag_friends  hashtag_fun  \\\n",
       "0                0                   0                0            0   \n",
       "1                0                   0                0            0   \n",
       "2                0                   0                0            0   \n",
       "3                0                   0                0            0   \n",
       "4                0                   0                0            0   \n",
       "\n",
       "   hashtag_happiness  hashtag_happy  hashtag_hope  hashtag_life  \\\n",
       "0                  0              0             0             0   \n",
       "1                  0              0             0             0   \n",
       "2                  0              0             0             0   \n",
       "3                  0              0             0             0   \n",
       "4                  0              0             0             0   \n",
       "\n",
       "   hashtag_lonely  hashtag_love  ...  hashtag_peace  hashtag_ptsd  \\\n",
       "0               0             0  ...              0             0   \n",
       "1               0             0  ...              0             0   \n",
       "2               0             0  ...              0             0   \n",
       "3               0             0  ...              0             0   \n",
       "4               0             0  ...              0             0   \n",
       "\n",
       "   hashtag_sad  hashtag_smile  hashtag_stress  hashtag_suicide  \\\n",
       "0            0              0               0                0   \n",
       "1            0              0               0                0   \n",
       "2            0              0               0                0   \n",
       "3            0              0               0                0   \n",
       "4            0              0               0                0   \n",
       "\n",
       "   search_anxiety  search_depression  search_happiness  search_happy  \n",
       "0               0                  1                 0             0  \n",
       "1               0                  1                 0             0  \n",
       "2               0                  1                 0             0  \n",
       "3               0                  1                 0             0  \n",
       "4               0                  1                 0             0  \n",
       "\n",
       "[5 rows x 21 columns]"
      ]
     },
     "execution_count": 160,
     "metadata": {},
     "output_type": "execute_result"
    }
   ],
   "source": [
    "tag_dummies.head()"
   ]
  },
  {
   "cell_type": "code",
   "execution_count": 161,
   "metadata": {
    "ExecuteTime": {
     "end_time": "2019-05-30T16:42:53.784174Z",
     "start_time": "2019-05-30T16:42:53.228340Z"
    }
   },
   "outputs": [],
   "source": [
    "# concat dummy variables to main dataframe\n",
    "tweet_dummy = pd.concat([tweet_df, tag_dummies.drop('hashtag_life', axis=1)], axis=1)"
   ]
  },
  {
   "cell_type": "code",
   "execution_count": 162,
   "metadata": {
    "ExecuteTime": {
     "end_time": "2019-05-30T16:43:05.327410Z",
     "start_time": "2019-05-30T16:43:05.319523Z"
    }
   },
   "outputs": [
    {
     "data": {
      "text/plain": [
       "Index(['conversation_id', 'date', 'hashtags', 'id', 'likes_count', 'name',\n",
       "       'replies_count', 'retweets_count', 'time', 'tweet', 'user_id',\n",
       "       'username', 'tweet_ss', 'target', 'tag', 'num_hashtags', 'time_of_day',\n",
       "       'month', 'day', 'season', 'avg_convo_ss', 'avg_day_ss', 'avg_season_ss',\n",
       "       'avg_time_of_day_ss', 'avg_tag_ss', 'avg_pop_ss', 'hashtag_anxiety',\n",
       "       'hashtag_depression', 'hashtag_friends', 'hashtag_fun',\n",
       "       'hashtag_happiness', 'hashtag_happy', 'hashtag_hope', 'hashtag_lonely',\n",
       "       'hashtag_love', 'hashtag_pain', 'hashtag_peace', 'hashtag_ptsd',\n",
       "       'hashtag_sad', 'hashtag_smile', 'hashtag_stress', 'hashtag_suicide',\n",
       "       'search_anxiety', 'search_depression', 'search_happiness',\n",
       "       'search_happy'],\n",
       "      dtype='object')"
      ]
     },
     "execution_count": 162,
     "metadata": {},
     "output_type": "execute_result"
    }
   ],
   "source": [
    "tweet_dummy.columns"
   ]
  },
  {
   "cell_type": "markdown",
   "metadata": {},
   "source": [
    "##### Day Dummies"
   ]
  },
  {
   "cell_type": "code",
   "execution_count": 163,
   "metadata": {
    "ExecuteTime": {
     "end_time": "2019-05-30T16:59:23.377397Z",
     "start_time": "2019-05-30T16:59:23.178158Z"
    }
   },
   "outputs": [],
   "source": [
    "# create dummies of day column before grouping and aggregation\n",
    "day_dummies = pd.get_dummies(tweet_df.day)"
   ]
  },
  {
   "cell_type": "code",
   "execution_count": 164,
   "metadata": {
    "ExecuteTime": {
     "end_time": "2019-05-30T16:59:27.710410Z",
     "start_time": "2019-05-30T16:59:27.684259Z"
    }
   },
   "outputs": [
    {
     "data": {
      "text/html": [
       "<div>\n",
       "<style scoped>\n",
       "    .dataframe tbody tr th:only-of-type {\n",
       "        vertical-align: middle;\n",
       "    }\n",
       "\n",
       "    .dataframe tbody tr th {\n",
       "        vertical-align: top;\n",
       "    }\n",
       "\n",
       "    .dataframe thead th {\n",
       "        text-align: right;\n",
       "    }\n",
       "</style>\n",
       "<table border=\"1\" class=\"dataframe\">\n",
       "  <thead>\n",
       "    <tr style=\"text-align: right;\">\n",
       "      <th></th>\n",
       "      <th>Friday</th>\n",
       "      <th>Monday</th>\n",
       "      <th>Saturday</th>\n",
       "      <th>Sunday</th>\n",
       "      <th>Thursday</th>\n",
       "      <th>Tuesday</th>\n",
       "      <th>Wednesday</th>\n",
       "    </tr>\n",
       "  </thead>\n",
       "  <tbody>\n",
       "    <tr>\n",
       "      <th>0</th>\n",
       "      <td>0</td>\n",
       "      <td>1</td>\n",
       "      <td>0</td>\n",
       "      <td>0</td>\n",
       "      <td>0</td>\n",
       "      <td>0</td>\n",
       "      <td>0</td>\n",
       "    </tr>\n",
       "    <tr>\n",
       "      <th>1</th>\n",
       "      <td>0</td>\n",
       "      <td>1</td>\n",
       "      <td>0</td>\n",
       "      <td>0</td>\n",
       "      <td>0</td>\n",
       "      <td>0</td>\n",
       "      <td>0</td>\n",
       "    </tr>\n",
       "    <tr>\n",
       "      <th>2</th>\n",
       "      <td>0</td>\n",
       "      <td>1</td>\n",
       "      <td>0</td>\n",
       "      <td>0</td>\n",
       "      <td>0</td>\n",
       "      <td>0</td>\n",
       "      <td>0</td>\n",
       "    </tr>\n",
       "    <tr>\n",
       "      <th>3</th>\n",
       "      <td>0</td>\n",
       "      <td>1</td>\n",
       "      <td>0</td>\n",
       "      <td>0</td>\n",
       "      <td>0</td>\n",
       "      <td>0</td>\n",
       "      <td>0</td>\n",
       "    </tr>\n",
       "    <tr>\n",
       "      <th>4</th>\n",
       "      <td>0</td>\n",
       "      <td>1</td>\n",
       "      <td>0</td>\n",
       "      <td>0</td>\n",
       "      <td>0</td>\n",
       "      <td>0</td>\n",
       "      <td>0</td>\n",
       "    </tr>\n",
       "  </tbody>\n",
       "</table>\n",
       "</div>"
      ],
      "text/plain": [
       "   Friday  Monday  Saturday  Sunday  Thursday  Tuesday  Wednesday\n",
       "0       0       1         0       0         0        0          0\n",
       "1       0       1         0       0         0        0          0\n",
       "2       0       1         0       0         0        0          0\n",
       "3       0       1         0       0         0        0          0\n",
       "4       0       1         0       0         0        0          0"
      ]
     },
     "execution_count": 164,
     "metadata": {},
     "output_type": "execute_result"
    }
   ],
   "source": [
    "day_dummies.head()"
   ]
  },
  {
   "cell_type": "code",
   "execution_count": 165,
   "metadata": {
    "ExecuteTime": {
     "end_time": "2019-05-30T17:00:26.694226Z",
     "start_time": "2019-05-30T17:00:23.940528Z"
    }
   },
   "outputs": [],
   "source": [
    "# concat dummies to main df\n",
    "tweet_day = pd.concat([tweet_dummy, day_dummies.drop('Wednesday', axis=1)], axis=1)"
   ]
  },
  {
   "cell_type": "code",
   "execution_count": 166,
   "metadata": {
    "ExecuteTime": {
     "end_time": "2019-05-30T17:00:30.743750Z",
     "start_time": "2019-05-30T17:00:30.673653Z"
    }
   },
   "outputs": [
    {
     "data": {
      "text/html": [
       "<div>\n",
       "<style scoped>\n",
       "    .dataframe tbody tr th:only-of-type {\n",
       "        vertical-align: middle;\n",
       "    }\n",
       "\n",
       "    .dataframe tbody tr th {\n",
       "        vertical-align: top;\n",
       "    }\n",
       "\n",
       "    .dataframe thead th {\n",
       "        text-align: right;\n",
       "    }\n",
       "</style>\n",
       "<table border=\"1\" class=\"dataframe\">\n",
       "  <thead>\n",
       "    <tr style=\"text-align: right;\">\n",
       "      <th></th>\n",
       "      <th>conversation_id</th>\n",
       "      <th>date</th>\n",
       "      <th>hashtags</th>\n",
       "      <th>id</th>\n",
       "      <th>likes_count</th>\n",
       "      <th>name</th>\n",
       "      <th>replies_count</th>\n",
       "      <th>retweets_count</th>\n",
       "      <th>time</th>\n",
       "      <th>tweet</th>\n",
       "      <th>...</th>\n",
       "      <th>search_anxiety</th>\n",
       "      <th>search_depression</th>\n",
       "      <th>search_happiness</th>\n",
       "      <th>search_happy</th>\n",
       "      <th>Friday</th>\n",
       "      <th>Monday</th>\n",
       "      <th>Saturday</th>\n",
       "      <th>Sunday</th>\n",
       "      <th>Thursday</th>\n",
       "      <th>Tuesday</th>\n",
       "    </tr>\n",
       "  </thead>\n",
       "  <tbody>\n",
       "    <tr>\n",
       "      <th>0</th>\n",
       "      <td>1133159952065998848</td>\n",
       "      <td>2019-05-27</td>\n",
       "      <td>[]</td>\n",
       "      <td>1133159952065998848</td>\n",
       "      <td>26</td>\n",
       "      <td>Cleveland Clinic MD</td>\n",
       "      <td>1</td>\n",
       "      <td>13</td>\n",
       "      <td>1956</td>\n",
       "      <td>A patient presented with fatigue, headaches, d...</td>\n",
       "      <td>...</td>\n",
       "      <td>0</td>\n",
       "      <td>1</td>\n",
       "      <td>0</td>\n",
       "      <td>0</td>\n",
       "      <td>0</td>\n",
       "      <td>1</td>\n",
       "      <td>0</td>\n",
       "      <td>0</td>\n",
       "      <td>0</td>\n",
       "      <td>0</td>\n",
       "    </tr>\n",
       "    <tr>\n",
       "      <th>1</th>\n",
       "      <td>1133152414708764672</td>\n",
       "      <td>2019-05-27</td>\n",
       "      <td>[]</td>\n",
       "      <td>1133152414708764673</td>\n",
       "      <td>3</td>\n",
       "      <td>12 News</td>\n",
       "      <td>0</td>\n",
       "      <td>2</td>\n",
       "      <td>1926</td>\n",
       "      <td>The 23-time gold medalist swimmer and Valley r...</td>\n",
       "      <td>...</td>\n",
       "      <td>0</td>\n",
       "      <td>1</td>\n",
       "      <td>0</td>\n",
       "      <td>0</td>\n",
       "      <td>0</td>\n",
       "      <td>1</td>\n",
       "      <td>0</td>\n",
       "      <td>0</td>\n",
       "      <td>0</td>\n",
       "      <td>0</td>\n",
       "    </tr>\n",
       "    <tr>\n",
       "      <th>2</th>\n",
       "      <td>1133148641596706816</td>\n",
       "      <td>2019-05-27</td>\n",
       "      <td>[]</td>\n",
       "      <td>1133148641596706816</td>\n",
       "      <td>11</td>\n",
       "      <td>necn</td>\n",
       "      <td>1</td>\n",
       "      <td>3</td>\n",
       "      <td>1911</td>\n",
       "      <td>When Blake opened the ice cream shop in the mi...</td>\n",
       "      <td>...</td>\n",
       "      <td>0</td>\n",
       "      <td>1</td>\n",
       "      <td>0</td>\n",
       "      <td>0</td>\n",
       "      <td>0</td>\n",
       "      <td>1</td>\n",
       "      <td>0</td>\n",
       "      <td>0</td>\n",
       "      <td>0</td>\n",
       "      <td>0</td>\n",
       "    </tr>\n",
       "    <tr>\n",
       "      <th>3</th>\n",
       "      <td>1133144745285341184</td>\n",
       "      <td>2019-05-27</td>\n",
       "      <td>[]</td>\n",
       "      <td>1133144745285341184</td>\n",
       "      <td>27</td>\n",
       "      <td>Trains Info</td>\n",
       "      <td>0</td>\n",
       "      <td>8</td>\n",
       "      <td>1855</td>\n",
       "      <td>Don't suffer in silence, If you or someone you...</td>\n",
       "      <td>...</td>\n",
       "      <td>0</td>\n",
       "      <td>1</td>\n",
       "      <td>0</td>\n",
       "      <td>0</td>\n",
       "      <td>0</td>\n",
       "      <td>1</td>\n",
       "      <td>0</td>\n",
       "      <td>0</td>\n",
       "      <td>0</td>\n",
       "      <td>0</td>\n",
       "    </tr>\n",
       "    <tr>\n",
       "      <th>4</th>\n",
       "      <td>1133143854910251008</td>\n",
       "      <td>2019-05-27</td>\n",
       "      <td>[]</td>\n",
       "      <td>1133143854910251015</td>\n",
       "      <td>592</td>\n",
       "      <td>Jeffrey Guterman</td>\n",
       "      <td>67</td>\n",
       "      <td>74</td>\n",
       "      <td>1852</td>\n",
       "      <td>Look it! The tRump supporter trying to stigmat...</td>\n",
       "      <td>...</td>\n",
       "      <td>0</td>\n",
       "      <td>1</td>\n",
       "      <td>0</td>\n",
       "      <td>0</td>\n",
       "      <td>0</td>\n",
       "      <td>1</td>\n",
       "      <td>0</td>\n",
       "      <td>0</td>\n",
       "      <td>0</td>\n",
       "      <td>0</td>\n",
       "    </tr>\n",
       "  </tbody>\n",
       "</table>\n",
       "<p>5 rows × 52 columns</p>\n",
       "</div>"
      ],
      "text/plain": [
       "       conversation_id       date hashtags                   id  likes_count  \\\n",
       "0  1133159952065998848 2019-05-27       []  1133159952065998848           26   \n",
       "1  1133152414708764672 2019-05-27       []  1133152414708764673            3   \n",
       "2  1133148641596706816 2019-05-27       []  1133148641596706816           11   \n",
       "3  1133144745285341184 2019-05-27       []  1133144745285341184           27   \n",
       "4  1133143854910251008 2019-05-27       []  1133143854910251015          592   \n",
       "\n",
       "                  name  replies_count  retweets_count  time  \\\n",
       "0  Cleveland Clinic MD              1              13  1956   \n",
       "1              12 News              0               2  1926   \n",
       "2                 necn              1               3  1911   \n",
       "3          Trains Info              0               8  1855   \n",
       "4     Jeffrey Guterman             67              74  1852   \n",
       "\n",
       "                                               tweet  ...  search_anxiety  \\\n",
       "0  A patient presented with fatigue, headaches, d...  ...               0   \n",
       "1  The 23-time gold medalist swimmer and Valley r...  ...               0   \n",
       "2  When Blake opened the ice cream shop in the mi...  ...               0   \n",
       "3  Don't suffer in silence, If you or someone you...  ...               0   \n",
       "4  Look it! The tRump supporter trying to stigmat...  ...               0   \n",
       "\n",
       "  search_depression  search_happiness  search_happy Friday  Monday Saturday  \\\n",
       "0                 1                 0             0      0       1        0   \n",
       "1                 1                 0             0      0       1        0   \n",
       "2                 1                 0             0      0       1        0   \n",
       "3                 1                 0             0      0       1        0   \n",
       "4                 1                 0             0      0       1        0   \n",
       "\n",
       "   Sunday Thursday Tuesday  \n",
       "0       0        0       0  \n",
       "1       0        0       0  \n",
       "2       0        0       0  \n",
       "3       0        0       0  \n",
       "4       0        0       0  \n",
       "\n",
       "[5 rows x 52 columns]"
      ]
     },
     "execution_count": 166,
     "metadata": {},
     "output_type": "execute_result"
    }
   ],
   "source": [
    "tweet_day.head()"
   ]
  },
  {
   "cell_type": "code",
   "execution_count": 167,
   "metadata": {
    "ExecuteTime": {
     "end_time": "2019-05-30T17:00:56.761765Z",
     "start_time": "2019-05-30T17:00:54.655800Z"
    },
    "collapsed": true
   },
   "outputs": [
    {
     "name": "stdout",
     "output_type": "stream",
     "text": [
      "<class 'pandas.core.frame.DataFrame'>\n",
      "Int64Index: 634636 entries, 0 to 634635\n",
      "Data columns (total 52 columns):\n",
      "conversation_id       634636 non-null int64\n",
      "date                  634636 non-null datetime64[ns]\n",
      "hashtags              634636 non-null object\n",
      "id                    634636 non-null int64\n",
      "likes_count           634636 non-null int64\n",
      "name                  634636 non-null object\n",
      "replies_count         634636 non-null int64\n",
      "retweets_count        634636 non-null int64\n",
      "time                  634636 non-null int16\n",
      "tweet                 634636 non-null object\n",
      "user_id               634636 non-null int64\n",
      "username              634636 non-null object\n",
      "tweet_ss              634636 non-null float64\n",
      "target                634636 non-null int64\n",
      "tag                   634636 non-null object\n",
      "num_hashtags          634636 non-null int64\n",
      "time_of_day           634636 non-null object\n",
      "month                 634636 non-null int64\n",
      "day                   634636 non-null object\n",
      "season                634636 non-null object\n",
      "avg_convo_ss          634636 non-null float64\n",
      "avg_day_ss            634636 non-null float64\n",
      "avg_season_ss         634636 non-null float64\n",
      "avg_time_of_day_ss    634636 non-null float64\n",
      "avg_tag_ss            634636 non-null float64\n",
      "avg_pop_ss            634636 non-null float64\n",
      "hashtag_anxiety       634636 non-null uint8\n",
      "hashtag_depression    634636 non-null uint8\n",
      "hashtag_friends       634636 non-null uint8\n",
      "hashtag_fun           634636 non-null uint8\n",
      "hashtag_happiness     634636 non-null uint8\n",
      "hashtag_happy         634636 non-null uint8\n",
      "hashtag_hope          634636 non-null uint8\n",
      "hashtag_lonely        634636 non-null uint8\n",
      "hashtag_love          634636 non-null uint8\n",
      "hashtag_pain          634636 non-null uint8\n",
      "hashtag_peace         634636 non-null uint8\n",
      "hashtag_ptsd          634636 non-null uint8\n",
      "hashtag_sad           634636 non-null uint8\n",
      "hashtag_smile         634636 non-null uint8\n",
      "hashtag_stress        634636 non-null uint8\n",
      "hashtag_suicide       634636 non-null uint8\n",
      "search_anxiety        634636 non-null uint8\n",
      "search_depression     634636 non-null uint8\n",
      "search_happiness      634636 non-null uint8\n",
      "search_happy          634636 non-null uint8\n",
      "Friday                634636 non-null uint8\n",
      "Monday                634636 non-null uint8\n",
      "Saturday              634636 non-null uint8\n",
      "Sunday                634636 non-null uint8\n",
      "Thursday              634636 non-null uint8\n",
      "Tuesday               634636 non-null uint8\n",
      "dtypes: datetime64[ns](1), float64(7), int16(1), int64(9), object(8), uint8(26)\n",
      "memory usage: 162.8+ MB\n"
     ]
    }
   ],
   "source": [
    "tweet_day.info()"
   ]
  },
  {
   "cell_type": "code",
   "execution_count": 191,
   "metadata": {
    "ExecuteTime": {
     "end_time": "2019-05-30T17:24:50.677640Z",
     "start_time": "2019-05-30T17:24:50.668220Z"
    }
   },
   "outputs": [
    {
     "data": {
      "text/plain": [
       "Index(['conversation_id', 'date', 'hashtags', 'id', 'likes_count', 'name',\n",
       "       'replies_count', 'retweets_count', 'time', 'tweet', 'user_id',\n",
       "       'username', 'tweet_ss', 'target', 'tag', 'num_hashtags', 'time_of_day',\n",
       "       'month', 'day', 'season', 'avg_convo_ss', 'avg_day_ss', 'avg_season_ss',\n",
       "       'avg_time_of_day_ss', 'avg_tag_ss', 'avg_pop_ss', 'hashtag_anxiety',\n",
       "       'hashtag_depression', 'hashtag_friends', 'hashtag_fun',\n",
       "       'hashtag_happiness', 'hashtag_happy', 'hashtag_hope', 'hashtag_lonely',\n",
       "       'hashtag_love', 'hashtag_pain', 'hashtag_peace', 'hashtag_ptsd',\n",
       "       'hashtag_sad', 'hashtag_smile', 'hashtag_stress', 'hashtag_suicide',\n",
       "       'search_anxiety', 'search_depression', 'search_happiness',\n",
       "       'search_happy', 'Friday', 'Monday', 'Saturday', 'Sunday', 'Thursday',\n",
       "       'Tuesday'],\n",
       "      dtype='object')"
      ]
     },
     "execution_count": 191,
     "metadata": {},
     "output_type": "execute_result"
    }
   ],
   "source": [
    "tweet_day.columns"
   ]
  },
  {
   "cell_type": "markdown",
   "metadata": {},
   "source": [
    "##### Season Dummies"
   ]
  },
  {
   "cell_type": "code",
   "execution_count": 168,
   "metadata": {
    "ExecuteTime": {
     "end_time": "2019-05-30T17:15:02.660180Z",
     "start_time": "2019-05-30T17:15:02.519100Z"
    }
   },
   "outputs": [],
   "source": [
    "# create dummies of season column\n",
    "season_dummies = pd.get_dummies(tweet_df.season)"
   ]
  },
  {
   "cell_type": "code",
   "execution_count": 169,
   "metadata": {
    "ExecuteTime": {
     "end_time": "2019-05-30T17:15:20.395231Z",
     "start_time": "2019-05-30T17:15:20.372734Z"
    }
   },
   "outputs": [
    {
     "data": {
      "text/html": [
       "<div>\n",
       "<style scoped>\n",
       "    .dataframe tbody tr th:only-of-type {\n",
       "        vertical-align: middle;\n",
       "    }\n",
       "\n",
       "    .dataframe tbody tr th {\n",
       "        vertical-align: top;\n",
       "    }\n",
       "\n",
       "    .dataframe thead th {\n",
       "        text-align: right;\n",
       "    }\n",
       "</style>\n",
       "<table border=\"1\" class=\"dataframe\">\n",
       "  <thead>\n",
       "    <tr style=\"text-align: right;\">\n",
       "      <th></th>\n",
       "      <th>autumn</th>\n",
       "      <th>spring</th>\n",
       "      <th>summer</th>\n",
       "      <th>winter</th>\n",
       "    </tr>\n",
       "  </thead>\n",
       "  <tbody>\n",
       "    <tr>\n",
       "      <th>0</th>\n",
       "      <td>0</td>\n",
       "      <td>1</td>\n",
       "      <td>0</td>\n",
       "      <td>0</td>\n",
       "    </tr>\n",
       "    <tr>\n",
       "      <th>1</th>\n",
       "      <td>0</td>\n",
       "      <td>1</td>\n",
       "      <td>0</td>\n",
       "      <td>0</td>\n",
       "    </tr>\n",
       "    <tr>\n",
       "      <th>2</th>\n",
       "      <td>0</td>\n",
       "      <td>1</td>\n",
       "      <td>0</td>\n",
       "      <td>0</td>\n",
       "    </tr>\n",
       "    <tr>\n",
       "      <th>3</th>\n",
       "      <td>0</td>\n",
       "      <td>1</td>\n",
       "      <td>0</td>\n",
       "      <td>0</td>\n",
       "    </tr>\n",
       "    <tr>\n",
       "      <th>4</th>\n",
       "      <td>0</td>\n",
       "      <td>1</td>\n",
       "      <td>0</td>\n",
       "      <td>0</td>\n",
       "    </tr>\n",
       "  </tbody>\n",
       "</table>\n",
       "</div>"
      ],
      "text/plain": [
       "   autumn  spring  summer  winter\n",
       "0       0       1       0       0\n",
       "1       0       1       0       0\n",
       "2       0       1       0       0\n",
       "3       0       1       0       0\n",
       "4       0       1       0       0"
      ]
     },
     "execution_count": 169,
     "metadata": {},
     "output_type": "execute_result"
    }
   ],
   "source": [
    "season_dummies.head()"
   ]
  },
  {
   "cell_type": "code",
   "execution_count": 179,
   "metadata": {
    "ExecuteTime": {
     "end_time": "2019-05-30T17:18:45.299791Z",
     "start_time": "2019-05-30T17:18:44.529466Z"
    }
   },
   "outputs": [],
   "source": [
    "# concat dummies to main df\n",
    "tweet_season = pd.concat([tweet_day, season_dummies.drop('winter', axis=1)], axis=1)"
   ]
  },
  {
   "cell_type": "code",
   "execution_count": 180,
   "metadata": {
    "ExecuteTime": {
     "end_time": "2019-05-30T17:18:46.006009Z",
     "start_time": "2019-05-30T17:18:45.962590Z"
    }
   },
   "outputs": [
    {
     "data": {
      "text/html": [
       "<div>\n",
       "<style scoped>\n",
       "    .dataframe tbody tr th:only-of-type {\n",
       "        vertical-align: middle;\n",
       "    }\n",
       "\n",
       "    .dataframe tbody tr th {\n",
       "        vertical-align: top;\n",
       "    }\n",
       "\n",
       "    .dataframe thead th {\n",
       "        text-align: right;\n",
       "    }\n",
       "</style>\n",
       "<table border=\"1\" class=\"dataframe\">\n",
       "  <thead>\n",
       "    <tr style=\"text-align: right;\">\n",
       "      <th></th>\n",
       "      <th>conversation_id</th>\n",
       "      <th>date</th>\n",
       "      <th>hashtags</th>\n",
       "      <th>id</th>\n",
       "      <th>likes_count</th>\n",
       "      <th>name</th>\n",
       "      <th>replies_count</th>\n",
       "      <th>retweets_count</th>\n",
       "      <th>time</th>\n",
       "      <th>tweet</th>\n",
       "      <th>...</th>\n",
       "      <th>search_happy</th>\n",
       "      <th>Friday</th>\n",
       "      <th>Monday</th>\n",
       "      <th>Saturday</th>\n",
       "      <th>Sunday</th>\n",
       "      <th>Thursday</th>\n",
       "      <th>Tuesday</th>\n",
       "      <th>autumn</th>\n",
       "      <th>spring</th>\n",
       "      <th>summer</th>\n",
       "    </tr>\n",
       "  </thead>\n",
       "  <tbody>\n",
       "    <tr>\n",
       "      <th>0</th>\n",
       "      <td>1133159952065998848</td>\n",
       "      <td>2019-05-27</td>\n",
       "      <td>[]</td>\n",
       "      <td>1133159952065998848</td>\n",
       "      <td>26</td>\n",
       "      <td>Cleveland Clinic MD</td>\n",
       "      <td>1</td>\n",
       "      <td>13</td>\n",
       "      <td>1956</td>\n",
       "      <td>A patient presented with fatigue, headaches, d...</td>\n",
       "      <td>...</td>\n",
       "      <td>0</td>\n",
       "      <td>0</td>\n",
       "      <td>1</td>\n",
       "      <td>0</td>\n",
       "      <td>0</td>\n",
       "      <td>0</td>\n",
       "      <td>0</td>\n",
       "      <td>0</td>\n",
       "      <td>1</td>\n",
       "      <td>0</td>\n",
       "    </tr>\n",
       "    <tr>\n",
       "      <th>1</th>\n",
       "      <td>1133152414708764672</td>\n",
       "      <td>2019-05-27</td>\n",
       "      <td>[]</td>\n",
       "      <td>1133152414708764673</td>\n",
       "      <td>3</td>\n",
       "      <td>12 News</td>\n",
       "      <td>0</td>\n",
       "      <td>2</td>\n",
       "      <td>1926</td>\n",
       "      <td>The 23-time gold medalist swimmer and Valley r...</td>\n",
       "      <td>...</td>\n",
       "      <td>0</td>\n",
       "      <td>0</td>\n",
       "      <td>1</td>\n",
       "      <td>0</td>\n",
       "      <td>0</td>\n",
       "      <td>0</td>\n",
       "      <td>0</td>\n",
       "      <td>0</td>\n",
       "      <td>1</td>\n",
       "      <td>0</td>\n",
       "    </tr>\n",
       "    <tr>\n",
       "      <th>2</th>\n",
       "      <td>1133148641596706816</td>\n",
       "      <td>2019-05-27</td>\n",
       "      <td>[]</td>\n",
       "      <td>1133148641596706816</td>\n",
       "      <td>11</td>\n",
       "      <td>necn</td>\n",
       "      <td>1</td>\n",
       "      <td>3</td>\n",
       "      <td>1911</td>\n",
       "      <td>When Blake opened the ice cream shop in the mi...</td>\n",
       "      <td>...</td>\n",
       "      <td>0</td>\n",
       "      <td>0</td>\n",
       "      <td>1</td>\n",
       "      <td>0</td>\n",
       "      <td>0</td>\n",
       "      <td>0</td>\n",
       "      <td>0</td>\n",
       "      <td>0</td>\n",
       "      <td>1</td>\n",
       "      <td>0</td>\n",
       "    </tr>\n",
       "    <tr>\n",
       "      <th>3</th>\n",
       "      <td>1133144745285341184</td>\n",
       "      <td>2019-05-27</td>\n",
       "      <td>[]</td>\n",
       "      <td>1133144745285341184</td>\n",
       "      <td>27</td>\n",
       "      <td>Trains Info</td>\n",
       "      <td>0</td>\n",
       "      <td>8</td>\n",
       "      <td>1855</td>\n",
       "      <td>Don't suffer in silence, If you or someone you...</td>\n",
       "      <td>...</td>\n",
       "      <td>0</td>\n",
       "      <td>0</td>\n",
       "      <td>1</td>\n",
       "      <td>0</td>\n",
       "      <td>0</td>\n",
       "      <td>0</td>\n",
       "      <td>0</td>\n",
       "      <td>0</td>\n",
       "      <td>1</td>\n",
       "      <td>0</td>\n",
       "    </tr>\n",
       "    <tr>\n",
       "      <th>4</th>\n",
       "      <td>1133143854910251008</td>\n",
       "      <td>2019-05-27</td>\n",
       "      <td>[]</td>\n",
       "      <td>1133143854910251015</td>\n",
       "      <td>592</td>\n",
       "      <td>Jeffrey Guterman</td>\n",
       "      <td>67</td>\n",
       "      <td>74</td>\n",
       "      <td>1852</td>\n",
       "      <td>Look it! The tRump supporter trying to stigmat...</td>\n",
       "      <td>...</td>\n",
       "      <td>0</td>\n",
       "      <td>0</td>\n",
       "      <td>1</td>\n",
       "      <td>0</td>\n",
       "      <td>0</td>\n",
       "      <td>0</td>\n",
       "      <td>0</td>\n",
       "      <td>0</td>\n",
       "      <td>1</td>\n",
       "      <td>0</td>\n",
       "    </tr>\n",
       "  </tbody>\n",
       "</table>\n",
       "<p>5 rows × 55 columns</p>\n",
       "</div>"
      ],
      "text/plain": [
       "       conversation_id       date hashtags                   id  likes_count  \\\n",
       "0  1133159952065998848 2019-05-27       []  1133159952065998848           26   \n",
       "1  1133152414708764672 2019-05-27       []  1133152414708764673            3   \n",
       "2  1133148641596706816 2019-05-27       []  1133148641596706816           11   \n",
       "3  1133144745285341184 2019-05-27       []  1133144745285341184           27   \n",
       "4  1133143854910251008 2019-05-27       []  1133143854910251015          592   \n",
       "\n",
       "                  name  replies_count  retweets_count  time  \\\n",
       "0  Cleveland Clinic MD              1              13  1956   \n",
       "1              12 News              0               2  1926   \n",
       "2                 necn              1               3  1911   \n",
       "3          Trains Info              0               8  1855   \n",
       "4     Jeffrey Guterman             67              74  1852   \n",
       "\n",
       "                                               tweet  ...  search_happy  \\\n",
       "0  A patient presented with fatigue, headaches, d...  ...             0   \n",
       "1  The 23-time gold medalist swimmer and Valley r...  ...             0   \n",
       "2  When Blake opened the ice cream shop in the mi...  ...             0   \n",
       "3  Don't suffer in silence, If you or someone you...  ...             0   \n",
       "4  Look it! The tRump supporter trying to stigmat...  ...             0   \n",
       "\n",
       "  Friday  Monday  Saturday Sunday  Thursday Tuesday  autumn spring summer  \n",
       "0      0       1         0      0         0       0       0      1      0  \n",
       "1      0       1         0      0         0       0       0      1      0  \n",
       "2      0       1         0      0         0       0       0      1      0  \n",
       "3      0       1         0      0         0       0       0      1      0  \n",
       "4      0       1         0      0         0       0       0      1      0  \n",
       "\n",
       "[5 rows x 55 columns]"
      ]
     },
     "execution_count": 180,
     "metadata": {},
     "output_type": "execute_result"
    }
   ],
   "source": [
    "tweet_season.head()"
   ]
  },
  {
   "cell_type": "code",
   "execution_count": 181,
   "metadata": {
    "ExecuteTime": {
     "end_time": "2019-05-30T17:18:54.785140Z",
     "start_time": "2019-05-30T17:18:50.975245Z"
    },
    "scrolled": true
   },
   "outputs": [
    {
     "name": "stdout",
     "output_type": "stream",
     "text": [
      "<class 'pandas.core.frame.DataFrame'>\n",
      "Int64Index: 634636 entries, 0 to 634635\n",
      "Data columns (total 55 columns):\n",
      "conversation_id       634636 non-null int64\n",
      "date                  634636 non-null datetime64[ns]\n",
      "hashtags              634636 non-null object\n",
      "id                    634636 non-null int64\n",
      "likes_count           634636 non-null int64\n",
      "name                  634636 non-null object\n",
      "replies_count         634636 non-null int64\n",
      "retweets_count        634636 non-null int64\n",
      "time                  634636 non-null int16\n",
      "tweet                 634636 non-null object\n",
      "user_id               634636 non-null int64\n",
      "username              634636 non-null object\n",
      "tweet_ss              634636 non-null float64\n",
      "target                634636 non-null int64\n",
      "tag                   634636 non-null object\n",
      "num_hashtags          634636 non-null int64\n",
      "time_of_day           634636 non-null object\n",
      "month                 634636 non-null int64\n",
      "day                   634636 non-null object\n",
      "season                634636 non-null object\n",
      "avg_convo_ss          634636 non-null float64\n",
      "avg_day_ss            634636 non-null float64\n",
      "avg_season_ss         634636 non-null float64\n",
      "avg_time_of_day_ss    634636 non-null float64\n",
      "avg_tag_ss            634636 non-null float64\n",
      "avg_pop_ss            634636 non-null float64\n",
      "hashtag_anxiety       634636 non-null uint8\n",
      "hashtag_depression    634636 non-null uint8\n",
      "hashtag_friends       634636 non-null uint8\n",
      "hashtag_fun           634636 non-null uint8\n",
      "hashtag_happiness     634636 non-null uint8\n",
      "hashtag_happy         634636 non-null uint8\n",
      "hashtag_hope          634636 non-null uint8\n",
      "hashtag_lonely        634636 non-null uint8\n",
      "hashtag_love          634636 non-null uint8\n",
      "hashtag_pain          634636 non-null uint8\n",
      "hashtag_peace         634636 non-null uint8\n",
      "hashtag_ptsd          634636 non-null uint8\n",
      "hashtag_sad           634636 non-null uint8\n",
      "hashtag_smile         634636 non-null uint8\n",
      "hashtag_stress        634636 non-null uint8\n",
      "hashtag_suicide       634636 non-null uint8\n",
      "search_anxiety        634636 non-null uint8\n",
      "search_depression     634636 non-null uint8\n",
      "search_happiness      634636 non-null uint8\n",
      "search_happy          634636 non-null uint8\n",
      "Friday                634636 non-null uint8\n",
      "Monday                634636 non-null uint8\n",
      "Saturday              634636 non-null uint8\n",
      "Sunday                634636 non-null uint8\n",
      "Thursday              634636 non-null uint8\n",
      "Tuesday               634636 non-null uint8\n",
      "autumn                634636 non-null uint8\n",
      "spring                634636 non-null uint8\n",
      "summer                634636 non-null uint8\n",
      "dtypes: datetime64[ns](1), float64(7), int16(1), int64(9), object(8), uint8(29)\n",
      "memory usage: 164.7+ MB\n"
     ]
    }
   ],
   "source": [
    "tweet_season.info()"
   ]
  },
  {
   "cell_type": "code",
   "execution_count": 192,
   "metadata": {
    "ExecuteTime": {
     "end_time": "2019-05-30T17:25:49.109198Z",
     "start_time": "2019-05-30T17:25:49.094639Z"
    }
   },
   "outputs": [
    {
     "data": {
      "text/plain": [
       "Index(['conversation_id', 'date', 'hashtags', 'id', 'likes_count', 'name',\n",
       "       'replies_count', 'retweets_count', 'time', 'tweet', 'user_id',\n",
       "       'username', 'tweet_ss', 'target', 'tag', 'num_hashtags', 'time_of_day',\n",
       "       'month', 'day', 'season', 'avg_convo_ss', 'avg_day_ss', 'avg_season_ss',\n",
       "       'avg_time_of_day_ss', 'avg_tag_ss', 'avg_pop_ss', 'hashtag_anxiety',\n",
       "       'hashtag_depression', 'hashtag_friends', 'hashtag_fun',\n",
       "       'hashtag_happiness', 'hashtag_happy', 'hashtag_hope', 'hashtag_lonely',\n",
       "       'hashtag_love', 'hashtag_pain', 'hashtag_peace', 'hashtag_ptsd',\n",
       "       'hashtag_sad', 'hashtag_smile', 'hashtag_stress', 'hashtag_suicide',\n",
       "       'search_anxiety', 'search_depression', 'search_happiness',\n",
       "       'search_happy', 'Friday', 'Monday', 'Saturday', 'Sunday', 'Thursday',\n",
       "       'Tuesday', 'autumn', 'spring', 'summer'],\n",
       "      dtype='object')"
      ]
     },
     "execution_count": 192,
     "metadata": {},
     "output_type": "execute_result"
    }
   ],
   "source": [
    "tweet_season.columns"
   ]
  },
  {
   "cell_type": "markdown",
   "metadata": {},
   "source": [
    "##### Month Dummies"
   ]
  },
  {
   "cell_type": "code",
   "execution_count": 182,
   "metadata": {
    "ExecuteTime": {
     "end_time": "2019-05-30T17:19:18.616310Z",
     "start_time": "2019-05-30T17:19:18.560615Z"
    }
   },
   "outputs": [],
   "source": [
    "# create dummies of month column\n",
    "month_dummies = pd.get_dummies(tweet_df.month, prefix='Month')"
   ]
  },
  {
   "cell_type": "code",
   "execution_count": 183,
   "metadata": {
    "ExecuteTime": {
     "end_time": "2019-05-30T17:19:19.107149Z",
     "start_time": "2019-05-30T17:19:19.085543Z"
    }
   },
   "outputs": [
    {
     "data": {
      "text/html": [
       "<div>\n",
       "<style scoped>\n",
       "    .dataframe tbody tr th:only-of-type {\n",
       "        vertical-align: middle;\n",
       "    }\n",
       "\n",
       "    .dataframe tbody tr th {\n",
       "        vertical-align: top;\n",
       "    }\n",
       "\n",
       "    .dataframe thead th {\n",
       "        text-align: right;\n",
       "    }\n",
       "</style>\n",
       "<table border=\"1\" class=\"dataframe\">\n",
       "  <thead>\n",
       "    <tr style=\"text-align: right;\">\n",
       "      <th></th>\n",
       "      <th>Month_1</th>\n",
       "      <th>Month_2</th>\n",
       "      <th>Month_3</th>\n",
       "      <th>Month_4</th>\n",
       "      <th>Month_5</th>\n",
       "      <th>Month_6</th>\n",
       "      <th>Month_7</th>\n",
       "      <th>Month_8</th>\n",
       "      <th>Month_9</th>\n",
       "      <th>Month_10</th>\n",
       "      <th>Month_11</th>\n",
       "      <th>Month_12</th>\n",
       "    </tr>\n",
       "  </thead>\n",
       "  <tbody>\n",
       "    <tr>\n",
       "      <th>0</th>\n",
       "      <td>0</td>\n",
       "      <td>0</td>\n",
       "      <td>0</td>\n",
       "      <td>0</td>\n",
       "      <td>1</td>\n",
       "      <td>0</td>\n",
       "      <td>0</td>\n",
       "      <td>0</td>\n",
       "      <td>0</td>\n",
       "      <td>0</td>\n",
       "      <td>0</td>\n",
       "      <td>0</td>\n",
       "    </tr>\n",
       "    <tr>\n",
       "      <th>1</th>\n",
       "      <td>0</td>\n",
       "      <td>0</td>\n",
       "      <td>0</td>\n",
       "      <td>0</td>\n",
       "      <td>1</td>\n",
       "      <td>0</td>\n",
       "      <td>0</td>\n",
       "      <td>0</td>\n",
       "      <td>0</td>\n",
       "      <td>0</td>\n",
       "      <td>0</td>\n",
       "      <td>0</td>\n",
       "    </tr>\n",
       "    <tr>\n",
       "      <th>2</th>\n",
       "      <td>0</td>\n",
       "      <td>0</td>\n",
       "      <td>0</td>\n",
       "      <td>0</td>\n",
       "      <td>1</td>\n",
       "      <td>0</td>\n",
       "      <td>0</td>\n",
       "      <td>0</td>\n",
       "      <td>0</td>\n",
       "      <td>0</td>\n",
       "      <td>0</td>\n",
       "      <td>0</td>\n",
       "    </tr>\n",
       "    <tr>\n",
       "      <th>3</th>\n",
       "      <td>0</td>\n",
       "      <td>0</td>\n",
       "      <td>0</td>\n",
       "      <td>0</td>\n",
       "      <td>1</td>\n",
       "      <td>0</td>\n",
       "      <td>0</td>\n",
       "      <td>0</td>\n",
       "      <td>0</td>\n",
       "      <td>0</td>\n",
       "      <td>0</td>\n",
       "      <td>0</td>\n",
       "    </tr>\n",
       "    <tr>\n",
       "      <th>4</th>\n",
       "      <td>0</td>\n",
       "      <td>0</td>\n",
       "      <td>0</td>\n",
       "      <td>0</td>\n",
       "      <td>1</td>\n",
       "      <td>0</td>\n",
       "      <td>0</td>\n",
       "      <td>0</td>\n",
       "      <td>0</td>\n",
       "      <td>0</td>\n",
       "      <td>0</td>\n",
       "      <td>0</td>\n",
       "    </tr>\n",
       "  </tbody>\n",
       "</table>\n",
       "</div>"
      ],
      "text/plain": [
       "   Month_1  Month_2  Month_3  Month_4  Month_5  Month_6  Month_7  Month_8  \\\n",
       "0        0        0        0        0        1        0        0        0   \n",
       "1        0        0        0        0        1        0        0        0   \n",
       "2        0        0        0        0        1        0        0        0   \n",
       "3        0        0        0        0        1        0        0        0   \n",
       "4        0        0        0        0        1        0        0        0   \n",
       "\n",
       "   Month_9  Month_10  Month_11  Month_12  \n",
       "0        0         0         0         0  \n",
       "1        0         0         0         0  \n",
       "2        0         0         0         0  \n",
       "3        0         0         0         0  \n",
       "4        0         0         0         0  "
      ]
     },
     "execution_count": 183,
     "metadata": {},
     "output_type": "execute_result"
    }
   ],
   "source": [
    "month_dummies.head()"
   ]
  },
  {
   "cell_type": "code",
   "execution_count": 184,
   "metadata": {
    "ExecuteTime": {
     "end_time": "2019-05-30T17:19:21.660334Z",
     "start_time": "2019-05-30T17:19:21.226826Z"
    }
   },
   "outputs": [],
   "source": [
    "# concat dummies to main df\n",
    "tweet_month = pd.concat([tweet_season, month_dummies.drop('Month_5', axis=1)], axis=1)"
   ]
  },
  {
   "cell_type": "code",
   "execution_count": 185,
   "metadata": {
    "ExecuteTime": {
     "end_time": "2019-05-30T17:19:23.482695Z",
     "start_time": "2019-05-30T17:19:23.433778Z"
    }
   },
   "outputs": [
    {
     "data": {
      "text/html": [
       "<div>\n",
       "<style scoped>\n",
       "    .dataframe tbody tr th:only-of-type {\n",
       "        vertical-align: middle;\n",
       "    }\n",
       "\n",
       "    .dataframe tbody tr th {\n",
       "        vertical-align: top;\n",
       "    }\n",
       "\n",
       "    .dataframe thead th {\n",
       "        text-align: right;\n",
       "    }\n",
       "</style>\n",
       "<table border=\"1\" class=\"dataframe\">\n",
       "  <thead>\n",
       "    <tr style=\"text-align: right;\">\n",
       "      <th></th>\n",
       "      <th>conversation_id</th>\n",
       "      <th>date</th>\n",
       "      <th>hashtags</th>\n",
       "      <th>id</th>\n",
       "      <th>likes_count</th>\n",
       "      <th>name</th>\n",
       "      <th>replies_count</th>\n",
       "      <th>retweets_count</th>\n",
       "      <th>time</th>\n",
       "      <th>tweet</th>\n",
       "      <th>...</th>\n",
       "      <th>Month_2</th>\n",
       "      <th>Month_3</th>\n",
       "      <th>Month_4</th>\n",
       "      <th>Month_6</th>\n",
       "      <th>Month_7</th>\n",
       "      <th>Month_8</th>\n",
       "      <th>Month_9</th>\n",
       "      <th>Month_10</th>\n",
       "      <th>Month_11</th>\n",
       "      <th>Month_12</th>\n",
       "    </tr>\n",
       "  </thead>\n",
       "  <tbody>\n",
       "    <tr>\n",
       "      <th>0</th>\n",
       "      <td>1133159952065998848</td>\n",
       "      <td>2019-05-27</td>\n",
       "      <td>[]</td>\n",
       "      <td>1133159952065998848</td>\n",
       "      <td>26</td>\n",
       "      <td>Cleveland Clinic MD</td>\n",
       "      <td>1</td>\n",
       "      <td>13</td>\n",
       "      <td>1956</td>\n",
       "      <td>A patient presented with fatigue, headaches, d...</td>\n",
       "      <td>...</td>\n",
       "      <td>0</td>\n",
       "      <td>0</td>\n",
       "      <td>0</td>\n",
       "      <td>0</td>\n",
       "      <td>0</td>\n",
       "      <td>0</td>\n",
       "      <td>0</td>\n",
       "      <td>0</td>\n",
       "      <td>0</td>\n",
       "      <td>0</td>\n",
       "    </tr>\n",
       "    <tr>\n",
       "      <th>1</th>\n",
       "      <td>1133152414708764672</td>\n",
       "      <td>2019-05-27</td>\n",
       "      <td>[]</td>\n",
       "      <td>1133152414708764673</td>\n",
       "      <td>3</td>\n",
       "      <td>12 News</td>\n",
       "      <td>0</td>\n",
       "      <td>2</td>\n",
       "      <td>1926</td>\n",
       "      <td>The 23-time gold medalist swimmer and Valley r...</td>\n",
       "      <td>...</td>\n",
       "      <td>0</td>\n",
       "      <td>0</td>\n",
       "      <td>0</td>\n",
       "      <td>0</td>\n",
       "      <td>0</td>\n",
       "      <td>0</td>\n",
       "      <td>0</td>\n",
       "      <td>0</td>\n",
       "      <td>0</td>\n",
       "      <td>0</td>\n",
       "    </tr>\n",
       "    <tr>\n",
       "      <th>2</th>\n",
       "      <td>1133148641596706816</td>\n",
       "      <td>2019-05-27</td>\n",
       "      <td>[]</td>\n",
       "      <td>1133148641596706816</td>\n",
       "      <td>11</td>\n",
       "      <td>necn</td>\n",
       "      <td>1</td>\n",
       "      <td>3</td>\n",
       "      <td>1911</td>\n",
       "      <td>When Blake opened the ice cream shop in the mi...</td>\n",
       "      <td>...</td>\n",
       "      <td>0</td>\n",
       "      <td>0</td>\n",
       "      <td>0</td>\n",
       "      <td>0</td>\n",
       "      <td>0</td>\n",
       "      <td>0</td>\n",
       "      <td>0</td>\n",
       "      <td>0</td>\n",
       "      <td>0</td>\n",
       "      <td>0</td>\n",
       "    </tr>\n",
       "    <tr>\n",
       "      <th>3</th>\n",
       "      <td>1133144745285341184</td>\n",
       "      <td>2019-05-27</td>\n",
       "      <td>[]</td>\n",
       "      <td>1133144745285341184</td>\n",
       "      <td>27</td>\n",
       "      <td>Trains Info</td>\n",
       "      <td>0</td>\n",
       "      <td>8</td>\n",
       "      <td>1855</td>\n",
       "      <td>Don't suffer in silence, If you or someone you...</td>\n",
       "      <td>...</td>\n",
       "      <td>0</td>\n",
       "      <td>0</td>\n",
       "      <td>0</td>\n",
       "      <td>0</td>\n",
       "      <td>0</td>\n",
       "      <td>0</td>\n",
       "      <td>0</td>\n",
       "      <td>0</td>\n",
       "      <td>0</td>\n",
       "      <td>0</td>\n",
       "    </tr>\n",
       "    <tr>\n",
       "      <th>4</th>\n",
       "      <td>1133143854910251008</td>\n",
       "      <td>2019-05-27</td>\n",
       "      <td>[]</td>\n",
       "      <td>1133143854910251015</td>\n",
       "      <td>592</td>\n",
       "      <td>Jeffrey Guterman</td>\n",
       "      <td>67</td>\n",
       "      <td>74</td>\n",
       "      <td>1852</td>\n",
       "      <td>Look it! The tRump supporter trying to stigmat...</td>\n",
       "      <td>...</td>\n",
       "      <td>0</td>\n",
       "      <td>0</td>\n",
       "      <td>0</td>\n",
       "      <td>0</td>\n",
       "      <td>0</td>\n",
       "      <td>0</td>\n",
       "      <td>0</td>\n",
       "      <td>0</td>\n",
       "      <td>0</td>\n",
       "      <td>0</td>\n",
       "    </tr>\n",
       "  </tbody>\n",
       "</table>\n",
       "<p>5 rows × 66 columns</p>\n",
       "</div>"
      ],
      "text/plain": [
       "       conversation_id       date hashtags                   id  likes_count  \\\n",
       "0  1133159952065998848 2019-05-27       []  1133159952065998848           26   \n",
       "1  1133152414708764672 2019-05-27       []  1133152414708764673            3   \n",
       "2  1133148641596706816 2019-05-27       []  1133148641596706816           11   \n",
       "3  1133144745285341184 2019-05-27       []  1133144745285341184           27   \n",
       "4  1133143854910251008 2019-05-27       []  1133143854910251015          592   \n",
       "\n",
       "                  name  replies_count  retweets_count  time  \\\n",
       "0  Cleveland Clinic MD              1              13  1956   \n",
       "1              12 News              0               2  1926   \n",
       "2                 necn              1               3  1911   \n",
       "3          Trains Info              0               8  1855   \n",
       "4     Jeffrey Guterman             67              74  1852   \n",
       "\n",
       "                                               tweet  ...  Month_2 Month_3  \\\n",
       "0  A patient presented with fatigue, headaches, d...  ...        0       0   \n",
       "1  The 23-time gold medalist swimmer and Valley r...  ...        0       0   \n",
       "2  When Blake opened the ice cream shop in the mi...  ...        0       0   \n",
       "3  Don't suffer in silence, If you or someone you...  ...        0       0   \n",
       "4  Look it! The tRump supporter trying to stigmat...  ...        0       0   \n",
       "\n",
       "   Month_4  Month_6 Month_7  Month_8 Month_9  Month_10 Month_11 Month_12  \n",
       "0        0        0       0        0       0         0        0        0  \n",
       "1        0        0       0        0       0         0        0        0  \n",
       "2        0        0       0        0       0         0        0        0  \n",
       "3        0        0       0        0       0         0        0        0  \n",
       "4        0        0       0        0       0         0        0        0  \n",
       "\n",
       "[5 rows x 66 columns]"
      ]
     },
     "execution_count": 185,
     "metadata": {},
     "output_type": "execute_result"
    }
   ],
   "source": [
    "tweet_month.head()"
   ]
  },
  {
   "cell_type": "code",
   "execution_count": 193,
   "metadata": {
    "ExecuteTime": {
     "end_time": "2019-05-30T17:26:32.009932Z",
     "start_time": "2019-05-30T17:26:32.002654Z"
    }
   },
   "outputs": [
    {
     "data": {
      "text/plain": [
       "Index(['conversation_id', 'date', 'hashtags', 'id', 'likes_count', 'name',\n",
       "       'replies_count', 'retweets_count', 'time', 'tweet', 'user_id',\n",
       "       'username', 'tweet_ss', 'target', 'tag', 'num_hashtags', 'time_of_day',\n",
       "       'month', 'day', 'season', 'avg_convo_ss', 'avg_day_ss', 'avg_season_ss',\n",
       "       'avg_time_of_day_ss', 'avg_tag_ss', 'avg_pop_ss', 'hashtag_anxiety',\n",
       "       'hashtag_depression', 'hashtag_friends', 'hashtag_fun',\n",
       "       'hashtag_happiness', 'hashtag_happy', 'hashtag_hope', 'hashtag_lonely',\n",
       "       'hashtag_love', 'hashtag_pain', 'hashtag_peace', 'hashtag_ptsd',\n",
       "       'hashtag_sad', 'hashtag_smile', 'hashtag_stress', 'hashtag_suicide',\n",
       "       'search_anxiety', 'search_depression', 'search_happiness',\n",
       "       'search_happy', 'Friday', 'Monday', 'Saturday', 'Sunday', 'Thursday',\n",
       "       'Tuesday', 'autumn', 'spring', 'summer', 'Month_1', 'Month_2',\n",
       "       'Month_3', 'Month_4', 'Month_6', 'Month_7', 'Month_8', 'Month_9',\n",
       "       'Month_10', 'Month_11', 'Month_12'],\n",
       "      dtype='object')"
      ]
     },
     "execution_count": 193,
     "metadata": {},
     "output_type": "execute_result"
    }
   ],
   "source": [
    "tweet_month.columns"
   ]
  },
  {
   "cell_type": "markdown",
   "metadata": {},
   "source": [
    "##### Time of Day Dummies"
   ]
  },
  {
   "cell_type": "code",
   "execution_count": 186,
   "metadata": {
    "ExecuteTime": {
     "end_time": "2019-05-30T17:20:30.211776Z",
     "start_time": "2019-05-30T17:20:30.112039Z"
    }
   },
   "outputs": [],
   "source": [
    "# create dummies of time of day column\n",
    "time_dummies = pd.get_dummies(tweet_df.time_of_day)"
   ]
  },
  {
   "cell_type": "code",
   "execution_count": 187,
   "metadata": {
    "ExecuteTime": {
     "end_time": "2019-05-30T17:20:35.047112Z",
     "start_time": "2019-05-30T17:20:35.036132Z"
    }
   },
   "outputs": [
    {
     "data": {
      "text/html": [
       "<div>\n",
       "<style scoped>\n",
       "    .dataframe tbody tr th:only-of-type {\n",
       "        vertical-align: middle;\n",
       "    }\n",
       "\n",
       "    .dataframe tbody tr th {\n",
       "        vertical-align: top;\n",
       "    }\n",
       "\n",
       "    .dataframe thead th {\n",
       "        text-align: right;\n",
       "    }\n",
       "</style>\n",
       "<table border=\"1\" class=\"dataframe\">\n",
       "  <thead>\n",
       "    <tr style=\"text-align: right;\">\n",
       "      <th></th>\n",
       "      <th>AM</th>\n",
       "      <th>PM</th>\n",
       "    </tr>\n",
       "  </thead>\n",
       "  <tbody>\n",
       "    <tr>\n",
       "      <th>0</th>\n",
       "      <td>0</td>\n",
       "      <td>1</td>\n",
       "    </tr>\n",
       "    <tr>\n",
       "      <th>1</th>\n",
       "      <td>0</td>\n",
       "      <td>1</td>\n",
       "    </tr>\n",
       "    <tr>\n",
       "      <th>2</th>\n",
       "      <td>0</td>\n",
       "      <td>1</td>\n",
       "    </tr>\n",
       "    <tr>\n",
       "      <th>3</th>\n",
       "      <td>0</td>\n",
       "      <td>1</td>\n",
       "    </tr>\n",
       "    <tr>\n",
       "      <th>4</th>\n",
       "      <td>0</td>\n",
       "      <td>1</td>\n",
       "    </tr>\n",
       "  </tbody>\n",
       "</table>\n",
       "</div>"
      ],
      "text/plain": [
       "   AM  PM\n",
       "0   0   1\n",
       "1   0   1\n",
       "2   0   1\n",
       "3   0   1\n",
       "4   0   1"
      ]
     },
     "execution_count": 187,
     "metadata": {},
     "output_type": "execute_result"
    }
   ],
   "source": [
    "time_dummies.head()"
   ]
  },
  {
   "cell_type": "code",
   "execution_count": 188,
   "metadata": {
    "ExecuteTime": {
     "end_time": "2019-05-30T17:21:41.729801Z",
     "start_time": "2019-05-30T17:21:39.637830Z"
    }
   },
   "outputs": [],
   "source": [
    "# concat dummies to main df\n",
    "tweet_time = pd.concat([tweet_month, time_dummies.drop('AM', axis=1)], axis=1)"
   ]
  },
  {
   "cell_type": "code",
   "execution_count": 189,
   "metadata": {
    "ExecuteTime": {
     "end_time": "2019-05-30T17:21:45.888875Z",
     "start_time": "2019-05-30T17:21:45.760616Z"
    }
   },
   "outputs": [
    {
     "data": {
      "text/html": [
       "<div>\n",
       "<style scoped>\n",
       "    .dataframe tbody tr th:only-of-type {\n",
       "        vertical-align: middle;\n",
       "    }\n",
       "\n",
       "    .dataframe tbody tr th {\n",
       "        vertical-align: top;\n",
       "    }\n",
       "\n",
       "    .dataframe thead th {\n",
       "        text-align: right;\n",
       "    }\n",
       "</style>\n",
       "<table border=\"1\" class=\"dataframe\">\n",
       "  <thead>\n",
       "    <tr style=\"text-align: right;\">\n",
       "      <th></th>\n",
       "      <th>conversation_id</th>\n",
       "      <th>date</th>\n",
       "      <th>hashtags</th>\n",
       "      <th>id</th>\n",
       "      <th>likes_count</th>\n",
       "      <th>name</th>\n",
       "      <th>replies_count</th>\n",
       "      <th>retweets_count</th>\n",
       "      <th>time</th>\n",
       "      <th>tweet</th>\n",
       "      <th>...</th>\n",
       "      <th>Month_3</th>\n",
       "      <th>Month_4</th>\n",
       "      <th>Month_6</th>\n",
       "      <th>Month_7</th>\n",
       "      <th>Month_8</th>\n",
       "      <th>Month_9</th>\n",
       "      <th>Month_10</th>\n",
       "      <th>Month_11</th>\n",
       "      <th>Month_12</th>\n",
       "      <th>PM</th>\n",
       "    </tr>\n",
       "  </thead>\n",
       "  <tbody>\n",
       "    <tr>\n",
       "      <th>0</th>\n",
       "      <td>1133159952065998848</td>\n",
       "      <td>2019-05-27</td>\n",
       "      <td>[]</td>\n",
       "      <td>1133159952065998848</td>\n",
       "      <td>26</td>\n",
       "      <td>Cleveland Clinic MD</td>\n",
       "      <td>1</td>\n",
       "      <td>13</td>\n",
       "      <td>1956</td>\n",
       "      <td>A patient presented with fatigue, headaches, d...</td>\n",
       "      <td>...</td>\n",
       "      <td>0</td>\n",
       "      <td>0</td>\n",
       "      <td>0</td>\n",
       "      <td>0</td>\n",
       "      <td>0</td>\n",
       "      <td>0</td>\n",
       "      <td>0</td>\n",
       "      <td>0</td>\n",
       "      <td>0</td>\n",
       "      <td>1</td>\n",
       "    </tr>\n",
       "    <tr>\n",
       "      <th>1</th>\n",
       "      <td>1133152414708764672</td>\n",
       "      <td>2019-05-27</td>\n",
       "      <td>[]</td>\n",
       "      <td>1133152414708764673</td>\n",
       "      <td>3</td>\n",
       "      <td>12 News</td>\n",
       "      <td>0</td>\n",
       "      <td>2</td>\n",
       "      <td>1926</td>\n",
       "      <td>The 23-time gold medalist swimmer and Valley r...</td>\n",
       "      <td>...</td>\n",
       "      <td>0</td>\n",
       "      <td>0</td>\n",
       "      <td>0</td>\n",
       "      <td>0</td>\n",
       "      <td>0</td>\n",
       "      <td>0</td>\n",
       "      <td>0</td>\n",
       "      <td>0</td>\n",
       "      <td>0</td>\n",
       "      <td>1</td>\n",
       "    </tr>\n",
       "    <tr>\n",
       "      <th>2</th>\n",
       "      <td>1133148641596706816</td>\n",
       "      <td>2019-05-27</td>\n",
       "      <td>[]</td>\n",
       "      <td>1133148641596706816</td>\n",
       "      <td>11</td>\n",
       "      <td>necn</td>\n",
       "      <td>1</td>\n",
       "      <td>3</td>\n",
       "      <td>1911</td>\n",
       "      <td>When Blake opened the ice cream shop in the mi...</td>\n",
       "      <td>...</td>\n",
       "      <td>0</td>\n",
       "      <td>0</td>\n",
       "      <td>0</td>\n",
       "      <td>0</td>\n",
       "      <td>0</td>\n",
       "      <td>0</td>\n",
       "      <td>0</td>\n",
       "      <td>0</td>\n",
       "      <td>0</td>\n",
       "      <td>1</td>\n",
       "    </tr>\n",
       "    <tr>\n",
       "      <th>3</th>\n",
       "      <td>1133144745285341184</td>\n",
       "      <td>2019-05-27</td>\n",
       "      <td>[]</td>\n",
       "      <td>1133144745285341184</td>\n",
       "      <td>27</td>\n",
       "      <td>Trains Info</td>\n",
       "      <td>0</td>\n",
       "      <td>8</td>\n",
       "      <td>1855</td>\n",
       "      <td>Don't suffer in silence, If you or someone you...</td>\n",
       "      <td>...</td>\n",
       "      <td>0</td>\n",
       "      <td>0</td>\n",
       "      <td>0</td>\n",
       "      <td>0</td>\n",
       "      <td>0</td>\n",
       "      <td>0</td>\n",
       "      <td>0</td>\n",
       "      <td>0</td>\n",
       "      <td>0</td>\n",
       "      <td>1</td>\n",
       "    </tr>\n",
       "    <tr>\n",
       "      <th>4</th>\n",
       "      <td>1133143854910251008</td>\n",
       "      <td>2019-05-27</td>\n",
       "      <td>[]</td>\n",
       "      <td>1133143854910251015</td>\n",
       "      <td>592</td>\n",
       "      <td>Jeffrey Guterman</td>\n",
       "      <td>67</td>\n",
       "      <td>74</td>\n",
       "      <td>1852</td>\n",
       "      <td>Look it! The tRump supporter trying to stigmat...</td>\n",
       "      <td>...</td>\n",
       "      <td>0</td>\n",
       "      <td>0</td>\n",
       "      <td>0</td>\n",
       "      <td>0</td>\n",
       "      <td>0</td>\n",
       "      <td>0</td>\n",
       "      <td>0</td>\n",
       "      <td>0</td>\n",
       "      <td>0</td>\n",
       "      <td>1</td>\n",
       "    </tr>\n",
       "  </tbody>\n",
       "</table>\n",
       "<p>5 rows × 67 columns</p>\n",
       "</div>"
      ],
      "text/plain": [
       "       conversation_id       date hashtags                   id  likes_count  \\\n",
       "0  1133159952065998848 2019-05-27       []  1133159952065998848           26   \n",
       "1  1133152414708764672 2019-05-27       []  1133152414708764673            3   \n",
       "2  1133148641596706816 2019-05-27       []  1133148641596706816           11   \n",
       "3  1133144745285341184 2019-05-27       []  1133144745285341184           27   \n",
       "4  1133143854910251008 2019-05-27       []  1133143854910251015          592   \n",
       "\n",
       "                  name  replies_count  retweets_count  time  \\\n",
       "0  Cleveland Clinic MD              1              13  1956   \n",
       "1              12 News              0               2  1926   \n",
       "2                 necn              1               3  1911   \n",
       "3          Trains Info              0               8  1855   \n",
       "4     Jeffrey Guterman             67              74  1852   \n",
       "\n",
       "                                               tweet  ...  Month_3 Month_4  \\\n",
       "0  A patient presented with fatigue, headaches, d...  ...        0       0   \n",
       "1  The 23-time gold medalist swimmer and Valley r...  ...        0       0   \n",
       "2  When Blake opened the ice cream shop in the mi...  ...        0       0   \n",
       "3  Don't suffer in silence, If you or someone you...  ...        0       0   \n",
       "4  Look it! The tRump supporter trying to stigmat...  ...        0       0   \n",
       "\n",
       "   Month_6  Month_7 Month_8  Month_9 Month_10  Month_11 Month_12 PM  \n",
       "0        0        0       0        0        0         0        0  1  \n",
       "1        0        0       0        0        0         0        0  1  \n",
       "2        0        0       0        0        0         0        0  1  \n",
       "3        0        0       0        0        0         0        0  1  \n",
       "4        0        0       0        0        0         0        0  1  \n",
       "\n",
       "[5 rows x 67 columns]"
      ]
     },
     "execution_count": 189,
     "metadata": {},
     "output_type": "execute_result"
    }
   ],
   "source": [
    "tweet_time.head()"
   ]
  },
  {
   "cell_type": "code",
   "execution_count": 190,
   "metadata": {
    "ExecuteTime": {
     "end_time": "2019-05-30T17:21:53.315526Z",
     "start_time": "2019-05-30T17:21:53.306629Z"
    }
   },
   "outputs": [
    {
     "data": {
      "text/plain": [
       "(634636, 67)"
      ]
     },
     "execution_count": 190,
     "metadata": {},
     "output_type": "execute_result"
    }
   ],
   "source": [
    "tweet_time.shape"
   ]
  },
  {
   "cell_type": "code",
   "execution_count": 194,
   "metadata": {
    "ExecuteTime": {
     "end_time": "2019-05-30T17:43:40.735429Z",
     "start_time": "2019-05-30T17:43:40.726746Z"
    }
   },
   "outputs": [
    {
     "data": {
      "text/plain": [
       "Index(['conversation_id', 'date', 'hashtags', 'id', 'likes_count', 'name',\n",
       "       'replies_count', 'retweets_count', 'time', 'tweet', 'user_id',\n",
       "       'username', 'tweet_ss', 'target', 'tag', 'num_hashtags', 'time_of_day',\n",
       "       'month', 'day', 'season', 'avg_convo_ss', 'avg_day_ss', 'avg_season_ss',\n",
       "       'avg_time_of_day_ss', 'avg_tag_ss', 'avg_pop_ss', 'hashtag_anxiety',\n",
       "       'hashtag_depression', 'hashtag_friends', 'hashtag_fun',\n",
       "       'hashtag_happiness', 'hashtag_happy', 'hashtag_hope', 'hashtag_lonely',\n",
       "       'hashtag_love', 'hashtag_pain', 'hashtag_peace', 'hashtag_ptsd',\n",
       "       'hashtag_sad', 'hashtag_smile', 'hashtag_stress', 'hashtag_suicide',\n",
       "       'search_anxiety', 'search_depression', 'search_happiness',\n",
       "       'search_happy', 'Friday', 'Monday', 'Saturday', 'Sunday', 'Thursday',\n",
       "       'Tuesday', 'autumn', 'spring', 'summer', 'Month_1', 'Month_2',\n",
       "       'Month_3', 'Month_4', 'Month_6', 'Month_7', 'Month_8', 'Month_9',\n",
       "       'Month_10', 'Month_11', 'Month_12', 'PM'],\n",
       "      dtype='object')"
      ]
     },
     "execution_count": 194,
     "metadata": {},
     "output_type": "execute_result"
    }
   ],
   "source": [
    "tweet_time.columns"
   ]
  },
  {
   "cell_type": "markdown",
   "metadata": {},
   "source": [
    "#### Group By and Aggregate Rows to User-Level"
   ]
  },
  {
   "cell_type": "code",
   "execution_count": 195,
   "metadata": {
    "ExecuteTime": {
     "end_time": "2019-05-30T17:44:09.054783Z",
     "start_time": "2019-05-30T17:44:04.899656Z"
    }
   },
   "outputs": [],
   "source": [
    "# create user dataframe where each row is a user using user_id as unique identifier\n",
    "user_df = tweet_time.groupby(['user_id']).agg({\n",
    "                                                                'likes_count': 'mean', \n",
    "                                                                'replies_count': 'mean', \n",
    "                                                                'retweets_count': 'mean', \n",
    "                                                                'tweet_ss': 'mean', \n",
    "                                                                'target': 'max', \n",
    "                                                                'num_hashtags': 'mean', \n",
    "                                                                'avg_convo_ss': 'mean', \n",
    "                                                                'avg_day_ss': 'mean', \n",
    "                                                                'avg_season_ss': 'mean',\n",
    "                                                                'avg_time_of_day_ss': 'mean', \n",
    "                                                                'avg_tag_ss': 'mean', \n",
    "                                                                'avg_pop_ss': 'mean',\n",
    "                                                                'hashtag_anxiety': 'mean',\n",
    "       'hashtag_depression': 'mean', 'hashtag_friends': 'mean', 'hashtag_fun': 'mean',\n",
    "       'hashtag_happiness': 'mean', 'hashtag_happy': 'mean', 'hashtag_hope': 'mean', 'hashtag_lonely': 'mean',\n",
    "       'hashtag_love': 'mean', 'hashtag_pain': 'mean', 'hashtag_peace': 'mean', 'hashtag_ptsd': 'mean',\n",
    "       'hashtag_sad': 'mean', 'hashtag_smile': 'mean', 'hashtag_stress': 'mean', 'hashtag_suicide': 'mean',\n",
    "       'search_anxiety': 'mean', 'search_depression': 'mean', 'search_happiness': 'mean',\n",
    "       'search_happy': 'mean', 'Friday': 'mean', 'Monday': 'mean', 'Saturday': 'mean', 'Sunday': 'mean', 'Thursday': 'mean',\n",
    "       'Tuesday': 'mean', 'autumn': 'mean', 'spring': 'mean', 'summer': 'mean', 'Month_1': 'mean', 'Month_2': 'mean',\n",
    "       'Month_3': 'mean', 'Month_4': 'mean', 'Month_6': 'mean', 'Month_7': 'mean', 'Month_8': 'mean', 'Month_9': 'mean',\n",
    "       'Month_10': 'mean', 'Month_11': 'mean', 'Month_12': 'mean', 'PM': 'mean'}).reset_index(drop=False)"
   ]
  },
  {
   "cell_type": "code",
   "execution_count": 196,
   "metadata": {
    "ExecuteTime": {
     "end_time": "2019-05-30T17:44:12.876814Z",
     "start_time": "2019-05-30T17:44:12.814245Z"
    }
   },
   "outputs": [
    {
     "data": {
      "text/html": [
       "<div>\n",
       "<style scoped>\n",
       "    .dataframe tbody tr th:only-of-type {\n",
       "        vertical-align: middle;\n",
       "    }\n",
       "\n",
       "    .dataframe tbody tr th {\n",
       "        vertical-align: top;\n",
       "    }\n",
       "\n",
       "    .dataframe thead th {\n",
       "        text-align: right;\n",
       "    }\n",
       "</style>\n",
       "<table border=\"1\" class=\"dataframe\">\n",
       "  <thead>\n",
       "    <tr style=\"text-align: right;\">\n",
       "      <th></th>\n",
       "      <th>user_id</th>\n",
       "      <th>likes_count</th>\n",
       "      <th>replies_count</th>\n",
       "      <th>retweets_count</th>\n",
       "      <th>tweet_ss</th>\n",
       "      <th>target</th>\n",
       "      <th>num_hashtags</th>\n",
       "      <th>avg_convo_ss</th>\n",
       "      <th>avg_day_ss</th>\n",
       "      <th>avg_season_ss</th>\n",
       "      <th>...</th>\n",
       "      <th>Month_3</th>\n",
       "      <th>Month_4</th>\n",
       "      <th>Month_6</th>\n",
       "      <th>Month_7</th>\n",
       "      <th>Month_8</th>\n",
       "      <th>Month_9</th>\n",
       "      <th>Month_10</th>\n",
       "      <th>Month_11</th>\n",
       "      <th>Month_12</th>\n",
       "      <th>PM</th>\n",
       "    </tr>\n",
       "  </thead>\n",
       "  <tbody>\n",
       "    <tr>\n",
       "      <th>0</th>\n",
       "      <td>57</td>\n",
       "      <td>1.666667</td>\n",
       "      <td>0.666667</td>\n",
       "      <td>0.000000</td>\n",
       "      <td>0.450733</td>\n",
       "      <td>0</td>\n",
       "      <td>2.000000</td>\n",
       "      <td>0.450733</td>\n",
       "      <td>0.345007</td>\n",
       "      <td>0.393048</td>\n",
       "      <td>...</td>\n",
       "      <td>0.000000</td>\n",
       "      <td>0.0</td>\n",
       "      <td>0.000000</td>\n",
       "      <td>0.333333</td>\n",
       "      <td>0.0</td>\n",
       "      <td>0.000000</td>\n",
       "      <td>0.0</td>\n",
       "      <td>0.000000</td>\n",
       "      <td>0.0</td>\n",
       "      <td>1.000000</td>\n",
       "    </tr>\n",
       "    <tr>\n",
       "      <th>1</th>\n",
       "      <td>59</td>\n",
       "      <td>3.527778</td>\n",
       "      <td>0.694444</td>\n",
       "      <td>0.222222</td>\n",
       "      <td>0.579114</td>\n",
       "      <td>0</td>\n",
       "      <td>2.000000</td>\n",
       "      <td>0.583351</td>\n",
       "      <td>0.347117</td>\n",
       "      <td>0.502371</td>\n",
       "      <td>...</td>\n",
       "      <td>0.000000</td>\n",
       "      <td>0.0</td>\n",
       "      <td>0.000000</td>\n",
       "      <td>0.000000</td>\n",
       "      <td>0.0</td>\n",
       "      <td>0.000000</td>\n",
       "      <td>0.0</td>\n",
       "      <td>0.000000</td>\n",
       "      <td>0.0</td>\n",
       "      <td>0.500000</td>\n",
       "    </tr>\n",
       "    <tr>\n",
       "      <th>2</th>\n",
       "      <td>76</td>\n",
       "      <td>12.368421</td>\n",
       "      <td>1.526316</td>\n",
       "      <td>0.631579</td>\n",
       "      <td>0.615095</td>\n",
       "      <td>0</td>\n",
       "      <td>3.789474</td>\n",
       "      <td>0.614055</td>\n",
       "      <td>0.354977</td>\n",
       "      <td>0.484822</td>\n",
       "      <td>...</td>\n",
       "      <td>0.052632</td>\n",
       "      <td>0.0</td>\n",
       "      <td>0.000000</td>\n",
       "      <td>0.000000</td>\n",
       "      <td>0.0</td>\n",
       "      <td>0.052632</td>\n",
       "      <td>0.0</td>\n",
       "      <td>0.000000</td>\n",
       "      <td>0.0</td>\n",
       "      <td>0.526316</td>\n",
       "    </tr>\n",
       "    <tr>\n",
       "      <th>3</th>\n",
       "      <td>224</td>\n",
       "      <td>6.428571</td>\n",
       "      <td>0.571429</td>\n",
       "      <td>0.714286</td>\n",
       "      <td>0.119571</td>\n",
       "      <td>1</td>\n",
       "      <td>2.000000</td>\n",
       "      <td>0.119571</td>\n",
       "      <td>0.331380</td>\n",
       "      <td>0.321834</td>\n",
       "      <td>...</td>\n",
       "      <td>0.142857</td>\n",
       "      <td>0.0</td>\n",
       "      <td>0.285714</td>\n",
       "      <td>0.000000</td>\n",
       "      <td>0.0</td>\n",
       "      <td>0.142857</td>\n",
       "      <td>0.0</td>\n",
       "      <td>0.000000</td>\n",
       "      <td>0.0</td>\n",
       "      <td>0.857143</td>\n",
       "    </tr>\n",
       "    <tr>\n",
       "      <th>4</th>\n",
       "      <td>291</td>\n",
       "      <td>20.666667</td>\n",
       "      <td>1.666667</td>\n",
       "      <td>0.166667</td>\n",
       "      <td>0.198967</td>\n",
       "      <td>1</td>\n",
       "      <td>2.000000</td>\n",
       "      <td>0.198967</td>\n",
       "      <td>0.368641</td>\n",
       "      <td>0.346405</td>\n",
       "      <td>...</td>\n",
       "      <td>0.166667</td>\n",
       "      <td>0.0</td>\n",
       "      <td>0.166667</td>\n",
       "      <td>0.000000</td>\n",
       "      <td>0.0</td>\n",
       "      <td>0.000000</td>\n",
       "      <td>0.0</td>\n",
       "      <td>0.166667</td>\n",
       "      <td>0.0</td>\n",
       "      <td>0.833333</td>\n",
       "    </tr>\n",
       "  </tbody>\n",
       "</table>\n",
       "<p>5 rows × 54 columns</p>\n",
       "</div>"
      ],
      "text/plain": [
       "   user_id  likes_count  replies_count  retweets_count  tweet_ss  target  \\\n",
       "0       57     1.666667       0.666667        0.000000  0.450733       0   \n",
       "1       59     3.527778       0.694444        0.222222  0.579114       0   \n",
       "2       76    12.368421       1.526316        0.631579  0.615095       0   \n",
       "3      224     6.428571       0.571429        0.714286  0.119571       1   \n",
       "4      291    20.666667       1.666667        0.166667  0.198967       1   \n",
       "\n",
       "   num_hashtags  avg_convo_ss  avg_day_ss  avg_season_ss  ...   Month_3  \\\n",
       "0      2.000000      0.450733    0.345007       0.393048  ...  0.000000   \n",
       "1      2.000000      0.583351    0.347117       0.502371  ...  0.000000   \n",
       "2      3.789474      0.614055    0.354977       0.484822  ...  0.052632   \n",
       "3      2.000000      0.119571    0.331380       0.321834  ...  0.142857   \n",
       "4      2.000000      0.198967    0.368641       0.346405  ...  0.166667   \n",
       "\n",
       "   Month_4   Month_6   Month_7  Month_8   Month_9  Month_10  Month_11  \\\n",
       "0      0.0  0.000000  0.333333      0.0  0.000000       0.0  0.000000   \n",
       "1      0.0  0.000000  0.000000      0.0  0.000000       0.0  0.000000   \n",
       "2      0.0  0.000000  0.000000      0.0  0.052632       0.0  0.000000   \n",
       "3      0.0  0.285714  0.000000      0.0  0.142857       0.0  0.000000   \n",
       "4      0.0  0.166667  0.000000      0.0  0.000000       0.0  0.166667   \n",
       "\n",
       "   Month_12        PM  \n",
       "0       0.0  1.000000  \n",
       "1       0.0  0.500000  \n",
       "2       0.0  0.526316  \n",
       "3       0.0  0.857143  \n",
       "4       0.0  0.833333  \n",
       "\n",
       "[5 rows x 54 columns]"
      ]
     },
     "execution_count": 196,
     "metadata": {},
     "output_type": "execute_result"
    }
   ],
   "source": [
    "user_df.head()"
   ]
  },
  {
   "cell_type": "code",
   "execution_count": 197,
   "metadata": {
    "ExecuteTime": {
     "end_time": "2019-05-30T17:44:51.661653Z",
     "start_time": "2019-05-30T17:44:51.463052Z"
    },
    "scrolled": true
   },
   "outputs": [
    {
     "name": "stdout",
     "output_type": "stream",
     "text": [
      "<class 'pandas.core.frame.DataFrame'>\n",
      "RangeIndex: 103209 entries, 0 to 103208\n",
      "Data columns (total 54 columns):\n",
      "user_id               103209 non-null int64\n",
      "likes_count           103209 non-null float64\n",
      "replies_count         103209 non-null float64\n",
      "retweets_count        103209 non-null float64\n",
      "tweet_ss              103209 non-null float64\n",
      "target                103209 non-null int64\n",
      "num_hashtags          103209 non-null float64\n",
      "avg_convo_ss          103209 non-null float64\n",
      "avg_day_ss            103209 non-null float64\n",
      "avg_season_ss         103209 non-null float64\n",
      "avg_time_of_day_ss    103209 non-null float64\n",
      "avg_tag_ss            103209 non-null float64\n",
      "avg_pop_ss            103209 non-null float64\n",
      "hashtag_anxiety       103209 non-null float64\n",
      "hashtag_depression    103209 non-null float64\n",
      "hashtag_friends       103209 non-null float64\n",
      "hashtag_fun           103209 non-null float64\n",
      "hashtag_happiness     103209 non-null float64\n",
      "hashtag_happy         103209 non-null float64\n",
      "hashtag_hope          103209 non-null float64\n",
      "hashtag_lonely        103209 non-null float64\n",
      "hashtag_love          103209 non-null float64\n",
      "hashtag_pain          103209 non-null float64\n",
      "hashtag_peace         103209 non-null float64\n",
      "hashtag_ptsd          103209 non-null float64\n",
      "hashtag_sad           103209 non-null float64\n",
      "hashtag_smile         103209 non-null float64\n",
      "hashtag_stress        103209 non-null float64\n",
      "hashtag_suicide       103209 non-null float64\n",
      "search_anxiety        103209 non-null float64\n",
      "search_depression     103209 non-null float64\n",
      "search_happiness      103209 non-null float64\n",
      "search_happy          103209 non-null float64\n",
      "Friday                103209 non-null float64\n",
      "Monday                103209 non-null float64\n",
      "Saturday              103209 non-null float64\n",
      "Sunday                103209 non-null float64\n",
      "Thursday              103209 non-null float64\n",
      "Tuesday               103209 non-null float64\n",
      "autumn                103209 non-null float64\n",
      "spring                103209 non-null float64\n",
      "summer                103209 non-null float64\n",
      "Month_1               103209 non-null float64\n",
      "Month_2               103209 non-null float64\n",
      "Month_3               103209 non-null float64\n",
      "Month_4               103209 non-null float64\n",
      "Month_6               103209 non-null float64\n",
      "Month_7               103209 non-null float64\n",
      "Month_8               103209 non-null float64\n",
      "Month_9               103209 non-null float64\n",
      "Month_10              103209 non-null float64\n",
      "Month_11              103209 non-null float64\n",
      "Month_12              103209 non-null float64\n",
      "PM                    103209 non-null float64\n",
      "dtypes: float64(52), int64(2)\n",
      "memory usage: 42.5 MB\n"
     ]
    }
   ],
   "source": [
    "user_df.info()"
   ]
  },
  {
   "cell_type": "code",
   "execution_count": 198,
   "metadata": {
    "ExecuteTime": {
     "end_time": "2019-05-30T17:45:46.935483Z",
     "start_time": "2019-05-30T17:45:46.710824Z"
    },
    "scrolled": true
   },
   "outputs": [
    {
     "data": {
      "text/plain": [
       "user_id               0\n",
       "likes_count           0\n",
       "replies_count         0\n",
       "retweets_count        0\n",
       "tweet_ss              0\n",
       "target                0\n",
       "num_hashtags          0\n",
       "avg_convo_ss          0\n",
       "avg_day_ss            0\n",
       "avg_season_ss         0\n",
       "avg_time_of_day_ss    0\n",
       "avg_tag_ss            0\n",
       "avg_pop_ss            0\n",
       "hashtag_anxiety       0\n",
       "hashtag_depression    0\n",
       "hashtag_friends       0\n",
       "hashtag_fun           0\n",
       "hashtag_happiness     0\n",
       "hashtag_happy         0\n",
       "hashtag_hope          0\n",
       "hashtag_lonely        0\n",
       "hashtag_love          0\n",
       "hashtag_pain          0\n",
       "hashtag_peace         0\n",
       "hashtag_ptsd          0\n",
       "hashtag_sad           0\n",
       "hashtag_smile         0\n",
       "hashtag_stress        0\n",
       "hashtag_suicide       0\n",
       "search_anxiety        0\n",
       "search_depression     0\n",
       "search_happiness      0\n",
       "search_happy          0\n",
       "Friday                0\n",
       "Monday                0\n",
       "Saturday              0\n",
       "Sunday                0\n",
       "Thursday              0\n",
       "Tuesday               0\n",
       "autumn                0\n",
       "spring                0\n",
       "summer                0\n",
       "Month_1               0\n",
       "Month_2               0\n",
       "Month_3               0\n",
       "Month_4               0\n",
       "Month_6               0\n",
       "Month_7               0\n",
       "Month_8               0\n",
       "Month_9               0\n",
       "Month_10              0\n",
       "Month_11              0\n",
       "Month_12              0\n",
       "PM                    0\n",
       "dtype: int64"
      ]
     },
     "execution_count": 198,
     "metadata": {},
     "output_type": "execute_result"
    }
   ],
   "source": [
    "user_df.isnull().sum()"
   ]
  },
  {
   "cell_type": "code",
   "execution_count": 156,
   "metadata": {
    "ExecuteTime": {
     "end_time": "2019-05-30T16:32:01.918600Z",
     "start_time": "2019-05-30T16:32:01.589058Z"
    }
   },
   "outputs": [],
   "source": [
    "# # pickle raw user_df\n",
    "# user_df.to_pickle('./cleaned_data/raw_user_df.pkl')"
   ]
  },
  {
   "cell_type": "code",
   "execution_count": 158,
   "metadata": {
    "ExecuteTime": {
     "end_time": "2019-05-30T16:32:37.893102Z",
     "start_time": "2019-05-30T16:32:37.736950Z"
    }
   },
   "outputs": [],
   "source": [
    "# # pickle user_df after dropping columns\n",
    "# user_df.to_pickle('./cleaned_data/trimmed_user_df.pkl')"
   ]
  },
  {
   "cell_type": "code",
   "execution_count": 199,
   "metadata": {
    "ExecuteTime": {
     "end_time": "2019-05-30T17:47:28.689989Z",
     "start_time": "2019-05-30T17:47:28.159373Z"
    }
   },
   "outputs": [],
   "source": [
    "# # pickle user_df with dummies and after dropping columns\n",
    "# user_df.to_pickle('./cleaned_data/dummies_user_df.pkl')"
   ]
  }
 ],
 "metadata": {
  "kernelspec": {
   "display_name": "Python 3",
   "language": "python",
   "name": "python3"
  },
  "language_info": {
   "codemirror_mode": {
    "name": "ipython",
    "version": 3
   },
   "file_extension": ".py",
   "mimetype": "text/x-python",
   "name": "python",
   "nbconvert_exporter": "python",
   "pygments_lexer": "ipython3",
   "version": "3.7.3"
  },
  "toc": {
   "base_numbering": 1,
   "nav_menu": {},
   "number_sections": true,
   "sideBar": true,
   "skip_h1_title": false,
   "title_cell": "Table of Contents",
   "title_sidebar": "Contents",
   "toc_cell": false,
   "toc_position": {
    "height": "calc(100% - 180px)",
    "left": "10px",
    "top": "150px",
    "width": "199px"
   },
   "toc_section_display": true,
   "toc_window_display": true
  }
 },
 "nbformat": 4,
 "nbformat_minor": 2
}
