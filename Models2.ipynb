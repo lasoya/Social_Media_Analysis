{
 "cells": [
  {
   "cell_type": "markdown",
   "metadata": {},
   "source": [
    "# Import Libraries"
   ]
  },
  {
   "cell_type": "code",
   "execution_count": 87,
   "metadata": {
    "ExecuteTime": {
     "end_time": "2019-05-31T04:00:43.397146Z",
     "start_time": "2019-05-31T04:00:43.364754Z"
    }
   },
   "outputs": [],
   "source": [
    "import pandas as pd\n",
    "import matplotlib.pyplot as plt\n",
    "import seaborn as sns\n",
    "from sklearn.utils import resample\n",
    "from sklearn.model_selection import train_test_split, RandomizedSearchCV, StratifiedKFold\n",
    "from sklearn.preprocessing import StandardScaler\n",
    "from sklearn.svm import SVC\n",
    "from sklearn.naive_bayes import GaussianNB\n",
    "from sklearn.metrics import mean_squared_error, f1_score, classification_report, confusion_matrix, accuracy_score\n",
    "from sklearn.tree import DecisionTreeClassifier\n",
    "from sklearn.linear_model import LogisticRegression\n",
    "import pickle"
   ]
  },
  {
   "cell_type": "code",
   "execution_count": 2,
   "metadata": {
    "ExecuteTime": {
     "end_time": "2019-05-31T02:29:06.271828Z",
     "start_time": "2019-05-31T02:29:06.266812Z"
    }
   },
   "outputs": [],
   "source": [
    "# define function to pick model after it is fit\n",
    "def pickle_model(model_name, model):\n",
    "    model_pickle_path = './models/{}.pkl'.format(model_name)\n",
    "    model_pickle = open(model_pickle_path, 'wb')\n",
    "    pickle.dump(model, model_pickle)\n",
    "    model_pickle.close()"
   ]
  },
  {
   "cell_type": "markdown",
   "metadata": {},
   "source": [
    "# Import Data"
   ]
  },
  {
   "cell_type": "code",
   "execution_count": 3,
   "metadata": {
    "ExecuteTime": {
     "end_time": "2019-05-31T02:29:11.165723Z",
     "start_time": "2019-05-31T02:29:10.975656Z"
    }
   },
   "outputs": [],
   "source": [
    "# import dataset into pandas and assign to variable\n",
    "data = pd.read_pickle('./cleaned_data/dummies_user_df.pkl')"
   ]
  },
  {
   "cell_type": "code",
   "execution_count": 4,
   "metadata": {
    "ExecuteTime": {
     "end_time": "2019-05-31T02:29:11.304436Z",
     "start_time": "2019-05-31T02:29:11.295633Z"
    }
   },
   "outputs": [
    {
     "data": {
      "text/plain": [
       "(103209, 54)"
      ]
     },
     "execution_count": 4,
     "metadata": {},
     "output_type": "execute_result"
    }
   ],
   "source": [
    "data.shape"
   ]
  },
  {
   "cell_type": "code",
   "execution_count": 5,
   "metadata": {
    "ExecuteTime": {
     "end_time": "2019-05-31T02:29:11.579372Z",
     "start_time": "2019-05-31T02:29:11.528757Z"
    }
   },
   "outputs": [
    {
     "data": {
      "text/html": [
       "<div>\n",
       "<style scoped>\n",
       "    .dataframe tbody tr th:only-of-type {\n",
       "        vertical-align: middle;\n",
       "    }\n",
       "\n",
       "    .dataframe tbody tr th {\n",
       "        vertical-align: top;\n",
       "    }\n",
       "\n",
       "    .dataframe thead th {\n",
       "        text-align: right;\n",
       "    }\n",
       "</style>\n",
       "<table border=\"1\" class=\"dataframe\">\n",
       "  <thead>\n",
       "    <tr style=\"text-align: right;\">\n",
       "      <th></th>\n",
       "      <th>user_id</th>\n",
       "      <th>likes_count</th>\n",
       "      <th>replies_count</th>\n",
       "      <th>retweets_count</th>\n",
       "      <th>tweet_ss</th>\n",
       "      <th>target</th>\n",
       "      <th>num_hashtags</th>\n",
       "      <th>avg_convo_ss</th>\n",
       "      <th>avg_day_ss</th>\n",
       "      <th>avg_season_ss</th>\n",
       "      <th>...</th>\n",
       "      <th>Month_3</th>\n",
       "      <th>Month_4</th>\n",
       "      <th>Month_6</th>\n",
       "      <th>Month_7</th>\n",
       "      <th>Month_8</th>\n",
       "      <th>Month_9</th>\n",
       "      <th>Month_10</th>\n",
       "      <th>Month_11</th>\n",
       "      <th>Month_12</th>\n",
       "      <th>PM</th>\n",
       "    </tr>\n",
       "  </thead>\n",
       "  <tbody>\n",
       "    <tr>\n",
       "      <th>0</th>\n",
       "      <td>57</td>\n",
       "      <td>1.666667</td>\n",
       "      <td>0.666667</td>\n",
       "      <td>0.000000</td>\n",
       "      <td>0.450733</td>\n",
       "      <td>0</td>\n",
       "      <td>2.000000</td>\n",
       "      <td>0.450733</td>\n",
       "      <td>0.345007</td>\n",
       "      <td>0.393048</td>\n",
       "      <td>...</td>\n",
       "      <td>0.000000</td>\n",
       "      <td>0.0</td>\n",
       "      <td>0.000000</td>\n",
       "      <td>0.333333</td>\n",
       "      <td>0.0</td>\n",
       "      <td>0.000000</td>\n",
       "      <td>0.0</td>\n",
       "      <td>0.000000</td>\n",
       "      <td>0.0</td>\n",
       "      <td>1.000000</td>\n",
       "    </tr>\n",
       "    <tr>\n",
       "      <th>1</th>\n",
       "      <td>59</td>\n",
       "      <td>3.527778</td>\n",
       "      <td>0.694444</td>\n",
       "      <td>0.222222</td>\n",
       "      <td>0.579114</td>\n",
       "      <td>0</td>\n",
       "      <td>2.000000</td>\n",
       "      <td>0.583351</td>\n",
       "      <td>0.347117</td>\n",
       "      <td>0.502371</td>\n",
       "      <td>...</td>\n",
       "      <td>0.000000</td>\n",
       "      <td>0.0</td>\n",
       "      <td>0.000000</td>\n",
       "      <td>0.000000</td>\n",
       "      <td>0.0</td>\n",
       "      <td>0.000000</td>\n",
       "      <td>0.0</td>\n",
       "      <td>0.000000</td>\n",
       "      <td>0.0</td>\n",
       "      <td>0.500000</td>\n",
       "    </tr>\n",
       "    <tr>\n",
       "      <th>2</th>\n",
       "      <td>76</td>\n",
       "      <td>12.368421</td>\n",
       "      <td>1.526316</td>\n",
       "      <td>0.631579</td>\n",
       "      <td>0.615095</td>\n",
       "      <td>0</td>\n",
       "      <td>3.789474</td>\n",
       "      <td>0.614055</td>\n",
       "      <td>0.354977</td>\n",
       "      <td>0.484822</td>\n",
       "      <td>...</td>\n",
       "      <td>0.052632</td>\n",
       "      <td>0.0</td>\n",
       "      <td>0.000000</td>\n",
       "      <td>0.000000</td>\n",
       "      <td>0.0</td>\n",
       "      <td>0.052632</td>\n",
       "      <td>0.0</td>\n",
       "      <td>0.000000</td>\n",
       "      <td>0.0</td>\n",
       "      <td>0.526316</td>\n",
       "    </tr>\n",
       "    <tr>\n",
       "      <th>3</th>\n",
       "      <td>224</td>\n",
       "      <td>6.428571</td>\n",
       "      <td>0.571429</td>\n",
       "      <td>0.714286</td>\n",
       "      <td>0.119571</td>\n",
       "      <td>1</td>\n",
       "      <td>2.000000</td>\n",
       "      <td>0.119571</td>\n",
       "      <td>0.331380</td>\n",
       "      <td>0.321834</td>\n",
       "      <td>...</td>\n",
       "      <td>0.142857</td>\n",
       "      <td>0.0</td>\n",
       "      <td>0.285714</td>\n",
       "      <td>0.000000</td>\n",
       "      <td>0.0</td>\n",
       "      <td>0.142857</td>\n",
       "      <td>0.0</td>\n",
       "      <td>0.000000</td>\n",
       "      <td>0.0</td>\n",
       "      <td>0.857143</td>\n",
       "    </tr>\n",
       "    <tr>\n",
       "      <th>4</th>\n",
       "      <td>291</td>\n",
       "      <td>20.666667</td>\n",
       "      <td>1.666667</td>\n",
       "      <td>0.166667</td>\n",
       "      <td>0.198967</td>\n",
       "      <td>1</td>\n",
       "      <td>2.000000</td>\n",
       "      <td>0.198967</td>\n",
       "      <td>0.368641</td>\n",
       "      <td>0.346405</td>\n",
       "      <td>...</td>\n",
       "      <td>0.166667</td>\n",
       "      <td>0.0</td>\n",
       "      <td>0.166667</td>\n",
       "      <td>0.000000</td>\n",
       "      <td>0.0</td>\n",
       "      <td>0.000000</td>\n",
       "      <td>0.0</td>\n",
       "      <td>0.166667</td>\n",
       "      <td>0.0</td>\n",
       "      <td>0.833333</td>\n",
       "    </tr>\n",
       "  </tbody>\n",
       "</table>\n",
       "<p>5 rows × 54 columns</p>\n",
       "</div>"
      ],
      "text/plain": [
       "   user_id  likes_count  replies_count  retweets_count  tweet_ss  target  \\\n",
       "0       57     1.666667       0.666667        0.000000  0.450733       0   \n",
       "1       59     3.527778       0.694444        0.222222  0.579114       0   \n",
       "2       76    12.368421       1.526316        0.631579  0.615095       0   \n",
       "3      224     6.428571       0.571429        0.714286  0.119571       1   \n",
       "4      291    20.666667       1.666667        0.166667  0.198967       1   \n",
       "\n",
       "   num_hashtags  avg_convo_ss  avg_day_ss  avg_season_ss  ...   Month_3  \\\n",
       "0      2.000000      0.450733    0.345007       0.393048  ...  0.000000   \n",
       "1      2.000000      0.583351    0.347117       0.502371  ...  0.000000   \n",
       "2      3.789474      0.614055    0.354977       0.484822  ...  0.052632   \n",
       "3      2.000000      0.119571    0.331380       0.321834  ...  0.142857   \n",
       "4      2.000000      0.198967    0.368641       0.346405  ...  0.166667   \n",
       "\n",
       "   Month_4   Month_6   Month_7  Month_8   Month_9  Month_10  Month_11  \\\n",
       "0      0.0  0.000000  0.333333      0.0  0.000000       0.0  0.000000   \n",
       "1      0.0  0.000000  0.000000      0.0  0.000000       0.0  0.000000   \n",
       "2      0.0  0.000000  0.000000      0.0  0.052632       0.0  0.000000   \n",
       "3      0.0  0.285714  0.000000      0.0  0.142857       0.0  0.000000   \n",
       "4      0.0  0.166667  0.000000      0.0  0.000000       0.0  0.166667   \n",
       "\n",
       "   Month_12        PM  \n",
       "0       0.0  1.000000  \n",
       "1       0.0  0.500000  \n",
       "2       0.0  0.526316  \n",
       "3       0.0  0.857143  \n",
       "4       0.0  0.833333  \n",
       "\n",
       "[5 rows x 54 columns]"
      ]
     },
     "execution_count": 5,
     "metadata": {},
     "output_type": "execute_result"
    }
   ],
   "source": [
    "data.head()"
   ]
  },
  {
   "cell_type": "code",
   "execution_count": 6,
   "metadata": {
    "ExecuteTime": {
     "end_time": "2019-05-31T02:29:11.942655Z",
     "start_time": "2019-05-31T02:29:11.755964Z"
    },
    "scrolled": true
   },
   "outputs": [
    {
     "data": {
      "text/plain": [
       "user_id               0\n",
       "likes_count           0\n",
       "replies_count         0\n",
       "retweets_count        0\n",
       "tweet_ss              0\n",
       "target                0\n",
       "num_hashtags          0\n",
       "avg_convo_ss          0\n",
       "avg_day_ss            0\n",
       "avg_season_ss         0\n",
       "avg_time_of_day_ss    0\n",
       "avg_tag_ss            0\n",
       "avg_pop_ss            0\n",
       "hashtag_anxiety       0\n",
       "hashtag_depression    0\n",
       "hashtag_friends       0\n",
       "hashtag_fun           0\n",
       "hashtag_happiness     0\n",
       "hashtag_happy         0\n",
       "hashtag_hope          0\n",
       "hashtag_lonely        0\n",
       "hashtag_love          0\n",
       "hashtag_pain          0\n",
       "hashtag_peace         0\n",
       "hashtag_ptsd          0\n",
       "hashtag_sad           0\n",
       "hashtag_smile         0\n",
       "hashtag_stress        0\n",
       "hashtag_suicide       0\n",
       "search_anxiety        0\n",
       "search_depression     0\n",
       "search_happiness      0\n",
       "search_happy          0\n",
       "Friday                0\n",
       "Monday                0\n",
       "Saturday              0\n",
       "Sunday                0\n",
       "Thursday              0\n",
       "Tuesday               0\n",
       "autumn                0\n",
       "spring                0\n",
       "summer                0\n",
       "Month_1               0\n",
       "Month_2               0\n",
       "Month_3               0\n",
       "Month_4               0\n",
       "Month_6               0\n",
       "Month_7               0\n",
       "Month_8               0\n",
       "Month_9               0\n",
       "Month_10              0\n",
       "Month_11              0\n",
       "Month_12              0\n",
       "PM                    0\n",
       "dtype: int64"
      ]
     },
     "execution_count": 6,
     "metadata": {},
     "output_type": "execute_result"
    }
   ],
   "source": [
    "data.isnull().sum()"
   ]
  },
  {
   "cell_type": "code",
   "execution_count": 7,
   "metadata": {
    "ExecuteTime": {
     "end_time": "2019-05-31T02:29:12.784250Z",
     "start_time": "2019-05-31T02:29:12.295526Z"
    }
   },
   "outputs": [
    {
     "data": {
      "text/html": [
       "<div>\n",
       "<style scoped>\n",
       "    .dataframe tbody tr th:only-of-type {\n",
       "        vertical-align: middle;\n",
       "    }\n",
       "\n",
       "    .dataframe tbody tr th {\n",
       "        vertical-align: top;\n",
       "    }\n",
       "\n",
       "    .dataframe thead th {\n",
       "        text-align: right;\n",
       "    }\n",
       "</style>\n",
       "<table border=\"1\" class=\"dataframe\">\n",
       "  <thead>\n",
       "    <tr style=\"text-align: right;\">\n",
       "      <th></th>\n",
       "      <th>user_id</th>\n",
       "      <th>likes_count</th>\n",
       "      <th>replies_count</th>\n",
       "      <th>retweets_count</th>\n",
       "      <th>tweet_ss</th>\n",
       "      <th>target</th>\n",
       "      <th>num_hashtags</th>\n",
       "      <th>avg_convo_ss</th>\n",
       "      <th>avg_day_ss</th>\n",
       "      <th>avg_season_ss</th>\n",
       "      <th>...</th>\n",
       "      <th>Month_3</th>\n",
       "      <th>Month_4</th>\n",
       "      <th>Month_6</th>\n",
       "      <th>Month_7</th>\n",
       "      <th>Month_8</th>\n",
       "      <th>Month_9</th>\n",
       "      <th>Month_10</th>\n",
       "      <th>Month_11</th>\n",
       "      <th>Month_12</th>\n",
       "      <th>PM</th>\n",
       "    </tr>\n",
       "  </thead>\n",
       "  <tbody>\n",
       "    <tr>\n",
       "      <th>count</th>\n",
       "      <td>1.032090e+05</td>\n",
       "      <td>1.032090e+05</td>\n",
       "      <td>103209.000000</td>\n",
       "      <td>103209.000000</td>\n",
       "      <td>103209.000000</td>\n",
       "      <td>103209.000000</td>\n",
       "      <td>103209.000000</td>\n",
       "      <td>103209.000000</td>\n",
       "      <td>103209.000000</td>\n",
       "      <td>103209.000000</td>\n",
       "      <td>...</td>\n",
       "      <td>103209.000000</td>\n",
       "      <td>103209.000000</td>\n",
       "      <td>103209.000000</td>\n",
       "      <td>103209.000000</td>\n",
       "      <td>103209.000000</td>\n",
       "      <td>103209.000000</td>\n",
       "      <td>103209.000000</td>\n",
       "      <td>103209.000000</td>\n",
       "      <td>103209.000000</td>\n",
       "      <td>103209.000000</td>\n",
       "    </tr>\n",
       "    <tr>\n",
       "      <th>mean</th>\n",
       "      <td>4.007678e+16</td>\n",
       "      <td>3.143333e+02</td>\n",
       "      <td>9.730886</td>\n",
       "      <td>54.004333</td>\n",
       "      <td>0.423785</td>\n",
       "      <td>0.420651</td>\n",
       "      <td>9.265747</td>\n",
       "      <td>0.423760</td>\n",
       "      <td>0.352528</td>\n",
       "      <td>0.370201</td>\n",
       "      <td>...</td>\n",
       "      <td>0.049310</td>\n",
       "      <td>0.042420</td>\n",
       "      <td>0.055327</td>\n",
       "      <td>0.046559</td>\n",
       "      <td>0.045143</td>\n",
       "      <td>0.047422</td>\n",
       "      <td>0.047223</td>\n",
       "      <td>0.043371</td>\n",
       "      <td>0.048014</td>\n",
       "      <td>0.536867</td>\n",
       "    </tr>\n",
       "    <tr>\n",
       "      <th>std</th>\n",
       "      <td>1.834767e+17</td>\n",
       "      <td>6.492188e+03</td>\n",
       "      <td>309.915638</td>\n",
       "      <td>1784.883581</td>\n",
       "      <td>0.442188</td>\n",
       "      <td>0.493666</td>\n",
       "      <td>13.676750</td>\n",
       "      <td>0.441519</td>\n",
       "      <td>0.029120</td>\n",
       "      <td>0.125644</td>\n",
       "      <td>...</td>\n",
       "      <td>0.160046</td>\n",
       "      <td>0.148398</td>\n",
       "      <td>0.172865</td>\n",
       "      <td>0.156964</td>\n",
       "      <td>0.153716</td>\n",
       "      <td>0.157773</td>\n",
       "      <td>0.156721</td>\n",
       "      <td>0.149716</td>\n",
       "      <td>0.158832</td>\n",
       "      <td>0.399075</td>\n",
       "    </tr>\n",
       "    <tr>\n",
       "      <th>min</th>\n",
       "      <td>5.700000e+01</td>\n",
       "      <td>0.000000e+00</td>\n",
       "      <td>0.000000</td>\n",
       "      <td>0.000000</td>\n",
       "      <td>-0.986900</td>\n",
       "      <td>0.000000</td>\n",
       "      <td>0.000000</td>\n",
       "      <td>-0.986900</td>\n",
       "      <td>0.322150</td>\n",
       "      <td>0.168943</td>\n",
       "      <td>...</td>\n",
       "      <td>0.000000</td>\n",
       "      <td>0.000000</td>\n",
       "      <td>0.000000</td>\n",
       "      <td>0.000000</td>\n",
       "      <td>0.000000</td>\n",
       "      <td>0.000000</td>\n",
       "      <td>0.000000</td>\n",
       "      <td>0.000000</td>\n",
       "      <td>0.000000</td>\n",
       "      <td>0.000000</td>\n",
       "    </tr>\n",
       "    <tr>\n",
       "      <th>25%</th>\n",
       "      <td>2.817751e+07</td>\n",
       "      <td>2.555556e+00</td>\n",
       "      <td>0.000000</td>\n",
       "      <td>0.050000</td>\n",
       "      <td>0.140475</td>\n",
       "      <td>0.000000</td>\n",
       "      <td>2.000000</td>\n",
       "      <td>0.140800</td>\n",
       "      <td>0.331313</td>\n",
       "      <td>0.252510</td>\n",
       "      <td>...</td>\n",
       "      <td>0.000000</td>\n",
       "      <td>0.000000</td>\n",
       "      <td>0.000000</td>\n",
       "      <td>0.000000</td>\n",
       "      <td>0.000000</td>\n",
       "      <td>0.000000</td>\n",
       "      <td>0.000000</td>\n",
       "      <td>0.000000</td>\n",
       "      <td>0.000000</td>\n",
       "      <td>0.000000</td>\n",
       "    </tr>\n",
       "    <tr>\n",
       "      <th>50%</th>\n",
       "      <td>1.239265e+08</td>\n",
       "      <td>1.033333e+01</td>\n",
       "      <td>0.777778</td>\n",
       "      <td>1.625000</td>\n",
       "      <td>0.571900</td>\n",
       "      <td>0.000000</td>\n",
       "      <td>2.500000</td>\n",
       "      <td>0.571900</td>\n",
       "      <td>0.342849</td>\n",
       "      <td>0.377119</td>\n",
       "      <td>...</td>\n",
       "      <td>0.000000</td>\n",
       "      <td>0.000000</td>\n",
       "      <td>0.000000</td>\n",
       "      <td>0.000000</td>\n",
       "      <td>0.000000</td>\n",
       "      <td>0.000000</td>\n",
       "      <td>0.000000</td>\n",
       "      <td>0.000000</td>\n",
       "      <td>0.000000</td>\n",
       "      <td>0.500000</td>\n",
       "    </tr>\n",
       "    <tr>\n",
       "      <th>75%</th>\n",
       "      <td>4.847247e+08</td>\n",
       "      <td>4.800000e+01</td>\n",
       "      <td>2.350000</td>\n",
       "      <td>7.000000</td>\n",
       "      <td>0.775650</td>\n",
       "      <td>1.000000</td>\n",
       "      <td>12.000000</td>\n",
       "      <td>0.774350</td>\n",
       "      <td>0.364069</td>\n",
       "      <td>0.502371</td>\n",
       "      <td>...</td>\n",
       "      <td>0.000000</td>\n",
       "      <td>0.000000</td>\n",
       "      <td>0.000000</td>\n",
       "      <td>0.000000</td>\n",
       "      <td>0.000000</td>\n",
       "      <td>0.000000</td>\n",
       "      <td>0.000000</td>\n",
       "      <td>0.000000</td>\n",
       "      <td>0.000000</td>\n",
       "      <td>1.000000</td>\n",
       "    </tr>\n",
       "    <tr>\n",
       "      <th>max</th>\n",
       "      <td>1.129902e+18</td>\n",
       "      <td>1.438405e+06</td>\n",
       "      <td>85633.500000</td>\n",
       "      <td>475847.250000</td>\n",
       "      <td>0.992800</td>\n",
       "      <td>1.000000</td>\n",
       "      <td>259.000000</td>\n",
       "      <td>0.992800</td>\n",
       "      <td>0.430960</td>\n",
       "      <td>0.502371</td>\n",
       "      <td>...</td>\n",
       "      <td>1.000000</td>\n",
       "      <td>1.000000</td>\n",
       "      <td>1.000000</td>\n",
       "      <td>1.000000</td>\n",
       "      <td>1.000000</td>\n",
       "      <td>1.000000</td>\n",
       "      <td>1.000000</td>\n",
       "      <td>1.000000</td>\n",
       "      <td>1.000000</td>\n",
       "      <td>1.000000</td>\n",
       "    </tr>\n",
       "  </tbody>\n",
       "</table>\n",
       "<p>8 rows × 54 columns</p>\n",
       "</div>"
      ],
      "text/plain": [
       "            user_id   likes_count  replies_count  retweets_count  \\\n",
       "count  1.032090e+05  1.032090e+05  103209.000000   103209.000000   \n",
       "mean   4.007678e+16  3.143333e+02       9.730886       54.004333   \n",
       "std    1.834767e+17  6.492188e+03     309.915638     1784.883581   \n",
       "min    5.700000e+01  0.000000e+00       0.000000        0.000000   \n",
       "25%    2.817751e+07  2.555556e+00       0.000000        0.050000   \n",
       "50%    1.239265e+08  1.033333e+01       0.777778        1.625000   \n",
       "75%    4.847247e+08  4.800000e+01       2.350000        7.000000   \n",
       "max    1.129902e+18  1.438405e+06   85633.500000   475847.250000   \n",
       "\n",
       "            tweet_ss         target   num_hashtags   avg_convo_ss  \\\n",
       "count  103209.000000  103209.000000  103209.000000  103209.000000   \n",
       "mean        0.423785       0.420651       9.265747       0.423760   \n",
       "std         0.442188       0.493666      13.676750       0.441519   \n",
       "min        -0.986900       0.000000       0.000000      -0.986900   \n",
       "25%         0.140475       0.000000       2.000000       0.140800   \n",
       "50%         0.571900       0.000000       2.500000       0.571900   \n",
       "75%         0.775650       1.000000      12.000000       0.774350   \n",
       "max         0.992800       1.000000     259.000000       0.992800   \n",
       "\n",
       "          avg_day_ss  avg_season_ss  ...        Month_3        Month_4  \\\n",
       "count  103209.000000  103209.000000  ...  103209.000000  103209.000000   \n",
       "mean        0.352528       0.370201  ...       0.049310       0.042420   \n",
       "std         0.029120       0.125644  ...       0.160046       0.148398   \n",
       "min         0.322150       0.168943  ...       0.000000       0.000000   \n",
       "25%         0.331313       0.252510  ...       0.000000       0.000000   \n",
       "50%         0.342849       0.377119  ...       0.000000       0.000000   \n",
       "75%         0.364069       0.502371  ...       0.000000       0.000000   \n",
       "max         0.430960       0.502371  ...       1.000000       1.000000   \n",
       "\n",
       "             Month_6        Month_7        Month_8        Month_9  \\\n",
       "count  103209.000000  103209.000000  103209.000000  103209.000000   \n",
       "mean        0.055327       0.046559       0.045143       0.047422   \n",
       "std         0.172865       0.156964       0.153716       0.157773   \n",
       "min         0.000000       0.000000       0.000000       0.000000   \n",
       "25%         0.000000       0.000000       0.000000       0.000000   \n",
       "50%         0.000000       0.000000       0.000000       0.000000   \n",
       "75%         0.000000       0.000000       0.000000       0.000000   \n",
       "max         1.000000       1.000000       1.000000       1.000000   \n",
       "\n",
       "            Month_10       Month_11       Month_12             PM  \n",
       "count  103209.000000  103209.000000  103209.000000  103209.000000  \n",
       "mean        0.047223       0.043371       0.048014       0.536867  \n",
       "std         0.156721       0.149716       0.158832       0.399075  \n",
       "min         0.000000       0.000000       0.000000       0.000000  \n",
       "25%         0.000000       0.000000       0.000000       0.000000  \n",
       "50%         0.000000       0.000000       0.000000       0.500000  \n",
       "75%         0.000000       0.000000       0.000000       1.000000  \n",
       "max         1.000000       1.000000       1.000000       1.000000  \n",
       "\n",
       "[8 rows x 54 columns]"
      ]
     },
     "execution_count": 7,
     "metadata": {},
     "output_type": "execute_result"
    }
   ],
   "source": [
    "data.describe()"
   ]
  },
  {
   "cell_type": "markdown",
   "metadata": {},
   "source": [
    "# Data Preparation"
   ]
  },
  {
   "cell_type": "code",
   "execution_count": 8,
   "metadata": {
    "ExecuteTime": {
     "end_time": "2019-05-31T02:29:35.195781Z",
     "start_time": "2019-05-31T02:29:35.060406Z"
    }
   },
   "outputs": [],
   "source": [
    "# identify features\n",
    "features = data.drop('user_id', axis=1).copy()"
   ]
  },
  {
   "cell_type": "code",
   "execution_count": 9,
   "metadata": {
    "ExecuteTime": {
     "end_time": "2019-05-31T02:29:43.125171Z",
     "start_time": "2019-05-31T02:29:43.104965Z"
    }
   },
   "outputs": [],
   "source": [
    "# identify X and y\n",
    "X = features.drop('target', axis=1)\n",
    "y = features.target"
   ]
  },
  {
   "cell_type": "code",
   "execution_count": 10,
   "metadata": {
    "ExecuteTime": {
     "end_time": "2019-05-31T02:29:43.797330Z",
     "start_time": "2019-05-31T02:29:43.695528Z"
    }
   },
   "outputs": [],
   "source": [
    "# create training and testing datasets with 80/20 split\n",
    "X_train, X_test, y_train, y_test = train_test_split(X, y, test_size=0.2, random_state=34)"
   ]
  },
  {
   "cell_type": "code",
   "execution_count": 11,
   "metadata": {
    "ExecuteTime": {
     "end_time": "2019-05-31T02:29:44.195871Z",
     "start_time": "2019-05-31T02:29:44.186214Z"
    }
   },
   "outputs": [
    {
     "name": "stdout",
     "output_type": "stream",
     "text": [
      "X_train 82567\n",
      "X_test 20642\n",
      "y_train 82567\n",
      "y_test 20642\n"
     ]
    }
   ],
   "source": [
    "print('X_train', len(X_train))\n",
    "print('X_test', len(X_test))\n",
    "print('y_train', len(y_train))\n",
    "print('y_test', len(y_test))"
   ]
  },
  {
   "cell_type": "markdown",
   "metadata": {},
   "source": [
    "## Class Imbalance"
   ]
  },
  {
   "cell_type": "code",
   "execution_count": 12,
   "metadata": {
    "ExecuteTime": {
     "end_time": "2019-05-31T02:29:48.209834Z",
     "start_time": "2019-05-31T02:29:48.178663Z"
    }
   },
   "outputs": [],
   "source": [
    "# Concat X_train, y_train together into a training dataset\n",
    "data_train = pd.concat([X_train, y_train], axis=1)"
   ]
  },
  {
   "cell_type": "code",
   "execution_count": 13,
   "metadata": {
    "ExecuteTime": {
     "end_time": "2019-05-31T02:29:48.530427Z",
     "start_time": "2019-05-31T02:29:48.484125Z"
    }
   },
   "outputs": [],
   "source": [
    "# Separate minority and majority classes\n",
    "happy = data_train[data_train.target == 0]\n",
    "sad = data_train[data_train.target == 1]"
   ]
  },
  {
   "cell_type": "code",
   "execution_count": 14,
   "metadata": {
    "ExecuteTime": {
     "end_time": "2019-05-31T02:29:48.742871Z",
     "start_time": "2019-05-31T02:29:48.737440Z"
    }
   },
   "outputs": [
    {
     "name": "stdout",
     "output_type": "stream",
     "text": [
      "# of Happy Users: 47888\n",
      "# of Sad Users: 34679\n"
     ]
    }
   ],
   "source": [
    "print('# of Happy Users: '+ str(len(happy)))\n",
    "print('# of Sad Users: '+ str(len(sad)))"
   ]
  },
  {
   "cell_type": "code",
   "execution_count": 15,
   "metadata": {
    "ExecuteTime": {
     "end_time": "2019-05-31T02:29:49.266232Z",
     "start_time": "2019-05-31T02:29:48.957333Z"
    }
   },
   "outputs": [
    {
     "data": {
      "text/plain": [
       "<matplotlib.axes._subplots.AxesSubplot at 0x1a1fa56f28>"
      ]
     },
     "execution_count": 15,
     "metadata": {},
     "output_type": "execute_result"
    },
    {
     "data": {
      "image/png": "[encoded data removed]",
      "text/plain": [
       "<Figure size 720x576 with 1 Axes>"
      ]
     },
     "metadata": {
      "needs_background": "light"
     },
     "output_type": "display_data"
    }
   ],
   "source": [
    "# visualize class balance\n",
    "plt.figure(figsize=(10,8))\n",
    "sns.set_style('whitegrid')\n",
    "sns.countplot(x='target',data=data_train, palette='GnBu_d')"
   ]
  },
  {
   "cell_type": "code",
   "execution_count": 16,
   "metadata": {
    "ExecuteTime": {
     "end_time": "2019-05-31T02:29:49.316680Z",
     "start_time": "2019-05-31T02:29:49.270224Z"
    }
   },
   "outputs": [],
   "source": [
    "# Undersample majority\n",
    "sad_downsampled = resample(happy,\n",
    "                                replace = False, # sample without replacement\n",
    "                                n_samples = len(sad), # match minority n\n",
    "                                random_state = 23) # reproducible results"
   ]
  },
  {
   "cell_type": "code",
   "execution_count": 17,
   "metadata": {
    "ExecuteTime": {
     "end_time": "2019-05-31T02:29:53.445661Z",
     "start_time": "2019-05-31T02:29:53.408201Z"
    }
   },
   "outputs": [],
   "source": [
    "# combine minority and downsampled majority\n",
    "downsampled = pd.concat([sad, sad_downsampled])"
   ]
  },
  {
   "cell_type": "code",
   "execution_count": 18,
   "metadata": {
    "ExecuteTime": {
     "end_time": "2019-05-31T02:29:53.714802Z",
     "start_time": "2019-05-31T02:29:53.702934Z"
    },
    "scrolled": true
   },
   "outputs": [
    {
     "data": {
      "text/plain": [
       "1    34679\n",
       "0    34679\n",
       "Name: target, dtype: int64"
      ]
     },
     "execution_count": 18,
     "metadata": {},
     "output_type": "execute_result"
    }
   ],
   "source": [
    "# check counts\n",
    "downsampled.target.value_counts()"
   ]
  },
  {
   "cell_type": "code",
   "execution_count": 19,
   "metadata": {
    "ExecuteTime": {
     "end_time": "2019-05-31T02:29:53.954588Z",
     "start_time": "2019-05-31T02:29:53.894021Z"
    }
   },
   "outputs": [],
   "source": [
    "# redefine X_train, y_train\n",
    "X_train = downsampled.drop('target', axis=1)\n",
    "y_train = downsampled.target"
   ]
  },
  {
   "cell_type": "code",
   "execution_count": 20,
   "metadata": {
    "ExecuteTime": {
     "end_time": "2019-05-31T02:29:54.072846Z",
     "start_time": "2019-05-31T02:29:54.065904Z"
    }
   },
   "outputs": [
    {
     "name": "stdout",
     "output_type": "stream",
     "text": [
      "X_train 69358\n",
      "X_test 20642\n",
      "y_train 69358\n",
      "y_test 20642\n"
     ]
    }
   ],
   "source": [
    "print('X_train', len(X_train))\n",
    "print('X_test', len(X_test))\n",
    "print('y_train', len(y_train))\n",
    "print('y_test', len(y_test))"
   ]
  },
  {
   "cell_type": "markdown",
   "metadata": {},
   "source": [
    "## Scaling the Data"
   ]
  },
  {
   "cell_type": "code",
   "execution_count": 21,
   "metadata": {
    "ExecuteTime": {
     "end_time": "2019-05-31T02:29:57.506946Z",
     "start_time": "2019-05-31T02:29:57.147233Z"
    }
   },
   "outputs": [],
   "source": [
    "# instantiate the scaler, fit to train data and transform it\n",
    "scaler = StandardScaler()\n",
    "scaled_train = scaler.fit_transform(X_train)"
   ]
  },
  {
   "cell_type": "code",
   "execution_count": 22,
   "metadata": {
    "ExecuteTime": {
     "end_time": "2019-05-31T02:29:57.580376Z",
     "start_time": "2019-05-31T02:29:57.509763Z"
    }
   },
   "outputs": [],
   "source": [
    "#Use the scaler that is fit to the training data to transform the testing data\n",
    "scaled_test = scaler.transform(X_test)"
   ]
  },
  {
   "cell_type": "code",
   "execution_count": 23,
   "metadata": {
    "ExecuteTime": {
     "end_time": "2019-05-31T02:29:57.654915Z",
     "start_time": "2019-05-31T02:29:57.588387Z"
    }
   },
   "outputs": [
    {
     "data": {
      "text/html": [
       "<div>\n",
       "<style scoped>\n",
       "    .dataframe tbody tr th:only-of-type {\n",
       "        vertical-align: middle;\n",
       "    }\n",
       "\n",
       "    .dataframe tbody tr th {\n",
       "        vertical-align: top;\n",
       "    }\n",
       "\n",
       "    .dataframe thead th {\n",
       "        text-align: right;\n",
       "    }\n",
       "</style>\n",
       "<table border=\"1\" class=\"dataframe\">\n",
       "  <thead>\n",
       "    <tr style=\"text-align: right;\">\n",
       "      <th></th>\n",
       "      <th>likes_count</th>\n",
       "      <th>replies_count</th>\n",
       "      <th>retweets_count</th>\n",
       "      <th>tweet_ss</th>\n",
       "      <th>num_hashtags</th>\n",
       "      <th>avg_convo_ss</th>\n",
       "      <th>avg_day_ss</th>\n",
       "      <th>avg_season_ss</th>\n",
       "      <th>avg_time_of_day_ss</th>\n",
       "      <th>avg_tag_ss</th>\n",
       "      <th>...</th>\n",
       "      <th>Month_3</th>\n",
       "      <th>Month_4</th>\n",
       "      <th>Month_6</th>\n",
       "      <th>Month_7</th>\n",
       "      <th>Month_8</th>\n",
       "      <th>Month_9</th>\n",
       "      <th>Month_10</th>\n",
       "      <th>Month_11</th>\n",
       "      <th>Month_12</th>\n",
       "      <th>PM</th>\n",
       "    </tr>\n",
       "  </thead>\n",
       "  <tbody>\n",
       "    <tr>\n",
       "      <th>0</th>\n",
       "      <td>-0.063439</td>\n",
       "      <td>-0.063309</td>\n",
       "      <td>-0.069375</td>\n",
       "      <td>0.579435</td>\n",
       "      <td>0.920042</td>\n",
       "      <td>0.580318</td>\n",
       "      <td>-0.469746</td>\n",
       "      <td>0.580447</td>\n",
       "      <td>1.376670</td>\n",
       "      <td>0.533013</td>\n",
       "      <td>...</td>\n",
       "      <td>-0.321322</td>\n",
       "      <td>-0.299048</td>\n",
       "      <td>-0.334257</td>\n",
       "      <td>-0.307360</td>\n",
       "      <td>-0.305163</td>\n",
       "      <td>-0.313858</td>\n",
       "      <td>-0.314666</td>\n",
       "      <td>1.026635</td>\n",
       "      <td>-0.310497</td>\n",
       "      <td>-1.376670</td>\n",
       "    </tr>\n",
       "    <tr>\n",
       "      <th>1</th>\n",
       "      <td>-0.042042</td>\n",
       "      <td>0.058221</td>\n",
       "      <td>-0.055103</td>\n",
       "      <td>-1.556802</td>\n",
       "      <td>-0.529032</td>\n",
       "      <td>-1.559524</td>\n",
       "      <td>-0.747734</td>\n",
       "      <td>-1.520728</td>\n",
       "      <td>1.376670</td>\n",
       "      <td>-1.273893</td>\n",
       "      <td>...</td>\n",
       "      <td>-0.321322</td>\n",
       "      <td>-0.299048</td>\n",
       "      <td>5.365339</td>\n",
       "      <td>-0.307360</td>\n",
       "      <td>-0.305163</td>\n",
       "      <td>-0.313858</td>\n",
       "      <td>-0.314666</td>\n",
       "      <td>-0.300668</td>\n",
       "      <td>-0.310497</td>\n",
       "      <td>-1.376670</td>\n",
       "    </tr>\n",
       "    <tr>\n",
       "      <th>2</th>\n",
       "      <td>-0.062361</td>\n",
       "      <td>-0.060460</td>\n",
       "      <td>-0.070105</td>\n",
       "      <td>-0.533726</td>\n",
       "      <td>-0.161103</td>\n",
       "      <td>-0.534722</td>\n",
       "      <td>-0.037971</td>\n",
       "      <td>-1.045963</td>\n",
       "      <td>-0.213400</td>\n",
       "      <td>-0.481543</td>\n",
       "      <td>...</td>\n",
       "      <td>0.449442</td>\n",
       "      <td>-0.299048</td>\n",
       "      <td>0.378193</td>\n",
       "      <td>-0.307360</td>\n",
       "      <td>-0.305163</td>\n",
       "      <td>0.464497</td>\n",
       "      <td>1.256376</td>\n",
       "      <td>-0.300668</td>\n",
       "      <td>1.272246</td>\n",
       "      <td>0.213400</td>\n",
       "    </tr>\n",
       "    <tr>\n",
       "      <th>3</th>\n",
       "      <td>-0.063544</td>\n",
       "      <td>-0.057965</td>\n",
       "      <td>-0.071209</td>\n",
       "      <td>0.270110</td>\n",
       "      <td>-0.527391</td>\n",
       "      <td>0.277962</td>\n",
       "      <td>-0.273497</td>\n",
       "      <td>1.100994</td>\n",
       "      <td>0.466622</td>\n",
       "      <td>0.977957</td>\n",
       "      <td>...</td>\n",
       "      <td>-0.321322</td>\n",
       "      <td>-0.299048</td>\n",
       "      <td>-0.322993</td>\n",
       "      <td>-0.294837</td>\n",
       "      <td>-0.305163</td>\n",
       "      <td>-0.301552</td>\n",
       "      <td>-0.314666</td>\n",
       "      <td>-0.300668</td>\n",
       "      <td>-0.310497</td>\n",
       "      <td>-0.466622</td>\n",
       "    </tr>\n",
       "    <tr>\n",
       "      <th>4</th>\n",
       "      <td>-0.063485</td>\n",
       "      <td>-0.063309</td>\n",
       "      <td>-0.071321</td>\n",
       "      <td>-2.588290</td>\n",
       "      <td>-0.529032</td>\n",
       "      <td>-2.592753</td>\n",
       "      <td>0.052293</td>\n",
       "      <td>-0.223959</td>\n",
       "      <td>0.104614</td>\n",
       "      <td>-1.735881</td>\n",
       "      <td>...</td>\n",
       "      <td>-0.321322</td>\n",
       "      <td>-0.299048</td>\n",
       "      <td>-0.334257</td>\n",
       "      <td>-0.307360</td>\n",
       "      <td>-0.305163</td>\n",
       "      <td>2.799561</td>\n",
       "      <td>-0.314666</td>\n",
       "      <td>-0.300668</td>\n",
       "      <td>-0.310497</td>\n",
       "      <td>-0.104614</td>\n",
       "    </tr>\n",
       "  </tbody>\n",
       "</table>\n",
       "<p>5 rows × 52 columns</p>\n",
       "</div>"
      ],
      "text/plain": [
       "   likes_count  replies_count  retweets_count  tweet_ss  num_hashtags  \\\n",
       "0    -0.063439      -0.063309       -0.069375  0.579435      0.920042   \n",
       "1    -0.042042       0.058221       -0.055103 -1.556802     -0.529032   \n",
       "2    -0.062361      -0.060460       -0.070105 -0.533726     -0.161103   \n",
       "3    -0.063544      -0.057965       -0.071209  0.270110     -0.527391   \n",
       "4    -0.063485      -0.063309       -0.071321 -2.588290     -0.529032   \n",
       "\n",
       "   avg_convo_ss  avg_day_ss  avg_season_ss  avg_time_of_day_ss  avg_tag_ss  \\\n",
       "0      0.580318   -0.469746       0.580447            1.376670    0.533013   \n",
       "1     -1.559524   -0.747734      -1.520728            1.376670   -1.273893   \n",
       "2     -0.534722   -0.037971      -1.045963           -0.213400   -0.481543   \n",
       "3      0.277962   -0.273497       1.100994            0.466622    0.977957   \n",
       "4     -2.592753    0.052293      -0.223959            0.104614   -1.735881   \n",
       "\n",
       "   ...   Month_3   Month_4   Month_6   Month_7   Month_8   Month_9  Month_10  \\\n",
       "0  ... -0.321322 -0.299048 -0.334257 -0.307360 -0.305163 -0.313858 -0.314666   \n",
       "1  ... -0.321322 -0.299048  5.365339 -0.307360 -0.305163 -0.313858 -0.314666   \n",
       "2  ...  0.449442 -0.299048  0.378193 -0.307360 -0.305163  0.464497  1.256376   \n",
       "3  ... -0.321322 -0.299048 -0.322993 -0.294837 -0.305163 -0.301552 -0.314666   \n",
       "4  ... -0.321322 -0.299048 -0.334257 -0.307360 -0.305163  2.799561 -0.314666   \n",
       "\n",
       "   Month_11  Month_12        PM  \n",
       "0  1.026635 -0.310497 -1.376670  \n",
       "1 -0.300668 -0.310497 -1.376670  \n",
       "2 -0.300668  1.272246  0.213400  \n",
       "3 -0.300668 -0.310497 -0.466622  \n",
       "4 -0.300668 -0.310497 -0.104614  \n",
       "\n",
       "[5 rows x 52 columns]"
      ]
     },
     "execution_count": 23,
     "metadata": {},
     "output_type": "execute_result"
    }
   ],
   "source": [
    "# turn scaled training dataset to pandas dataframe\n",
    "scaled_train = pd.DataFrame(scaled_train, columns=X_train.columns)\n",
    "scaled_train.head()"
   ]
  },
  {
   "cell_type": "code",
   "execution_count": 24,
   "metadata": {
    "ExecuteTime": {
     "end_time": "2019-05-31T02:29:57.725436Z",
     "start_time": "2019-05-31T02:29:57.717039Z"
    },
    "scrolled": true
   },
   "outputs": [
    {
     "data": {
      "text/plain": [
       "(69358, 52)"
      ]
     },
     "execution_count": 24,
     "metadata": {},
     "output_type": "execute_result"
    }
   ],
   "source": [
    "scaled_train.shape"
   ]
  },
  {
   "cell_type": "code",
   "execution_count": 25,
   "metadata": {
    "ExecuteTime": {
     "end_time": "2019-05-31T02:29:57.875894Z",
     "start_time": "2019-05-31T02:29:57.841303Z"
    }
   },
   "outputs": [
    {
     "data": {
      "text/html": [
       "<div>\n",
       "<style scoped>\n",
       "    .dataframe tbody tr th:only-of-type {\n",
       "        vertical-align: middle;\n",
       "    }\n",
       "\n",
       "    .dataframe tbody tr th {\n",
       "        vertical-align: top;\n",
       "    }\n",
       "\n",
       "    .dataframe thead th {\n",
       "        text-align: right;\n",
       "    }\n",
       "</style>\n",
       "<table border=\"1\" class=\"dataframe\">\n",
       "  <thead>\n",
       "    <tr style=\"text-align: right;\">\n",
       "      <th></th>\n",
       "      <th>likes_count</th>\n",
       "      <th>replies_count</th>\n",
       "      <th>retweets_count</th>\n",
       "      <th>tweet_ss</th>\n",
       "      <th>num_hashtags</th>\n",
       "      <th>avg_convo_ss</th>\n",
       "      <th>avg_day_ss</th>\n",
       "      <th>avg_season_ss</th>\n",
       "      <th>avg_time_of_day_ss</th>\n",
       "      <th>avg_tag_ss</th>\n",
       "      <th>...</th>\n",
       "      <th>Month_3</th>\n",
       "      <th>Month_4</th>\n",
       "      <th>Month_6</th>\n",
       "      <th>Month_7</th>\n",
       "      <th>Month_8</th>\n",
       "      <th>Month_9</th>\n",
       "      <th>Month_10</th>\n",
       "      <th>Month_11</th>\n",
       "      <th>Month_12</th>\n",
       "      <th>PM</th>\n",
       "    </tr>\n",
       "  </thead>\n",
       "  <tbody>\n",
       "    <tr>\n",
       "      <th>0</th>\n",
       "      <td>0.083635</td>\n",
       "      <td>0.165940</td>\n",
       "      <td>0.078921</td>\n",
       "      <td>0.036103</td>\n",
       "      <td>-0.529032</td>\n",
       "      <td>0.072359</td>\n",
       "      <td>0.089969</td>\n",
       "      <td>-0.337856</td>\n",
       "      <td>-0.011027</td>\n",
       "      <td>-0.772313</td>\n",
       "      <td>...</td>\n",
       "      <td>0.239234</td>\n",
       "      <td>0.302628</td>\n",
       "      <td>0.183888</td>\n",
       "      <td>-0.30736</td>\n",
       "      <td>0.278223</td>\n",
       "      <td>0.818294</td>\n",
       "      <td>0.256622</td>\n",
       "      <td>0.302651</td>\n",
       "      <td>-0.310497</td>\n",
       "      <td>0.011027</td>\n",
       "    </tr>\n",
       "    <tr>\n",
       "      <th>1</th>\n",
       "      <td>-0.058441</td>\n",
       "      <td>-0.051440</td>\n",
       "      <td>-0.062199</td>\n",
       "      <td>0.646516</td>\n",
       "      <td>-0.279029</td>\n",
       "      <td>0.647513</td>\n",
       "      <td>0.569359</td>\n",
       "      <td>1.116718</td>\n",
       "      <td>1.376670</td>\n",
       "      <td>0.984739</td>\n",
       "      <td>...</td>\n",
       "      <td>-0.321322</td>\n",
       "      <td>-0.299048</td>\n",
       "      <td>-0.334257</td>\n",
       "      <td>-0.30736</td>\n",
       "      <td>-0.305163</td>\n",
       "      <td>-0.313858</td>\n",
       "      <td>-0.314666</td>\n",
       "      <td>-0.300668</td>\n",
       "      <td>-0.310497</td>\n",
       "      <td>-1.376670</td>\n",
       "    </tr>\n",
       "    <tr>\n",
       "      <th>2</th>\n",
       "      <td>0.048108</td>\n",
       "      <td>0.103795</td>\n",
       "      <td>-0.037263</td>\n",
       "      <td>0.391871</td>\n",
       "      <td>-0.529032</td>\n",
       "      <td>0.392438</td>\n",
       "      <td>2.785987</td>\n",
       "      <td>-1.520728</td>\n",
       "      <td>1.376670</td>\n",
       "      <td>0.868778</td>\n",
       "      <td>...</td>\n",
       "      <td>-0.321322</td>\n",
       "      <td>-0.299048</td>\n",
       "      <td>-0.334257</td>\n",
       "      <td>-0.30736</td>\n",
       "      <td>6.112082</td>\n",
       "      <td>-0.313858</td>\n",
       "      <td>-0.314666</td>\n",
       "      <td>-0.300668</td>\n",
       "      <td>-0.310497</td>\n",
       "      <td>-1.376670</td>\n",
       "    </tr>\n",
       "    <tr>\n",
       "      <th>3</th>\n",
       "      <td>-0.055646</td>\n",
       "      <td>-0.055713</td>\n",
       "      <td>-0.064834</td>\n",
       "      <td>1.169928</td>\n",
       "      <td>0.678530</td>\n",
       "      <td>1.171808</td>\n",
       "      <td>2.785987</td>\n",
       "      <td>1.116718</td>\n",
       "      <td>-1.167441</td>\n",
       "      <td>0.984739</td>\n",
       "      <td>...</td>\n",
       "      <td>-0.321322</td>\n",
       "      <td>-0.299048</td>\n",
       "      <td>-0.334257</td>\n",
       "      <td>-0.30736</td>\n",
       "      <td>-0.305163</td>\n",
       "      <td>-0.313858</td>\n",
       "      <td>-0.314666</td>\n",
       "      <td>-0.300668</td>\n",
       "      <td>-0.310497</td>\n",
       "      <td>1.167441</td>\n",
       "    </tr>\n",
       "    <tr>\n",
       "      <th>4</th>\n",
       "      <td>-0.058268</td>\n",
       "      <td>-0.057612</td>\n",
       "      <td>-0.054697</td>\n",
       "      <td>-1.145983</td>\n",
       "      <td>2.706856</td>\n",
       "      <td>-1.148012</td>\n",
       "      <td>-0.729156</td>\n",
       "      <td>-1.045963</td>\n",
       "      <td>0.104614</td>\n",
       "      <td>-1.807817</td>\n",
       "      <td>...</td>\n",
       "      <td>-0.321322</td>\n",
       "      <td>0.528257</td>\n",
       "      <td>0.378193</td>\n",
       "      <td>-0.30736</td>\n",
       "      <td>-0.305163</td>\n",
       "      <td>0.464497</td>\n",
       "      <td>1.256376</td>\n",
       "      <td>-0.300668</td>\n",
       "      <td>0.480875</td>\n",
       "      <td>-0.104614</td>\n",
       "    </tr>\n",
       "  </tbody>\n",
       "</table>\n",
       "<p>5 rows × 52 columns</p>\n",
       "</div>"
      ],
      "text/plain": [
       "   likes_count  replies_count  retweets_count  tweet_ss  num_hashtags  \\\n",
       "0     0.083635       0.165940        0.078921  0.036103     -0.529032   \n",
       "1    -0.058441      -0.051440       -0.062199  0.646516     -0.279029   \n",
       "2     0.048108       0.103795       -0.037263  0.391871     -0.529032   \n",
       "3    -0.055646      -0.055713       -0.064834  1.169928      0.678530   \n",
       "4    -0.058268      -0.057612       -0.054697 -1.145983      2.706856   \n",
       "\n",
       "   avg_convo_ss  avg_day_ss  avg_season_ss  avg_time_of_day_ss  avg_tag_ss  \\\n",
       "0      0.072359    0.089969      -0.337856           -0.011027   -0.772313   \n",
       "1      0.647513    0.569359       1.116718            1.376670    0.984739   \n",
       "2      0.392438    2.785987      -1.520728            1.376670    0.868778   \n",
       "3      1.171808    2.785987       1.116718           -1.167441    0.984739   \n",
       "4     -1.148012   -0.729156      -1.045963            0.104614   -1.807817   \n",
       "\n",
       "   ...   Month_3   Month_4   Month_6  Month_7   Month_8   Month_9  Month_10  \\\n",
       "0  ...  0.239234  0.302628  0.183888 -0.30736  0.278223  0.818294  0.256622   \n",
       "1  ... -0.321322 -0.299048 -0.334257 -0.30736 -0.305163 -0.313858 -0.314666   \n",
       "2  ... -0.321322 -0.299048 -0.334257 -0.30736  6.112082 -0.313858 -0.314666   \n",
       "3  ... -0.321322 -0.299048 -0.334257 -0.30736 -0.305163 -0.313858 -0.314666   \n",
       "4  ... -0.321322  0.528257  0.378193 -0.30736 -0.305163  0.464497  1.256376   \n",
       "\n",
       "   Month_11  Month_12        PM  \n",
       "0  0.302651 -0.310497  0.011027  \n",
       "1 -0.300668 -0.310497 -1.376670  \n",
       "2 -0.300668 -0.310497 -1.376670  \n",
       "3 -0.300668 -0.310497  1.167441  \n",
       "4 -0.300668  0.480875 -0.104614  \n",
       "\n",
       "[5 rows x 52 columns]"
      ]
     },
     "execution_count": 25,
     "metadata": {},
     "output_type": "execute_result"
    }
   ],
   "source": [
    "# turn scaled testing dataset to pandas dataframe\n",
    "scaled_test = pd.DataFrame(scaled_test, columns=X_test.columns)\n",
    "scaled_test.head()"
   ]
  },
  {
   "cell_type": "code",
   "execution_count": 26,
   "metadata": {
    "ExecuteTime": {
     "end_time": "2019-05-31T02:29:58.042326Z",
     "start_time": "2019-05-31T02:29:58.031643Z"
    }
   },
   "outputs": [
    {
     "data": {
      "text/plain": [
       "(20642, 52)"
      ]
     },
     "execution_count": 26,
     "metadata": {},
     "output_type": "execute_result"
    }
   ],
   "source": [
    "scaled_test.shape"
   ]
  },
  {
   "cell_type": "markdown",
   "metadata": {},
   "source": [
    "# Base Models"
   ]
  },
  {
   "cell_type": "markdown",
   "metadata": {},
   "source": [
    "## Naive Bayes"
   ]
  },
  {
   "cell_type": "code",
   "execution_count": 128,
   "metadata": {
    "ExecuteTime": {
     "end_time": "2019-05-31T04:20:10.952344Z",
     "start_time": "2019-05-31T04:20:10.948791Z"
    }
   },
   "outputs": [],
   "source": [
    "# create a Naive Bayes instance and assign to variable\n",
    "clf = GaussianNB()"
   ]
  },
  {
   "cell_type": "code",
   "execution_count": 129,
   "metadata": {
    "ExecuteTime": {
     "end_time": "2019-05-31T04:20:17.007236Z",
     "start_time": "2019-05-31T04:20:16.792881Z"
    }
   },
   "outputs": [],
   "source": [
    "# fit Naive Bayes instance to training data and assign to variable\n",
    "nb_base = clf.fit(scaled_train, y_train)"
   ]
  },
  {
   "cell_type": "code",
   "execution_count": 130,
   "metadata": {
    "ExecuteTime": {
     "end_time": "2019-05-31T04:20:17.113775Z",
     "start_time": "2019-05-31T04:20:17.103668Z"
    }
   },
   "outputs": [
    {
     "data": {
      "text/plain": [
       "GaussianNB(priors=None, var_smoothing=1e-09)"
      ]
     },
     "execution_count": 130,
     "metadata": {},
     "output_type": "execute_result"
    }
   ],
   "source": [
    "nb_base"
   ]
  },
  {
   "cell_type": "code",
   "execution_count": 131,
   "metadata": {
    "ExecuteTime": {
     "end_time": "2019-05-31T04:20:19.494509Z",
     "start_time": "2019-05-31T04:20:19.264819Z"
    }
   },
   "outputs": [
    {
     "name": "stdout",
     "output_type": "stream",
     "text": [
      "              precision    recall  f1-score   support\n",
      "\n",
      "           0       1.00      1.00      1.00     34679\n",
      "           1       1.00      1.00      1.00     34679\n",
      "\n",
      "    accuracy                           1.00     69358\n",
      "   macro avg       1.00      1.00      1.00     69358\n",
      "weighted avg       1.00      1.00      1.00     69358\n",
      "\n"
     ]
    }
   ],
   "source": [
    "# create a classification report for the model on training data\n",
    "nb_preds_train = nb_base.predict(scaled_train)\n",
    "print(classification_report(y_train, nb_preds_train))"
   ]
  },
  {
   "cell_type": "code",
   "execution_count": 132,
   "metadata": {
    "ExecuteTime": {
     "end_time": "2019-05-31T04:20:21.057854Z",
     "start_time": "2019-05-31T04:20:20.634397Z"
    }
   },
   "outputs": [
    {
     "data": {
      "text/plain": [
       "<matplotlib.axes._subplots.AxesSubplot at 0x1a29565978>"
      ]
     },
     "execution_count": 132,
     "metadata": {},
     "output_type": "execute_result"
    },
    {
     "data": {
      "image/png": "[encoded data removed]",
      "text/plain": [
       "<Figure size 648x648 with 2 Axes>"
      ]
     },
     "metadata": {},
     "output_type": "display_data"
    }
   ],
   "source": [
    "#confusion matrix visualization of train data\n",
    "cm_nb_train = confusion_matrix(y_train, nb_preds_train)\n",
    "\n",
    "plt.figure(figsize = (9, 9))\n",
    "sns.heatmap(cm_nb_train, annot = True, fmt = \".3f\", linewidths = .5, square = True, cmap = plt.cm.Blues)"
   ]
  },
  {
   "cell_type": "code",
   "execution_count": 133,
   "metadata": {
    "ExecuteTime": {
     "end_time": "2019-05-31T04:20:21.320841Z",
     "start_time": "2019-05-31T04:20:21.205896Z"
    }
   },
   "outputs": [
    {
     "name": "stdout",
     "output_type": "stream",
     "text": [
      "              precision    recall  f1-score   support\n",
      "\n",
      "           0       1.00      1.00      1.00     11906\n",
      "           1       1.00      1.00      1.00      8736\n",
      "\n",
      "    accuracy                           1.00     20642\n",
      "   macro avg       1.00      1.00      1.00     20642\n",
      "weighted avg       1.00      1.00      1.00     20642\n",
      "\n"
     ]
    }
   ],
   "source": [
    "# create a classification report for the model on testing data\n",
    "nb_preds_test = nb_base.predict(scaled_test)\n",
    "print(classification_report(y_test, nb_preds_test))"
   ]
  },
  {
   "cell_type": "code",
   "execution_count": 134,
   "metadata": {
    "ExecuteTime": {
     "end_time": "2019-05-31T04:20:22.390196Z",
     "start_time": "2019-05-31T04:20:21.845977Z"
    }
   },
   "outputs": [
    {
     "data": {
      "text/plain": [
       "<matplotlib.axes._subplots.AxesSubplot at 0x1a2b31fa90>"
      ]
     },
     "execution_count": 134,
     "metadata": {},
     "output_type": "execute_result"
    },
    {
     "data": {
      "image/png": "[encoded data removed]",
      "text/plain": [
       "<Figure size 648x648 with 2 Axes>"
      ]
     },
     "metadata": {},
     "output_type": "display_data"
    }
   ],
   "source": [
    "#confusion matrix visualization of train data\n",
    "cm_nb_test = confusion_matrix(y_test, nb_preds_test)\n",
    "\n",
    "plt.figure(figsize = (9, 9))\n",
    "sns.heatmap(cm_nb_test, annot = True, fmt = \".3f\", linewidths = .5, square = True, cmap = plt.cm.Blues)"
   ]
  },
  {
   "cell_type": "code",
   "execution_count": 135,
   "metadata": {
    "ExecuteTime": {
     "end_time": "2019-05-31T04:20:23.019373Z",
     "start_time": "2019-05-31T04:20:22.978333Z"
    }
   },
   "outputs": [
    {
     "name": "stdout",
     "output_type": "stream",
     "text": [
      "Training F1 Score: 0.9998558413101142\n",
      "Testing F1 Score: 0.9998855442371524\n"
     ]
    }
   ],
   "source": [
    "# Model Accuracy, how often is the classifier correct?\n",
    "print('Training F1 Score:', f1_score(y_train, nb_preds_train))\n",
    "print('Testing F1 Score:', f1_score(y_test, nb_preds_test))"
   ]
  },
  {
   "cell_type": "code",
   "execution_count": null,
   "metadata": {},
   "outputs": [],
   "source": [
    "# # pickle base model\n",
    "# pickle_model(nb_base, nb_base)"
   ]
  },
  {
   "cell_type": "markdown",
   "metadata": {},
   "source": [
    "## Support Vector Machine"
   ]
  },
  {
   "cell_type": "code",
   "execution_count": null,
   "metadata": {},
   "outputs": [],
   "source": [
    "# create a Support Vector Machine instance for linear SVM\n",
    "svm = SVC(kernel='linear')"
   ]
  },
  {
   "cell_type": "code",
   "execution_count": null,
   "metadata": {},
   "outputs": [],
   "source": [
    "# fit SVM to training data\n",
    "svm_base = svm.fit(scaled_train, y_train)"
   ]
  },
  {
   "cell_type": "code",
   "execution_count": null,
   "metadata": {},
   "outputs": [],
   "source": [
    "# create a classification report for the model on training data\n",
    "svm_preds_train = svm_base.predict(scaled_train)\n",
    "print(classification_report(y_train, svm_preds_train))"
   ]
  },
  {
   "cell_type": "code",
   "execution_count": null,
   "metadata": {},
   "outputs": [],
   "source": [
    "#confusion matrix visualization of train data\n",
    "cm_svm_train = confusion_matrix(y_train, svm_preds_train)\n",
    "\n",
    "plt.figure(figsize = (9, 9))\n",
    "sns.heatmap(cm_svm_train, annot = True, fmt = \".3f\", linewidths = .5, square = True, cmap = plt.cm.Blues)"
   ]
  },
  {
   "cell_type": "code",
   "execution_count": null,
   "metadata": {},
   "outputs": [],
   "source": [
    "# create a classification report for the model on testing data\n",
    "svm_preds_test = svm_base.predict(scaled_test)\n",
    "print(classification_report(y_test, svm_preds_test))"
   ]
  },
  {
   "cell_type": "code",
   "execution_count": null,
   "metadata": {
    "scrolled": false
   },
   "outputs": [],
   "source": [
    "#confusion matrix visualization of train data\n",
    "cm_svm_test = confusion_matrix(y_test, svm_preds_test)\n",
    "\n",
    "plt.figure(figsize = (9, 9))\n",
    "sns.heatmap(cm_svm_test, annot = True, fmt = \".3f\", linewidths = .5, square = True, cmap = plt.cm.Blues)"
   ]
  },
  {
   "cell_type": "code",
   "execution_count": null,
   "metadata": {},
   "outputs": [],
   "source": [
    "# # pickle base model\n",
    "# pickle_model(svm_base, svm_base)"
   ]
  },
  {
   "cell_type": "markdown",
   "metadata": {},
   "source": [
    "# Feature Selection"
   ]
  },
  {
   "cell_type": "code",
   "execution_count": 34,
   "metadata": {
    "ExecuteTime": {
     "end_time": "2019-05-31T02:34:42.088187Z",
     "start_time": "2019-05-31T02:34:41.938228Z"
    }
   },
   "outputs": [],
   "source": [
    "# import data after removing highly correlated features\n",
    "data3 = pd.read_pickle('./cleaned_data/corr_user_df.pkl')"
   ]
  },
  {
   "cell_type": "code",
   "execution_count": 35,
   "metadata": {
    "ExecuteTime": {
     "end_time": "2019-05-31T02:35:08.647108Z",
     "start_time": "2019-05-31T02:35:08.635824Z"
    }
   },
   "outputs": [
    {
     "data": {
      "text/plain": [
       "Index(['user_id', 'likes_count', 'tweet_ss', 'target', 'num_hashtags',\n",
       "       'avg_day_ss', 'avg_season_ss', 'avg_time_of_day_ss', 'avg_pop_ss',\n",
       "       'hashtag_anxiety', 'hashtag_depression', 'hashtag_friends',\n",
       "       'hashtag_fun', 'hashtag_happiness', 'hashtag_happy', 'hashtag_hope',\n",
       "       'hashtag_lonely', 'hashtag_love', 'hashtag_pain', 'hashtag_peace',\n",
       "       'hashtag_ptsd', 'hashtag_sad', 'hashtag_smile', 'hashtag_stress',\n",
       "       'hashtag_suicide', 'search_anxiety', 'search_happiness', 'Friday',\n",
       "       'Monday', 'Saturday', 'Thursday', 'Tuesday', 'autumn', 'summer',\n",
       "       'Month_1', 'Month_2', 'Month_3', 'Month_4', 'Month_6', 'Month_7',\n",
       "       'Month_8', 'Month_9', 'Month_10', 'Month_11', 'Month_12'],\n",
       "      dtype='object')"
      ]
     },
     "execution_count": 35,
     "metadata": {},
     "output_type": "execute_result"
    }
   ],
   "source": [
    "data3.columns"
   ]
  },
  {
   "cell_type": "markdown",
   "metadata": {},
   "source": [
    "## Data Preparation"
   ]
  },
  {
   "cell_type": "code",
   "execution_count": 36,
   "metadata": {
    "ExecuteTime": {
     "end_time": "2019-05-31T02:35:41.085197Z",
     "start_time": "2019-05-31T02:35:41.019120Z"
    }
   },
   "outputs": [],
   "source": [
    "# identify features and remove all search and keywords because they were used to define target variable\n",
    "features = data3.drop(['user_id', 'hashtag_anxiety', 'hashtag_depression', 'hashtag_friends',\n",
    "       'hashtag_fun', 'hashtag_happiness', 'hashtag_happy', 'hashtag_hope',\n",
    "       'hashtag_lonely', 'hashtag_love', 'hashtag_pain', 'hashtag_peace',\n",
    "       'hashtag_ptsd', 'hashtag_sad', 'hashtag_smile', 'hashtag_stress',\n",
    "       'hashtag_suicide', 'search_anxiety', 'search_happiness'], axis=1).copy()"
   ]
  },
  {
   "cell_type": "code",
   "execution_count": 40,
   "metadata": {
    "ExecuteTime": {
     "end_time": "2019-05-31T02:44:44.931187Z",
     "start_time": "2019-05-31T02:44:44.920619Z"
    }
   },
   "outputs": [
    {
     "data": {
      "text/plain": [
       "(103209, 26)"
      ]
     },
     "execution_count": 40,
     "metadata": {},
     "output_type": "execute_result"
    }
   ],
   "source": [
    "features.shape"
   ]
  },
  {
   "cell_type": "code",
   "execution_count": 37,
   "metadata": {
    "ExecuteTime": {
     "end_time": "2019-05-31T02:44:32.839588Z",
     "start_time": "2019-05-31T02:44:32.675395Z"
    }
   },
   "outputs": [],
   "source": [
    "# identify X and y\n",
    "X = features.drop('target', axis=1)\n",
    "y = features.target"
   ]
  },
  {
   "cell_type": "code",
   "execution_count": 38,
   "metadata": {
    "ExecuteTime": {
     "end_time": "2019-05-31T02:44:32.934027Z",
     "start_time": "2019-05-31T02:44:32.844277Z"
    }
   },
   "outputs": [],
   "source": [
    "# create training and testing datasets with 80/20 split\n",
    "X_train, X_test, y_train, y_test = train_test_split(X, y, test_size=0.2, random_state=34)"
   ]
  },
  {
   "cell_type": "code",
   "execution_count": 39,
   "metadata": {
    "ExecuteTime": {
     "end_time": "2019-05-31T02:44:32.946735Z",
     "start_time": "2019-05-31T02:44:32.938402Z"
    }
   },
   "outputs": [
    {
     "name": "stdout",
     "output_type": "stream",
     "text": [
      "X_train 82567\n",
      "X_test 20642\n",
      "y_train 82567\n",
      "y_test 20642\n"
     ]
    }
   ],
   "source": [
    "print('X_train', len(X_train))\n",
    "print('X_test', len(X_test))\n",
    "print('y_train', len(y_train))\n",
    "print('y_test', len(y_test))"
   ]
  },
  {
   "cell_type": "markdown",
   "metadata": {},
   "source": [
    "## Class Imbalance"
   ]
  },
  {
   "cell_type": "code",
   "execution_count": 41,
   "metadata": {
    "ExecuteTime": {
     "end_time": "2019-05-31T02:45:34.717827Z",
     "start_time": "2019-05-31T02:45:34.693694Z"
    }
   },
   "outputs": [],
   "source": [
    "# Concat X_train, y_train together into a training dataset\n",
    "data_train3 = pd.concat([X_train, y_train], axis=1)"
   ]
  },
  {
   "cell_type": "code",
   "execution_count": 42,
   "metadata": {
    "ExecuteTime": {
     "end_time": "2019-05-31T02:45:39.655284Z",
     "start_time": "2019-05-31T02:45:39.616685Z"
    }
   },
   "outputs": [],
   "source": [
    "# Separate minority and majority classes\n",
    "happy = data_train3[data_train3.target == 0]\n",
    "sad = data_train3[data_train3.target == 1]"
   ]
  },
  {
   "cell_type": "code",
   "execution_count": 43,
   "metadata": {
    "ExecuteTime": {
     "end_time": "2019-05-31T02:45:40.786140Z",
     "start_time": "2019-05-31T02:45:40.780448Z"
    }
   },
   "outputs": [
    {
     "name": "stdout",
     "output_type": "stream",
     "text": [
      "# of Happy Users: 47888\n",
      "# of Sad Users: 34679\n"
     ]
    }
   ],
   "source": [
    "print('# of Happy Users: '+ str(len(happy)))\n",
    "print('# of Sad Users: '+ str(len(sad)))"
   ]
  },
  {
   "cell_type": "code",
   "execution_count": 44,
   "metadata": {
    "ExecuteTime": {
     "end_time": "2019-05-31T02:45:41.876516Z",
     "start_time": "2019-05-31T02:45:41.640657Z"
    }
   },
   "outputs": [
    {
     "data": {
      "text/plain": [
       "<matplotlib.axes._subplots.AxesSubplot at 0x10c476f60>"
      ]
     },
     "execution_count": 44,
     "metadata": {},
     "output_type": "execute_result"
    },
    {
     "data": {
      "image/png": "[encoded data removed]",
      "text/plain": [
       "<Figure size 720x576 with 1 Axes>"
      ]
     },
     "metadata": {},
     "output_type": "display_data"
    }
   ],
   "source": [
    "# visualize class balance\n",
    "plt.figure(figsize=(10,8))\n",
    "sns.set_style('whitegrid')\n",
    "sns.countplot(x='target',data=data_train3, palette='GnBu_d')"
   ]
  },
  {
   "cell_type": "code",
   "execution_count": 45,
   "metadata": {
    "ExecuteTime": {
     "end_time": "2019-05-31T02:45:44.521657Z",
     "start_time": "2019-05-31T02:45:44.498493Z"
    }
   },
   "outputs": [],
   "source": [
    "# Undersample majority\n",
    "sad_downsampled = resample(happy,\n",
    "                                replace = False, # sample without replacement\n",
    "                                n_samples = len(sad), # match minority n\n",
    "                                random_state = 23) # reproducible results"
   ]
  },
  {
   "cell_type": "code",
   "execution_count": 46,
   "metadata": {
    "ExecuteTime": {
     "end_time": "2019-05-31T02:45:44.773790Z",
     "start_time": "2019-05-31T02:45:44.747695Z"
    }
   },
   "outputs": [],
   "source": [
    "# combine minority and downsampled majority\n",
    "downsampled = pd.concat([sad, sad_downsampled])"
   ]
  },
  {
   "cell_type": "code",
   "execution_count": 47,
   "metadata": {
    "ExecuteTime": {
     "end_time": "2019-05-31T02:45:45.008449Z",
     "start_time": "2019-05-31T02:45:44.998117Z"
    },
    "scrolled": true
   },
   "outputs": [
    {
     "data": {
      "text/plain": [
       "1    34679\n",
       "0    34679\n",
       "Name: target, dtype: int64"
      ]
     },
     "execution_count": 47,
     "metadata": {},
     "output_type": "execute_result"
    }
   ],
   "source": [
    "# check counts\n",
    "downsampled.target.value_counts()"
   ]
  },
  {
   "cell_type": "code",
   "execution_count": 48,
   "metadata": {
    "ExecuteTime": {
     "end_time": "2019-05-31T02:45:47.463735Z",
     "start_time": "2019-05-31T02:45:47.438885Z"
    }
   },
   "outputs": [],
   "source": [
    "# redefine X_train, y_train\n",
    "X_train = downsampled.drop('target', axis=1)\n",
    "y_train = downsampled.target"
   ]
  },
  {
   "cell_type": "code",
   "execution_count": 49,
   "metadata": {
    "ExecuteTime": {
     "end_time": "2019-05-31T02:45:47.921382Z",
     "start_time": "2019-05-31T02:45:47.913052Z"
    }
   },
   "outputs": [
    {
     "name": "stdout",
     "output_type": "stream",
     "text": [
      "X_train 69358\n",
      "X_test 20642\n",
      "y_train 69358\n",
      "y_test 20642\n"
     ]
    }
   ],
   "source": [
    "print('X_train', len(X_train))\n",
    "print('X_test', len(X_test))\n",
    "print('y_train', len(y_train))\n",
    "print('y_test', len(y_test))"
   ]
  },
  {
   "cell_type": "markdown",
   "metadata": {},
   "source": [
    "## Scaling the Data"
   ]
  },
  {
   "cell_type": "code",
   "execution_count": 50,
   "metadata": {
    "ExecuteTime": {
     "end_time": "2019-05-31T02:45:52.808317Z",
     "start_time": "2019-05-31T02:45:52.720471Z"
    }
   },
   "outputs": [],
   "source": [
    "# instantiate the scaler, fit to train data and transform it\n",
    "scaler = StandardScaler()\n",
    "scaled_train3 = scaler.fit_transform(X_train)"
   ]
  },
  {
   "cell_type": "code",
   "execution_count": 51,
   "metadata": {
    "ExecuteTime": {
     "end_time": "2019-05-31T02:45:53.118999Z",
     "start_time": "2019-05-31T02:45:53.104602Z"
    }
   },
   "outputs": [],
   "source": [
    "#Use the scaler that is fit to the training data to transform the testing data\n",
    "scaled_test3 = scaler.transform(X_test)"
   ]
  },
  {
   "cell_type": "code",
   "execution_count": 52,
   "metadata": {
    "ExecuteTime": {
     "end_time": "2019-05-31T02:45:53.753427Z",
     "start_time": "2019-05-31T02:45:53.708897Z"
    }
   },
   "outputs": [
    {
     "data": {
      "text/html": [
       "<div>\n",
       "<style scoped>\n",
       "    .dataframe tbody tr th:only-of-type {\n",
       "        vertical-align: middle;\n",
       "    }\n",
       "\n",
       "    .dataframe tbody tr th {\n",
       "        vertical-align: top;\n",
       "    }\n",
       "\n",
       "    .dataframe thead th {\n",
       "        text-align: right;\n",
       "    }\n",
       "</style>\n",
       "<table border=\"1\" class=\"dataframe\">\n",
       "  <thead>\n",
       "    <tr style=\"text-align: right;\">\n",
       "      <th></th>\n",
       "      <th>likes_count</th>\n",
       "      <th>tweet_ss</th>\n",
       "      <th>num_hashtags</th>\n",
       "      <th>avg_day_ss</th>\n",
       "      <th>avg_season_ss</th>\n",
       "      <th>avg_time_of_day_ss</th>\n",
       "      <th>avg_pop_ss</th>\n",
       "      <th>Friday</th>\n",
       "      <th>Monday</th>\n",
       "      <th>Saturday</th>\n",
       "      <th>...</th>\n",
       "      <th>Month_2</th>\n",
       "      <th>Month_3</th>\n",
       "      <th>Month_4</th>\n",
       "      <th>Month_6</th>\n",
       "      <th>Month_7</th>\n",
       "      <th>Month_8</th>\n",
       "      <th>Month_9</th>\n",
       "      <th>Month_10</th>\n",
       "      <th>Month_11</th>\n",
       "      <th>Month_12</th>\n",
       "    </tr>\n",
       "  </thead>\n",
       "  <tbody>\n",
       "    <tr>\n",
       "      <th>0</th>\n",
       "      <td>-0.063439</td>\n",
       "      <td>0.579435</td>\n",
       "      <td>0.920042</td>\n",
       "      <td>-0.469746</td>\n",
       "      <td>0.580447</td>\n",
       "      <td>1.376670</td>\n",
       "      <td>0.000000</td>\n",
       "      <td>0.966728</td>\n",
       "      <td>-0.559300</td>\n",
       "      <td>0.458559</td>\n",
       "      <td>...</td>\n",
       "      <td>-0.29904</td>\n",
       "      <td>-0.321322</td>\n",
       "      <td>-0.299048</td>\n",
       "      <td>-0.334257</td>\n",
       "      <td>-0.307360</td>\n",
       "      <td>-0.305163</td>\n",
       "      <td>-0.313858</td>\n",
       "      <td>-0.314666</td>\n",
       "      <td>1.026635</td>\n",
       "      <td>-0.310497</td>\n",
       "    </tr>\n",
       "    <tr>\n",
       "      <th>1</th>\n",
       "      <td>-0.042042</td>\n",
       "      <td>-1.556802</td>\n",
       "      <td>-0.529032</td>\n",
       "      <td>-0.747734</td>\n",
       "      <td>-1.520728</td>\n",
       "      <td>1.376670</td>\n",
       "      <td>0.000000</td>\n",
       "      <td>-0.567781</td>\n",
       "      <td>-0.559300</td>\n",
       "      <td>-0.454016</td>\n",
       "      <td>...</td>\n",
       "      <td>-0.29904</td>\n",
       "      <td>-0.321322</td>\n",
       "      <td>-0.299048</td>\n",
       "      <td>5.365339</td>\n",
       "      <td>-0.307360</td>\n",
       "      <td>-0.305163</td>\n",
       "      <td>-0.313858</td>\n",
       "      <td>-0.314666</td>\n",
       "      <td>-0.300668</td>\n",
       "      <td>-0.310497</td>\n",
       "    </tr>\n",
       "    <tr>\n",
       "      <th>2</th>\n",
       "      <td>-0.062361</td>\n",
       "      <td>-0.533726</td>\n",
       "      <td>-0.161103</td>\n",
       "      <td>-0.037971</td>\n",
       "      <td>-1.045963</td>\n",
       "      <td>-0.213400</td>\n",
       "      <td>0.000000</td>\n",
       "      <td>-0.088247</td>\n",
       "      <td>0.427638</td>\n",
       "      <td>0.116344</td>\n",
       "      <td>...</td>\n",
       "      <td>-0.29904</td>\n",
       "      <td>0.449442</td>\n",
       "      <td>-0.299048</td>\n",
       "      <td>0.378193</td>\n",
       "      <td>-0.307360</td>\n",
       "      <td>-0.305163</td>\n",
       "      <td>0.464497</td>\n",
       "      <td>1.256376</td>\n",
       "      <td>-0.300668</td>\n",
       "      <td>1.272246</td>\n",
       "    </tr>\n",
       "    <tr>\n",
       "      <th>3</th>\n",
       "      <td>-0.063544</td>\n",
       "      <td>0.270110</td>\n",
       "      <td>-0.527391</td>\n",
       "      <td>-0.273497</td>\n",
       "      <td>1.100994</td>\n",
       "      <td>0.466622</td>\n",
       "      <td>11.440568</td>\n",
       "      <td>0.175213</td>\n",
       "      <td>-0.036574</td>\n",
       "      <td>0.005879</td>\n",
       "      <td>...</td>\n",
       "      <td>-0.29904</td>\n",
       "      <td>-0.321322</td>\n",
       "      <td>-0.299048</td>\n",
       "      <td>-0.322993</td>\n",
       "      <td>-0.294837</td>\n",
       "      <td>-0.305163</td>\n",
       "      <td>-0.301552</td>\n",
       "      <td>-0.314666</td>\n",
       "      <td>-0.300668</td>\n",
       "      <td>-0.310497</td>\n",
       "    </tr>\n",
       "    <tr>\n",
       "      <th>4</th>\n",
       "      <td>-0.063485</td>\n",
       "      <td>-2.588290</td>\n",
       "      <td>-0.529032</td>\n",
       "      <td>0.052293</td>\n",
       "      <td>-0.223959</td>\n",
       "      <td>0.104614</td>\n",
       "      <td>0.000000</td>\n",
       "      <td>-0.567781</td>\n",
       "      <td>1.414577</td>\n",
       "      <td>1.827421</td>\n",
       "      <td>...</td>\n",
       "      <td>-0.29904</td>\n",
       "      <td>-0.321322</td>\n",
       "      <td>-0.299048</td>\n",
       "      <td>-0.334257</td>\n",
       "      <td>-0.307360</td>\n",
       "      <td>-0.305163</td>\n",
       "      <td>2.799561</td>\n",
       "      <td>-0.314666</td>\n",
       "      <td>-0.300668</td>\n",
       "      <td>-0.310497</td>\n",
       "    </tr>\n",
       "  </tbody>\n",
       "</table>\n",
       "<p>5 rows × 25 columns</p>\n",
       "</div>"
      ],
      "text/plain": [
       "   likes_count  tweet_ss  num_hashtags  avg_day_ss  avg_season_ss  \\\n",
       "0    -0.063439  0.579435      0.920042   -0.469746       0.580447   \n",
       "1    -0.042042 -1.556802     -0.529032   -0.747734      -1.520728   \n",
       "2    -0.062361 -0.533726     -0.161103   -0.037971      -1.045963   \n",
       "3    -0.063544  0.270110     -0.527391   -0.273497       1.100994   \n",
       "4    -0.063485 -2.588290     -0.529032    0.052293      -0.223959   \n",
       "\n",
       "   avg_time_of_day_ss  avg_pop_ss    Friday    Monday  Saturday  ...  Month_2  \\\n",
       "0            1.376670    0.000000  0.966728 -0.559300  0.458559  ... -0.29904   \n",
       "1            1.376670    0.000000 -0.567781 -0.559300 -0.454016  ... -0.29904   \n",
       "2           -0.213400    0.000000 -0.088247  0.427638  0.116344  ... -0.29904   \n",
       "3            0.466622   11.440568  0.175213 -0.036574  0.005879  ... -0.29904   \n",
       "4            0.104614    0.000000 -0.567781  1.414577  1.827421  ... -0.29904   \n",
       "\n",
       "    Month_3   Month_4   Month_6   Month_7   Month_8   Month_9  Month_10  \\\n",
       "0 -0.321322 -0.299048 -0.334257 -0.307360 -0.305163 -0.313858 -0.314666   \n",
       "1 -0.321322 -0.299048  5.365339 -0.307360 -0.305163 -0.313858 -0.314666   \n",
       "2  0.449442 -0.299048  0.378193 -0.307360 -0.305163  0.464497  1.256376   \n",
       "3 -0.321322 -0.299048 -0.322993 -0.294837 -0.305163 -0.301552 -0.314666   \n",
       "4 -0.321322 -0.299048 -0.334257 -0.307360 -0.305163  2.799561 -0.314666   \n",
       "\n",
       "   Month_11  Month_12  \n",
       "0  1.026635 -0.310497  \n",
       "1 -0.300668 -0.310497  \n",
       "2 -0.300668  1.272246  \n",
       "3 -0.300668 -0.310497  \n",
       "4 -0.300668 -0.310497  \n",
       "\n",
       "[5 rows x 25 columns]"
      ]
     },
     "execution_count": 52,
     "metadata": {},
     "output_type": "execute_result"
    }
   ],
   "source": [
    "# turn scaled training dataset to pandas dataframe\n",
    "scaled_train3 = pd.DataFrame(scaled_train3, columns=X_train.columns)\n",
    "scaled_train3.head()"
   ]
  },
  {
   "cell_type": "code",
   "execution_count": 53,
   "metadata": {
    "ExecuteTime": {
     "end_time": "2019-05-31T02:45:56.849395Z",
     "start_time": "2019-05-31T02:45:56.843004Z"
    },
    "scrolled": true
   },
   "outputs": [
    {
     "data": {
      "text/plain": [
       "(69358, 25)"
      ]
     },
     "execution_count": 53,
     "metadata": {},
     "output_type": "execute_result"
    }
   ],
   "source": [
    "scaled_train3.shape"
   ]
  },
  {
   "cell_type": "code",
   "execution_count": 54,
   "metadata": {
    "ExecuteTime": {
     "end_time": "2019-05-31T02:45:57.097773Z",
     "start_time": "2019-05-31T02:45:57.066509Z"
    }
   },
   "outputs": [
    {
     "data": {
      "text/html": [
       "<div>\n",
       "<style scoped>\n",
       "    .dataframe tbody tr th:only-of-type {\n",
       "        vertical-align: middle;\n",
       "    }\n",
       "\n",
       "    .dataframe tbody tr th {\n",
       "        vertical-align: top;\n",
       "    }\n",
       "\n",
       "    .dataframe thead th {\n",
       "        text-align: right;\n",
       "    }\n",
       "</style>\n",
       "<table border=\"1\" class=\"dataframe\">\n",
       "  <thead>\n",
       "    <tr style=\"text-align: right;\">\n",
       "      <th></th>\n",
       "      <th>likes_count</th>\n",
       "      <th>tweet_ss</th>\n",
       "      <th>num_hashtags</th>\n",
       "      <th>avg_day_ss</th>\n",
       "      <th>avg_season_ss</th>\n",
       "      <th>avg_time_of_day_ss</th>\n",
       "      <th>avg_pop_ss</th>\n",
       "      <th>Friday</th>\n",
       "      <th>Monday</th>\n",
       "      <th>Saturday</th>\n",
       "      <th>...</th>\n",
       "      <th>Month_2</th>\n",
       "      <th>Month_3</th>\n",
       "      <th>Month_4</th>\n",
       "      <th>Month_6</th>\n",
       "      <th>Month_7</th>\n",
       "      <th>Month_8</th>\n",
       "      <th>Month_9</th>\n",
       "      <th>Month_10</th>\n",
       "      <th>Month_11</th>\n",
       "      <th>Month_12</th>\n",
       "    </tr>\n",
       "  </thead>\n",
       "  <tbody>\n",
       "    <tr>\n",
       "      <th>0</th>\n",
       "      <td>0.083635</td>\n",
       "      <td>0.036103</td>\n",
       "      <td>-0.529032</td>\n",
       "      <td>0.089969</td>\n",
       "      <td>-0.337856</td>\n",
       "      <td>-0.011027</td>\n",
       "      <td>0.0</td>\n",
       "      <td>-0.567781</td>\n",
       "      <td>0.517360</td>\n",
       "      <td>-0.039209</td>\n",
       "      <td>...</td>\n",
       "      <td>-0.29904</td>\n",
       "      <td>0.239234</td>\n",
       "      <td>0.302628</td>\n",
       "      <td>0.183888</td>\n",
       "      <td>-0.30736</td>\n",
       "      <td>0.278223</td>\n",
       "      <td>0.818294</td>\n",
       "      <td>0.256622</td>\n",
       "      <td>0.302651</td>\n",
       "      <td>-0.310497</td>\n",
       "    </tr>\n",
       "    <tr>\n",
       "      <th>1</th>\n",
       "      <td>-0.058441</td>\n",
       "      <td>0.646516</td>\n",
       "      <td>-0.279029</td>\n",
       "      <td>0.569359</td>\n",
       "      <td>1.116718</td>\n",
       "      <td>1.376670</td>\n",
       "      <td>0.0</td>\n",
       "      <td>-0.088247</td>\n",
       "      <td>-0.065831</td>\n",
       "      <td>0.971882</td>\n",
       "      <td>...</td>\n",
       "      <td>-0.29904</td>\n",
       "      <td>-0.321322</td>\n",
       "      <td>-0.299048</td>\n",
       "      <td>-0.334257</td>\n",
       "      <td>-0.30736</td>\n",
       "      <td>-0.305163</td>\n",
       "      <td>-0.313858</td>\n",
       "      <td>-0.314666</td>\n",
       "      <td>-0.300668</td>\n",
       "      <td>-0.310497</td>\n",
       "    </tr>\n",
       "    <tr>\n",
       "      <th>2</th>\n",
       "      <td>0.048108</td>\n",
       "      <td>0.391871</td>\n",
       "      <td>-0.529032</td>\n",
       "      <td>2.785987</td>\n",
       "      <td>-1.520728</td>\n",
       "      <td>1.376670</td>\n",
       "      <td>0.0</td>\n",
       "      <td>-0.567781</td>\n",
       "      <td>-0.559300</td>\n",
       "      <td>-0.454016</td>\n",
       "      <td>...</td>\n",
       "      <td>-0.29904</td>\n",
       "      <td>-0.321322</td>\n",
       "      <td>-0.299048</td>\n",
       "      <td>-0.334257</td>\n",
       "      <td>-0.30736</td>\n",
       "      <td>6.112082</td>\n",
       "      <td>-0.313858</td>\n",
       "      <td>-0.314666</td>\n",
       "      <td>-0.300668</td>\n",
       "      <td>-0.310497</td>\n",
       "    </tr>\n",
       "    <tr>\n",
       "      <th>3</th>\n",
       "      <td>-0.055646</td>\n",
       "      <td>1.169928</td>\n",
       "      <td>0.678530</td>\n",
       "      <td>2.785987</td>\n",
       "      <td>1.116718</td>\n",
       "      <td>-1.167441</td>\n",
       "      <td>0.0</td>\n",
       "      <td>-0.567781</td>\n",
       "      <td>-0.559300</td>\n",
       "      <td>-0.454016</td>\n",
       "      <td>...</td>\n",
       "      <td>-0.29904</td>\n",
       "      <td>-0.321322</td>\n",
       "      <td>-0.299048</td>\n",
       "      <td>-0.334257</td>\n",
       "      <td>-0.30736</td>\n",
       "      <td>-0.305163</td>\n",
       "      <td>-0.313858</td>\n",
       "      <td>-0.314666</td>\n",
       "      <td>-0.300668</td>\n",
       "      <td>-0.310497</td>\n",
       "    </tr>\n",
       "    <tr>\n",
       "      <th>4</th>\n",
       "      <td>-0.058268</td>\n",
       "      <td>-1.145983</td>\n",
       "      <td>2.706856</td>\n",
       "      <td>-0.729156</td>\n",
       "      <td>-1.045963</td>\n",
       "      <td>0.104614</td>\n",
       "      <td>0.0</td>\n",
       "      <td>-0.567781</td>\n",
       "      <td>0.427638</td>\n",
       "      <td>-0.454016</td>\n",
       "      <td>...</td>\n",
       "      <td>-0.29904</td>\n",
       "      <td>-0.321322</td>\n",
       "      <td>0.528257</td>\n",
       "      <td>0.378193</td>\n",
       "      <td>-0.30736</td>\n",
       "      <td>-0.305163</td>\n",
       "      <td>0.464497</td>\n",
       "      <td>1.256376</td>\n",
       "      <td>-0.300668</td>\n",
       "      <td>0.480875</td>\n",
       "    </tr>\n",
       "  </tbody>\n",
       "</table>\n",
       "<p>5 rows × 25 columns</p>\n",
       "</div>"
      ],
      "text/plain": [
       "   likes_count  tweet_ss  num_hashtags  avg_day_ss  avg_season_ss  \\\n",
       "0     0.083635  0.036103     -0.529032    0.089969      -0.337856   \n",
       "1    -0.058441  0.646516     -0.279029    0.569359       1.116718   \n",
       "2     0.048108  0.391871     -0.529032    2.785987      -1.520728   \n",
       "3    -0.055646  1.169928      0.678530    2.785987       1.116718   \n",
       "4    -0.058268 -1.145983      2.706856   -0.729156      -1.045963   \n",
       "\n",
       "   avg_time_of_day_ss  avg_pop_ss    Friday    Monday  Saturday  ...  Month_2  \\\n",
       "0           -0.011027         0.0 -0.567781  0.517360 -0.039209  ... -0.29904   \n",
       "1            1.376670         0.0 -0.088247 -0.065831  0.971882  ... -0.29904   \n",
       "2            1.376670         0.0 -0.567781 -0.559300 -0.454016  ... -0.29904   \n",
       "3           -1.167441         0.0 -0.567781 -0.559300 -0.454016  ... -0.29904   \n",
       "4            0.104614         0.0 -0.567781  0.427638 -0.454016  ... -0.29904   \n",
       "\n",
       "    Month_3   Month_4   Month_6  Month_7   Month_8   Month_9  Month_10  \\\n",
       "0  0.239234  0.302628  0.183888 -0.30736  0.278223  0.818294  0.256622   \n",
       "1 -0.321322 -0.299048 -0.334257 -0.30736 -0.305163 -0.313858 -0.314666   \n",
       "2 -0.321322 -0.299048 -0.334257 -0.30736  6.112082 -0.313858 -0.314666   \n",
       "3 -0.321322 -0.299048 -0.334257 -0.30736 -0.305163 -0.313858 -0.314666   \n",
       "4 -0.321322  0.528257  0.378193 -0.30736 -0.305163  0.464497  1.256376   \n",
       "\n",
       "   Month_11  Month_12  \n",
       "0  0.302651 -0.310497  \n",
       "1 -0.300668 -0.310497  \n",
       "2 -0.300668 -0.310497  \n",
       "3 -0.300668 -0.310497  \n",
       "4 -0.300668  0.480875  \n",
       "\n",
       "[5 rows x 25 columns]"
      ]
     },
     "execution_count": 54,
     "metadata": {},
     "output_type": "execute_result"
    }
   ],
   "source": [
    "# turn scaled testing dataset to pandas dataframe\n",
    "scaled_test3 = pd.DataFrame(scaled_test3, columns=X_test.columns)\n",
    "scaled_test3.head()"
   ]
  },
  {
   "cell_type": "code",
   "execution_count": 55,
   "metadata": {
    "ExecuteTime": {
     "end_time": "2019-05-31T02:46:06.761272Z",
     "start_time": "2019-05-31T02:46:06.754786Z"
    }
   },
   "outputs": [
    {
     "data": {
      "text/plain": [
       "(20642, 25)"
      ]
     },
     "execution_count": 55,
     "metadata": {},
     "output_type": "execute_result"
    }
   ],
   "source": [
    "scaled_test3.shape"
   ]
  },
  {
   "cell_type": "markdown",
   "metadata": {},
   "source": [
    "# Rerun Models"
   ]
  },
  {
   "cell_type": "markdown",
   "metadata": {},
   "source": [
    "## Logistic Regression"
   ]
  },
  {
   "cell_type": "code",
   "execution_count": 118,
   "metadata": {
    "ExecuteTime": {
     "end_time": "2019-05-31T04:17:51.229619Z",
     "start_time": "2019-05-31T04:17:51.216843Z"
    }
   },
   "outputs": [],
   "source": [
    "# instantiate the Logistic Regression Model and fit to training data\n",
    "logmodel = LogisticRegression(solver='saga')"
   ]
  },
  {
   "cell_type": "code",
   "execution_count": 119,
   "metadata": {
    "ExecuteTime": {
     "end_time": "2019-05-31T04:17:54.697019Z",
     "start_time": "2019-05-31T04:17:53.467741Z"
    }
   },
   "outputs": [],
   "source": [
    "# fit model to training data\n",
    "lr = logmodel.fit(scaled_train3, y_train)"
   ]
  },
  {
   "cell_type": "code",
   "execution_count": 120,
   "metadata": {
    "ExecuteTime": {
     "end_time": "2019-05-31T04:17:56.764243Z",
     "start_time": "2019-05-31T04:17:56.752574Z"
    }
   },
   "outputs": [
    {
     "data": {
      "text/plain": [
       "LogisticRegression(C=1.0, class_weight=None, dual=False, fit_intercept=True,\n",
       "                   intercept_scaling=1, l1_ratio=None, max_iter=100,\n",
       "                   multi_class='warn', n_jobs=None, penalty='l2',\n",
       "                   random_state=None, solver='saga', tol=0.0001, verbose=0,\n",
       "                   warm_start=False)"
      ]
     },
     "execution_count": 120,
     "metadata": {},
     "output_type": "execute_result"
    }
   ],
   "source": [
    "lr"
   ]
  },
  {
   "cell_type": "code",
   "execution_count": 121,
   "metadata": {
    "ExecuteTime": {
     "end_time": "2019-05-31T04:18:01.249747Z",
     "start_time": "2019-05-31T04:18:01.109385Z"
    }
   },
   "outputs": [
    {
     "name": "stdout",
     "output_type": "stream",
     "text": [
      "              precision    recall  f1-score   support\n",
      "\n",
      "           0       0.79      0.83      0.81     34679\n",
      "           1       0.82      0.77      0.80     34679\n",
      "\n",
      "    accuracy                           0.80     69358\n",
      "   macro avg       0.80      0.80      0.80     69358\n",
      "weighted avg       0.80      0.80      0.80     69358\n",
      "\n"
     ]
    }
   ],
   "source": [
    "# Create a classification report for the model on training data\n",
    "lr_preds_train = lr_base.predict(scaled_train3)\n",
    "print(classification_report(y_train, lr_preds_train))"
   ]
  },
  {
   "cell_type": "code",
   "execution_count": 122,
   "metadata": {
    "ExecuteTime": {
     "end_time": "2019-05-31T04:18:04.543412Z",
     "start_time": "2019-05-31T04:18:04.206842Z"
    }
   },
   "outputs": [
    {
     "data": {
      "text/plain": [
       "<matplotlib.axes._subplots.AxesSubplot at 0x1a2905b908>"
      ]
     },
     "execution_count": 122,
     "metadata": {},
     "output_type": "execute_result"
    },
    {
     "data": {
      "image/png": "[encoded data removed]",
      "text/plain": [
       "<Figure size 648x648 with 2 Axes>"
      ]
     },
     "metadata": {},
     "output_type": "display_data"
    }
   ],
   "source": [
    "#confusion matrix visualization of train data\n",
    "cm_lr = confusion_matrix(y_train, lr_preds_train)\n",
    "\n",
    "plt.figure(figsize = (9, 9))\n",
    "sns.heatmap(cm_lr, annot = True, fmt = \".3f\", linewidths = .5, square = True, cmap = plt.cm.Blues)"
   ]
  },
  {
   "cell_type": "code",
   "execution_count": 123,
   "metadata": {
    "ExecuteTime": {
     "end_time": "2019-05-31T04:18:07.508986Z",
     "start_time": "2019-05-31T04:18:07.440428Z"
    }
   },
   "outputs": [
    {
     "name": "stdout",
     "output_type": "stream",
     "text": [
      "              precision    recall  f1-score   support\n",
      "\n",
      "           0       0.83      0.83      0.83     11906\n",
      "           1       0.77      0.77      0.77      8736\n",
      "\n",
      "    accuracy                           0.81     20642\n",
      "   macro avg       0.80      0.80      0.80     20642\n",
      "weighted avg       0.81      0.81      0.81     20642\n",
      "\n"
     ]
    }
   ],
   "source": [
    "#Predictions and Evaluations\n",
    "lr_preds_test = lr_base.predict(scaled_test3)\n",
    "print(classification_report(y_test, lr_preds_test))"
   ]
  },
  {
   "cell_type": "code",
   "execution_count": 124,
   "metadata": {
    "ExecuteTime": {
     "end_time": "2019-05-31T04:18:10.568089Z",
     "start_time": "2019-05-31T04:18:10.298670Z"
    }
   },
   "outputs": [
    {
     "data": {
      "text/plain": [
       "<matplotlib.axes._subplots.AxesSubplot at 0x1a293f8eb8>"
      ]
     },
     "execution_count": 124,
     "metadata": {},
     "output_type": "execute_result"
    },
    {
     "data": {
      "image/png": "[encoded data removed]",
      "text/plain": [
       "<Figure size 648x648 with 2 Axes>"
      ]
     },
     "metadata": {},
     "output_type": "display_data"
    }
   ],
   "source": [
    "#confusion matrix visualization of test data\n",
    "cm_lr = confusion_matrix(y_test, lr_preds_test)\n",
    "\n",
    "plt.figure(figsize = (9, 9))\n",
    "sns.heatmap(cm_lr, annot = True, fmt = \".3f\", linewidths = .5, square = True, cmap = plt.cm.Blues)"
   ]
  },
  {
   "cell_type": "code",
   "execution_count": 136,
   "metadata": {
    "ExecuteTime": {
     "end_time": "2019-05-31T04:21:04.898260Z",
     "start_time": "2019-05-31T04:21:04.851178Z"
    }
   },
   "outputs": [
    {
     "name": "stdout",
     "output_type": "stream",
     "text": [
      "Training F1 Score: 0.796941578205033\n",
      "Testing F1 Score: 0.7727324716916392\n"
     ]
    }
   ],
   "source": [
    "# Model Accuracy, how often is the classifier correct?\n",
    "print('Training F1 Score:', f1_score(y_train, lr_preds_train))\n",
    "print('Testing F1 Score:', f1_score(y_test, lr_preds_test))"
   ]
  },
  {
   "cell_type": "code",
   "execution_count": 139,
   "metadata": {
    "ExecuteTime": {
     "end_time": "2019-05-31T04:29:12.205713Z",
     "start_time": "2019-05-31T04:29:12.181294Z"
    }
   },
   "outputs": [
    {
     "data": {
      "text/plain": [
       "array([[ 1.07316383e-03, -1.77191965e+00, -1.22834552e-01,\n",
       "        -1.48518757e-01, -2.22814211e-01, -6.30303625e-02,\n",
       "         9.28932206e-02,  1.61111844e-02,  8.53412279e-03,\n",
       "        -4.01622401e-02, -3.65447942e-02, -5.36955937e-03,\n",
       "         9.40460720e-02,  8.11953347e-02,  1.33341462e-01,\n",
       "         8.71331662e-02,  2.37187113e-01,  2.23751213e-01,\n",
       "         1.06129150e-01,  8.67653214e-03,  1.44838306e-02,\n",
       "         5.08291205e-02,  7.56148529e-02,  3.05122748e-02,\n",
       "         6.13609085e-02]])"
      ]
     },
     "execution_count": 139,
     "metadata": {},
     "output_type": "execute_result"
    }
   ],
   "source": [
    "lr.coef_"
   ]
  },
  {
   "cell_type": "code",
   "execution_count": 141,
   "metadata": {
    "ExecuteTime": {
     "end_time": "2019-05-31T04:29:59.612269Z",
     "start_time": "2019-05-31T04:29:59.602822Z"
    }
   },
   "outputs": [
    {
     "data": {
      "text/plain": [
       "array([0.19167526])"
      ]
     },
     "execution_count": 141,
     "metadata": {},
     "output_type": "execute_result"
    }
   ],
   "source": [
    "lr.intercept_"
   ]
  },
  {
   "cell_type": "code",
   "execution_count": 126,
   "metadata": {
    "ExecuteTime": {
     "end_time": "2019-05-31T04:18:48.132970Z",
     "start_time": "2019-05-31T04:18:48.126828Z"
    }
   },
   "outputs": [],
   "source": [
    "# pickle base model\n",
    "# model_pickle_path = './models/logmodel.pkl'\n",
    "# model_pickle = open(model_pickle_path, 'wb')\n",
    "# pickle.dump(lr, model_pickle)\n",
    "# model_pickle.close()"
   ]
  },
  {
   "cell_type": "markdown",
   "metadata": {},
   "source": [
    "## Naive Bayes"
   ]
  },
  {
   "cell_type": "code",
   "execution_count": 56,
   "metadata": {
    "ExecuteTime": {
     "end_time": "2019-05-31T02:46:53.676803Z",
     "start_time": "2019-05-31T02:46:53.672795Z"
    }
   },
   "outputs": [],
   "source": [
    "# create a Naive Bayes instance and assign to variable\n",
    "clf3 = GaussianNB()"
   ]
  },
  {
   "cell_type": "code",
   "execution_count": 57,
   "metadata": {
    "ExecuteTime": {
     "end_time": "2019-05-31T02:46:53.780662Z",
     "start_time": "2019-05-31T02:46:53.685461Z"
    }
   },
   "outputs": [],
   "source": [
    "# fit Naive Bayes instance to training data and assign to variable\n",
    "nb_rerun2 = clf.fit(scaled_train3, y_train)"
   ]
  },
  {
   "cell_type": "code",
   "execution_count": 58,
   "metadata": {
    "ExecuteTime": {
     "end_time": "2019-05-31T02:46:53.793025Z",
     "start_time": "2019-05-31T02:46:53.784612Z"
    }
   },
   "outputs": [
    {
     "data": {
      "text/plain": [
       "GaussianNB(priors=None, var_smoothing=1e-09)"
      ]
     },
     "execution_count": 58,
     "metadata": {},
     "output_type": "execute_result"
    }
   ],
   "source": [
    "nb_rerun2"
   ]
  },
  {
   "cell_type": "code",
   "execution_count": 59,
   "metadata": {
    "ExecuteTime": {
     "end_time": "2019-05-31T02:46:54.000105Z",
     "start_time": "2019-05-31T02:46:53.796444Z"
    }
   },
   "outputs": [
    {
     "name": "stdout",
     "output_type": "stream",
     "text": [
      "              precision    recall  f1-score   support\n",
      "\n",
      "           0       0.77      0.73      0.75     34679\n",
      "           1       0.74      0.78      0.76     34679\n",
      "\n",
      "    accuracy                           0.75     69358\n",
      "   macro avg       0.76      0.75      0.75     69358\n",
      "weighted avg       0.76      0.75      0.75     69358\n",
      "\n"
     ]
    }
   ],
   "source": [
    "# create a classification report for the model on training data\n",
    "nb_preds_train3 = nb_rerun2.predict(scaled_train3)\n",
    "print(classification_report(y_train, nb_preds_train3))"
   ]
  },
  {
   "cell_type": "code",
   "execution_count": 60,
   "metadata": {
    "ExecuteTime": {
     "end_time": "2019-05-31T02:46:54.396477Z",
     "start_time": "2019-05-31T02:46:54.004658Z"
    }
   },
   "outputs": [
    {
     "data": {
      "text/plain": [
       "<matplotlib.axes._subplots.AxesSubplot at 0x1a3030d630>"
      ]
     },
     "execution_count": 60,
     "metadata": {},
     "output_type": "execute_result"
    },
    {
     "data": {
      "image/png": "[encoded data removed]",
      "text/plain": [
       "<Figure size 648x648 with 2 Axes>"
      ]
     },
     "metadata": {},
     "output_type": "display_data"
    }
   ],
   "source": [
    "#confusion matrix visualization of train data\n",
    "cm_nb_train3 = confusion_matrix(y_train, nb_preds_train3)\n",
    "\n",
    "plt.figure(figsize = (9, 9))\n",
    "sns.heatmap(cm_nb_train3, annot = True, fmt = \".3f\", linewidths = .5, square = True, cmap = plt.cm.Blues)"
   ]
  },
  {
   "cell_type": "code",
   "execution_count": 61,
   "metadata": {
    "ExecuteTime": {
     "end_time": "2019-05-31T02:46:54.500526Z",
     "start_time": "2019-05-31T02:46:54.400890Z"
    }
   },
   "outputs": [
    {
     "name": "stdout",
     "output_type": "stream",
     "text": [
      "              precision    recall  f1-score   support\n",
      "\n",
      "           0       0.82      0.73      0.77     11906\n",
      "           1       0.68      0.78      0.73      8736\n",
      "\n",
      "    accuracy                           0.75     20642\n",
      "   macro avg       0.75      0.76      0.75     20642\n",
      "weighted avg       0.76      0.75      0.75     20642\n",
      "\n"
     ]
    }
   ],
   "source": [
    "# create a classification report for the model on testing data\n",
    "nb_preds_test3 = nb_rerun2.predict(scaled_test3)\n",
    "print(classification_report(y_test, nb_preds_test3))"
   ]
  },
  {
   "cell_type": "code",
   "execution_count": 62,
   "metadata": {
    "ExecuteTime": {
     "end_time": "2019-05-31T02:46:54.812822Z",
     "start_time": "2019-05-31T02:46:54.503206Z"
    }
   },
   "outputs": [
    {
     "data": {
      "text/plain": [
       "<matplotlib.axes._subplots.AxesSubplot at 0x1a2577ce48>"
      ]
     },
     "execution_count": 62,
     "metadata": {},
     "output_type": "execute_result"
    },
    {
     "data": {
      "image/png": "[encoded data removed]",
      "text/plain": [
       "<Figure size 648x648 with 2 Axes>"
      ]
     },
     "metadata": {},
     "output_type": "display_data"
    }
   ],
   "source": [
    "#confusion matrix visualization of train data\n",
    "cm_nb_test3 = confusion_matrix(y_test, nb_preds_test3)\n",
    "\n",
    "plt.figure(figsize = (9, 9))\n",
    "sns.heatmap(cm_nb_test3, annot = True, fmt = \".3f\", linewidths = .5, square = True, cmap = plt.cm.Blues)"
   ]
  },
  {
   "cell_type": "code",
   "execution_count": 137,
   "metadata": {
    "ExecuteTime": {
     "end_time": "2019-05-31T04:22:16.336373Z",
     "start_time": "2019-05-31T04:22:16.286294Z"
    }
   },
   "outputs": [
    {
     "name": "stdout",
     "output_type": "stream",
     "text": [
      "Training F1 Score: 0.7613886822118962\n",
      "Testing F1 Score: 0.7264095588627514\n"
     ]
    }
   ],
   "source": [
    "# Model Accuracy, how often is the classifier correct?\n",
    "print('Training F1 Score:', f1_score(y_train, nb_preds_train3))\n",
    "print('Testing F1 Score:', f1_score(y_test, nb_preds_test3))"
   ]
  },
  {
   "cell_type": "code",
   "execution_count": 63,
   "metadata": {
    "ExecuteTime": {
     "end_time": "2019-05-31T02:47:55.091805Z",
     "start_time": "2019-05-31T02:47:55.083753Z"
    }
   },
   "outputs": [],
   "source": [
    "# # pickle base model\n",
    "# pickle_model(nb_rerun2, nb_rerun2)"
   ]
  },
  {
   "cell_type": "markdown",
   "metadata": {},
   "source": [
    "## Support Vector Machine"
   ]
  },
  {
   "cell_type": "code",
   "execution_count": 64,
   "metadata": {
    "ExecuteTime": {
     "end_time": "2019-05-31T02:48:04.948004Z",
     "start_time": "2019-05-31T02:48:04.943519Z"
    }
   },
   "outputs": [],
   "source": [
    "# create a Support Vector Machine instance for linear SVM\n",
    "svm3 = SVC(kernel='linear')"
   ]
  },
  {
   "cell_type": "code",
   "execution_count": 71,
   "metadata": {
    "ExecuteTime": {
     "end_time": "2019-05-31T03:24:38.271310Z",
     "start_time": "2019-05-31T03:16:44.255046Z"
    }
   },
   "outputs": [],
   "source": [
    "# fit SVM to training data\n",
    "svm_rerun2 = svm3.fit(scaled_train3, y_train)"
   ]
  },
  {
   "cell_type": "code",
   "execution_count": 72,
   "metadata": {
    "ExecuteTime": {
     "end_time": "2019-05-31T03:25:52.248671Z",
     "start_time": "2019-05-31T03:24:48.478415Z"
    }
   },
   "outputs": [
    {
     "name": "stdout",
     "output_type": "stream",
     "text": [
      "              precision    recall  f1-score   support\n",
      "\n",
      "           0       0.79      0.83      0.81     34679\n",
      "           1       0.82      0.78      0.80     34679\n",
      "\n",
      "    accuracy                           0.81     69358\n",
      "   macro avg       0.81      0.81      0.81     69358\n",
      "weighted avg       0.81      0.81      0.81     69358\n",
      "\n"
     ]
    }
   ],
   "source": [
    "# create a classification report for the model on training data\n",
    "svm_preds_train3 = svm_rerun2.predict(scaled_train3)\n",
    "print(classification_report(y_train, svm_preds_train3))"
   ]
  },
  {
   "cell_type": "code",
   "execution_count": 73,
   "metadata": {
    "ExecuteTime": {
     "end_time": "2019-05-31T03:25:53.110703Z",
     "start_time": "2019-05-31T03:25:52.261592Z"
    }
   },
   "outputs": [
    {
     "data": {
      "text/plain": [
       "<matplotlib.axes._subplots.AxesSubplot at 0x1a222f3a58>"
      ]
     },
     "execution_count": 73,
     "metadata": {},
     "output_type": "execute_result"
    },
    {
     "data": {
      "image/png": "[encoded data removed]",
      "text/plain": [
       "<Figure size 648x648 with 2 Axes>"
      ]
     },
     "metadata": {},
     "output_type": "display_data"
    }
   ],
   "source": [
    "#confusion matrix visualization of train data\n",
    "cm_svm_train3 = confusion_matrix(y_train, svm_preds_train3)\n",
    "\n",
    "plt.figure(figsize = (9, 9))\n",
    "sns.heatmap(cm_svm_train3, annot = True, fmt = \".3f\", linewidths = .5, square = True, cmap = plt.cm.Blues)"
   ]
  },
  {
   "cell_type": "code",
   "execution_count": 74,
   "metadata": {
    "ExecuteTime": {
     "end_time": "2019-05-31T03:26:12.996253Z",
     "start_time": "2019-05-31T03:25:53.118549Z"
    }
   },
   "outputs": [
    {
     "name": "stdout",
     "output_type": "stream",
     "text": [
      "              precision    recall  f1-score   support\n",
      "\n",
      "           0       0.84      0.83      0.83     11906\n",
      "           1       0.77      0.78      0.78      8736\n",
      "\n",
      "    accuracy                           0.81     20642\n",
      "   macro avg       0.81      0.81      0.81     20642\n",
      "weighted avg       0.81      0.81      0.81     20642\n",
      "\n"
     ]
    }
   ],
   "source": [
    "# create a classification report for the model on testing data\n",
    "svm_preds_test3 = svm_rerun2.predict(scaled_test3)\n",
    "print(classification_report(y_test, svm_preds_test3))"
   ]
  },
  {
   "cell_type": "code",
   "execution_count": 75,
   "metadata": {
    "ExecuteTime": {
     "end_time": "2019-05-31T03:26:13.546508Z",
     "start_time": "2019-05-31T03:26:12.999203Z"
    },
    "scrolled": false
   },
   "outputs": [
    {
     "data": {
      "text/plain": [
       "<matplotlib.axes._subplots.AxesSubplot at 0x1a26257978>"
      ]
     },
     "execution_count": 75,
     "metadata": {},
     "output_type": "execute_result"
    },
    {
     "data": {
      "image/png": "[encoded data removed]",
      "text/plain": [
       "<Figure size 648x648 with 2 Axes>"
      ]
     },
     "metadata": {},
     "output_type": "display_data"
    }
   ],
   "source": [
    "#confusion matrix visualization of train data\n",
    "cm_svm_test3 = confusion_matrix(y_test, svm_preds_test3)\n",
    "\n",
    "plt.figure(figsize = (9, 9))\n",
    "sns.heatmap(cm_svm_test3, annot = True, fmt = \".3f\", linewidths = .5, square = True, cmap = plt.cm.Blues)"
   ]
  },
  {
   "cell_type": "code",
   "execution_count": 138,
   "metadata": {
    "ExecuteTime": {
     "end_time": "2019-05-31T04:22:40.775430Z",
     "start_time": "2019-05-31T04:22:40.729021Z"
    }
   },
   "outputs": [
    {
     "name": "stdout",
     "output_type": "stream",
     "text": [
      "Training F1 Score: 0.8004674694517588\n",
      "Testing F1 Score: 0.7766448305326118\n"
     ]
    }
   ],
   "source": [
    "# Model Accuracy, how often is the classifier correct?\n",
    "print('Training F1 Score:', f1_score(y_train, svm_preds_train3))\n",
    "print('Testing F1 Score:', f1_score(y_test, svm_preds_test3))"
   ]
  },
  {
   "cell_type": "code",
   "execution_count": 77,
   "metadata": {
    "ExecuteTime": {
     "end_time": "2019-05-31T03:28:07.164283Z",
     "start_time": "2019-05-31T03:28:07.083408Z"
    }
   },
   "outputs": [],
   "source": [
    "# # pickle rerun model\n",
    "# pickle_model(svm_rerun2, svm_rerun2)"
   ]
  },
  {
   "cell_type": "markdown",
   "metadata": {},
   "source": [
    "## Feature Importance with Decision Tree"
   ]
  },
  {
   "cell_type": "code",
   "execution_count": 80,
   "metadata": {
    "ExecuteTime": {
     "end_time": "2019-05-31T03:36:38.798752Z",
     "start_time": "2019-05-31T03:36:38.783098Z"
    }
   },
   "outputs": [],
   "source": [
    "# Create an instance of DecisionTreeClassifier() called dtree\n",
    "dtree = DecisionTreeClassifier()"
   ]
  },
  {
   "cell_type": "code",
   "execution_count": 81,
   "metadata": {
    "ExecuteTime": {
     "end_time": "2019-05-31T03:36:53.911462Z",
     "start_time": "2019-05-31T03:36:52.807638Z"
    }
   },
   "outputs": [],
   "source": [
    "# fit Decision Tree Classifier object to training data\n",
    "dtree_select = dtree.fit(X_train, y_train)"
   ]
  },
  {
   "cell_type": "code",
   "execution_count": 82,
   "metadata": {
    "ExecuteTime": {
     "end_time": "2019-05-31T03:37:04.813085Z",
     "start_time": "2019-05-31T03:37:04.797810Z"
    }
   },
   "outputs": [],
   "source": [
    "# Calculate feature importances and put in dataframe\n",
    "feat_importances = pd.DataFrame(zip(X_train.columns, dtree_select.feature_importances_), columns=['Feature','Feature Importance'])"
   ]
  },
  {
   "cell_type": "code",
   "execution_count": 83,
   "metadata": {
    "ExecuteTime": {
     "end_time": "2019-05-31T03:39:22.096767Z",
     "start_time": "2019-05-31T03:39:22.077621Z"
    }
   },
   "outputs": [],
   "source": [
    "# sort feature importances based on value\n",
    "feat_importances = feat_importances.sort_values('Feature Importance', ascending=False).reset_index(drop=True)"
   ]
  },
  {
   "cell_type": "code",
   "execution_count": 86,
   "metadata": {
    "ExecuteTime": {
     "end_time": "2019-05-31T03:49:54.479883Z",
     "start_time": "2019-05-31T03:49:54.423827Z"
    }
   },
   "outputs": [
    {
     "data": {
      "text/html": [
       "<div>\n",
       "<style scoped>\n",
       "    .dataframe tbody tr th:only-of-type {\n",
       "        vertical-align: middle;\n",
       "    }\n",
       "\n",
       "    .dataframe tbody tr th {\n",
       "        vertical-align: top;\n",
       "    }\n",
       "\n",
       "    .dataframe thead th {\n",
       "        text-align: right;\n",
       "    }\n",
       "</style>\n",
       "<table border=\"1\" class=\"dataframe\">\n",
       "  <thead>\n",
       "    <tr style=\"text-align: right;\">\n",
       "      <th></th>\n",
       "      <th>Feature</th>\n",
       "      <th>Feature Importance</th>\n",
       "    </tr>\n",
       "  </thead>\n",
       "  <tbody>\n",
       "    <tr>\n",
       "      <th>0</th>\n",
       "      <td>tweet_ss</td>\n",
       "      <td>0.569326</td>\n",
       "    </tr>\n",
       "    <tr>\n",
       "      <th>1</th>\n",
       "      <td>avg_season_ss</td>\n",
       "      <td>0.074413</td>\n",
       "    </tr>\n",
       "    <tr>\n",
       "      <th>2</th>\n",
       "      <td>likes_count</td>\n",
       "      <td>0.064920</td>\n",
       "    </tr>\n",
       "    <tr>\n",
       "      <th>3</th>\n",
       "      <td>num_hashtags</td>\n",
       "      <td>0.053296</td>\n",
       "    </tr>\n",
       "    <tr>\n",
       "      <th>4</th>\n",
       "      <td>avg_day_ss</td>\n",
       "      <td>0.038614</td>\n",
       "    </tr>\n",
       "  </tbody>\n",
       "</table>\n",
       "</div>"
      ],
      "text/plain": [
       "         Feature  Feature Importance\n",
       "0       tweet_ss            0.569326\n",
       "1  avg_season_ss            0.074413\n",
       "2    likes_count            0.064920\n",
       "3   num_hashtags            0.053296\n",
       "4     avg_day_ss            0.038614"
      ]
     },
     "execution_count": 86,
     "metadata": {},
     "output_type": "execute_result"
    }
   ],
   "source": [
    "feat_importances.head()"
   ]
  },
  {
   "cell_type": "code",
   "execution_count": 84,
   "metadata": {
    "ExecuteTime": {
     "end_time": "2019-05-31T03:39:53.146755Z",
     "start_time": "2019-05-31T03:39:53.122329Z"
    }
   },
   "outputs": [
    {
     "data": {
      "text/html": [
       "<div>\n",
       "<style scoped>\n",
       "    .dataframe tbody tr th:only-of-type {\n",
       "        vertical-align: middle;\n",
       "    }\n",
       "\n",
       "    .dataframe tbody tr th {\n",
       "        vertical-align: top;\n",
       "    }\n",
       "\n",
       "    .dataframe thead th {\n",
       "        text-align: right;\n",
       "    }\n",
       "</style>\n",
       "<table border=\"1\" class=\"dataframe\">\n",
       "  <thead>\n",
       "    <tr style=\"text-align: right;\">\n",
       "      <th></th>\n",
       "      <th>Feature</th>\n",
       "      <th>Feature Importance</th>\n",
       "    </tr>\n",
       "  </thead>\n",
       "  <tbody>\n",
       "    <tr>\n",
       "      <th>20</th>\n",
       "      <td>autumn</td>\n",
       "      <td>0.006774</td>\n",
       "    </tr>\n",
       "    <tr>\n",
       "      <th>21</th>\n",
       "      <td>Month_9</td>\n",
       "      <td>0.006723</td>\n",
       "    </tr>\n",
       "    <tr>\n",
       "      <th>22</th>\n",
       "      <td>Month_8</td>\n",
       "      <td>0.006613</td>\n",
       "    </tr>\n",
       "    <tr>\n",
       "      <th>23</th>\n",
       "      <td>Month_10</td>\n",
       "      <td>0.005991</td>\n",
       "    </tr>\n",
       "    <tr>\n",
       "      <th>24</th>\n",
       "      <td>avg_pop_ss</td>\n",
       "      <td>0.000000</td>\n",
       "    </tr>\n",
       "  </tbody>\n",
       "</table>\n",
       "</div>"
      ],
      "text/plain": [
       "       Feature  Feature Importance\n",
       "20      autumn            0.006774\n",
       "21     Month_9            0.006723\n",
       "22     Month_8            0.006613\n",
       "23    Month_10            0.005991\n",
       "24  avg_pop_ss            0.000000"
      ]
     },
     "execution_count": 84,
     "metadata": {},
     "output_type": "execute_result"
    }
   ],
   "source": [
    "feat_importances.tail()"
   ]
  },
  {
   "cell_type": "code",
   "execution_count": 85,
   "metadata": {
    "ExecuteTime": {
     "end_time": "2019-05-31T03:40:06.201971Z",
     "start_time": "2019-05-31T03:40:05.796456Z"
    }
   },
   "outputs": [
    {
     "data": {
      "text/plain": [
       "<matplotlib.axes._subplots.AxesSubplot at 0x1a28618c88>"
      ]
     },
     "execution_count": 85,
     "metadata": {},
     "output_type": "execute_result"
    },
    {
     "data": {
      "image/png": "[encoded data removed]",
      "text/plain": [
       "<Figure size 1080x720 with 1 Axes>"
      ]
     },
     "metadata": {},
     "output_type": "display_data"
    }
   ],
   "source": [
    "# plot feature importances\n",
    "sns.set(style=\"whitegrid\")\n",
    "plt.figure(figsize=(15,10))\n",
    "plt.title('Feature Importance by Decision Tree')\n",
    "sns.barplot(feat_importances['Feature'][:10], feat_importances['Feature Importance'][:10], color='purple')"
   ]
  }
 ],
 "metadata": {
  "kernelspec": {
   "display_name": "Python 3",
   "language": "python",
   "name": "python3"
  },
  "language_info": {
   "codemirror_mode": {
    "name": "ipython",
    "version": 3
   },
   "file_extension": ".py",
   "mimetype": "text/x-python",
   "name": "python",
   "nbconvert_exporter": "python",
   "pygments_lexer": "ipython3",
   "version": "3.7.3"
  },
  "toc": {
   "base_numbering": 1,
   "nav_menu": {},
   "number_sections": true,
   "sideBar": true,
   "skip_h1_title": false,
   "title_cell": "Table of Contents",
   "title_sidebar": "Contents",
   "toc_cell": false,
   "toc_position": {
    "height": "calc(100% - 180px)",
    "left": "10px",
    "top": "150px",
    "width": "231px"
   },
   "toc_section_display": true,
   "toc_window_display": true
  }
 },
 "nbformat": 4,
 "nbformat_minor": 2
}
